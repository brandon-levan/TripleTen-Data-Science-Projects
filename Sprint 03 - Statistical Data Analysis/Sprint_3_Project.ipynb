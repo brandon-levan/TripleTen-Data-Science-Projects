{
 "cells": [
  {
   "cell_type": "markdown",
   "metadata": {},
   "source": [
    "# Which One is a Better Plan?\n",
    "\n",
    "**As an analyst for the telecom operator Megaline,** I will be doing an analysis for the commerical department on which pre-paid plan (Surf or Ultimate) brings in more revenue Megaline can adjust the advertising budget accordingly.\n",
    "\n",
    "I will be conducting this analysis using a sample of 500 Megaline clients from 2018. The data set I will be working with contains information such as who the clients are, where they're from, which plan they use, and the number of calls they made and text messages they sent.\n",
    "\n",
    "For context, the plans have the following terms and conditions - \n",
    "\n",
    "- **Surf**\n",
    "  - Monthly charge: \\$20\n",
    "  - 500 monthly minutes, 50 texts, and 15 GB of data\n",
    "  - After exceeding the package limits:\n",
    "      - 1 minute: 3 cents\n",
    "      - 1 text message: 3 cents\n",
    "      - 1 GB of data: \\$10\n",
    "- **Ultimate**\n",
    "  - Monthly charge: \\$70\n",
    "  - 3000 monthly minutes, 1000 text messages, and 30 GB of data\n",
    "  - After exceeding the package limits:\n",
    "      * 1 minute: 1 cent\n",
    "      * 1 text message: 1 cent\n",
    "      * 1 GB of data: \\$7\n",
    "\n",
    "For my exploratory data analysis, I will be performing the following steps - \n",
    "\n",
    "- **Step 1**: Read in the data files and study the general information in those files\n",
    "- **Step 2**: Preprocess the data by doing the following:\n",
    "  - Verify and fix data types \n",
    "  - Identify and fill in missing values\n",
    "  - Identify and remove duplicate values\n",
    "  - Find and eliminate errors in the data\n",
    "- **Step 3**: Aggregate User Level Metrics\n",
    "  -  Generate metrics such as monthly calls made, minutes used per month, texts sent per month, and more.\n",
    "- **Step 4**: Describe the customers' behavior by analyzing the data\n",
    "  - After finding the minutes, texts, and volume of data the users of each plan require per month. Calculate the mean, variance, and standard deviation. Plot histograms. Describe the distributions. \n",
    "- **Step 5**: Test the hypotheses\n",
    "  - The average revenue from users of Ultimate and Surf calling plans differs. The average revenue from users in NY-NJ area is different from that of the users from other regions. Decide what alpha value and explain the hypotheses and the results of the statistical tests run on the data set.\n",
    "- **Step 6**: Summarize Findings and Make a Conclusion\n",
    "\n",
    "Please see my findings below. \n"
   ]
  },
  {
   "cell_type": "markdown",
   "metadata": {},
   "source": [
    "## Initialization"
   ]
  },
  {
   "cell_type": "code",
   "execution_count": 1,
   "metadata": {},
   "outputs": [],
   "source": [
    "# Loading all the libraries required for this project\n",
    "import pandas as pd\n",
    "import numpy as np\n",
    "from matplotlib import pyplot as plt\n",
    "from datetime import datetime\n",
    "from scipy import stats as st\n",
    "\n",
    "#Show all columns when displaying dataframe\n",
    "pd.set_option('display.max_columns', None)"
   ]
  },
  {
   "cell_type": "markdown",
   "metadata": {},
   "source": [
    "## Load Data"
   ]
  },
  {
   "cell_type": "code",
   "execution_count": 2,
   "metadata": {},
   "outputs": [],
   "source": [
    "# Load the data files into different DataFrames\n",
    "calls = pd.read_csv('/datasets/megaline_calls.csv') \n",
    "internet = pd.read_csv('/datasets/megaline_internet.csv')\n",
    "messages = pd.read_csv('/datasets/megaline_messages.csv')\n",
    "plans = pd.read_csv('/datasets/megaline_plans.csv')\n",
    "users = pd.read_csv('/datasets/megaline_users.csv')"
   ]
  },
  {
   "cell_type": "markdown",
   "metadata": {},
   "source": [
    "## Prepare the Data"
   ]
  },
  {
   "cell_type": "markdown",
   "metadata": {},
   "source": [
    "In sections 1.4 through 1.10, I will analyze each table used in the analysis and describe any changes I make to the tables that will allow me to more effectlively and accurately determine which pre-paid plan brings in more revenue for telecom operator Megaline. "
   ]
  },
  {
   "cell_type": "markdown",
   "metadata": {},
   "source": [
    "## Plans"
   ]
  },
  {
   "cell_type": "code",
   "execution_count": 3,
   "metadata": {},
   "outputs": [
    {
     "name": "stdout",
     "output_type": "stream",
     "text": [
      "<class 'pandas.core.frame.DataFrame'>\n",
      "RangeIndex: 2 entries, 0 to 1\n",
      "Data columns (total 8 columns):\n",
      " #   Column                 Non-Null Count  Dtype  \n",
      "---  ------                 --------------  -----  \n",
      " 0   messages_included      2 non-null      int64  \n",
      " 1   mb_per_month_included  2 non-null      int64  \n",
      " 2   minutes_included       2 non-null      int64  \n",
      " 3   usd_monthly_pay        2 non-null      int64  \n",
      " 4   usd_per_gb             2 non-null      int64  \n",
      " 5   usd_per_message        2 non-null      float64\n",
      " 6   usd_per_minute         2 non-null      float64\n",
      " 7   plan_name              2 non-null      object \n",
      "dtypes: float64(2), int64(5), object(1)\n",
      "memory usage: 256.0+ bytes\n"
     ]
    },
    {
     "data": {
      "text/html": [
       "<div>\n",
       "<style scoped>\n",
       "    .dataframe tbody tr th:only-of-type {\n",
       "        vertical-align: middle;\n",
       "    }\n",
       "\n",
       "    .dataframe tbody tr th {\n",
       "        vertical-align: top;\n",
       "    }\n",
       "\n",
       "    .dataframe thead th {\n",
       "        text-align: right;\n",
       "    }\n",
       "</style>\n",
       "<table border=\"1\" class=\"dataframe\">\n",
       "  <thead>\n",
       "    <tr style=\"text-align: right;\">\n",
       "      <th></th>\n",
       "      <th>messages_included</th>\n",
       "      <th>mb_per_month_included</th>\n",
       "      <th>minutes_included</th>\n",
       "      <th>usd_monthly_pay</th>\n",
       "      <th>usd_per_gb</th>\n",
       "      <th>usd_per_message</th>\n",
       "      <th>usd_per_minute</th>\n",
       "      <th>plan_name</th>\n",
       "    </tr>\n",
       "  </thead>\n",
       "  <tbody>\n",
       "    <tr>\n",
       "      <th>count</th>\n",
       "      <td>2.000000</td>\n",
       "      <td>2.000000</td>\n",
       "      <td>2.000000</td>\n",
       "      <td>2.000000</td>\n",
       "      <td>2.00000</td>\n",
       "      <td>2.000000</td>\n",
       "      <td>2.000000</td>\n",
       "      <td>2</td>\n",
       "    </tr>\n",
       "    <tr>\n",
       "      <th>unique</th>\n",
       "      <td>NaN</td>\n",
       "      <td>NaN</td>\n",
       "      <td>NaN</td>\n",
       "      <td>NaN</td>\n",
       "      <td>NaN</td>\n",
       "      <td>NaN</td>\n",
       "      <td>NaN</td>\n",
       "      <td>2</td>\n",
       "    </tr>\n",
       "    <tr>\n",
       "      <th>top</th>\n",
       "      <td>NaN</td>\n",
       "      <td>NaN</td>\n",
       "      <td>NaN</td>\n",
       "      <td>NaN</td>\n",
       "      <td>NaN</td>\n",
       "      <td>NaN</td>\n",
       "      <td>NaN</td>\n",
       "      <td>surf</td>\n",
       "    </tr>\n",
       "    <tr>\n",
       "      <th>freq</th>\n",
       "      <td>NaN</td>\n",
       "      <td>NaN</td>\n",
       "      <td>NaN</td>\n",
       "      <td>NaN</td>\n",
       "      <td>NaN</td>\n",
       "      <td>NaN</td>\n",
       "      <td>NaN</td>\n",
       "      <td>1</td>\n",
       "    </tr>\n",
       "    <tr>\n",
       "      <th>mean</th>\n",
       "      <td>525.000000</td>\n",
       "      <td>23040.000000</td>\n",
       "      <td>1750.000000</td>\n",
       "      <td>45.000000</td>\n",
       "      <td>8.50000</td>\n",
       "      <td>0.020000</td>\n",
       "      <td>0.020000</td>\n",
       "      <td>NaN</td>\n",
       "    </tr>\n",
       "    <tr>\n",
       "      <th>std</th>\n",
       "      <td>671.751442</td>\n",
       "      <td>10861.160159</td>\n",
       "      <td>1767.766953</td>\n",
       "      <td>35.355339</td>\n",
       "      <td>2.12132</td>\n",
       "      <td>0.014142</td>\n",
       "      <td>0.014142</td>\n",
       "      <td>NaN</td>\n",
       "    </tr>\n",
       "    <tr>\n",
       "      <th>min</th>\n",
       "      <td>50.000000</td>\n",
       "      <td>15360.000000</td>\n",
       "      <td>500.000000</td>\n",
       "      <td>20.000000</td>\n",
       "      <td>7.00000</td>\n",
       "      <td>0.010000</td>\n",
       "      <td>0.010000</td>\n",
       "      <td>NaN</td>\n",
       "    </tr>\n",
       "    <tr>\n",
       "      <th>25%</th>\n",
       "      <td>287.500000</td>\n",
       "      <td>19200.000000</td>\n",
       "      <td>1125.000000</td>\n",
       "      <td>32.500000</td>\n",
       "      <td>7.75000</td>\n",
       "      <td>0.015000</td>\n",
       "      <td>0.015000</td>\n",
       "      <td>NaN</td>\n",
       "    </tr>\n",
       "    <tr>\n",
       "      <th>50%</th>\n",
       "      <td>525.000000</td>\n",
       "      <td>23040.000000</td>\n",
       "      <td>1750.000000</td>\n",
       "      <td>45.000000</td>\n",
       "      <td>8.50000</td>\n",
       "      <td>0.020000</td>\n",
       "      <td>0.020000</td>\n",
       "      <td>NaN</td>\n",
       "    </tr>\n",
       "    <tr>\n",
       "      <th>75%</th>\n",
       "      <td>762.500000</td>\n",
       "      <td>26880.000000</td>\n",
       "      <td>2375.000000</td>\n",
       "      <td>57.500000</td>\n",
       "      <td>9.25000</td>\n",
       "      <td>0.025000</td>\n",
       "      <td>0.025000</td>\n",
       "      <td>NaN</td>\n",
       "    </tr>\n",
       "    <tr>\n",
       "      <th>max</th>\n",
       "      <td>1000.000000</td>\n",
       "      <td>30720.000000</td>\n",
       "      <td>3000.000000</td>\n",
       "      <td>70.000000</td>\n",
       "      <td>10.00000</td>\n",
       "      <td>0.030000</td>\n",
       "      <td>0.030000</td>\n",
       "      <td>NaN</td>\n",
       "    </tr>\n",
       "  </tbody>\n",
       "</table>\n",
       "</div>"
      ],
      "text/plain": [
       "        messages_included  mb_per_month_included  minutes_included  \\\n",
       "count            2.000000               2.000000          2.000000   \n",
       "unique                NaN                    NaN               NaN   \n",
       "top                   NaN                    NaN               NaN   \n",
       "freq                  NaN                    NaN               NaN   \n",
       "mean           525.000000           23040.000000       1750.000000   \n",
       "std            671.751442           10861.160159       1767.766953   \n",
       "min             50.000000           15360.000000        500.000000   \n",
       "25%            287.500000           19200.000000       1125.000000   \n",
       "50%            525.000000           23040.000000       1750.000000   \n",
       "75%            762.500000           26880.000000       2375.000000   \n",
       "max           1000.000000           30720.000000       3000.000000   \n",
       "\n",
       "        usd_monthly_pay  usd_per_gb  usd_per_message  usd_per_minute plan_name  \n",
       "count          2.000000     2.00000         2.000000        2.000000         2  \n",
       "unique              NaN         NaN              NaN             NaN         2  \n",
       "top                 NaN         NaN              NaN             NaN      surf  \n",
       "freq                NaN         NaN              NaN             NaN         1  \n",
       "mean          45.000000     8.50000         0.020000        0.020000       NaN  \n",
       "std           35.355339     2.12132         0.014142        0.014142       NaN  \n",
       "min           20.000000     7.00000         0.010000        0.010000       NaN  \n",
       "25%           32.500000     7.75000         0.015000        0.015000       NaN  \n",
       "50%           45.000000     8.50000         0.020000        0.020000       NaN  \n",
       "75%           57.500000     9.25000         0.025000        0.025000       NaN  \n",
       "max           70.000000    10.00000         0.030000        0.030000       NaN  "
      ]
     },
     "execution_count": 3,
     "metadata": {},
     "output_type": "execute_result"
    }
   ],
   "source": [
    "# Print the general/summary information about the plans' DataFrame\n",
    "\n",
    "# Check for missing values\n",
    "plans.isna().sum()\n",
    "\n",
    "# Check data types \n",
    "plans.info()\n",
    "\n",
    "# Descibe plans\n",
    "plans.describe(include='all')"
   ]
  },
  {
   "cell_type": "code",
   "execution_count": 4,
   "metadata": {},
   "outputs": [
    {
     "data": {
      "text/html": [
       "<div>\n",
       "<style scoped>\n",
       "    .dataframe tbody tr th:only-of-type {\n",
       "        vertical-align: middle;\n",
       "    }\n",
       "\n",
       "    .dataframe tbody tr th {\n",
       "        vertical-align: top;\n",
       "    }\n",
       "\n",
       "    .dataframe thead th {\n",
       "        text-align: right;\n",
       "    }\n",
       "</style>\n",
       "<table border=\"1\" class=\"dataframe\">\n",
       "  <thead>\n",
       "    <tr style=\"text-align: right;\">\n",
       "      <th></th>\n",
       "      <th>messages_included</th>\n",
       "      <th>mb_per_month_included</th>\n",
       "      <th>minutes_included</th>\n",
       "      <th>usd_monthly_pay</th>\n",
       "      <th>usd_per_gb</th>\n",
       "      <th>usd_per_message</th>\n",
       "      <th>usd_per_minute</th>\n",
       "      <th>plan_name</th>\n",
       "    </tr>\n",
       "  </thead>\n",
       "  <tbody>\n",
       "    <tr>\n",
       "      <th>0</th>\n",
       "      <td>50</td>\n",
       "      <td>15360</td>\n",
       "      <td>500</td>\n",
       "      <td>20</td>\n",
       "      <td>10</td>\n",
       "      <td>0.03</td>\n",
       "      <td>0.03</td>\n",
       "      <td>surf</td>\n",
       "    </tr>\n",
       "    <tr>\n",
       "      <th>1</th>\n",
       "      <td>1000</td>\n",
       "      <td>30720</td>\n",
       "      <td>3000</td>\n",
       "      <td>70</td>\n",
       "      <td>7</td>\n",
       "      <td>0.01</td>\n",
       "      <td>0.01</td>\n",
       "      <td>ultimate</td>\n",
       "    </tr>\n",
       "  </tbody>\n",
       "</table>\n",
       "</div>"
      ],
      "text/plain": [
       "   messages_included  mb_per_month_included  minutes_included  \\\n",
       "0                 50                  15360               500   \n",
       "1               1000                  30720              3000   \n",
       "\n",
       "   usd_monthly_pay  usd_per_gb  usd_per_message  usd_per_minute plan_name  \n",
       "0               20          10             0.03            0.03      surf  \n",
       "1               70           7             0.01            0.01  ultimate  "
      ]
     },
     "execution_count": 4,
     "metadata": {},
     "output_type": "execute_result"
    }
   ],
   "source": [
    "# Print a sample of data for plans\n",
    "\n",
    "# Check head \n",
    "plans.head()"
   ]
  },
  {
   "cell_type": "markdown",
   "metadata": {},
   "source": [
    "plan_name should be changed from object to string. There are no missing values or duplicate values. Data in the table matches to the information provided in the exercise prompt. There aren't any duplicate values."
   ]
  },
  {
   "cell_type": "markdown",
   "metadata": {},
   "source": [
    "### Fix data"
   ]
  },
  {
   "cell_type": "markdown",
   "metadata": {},
   "source": [
    "Convert plan_name from object to string"
   ]
  },
  {
   "cell_type": "code",
   "execution_count": 5,
   "metadata": {},
   "outputs": [
    {
     "name": "stdout",
     "output_type": "stream",
     "text": [
      "<class 'pandas.core.frame.DataFrame'>\n",
      "RangeIndex: 2 entries, 0 to 1\n",
      "Data columns (total 8 columns):\n",
      " #   Column                 Non-Null Count  Dtype  \n",
      "---  ------                 --------------  -----  \n",
      " 0   messages_included      2 non-null      int64  \n",
      " 1   mb_per_month_included  2 non-null      int64  \n",
      " 2   minutes_included       2 non-null      int64  \n",
      " 3   usd_monthly_pay        2 non-null      int64  \n",
      " 4   usd_per_gb             2 non-null      int64  \n",
      " 5   usd_per_message        2 non-null      float64\n",
      " 6   usd_per_minute         2 non-null      float64\n",
      " 7   plan_name              2 non-null      string \n",
      "dtypes: float64(2), int64(5), string(1)\n",
      "memory usage: 256.0 bytes\n"
     ]
    }
   ],
   "source": [
    "#Convert plan_name from object to string\n",
    "plans['plan_name'] = plans['plan_name'].astype('string')\n",
    "\n",
    "# Check data types after change\n",
    "plans.info()"
   ]
  },
  {
   "cell_type": "markdown",
   "metadata": {},
   "source": [
    "### Enrich data"
   ]
  },
  {
   "cell_type": "markdown",
   "metadata": {},
   "source": [
    "Adding in an additional column called gb_per_month_included. Adding this field because other fields are based on gigabytes and not megabytes. Will used in calculating monthy revenue. "
   ]
  },
  {
   "cell_type": "code",
   "execution_count": 6,
   "metadata": {},
   "outputs": [
    {
     "data": {
      "text/html": [
       "<div>\n",
       "<style scoped>\n",
       "    .dataframe tbody tr th:only-of-type {\n",
       "        vertical-align: middle;\n",
       "    }\n",
       "\n",
       "    .dataframe tbody tr th {\n",
       "        vertical-align: top;\n",
       "    }\n",
       "\n",
       "    .dataframe thead th {\n",
       "        text-align: right;\n",
       "    }\n",
       "</style>\n",
       "<table border=\"1\" class=\"dataframe\">\n",
       "  <thead>\n",
       "    <tr style=\"text-align: right;\">\n",
       "      <th></th>\n",
       "      <th>messages_included</th>\n",
       "      <th>mb_per_month_included</th>\n",
       "      <th>minutes_included</th>\n",
       "      <th>usd_monthly_pay</th>\n",
       "      <th>usd_per_gb</th>\n",
       "      <th>usd_per_message</th>\n",
       "      <th>usd_per_minute</th>\n",
       "      <th>plan_name</th>\n",
       "      <th>gb_per_month_included</th>\n",
       "    </tr>\n",
       "  </thead>\n",
       "  <tbody>\n",
       "    <tr>\n",
       "      <th>0</th>\n",
       "      <td>50</td>\n",
       "      <td>15360</td>\n",
       "      <td>500</td>\n",
       "      <td>20</td>\n",
       "      <td>10</td>\n",
       "      <td>0.03</td>\n",
       "      <td>0.03</td>\n",
       "      <td>surf</td>\n",
       "      <td>15</td>\n",
       "    </tr>\n",
       "    <tr>\n",
       "      <th>1</th>\n",
       "      <td>1000</td>\n",
       "      <td>30720</td>\n",
       "      <td>3000</td>\n",
       "      <td>70</td>\n",
       "      <td>7</td>\n",
       "      <td>0.01</td>\n",
       "      <td>0.01</td>\n",
       "      <td>ultimate</td>\n",
       "      <td>30</td>\n",
       "    </tr>\n",
       "  </tbody>\n",
       "</table>\n",
       "</div>"
      ],
      "text/plain": [
       "   messages_included  mb_per_month_included  minutes_included  \\\n",
       "0                 50                  15360               500   \n",
       "1               1000                  30720              3000   \n",
       "\n",
       "   usd_monthly_pay  usd_per_gb  usd_per_message  usd_per_minute plan_name  \\\n",
       "0               20          10             0.03            0.03      surf   \n",
       "1               70           7             0.01            0.01  ultimate   \n",
       "\n",
       "   gb_per_month_included  \n",
       "0                     15  \n",
       "1                     30  "
      ]
     },
     "execution_count": 6,
     "metadata": {},
     "output_type": "execute_result"
    }
   ],
   "source": [
    "# Divide mb by 1024 to get gb\n",
    "def mb_to_gb(plans):\n",
    "    return (plans/1024)\n",
    "\n",
    "# Create a column gb_per_month_included to be used in later analysis. Convert values to integer \n",
    "plans['gb_per_month_included'] = plans['mb_per_month_included'].apply(mb_to_gb).astype(int)\n",
    "\n",
    "# Print head to see column\n",
    "plans.head()"
   ]
  },
  {
   "cell_type": "markdown",
   "metadata": {},
   "source": [
    "## Users"
   ]
  },
  {
   "cell_type": "code",
   "execution_count": 7,
   "metadata": {},
   "outputs": [
    {
     "name": "stdout",
     "output_type": "stream",
     "text": [
      "<class 'pandas.core.frame.DataFrame'>\n",
      "RangeIndex: 500 entries, 0 to 499\n",
      "Data columns (total 8 columns):\n",
      " #   Column      Non-Null Count  Dtype \n",
      "---  ------      --------------  ----- \n",
      " 0   user_id     500 non-null    int64 \n",
      " 1   first_name  500 non-null    object\n",
      " 2   last_name   500 non-null    object\n",
      " 3   age         500 non-null    int64 \n",
      " 4   city        500 non-null    object\n",
      " 5   reg_date    500 non-null    object\n",
      " 6   plan        500 non-null    object\n",
      " 7   churn_date  34 non-null     object\n",
      "dtypes: int64(2), object(6)\n",
      "memory usage: 31.4+ KB\n"
     ]
    },
    {
     "data": {
      "text/html": [
       "<div>\n",
       "<style scoped>\n",
       "    .dataframe tbody tr th:only-of-type {\n",
       "        vertical-align: middle;\n",
       "    }\n",
       "\n",
       "    .dataframe tbody tr th {\n",
       "        vertical-align: top;\n",
       "    }\n",
       "\n",
       "    .dataframe thead th {\n",
       "        text-align: right;\n",
       "    }\n",
       "</style>\n",
       "<table border=\"1\" class=\"dataframe\">\n",
       "  <thead>\n",
       "    <tr style=\"text-align: right;\">\n",
       "      <th></th>\n",
       "      <th>user_id</th>\n",
       "      <th>first_name</th>\n",
       "      <th>last_name</th>\n",
       "      <th>age</th>\n",
       "      <th>city</th>\n",
       "      <th>reg_date</th>\n",
       "      <th>plan</th>\n",
       "      <th>churn_date</th>\n",
       "    </tr>\n",
       "  </thead>\n",
       "  <tbody>\n",
       "  </tbody>\n",
       "</table>\n",
       "</div>"
      ],
      "text/plain": [
       "Empty DataFrame\n",
       "Columns: [user_id, first_name, last_name, age, city, reg_date, plan, churn_date]\n",
       "Index: []"
      ]
     },
     "execution_count": 7,
     "metadata": {},
     "output_type": "execute_result"
    }
   ],
   "source": [
    "# Print the general/summary information about the users' DataFrame\n",
    "\n",
    "# Check for missing values\n",
    "users.isna().sum()\n",
    "\n",
    "# Check data types \n",
    "users.info()\n",
    "\n",
    "# Check for duplicates in all rows, id, and user_id\n",
    "users[users.duplicated(keep=False)]\n",
    "users[users.duplicated(subset=['first_name','last_name'], keep=False)].sort_values(by='user_id')"
   ]
  },
  {
   "cell_type": "code",
   "execution_count": 8,
   "metadata": {},
   "outputs": [
    {
     "data": {
      "text/html": [
       "<div>\n",
       "<style scoped>\n",
       "    .dataframe tbody tr th:only-of-type {\n",
       "        vertical-align: middle;\n",
       "    }\n",
       "\n",
       "    .dataframe tbody tr th {\n",
       "        vertical-align: top;\n",
       "    }\n",
       "\n",
       "    .dataframe thead th {\n",
       "        text-align: right;\n",
       "    }\n",
       "</style>\n",
       "<table border=\"1\" class=\"dataframe\">\n",
       "  <thead>\n",
       "    <tr style=\"text-align: right;\">\n",
       "      <th></th>\n",
       "      <th>user_id</th>\n",
       "      <th>first_name</th>\n",
       "      <th>last_name</th>\n",
       "      <th>age</th>\n",
       "      <th>city</th>\n",
       "      <th>reg_date</th>\n",
       "      <th>plan</th>\n",
       "      <th>churn_date</th>\n",
       "    </tr>\n",
       "  </thead>\n",
       "  <tbody>\n",
       "    <tr>\n",
       "      <th>0</th>\n",
       "      <td>1000</td>\n",
       "      <td>Anamaria</td>\n",
       "      <td>Bauer</td>\n",
       "      <td>45</td>\n",
       "      <td>Atlanta-Sandy Springs-Roswell, GA MSA</td>\n",
       "      <td>2018-12-24</td>\n",
       "      <td>ultimate</td>\n",
       "      <td>NaN</td>\n",
       "    </tr>\n",
       "    <tr>\n",
       "      <th>1</th>\n",
       "      <td>1001</td>\n",
       "      <td>Mickey</td>\n",
       "      <td>Wilkerson</td>\n",
       "      <td>28</td>\n",
       "      <td>Seattle-Tacoma-Bellevue, WA MSA</td>\n",
       "      <td>2018-08-13</td>\n",
       "      <td>surf</td>\n",
       "      <td>NaN</td>\n",
       "    </tr>\n",
       "    <tr>\n",
       "      <th>2</th>\n",
       "      <td>1002</td>\n",
       "      <td>Carlee</td>\n",
       "      <td>Hoffman</td>\n",
       "      <td>36</td>\n",
       "      <td>Las Vegas-Henderson-Paradise, NV MSA</td>\n",
       "      <td>2018-10-21</td>\n",
       "      <td>surf</td>\n",
       "      <td>NaN</td>\n",
       "    </tr>\n",
       "    <tr>\n",
       "      <th>3</th>\n",
       "      <td>1003</td>\n",
       "      <td>Reynaldo</td>\n",
       "      <td>Jenkins</td>\n",
       "      <td>52</td>\n",
       "      <td>Tulsa, OK MSA</td>\n",
       "      <td>2018-01-28</td>\n",
       "      <td>surf</td>\n",
       "      <td>NaN</td>\n",
       "    </tr>\n",
       "    <tr>\n",
       "      <th>4</th>\n",
       "      <td>1004</td>\n",
       "      <td>Leonila</td>\n",
       "      <td>Thompson</td>\n",
       "      <td>40</td>\n",
       "      <td>Seattle-Tacoma-Bellevue, WA MSA</td>\n",
       "      <td>2018-05-23</td>\n",
       "      <td>surf</td>\n",
       "      <td>NaN</td>\n",
       "    </tr>\n",
       "  </tbody>\n",
       "</table>\n",
       "</div>"
      ],
      "text/plain": [
       "   user_id first_name  last_name  age                                   city  \\\n",
       "0     1000   Anamaria      Bauer   45  Atlanta-Sandy Springs-Roswell, GA MSA   \n",
       "1     1001     Mickey  Wilkerson   28        Seattle-Tacoma-Bellevue, WA MSA   \n",
       "2     1002     Carlee    Hoffman   36   Las Vegas-Henderson-Paradise, NV MSA   \n",
       "3     1003   Reynaldo    Jenkins   52                          Tulsa, OK MSA   \n",
       "4     1004    Leonila   Thompson   40        Seattle-Tacoma-Bellevue, WA MSA   \n",
       "\n",
       "     reg_date      plan churn_date  \n",
       "0  2018-12-24  ultimate        NaN  \n",
       "1  2018-08-13      surf        NaN  \n",
       "2  2018-10-21      surf        NaN  \n",
       "3  2018-01-28      surf        NaN  \n",
       "4  2018-05-23      surf        NaN  "
      ]
     },
     "execution_count": 8,
     "metadata": {},
     "output_type": "execute_result"
    }
   ],
   "source": [
    "# Print a sample of data for users\n",
    "\n",
    "# Check head \n",
    "users.head()"
   ]
  },
  {
   "cell_type": "markdown",
   "metadata": {},
   "source": [
    "There are missing values in the churn_date column, but these are missing only because these users have not yet churned - These are ok to leave as null values for the moment. Later in the analysis, I will handle NULL churn dates. Convert user_id, first_name, last_name, city, and plan to strings. Convert reg_date and churn_date to datetime. There aren't any duplicate users in the table based on first and last name.\n"
   ]
  },
  {
   "cell_type": "markdown",
   "metadata": {},
   "source": [
    "### Fix Data"
   ]
  },
  {
   "cell_type": "markdown",
   "metadata": {},
   "source": [
    "Convert data types from intial data load"
   ]
  },
  {
   "cell_type": "code",
   "execution_count": 9,
   "metadata": {},
   "outputs": [
    {
     "name": "stdout",
     "output_type": "stream",
     "text": [
      "<class 'pandas.core.frame.DataFrame'>\n",
      "RangeIndex: 500 entries, 0 to 499\n",
      "Data columns (total 8 columns):\n",
      " #   Column      Non-Null Count  Dtype         \n",
      "---  ------      --------------  -----         \n",
      " 0   user_id     500 non-null    string        \n",
      " 1   first_name  500 non-null    string        \n",
      " 2   last_name   500 non-null    string        \n",
      " 3   age         500 non-null    int64         \n",
      " 4   city        500 non-null    string        \n",
      " 5   reg_date    500 non-null    datetime64[ns]\n",
      " 6   plan        500 non-null    string        \n",
      " 7   churn_date  34 non-null     datetime64[ns]\n",
      "dtypes: datetime64[ns](2), int64(1), string(5)\n",
      "memory usage: 31.4 KB\n"
     ]
    }
   ],
   "source": [
    "# Convert reg_date and churn_date to datetime\n",
    "users['reg_date'] = users['reg_date'].astype('datetime64')\n",
    "users['churn_date'] = users['churn_date'].astype('datetime64')\n",
    "\n",
    "# Convert user_id, first_name, last_name, city, and plan to strings\n",
    "users['user_id'] = users['user_id'].astype('string')\n",
    "users['first_name'] = users['first_name'].astype('string')\n",
    "users['last_name'] = users['last_name'].astype('string')\n",
    "users['city'] = users['city'].astype('string')\n",
    "users['plan'] = users['plan'].astype('string')\n",
    "\n",
    "# Check data types after change\n",
    "users.info()"
   ]
  },
  {
   "cell_type": "markdown",
   "metadata": {},
   "source": [
    "### Enrich Data"
   ]
  },
  {
   "cell_type": "markdown",
   "metadata": {},
   "source": [
    "Adding in a column called 'State' and 'NY_NJ'. One of the questions I will be answer is - What is the average revenue from users in NY-NJ area is different from that of the users from other regions? For this, I will need to know if the user is in the NY-NJ area. To do this, I will first parse city to get the state(s) associated with the user. From the 'State' field I will assume that if the city contains NY or NJ, then the user is in the NY-NJ area. If the city doesn't contain NY-NJ then the value in the NY-NJ will be set to 'Other'. New fields will be added to the original users df.\n",
    "<br>\n",
    "Also creating a column for start/sign-up month and churn month so I can determine active months for each user. To do this I will truncate reg_date to month and call it start_month. For missing, churn dates I will set the value to be 2099-01-01 so that I can do date logic furher along in the analysis so I properly calculate revenue. For example, I don't want to calculate revenue for a user for any months in 2018 after the time in which the user churned."
   ]
  },
  {
   "cell_type": "code",
   "execution_count": 10,
   "metadata": {},
   "outputs": [
    {
     "ename": "RuntimeError",
     "evalue": "module compiled against API version 0xf but this version of numpy is 0xe",
     "output_type": "error",
     "traceback": [
      "\u001b[0;31m---------------------------------------------------------------------------\u001b[0m",
      "\u001b[0;31mRuntimeError\u001b[0m                              Traceback (most recent call last)",
      "\u001b[0;31mRuntimeError\u001b[0m: module compiled against API version 0xf but this version of numpy is 0xe"
     ]
    },
    {
     "data": {
      "text/html": [
       "<div>\n",
       "<style scoped>\n",
       "    .dataframe tbody tr th:only-of-type {\n",
       "        vertical-align: middle;\n",
       "    }\n",
       "\n",
       "    .dataframe tbody tr th {\n",
       "        vertical-align: top;\n",
       "    }\n",
       "\n",
       "    .dataframe thead th {\n",
       "        text-align: right;\n",
       "    }\n",
       "</style>\n",
       "<table border=\"1\" class=\"dataframe\">\n",
       "  <thead>\n",
       "    <tr style=\"text-align: right;\">\n",
       "      <th></th>\n",
       "      <th>user_id</th>\n",
       "      <th>first_name</th>\n",
       "      <th>last_name</th>\n",
       "      <th>age</th>\n",
       "      <th>city</th>\n",
       "      <th>reg_date</th>\n",
       "      <th>plan</th>\n",
       "      <th>churn_date</th>\n",
       "      <th>state</th>\n",
       "      <th>NY_NJ</th>\n",
       "      <th>churn_month</th>\n",
       "      <th>start_month</th>\n",
       "    </tr>\n",
       "  </thead>\n",
       "  <tbody>\n",
       "    <tr>\n",
       "      <th>0</th>\n",
       "      <td>1000</td>\n",
       "      <td>Anamaria</td>\n",
       "      <td>Bauer</td>\n",
       "      <td>45</td>\n",
       "      <td>Atlanta-Sandy Springs-Roswell, GA MSA</td>\n",
       "      <td>2018-12-24</td>\n",
       "      <td>ultimate</td>\n",
       "      <td>2099-01-01</td>\n",
       "      <td>GA</td>\n",
       "      <td>Other</td>\n",
       "      <td>2099-01-01</td>\n",
       "      <td>2018-12-01</td>\n",
       "    </tr>\n",
       "    <tr>\n",
       "      <th>1</th>\n",
       "      <td>1001</td>\n",
       "      <td>Mickey</td>\n",
       "      <td>Wilkerson</td>\n",
       "      <td>28</td>\n",
       "      <td>Seattle-Tacoma-Bellevue, WA MSA</td>\n",
       "      <td>2018-08-13</td>\n",
       "      <td>surf</td>\n",
       "      <td>2099-01-01</td>\n",
       "      <td>WA</td>\n",
       "      <td>Other</td>\n",
       "      <td>2099-01-01</td>\n",
       "      <td>2018-08-01</td>\n",
       "    </tr>\n",
       "    <tr>\n",
       "      <th>2</th>\n",
       "      <td>1002</td>\n",
       "      <td>Carlee</td>\n",
       "      <td>Hoffman</td>\n",
       "      <td>36</td>\n",
       "      <td>Las Vegas-Henderson-Paradise, NV MSA</td>\n",
       "      <td>2018-10-21</td>\n",
       "      <td>surf</td>\n",
       "      <td>2099-01-01</td>\n",
       "      <td>NV</td>\n",
       "      <td>Other</td>\n",
       "      <td>2099-01-01</td>\n",
       "      <td>2018-10-01</td>\n",
       "    </tr>\n",
       "    <tr>\n",
       "      <th>3</th>\n",
       "      <td>1003</td>\n",
       "      <td>Reynaldo</td>\n",
       "      <td>Jenkins</td>\n",
       "      <td>52</td>\n",
       "      <td>Tulsa, OK MSA</td>\n",
       "      <td>2018-01-28</td>\n",
       "      <td>surf</td>\n",
       "      <td>2099-01-01</td>\n",
       "      <td>OK</td>\n",
       "      <td>Other</td>\n",
       "      <td>2099-01-01</td>\n",
       "      <td>2018-01-01</td>\n",
       "    </tr>\n",
       "    <tr>\n",
       "      <th>4</th>\n",
       "      <td>1004</td>\n",
       "      <td>Leonila</td>\n",
       "      <td>Thompson</td>\n",
       "      <td>40</td>\n",
       "      <td>Seattle-Tacoma-Bellevue, WA MSA</td>\n",
       "      <td>2018-05-23</td>\n",
       "      <td>surf</td>\n",
       "      <td>2099-01-01</td>\n",
       "      <td>WA</td>\n",
       "      <td>Other</td>\n",
       "      <td>2099-01-01</td>\n",
       "      <td>2018-05-01</td>\n",
       "    </tr>\n",
       "    <tr>\n",
       "      <th>5</th>\n",
       "      <td>1005</td>\n",
       "      <td>Livia</td>\n",
       "      <td>Shields</td>\n",
       "      <td>31</td>\n",
       "      <td>Dallas-Fort Worth-Arlington, TX MSA</td>\n",
       "      <td>2018-11-29</td>\n",
       "      <td>surf</td>\n",
       "      <td>2099-01-01</td>\n",
       "      <td>TX</td>\n",
       "      <td>Other</td>\n",
       "      <td>2099-01-01</td>\n",
       "      <td>2018-11-01</td>\n",
       "    </tr>\n",
       "    <tr>\n",
       "      <th>6</th>\n",
       "      <td>1006</td>\n",
       "      <td>Jesusa</td>\n",
       "      <td>Bradford</td>\n",
       "      <td>73</td>\n",
       "      <td>San Francisco-Oakland-Berkeley, CA MSA</td>\n",
       "      <td>2018-11-27</td>\n",
       "      <td>ultimate</td>\n",
       "      <td>2018-12-18</td>\n",
       "      <td>CA</td>\n",
       "      <td>Other</td>\n",
       "      <td>2018-12-01</td>\n",
       "      <td>2018-11-01</td>\n",
       "    </tr>\n",
       "    <tr>\n",
       "      <th>7</th>\n",
       "      <td>1007</td>\n",
       "      <td>Eusebio</td>\n",
       "      <td>Welch</td>\n",
       "      <td>42</td>\n",
       "      <td>Grand Rapids-Kentwood, MI MSA</td>\n",
       "      <td>2018-07-11</td>\n",
       "      <td>surf</td>\n",
       "      <td>2099-01-01</td>\n",
       "      <td>MI</td>\n",
       "      <td>Other</td>\n",
       "      <td>2099-01-01</td>\n",
       "      <td>2018-07-01</td>\n",
       "    </tr>\n",
       "    <tr>\n",
       "      <th>8</th>\n",
       "      <td>1008</td>\n",
       "      <td>Emely</td>\n",
       "      <td>Hoffman</td>\n",
       "      <td>53</td>\n",
       "      <td>Orlando-Kissimmee-Sanford, FL MSA</td>\n",
       "      <td>2018-08-03</td>\n",
       "      <td>ultimate</td>\n",
       "      <td>2099-01-01</td>\n",
       "      <td>FL</td>\n",
       "      <td>Other</td>\n",
       "      <td>2099-01-01</td>\n",
       "      <td>2018-08-01</td>\n",
       "    </tr>\n",
       "    <tr>\n",
       "      <th>9</th>\n",
       "      <td>1009</td>\n",
       "      <td>Gerry</td>\n",
       "      <td>Little</td>\n",
       "      <td>19</td>\n",
       "      <td>San Jose-Sunnyvale-Santa Clara, CA MSA</td>\n",
       "      <td>2018-04-22</td>\n",
       "      <td>surf</td>\n",
       "      <td>2099-01-01</td>\n",
       "      <td>CA</td>\n",
       "      <td>Other</td>\n",
       "      <td>2099-01-01</td>\n",
       "      <td>2018-04-01</td>\n",
       "    </tr>\n",
       "    <tr>\n",
       "      <th>10</th>\n",
       "      <td>1010</td>\n",
       "      <td>Wilber</td>\n",
       "      <td>Blair</td>\n",
       "      <td>52</td>\n",
       "      <td>Dallas-Fort Worth-Arlington, TX MSA</td>\n",
       "      <td>2018-03-09</td>\n",
       "      <td>surf</td>\n",
       "      <td>2099-01-01</td>\n",
       "      <td>TX</td>\n",
       "      <td>Other</td>\n",
       "      <td>2099-01-01</td>\n",
       "      <td>2018-03-01</td>\n",
       "    </tr>\n",
       "    <tr>\n",
       "      <th>11</th>\n",
       "      <td>1011</td>\n",
       "      <td>Halina</td>\n",
       "      <td>Henry</td>\n",
       "      <td>73</td>\n",
       "      <td>Cleveland-Elyria, OH MSA</td>\n",
       "      <td>2018-01-18</td>\n",
       "      <td>ultimate</td>\n",
       "      <td>2099-01-01</td>\n",
       "      <td>OH</td>\n",
       "      <td>Other</td>\n",
       "      <td>2099-01-01</td>\n",
       "      <td>2018-01-01</td>\n",
       "    </tr>\n",
       "    <tr>\n",
       "      <th>12</th>\n",
       "      <td>1012</td>\n",
       "      <td>Jonelle</td>\n",
       "      <td>Mcbride</td>\n",
       "      <td>59</td>\n",
       "      <td>Chicago-Naperville-Elgin, IL-IN-WI MSA</td>\n",
       "      <td>2018-06-28</td>\n",
       "      <td>surf</td>\n",
       "      <td>2018-11-16</td>\n",
       "      <td>IL-IN-WI</td>\n",
       "      <td>Other</td>\n",
       "      <td>2018-11-01</td>\n",
       "      <td>2018-06-01</td>\n",
       "    </tr>\n",
       "    <tr>\n",
       "      <th>13</th>\n",
       "      <td>1013</td>\n",
       "      <td>Nicolas</td>\n",
       "      <td>Snider</td>\n",
       "      <td>50</td>\n",
       "      <td>Knoxville, TN MSA</td>\n",
       "      <td>2018-12-01</td>\n",
       "      <td>ultimate</td>\n",
       "      <td>2099-01-01</td>\n",
       "      <td>TN</td>\n",
       "      <td>Other</td>\n",
       "      <td>2099-01-01</td>\n",
       "      <td>2018-12-01</td>\n",
       "    </tr>\n",
       "    <tr>\n",
       "      <th>14</th>\n",
       "      <td>1014</td>\n",
       "      <td>Edmundo</td>\n",
       "      <td>Simon</td>\n",
       "      <td>61</td>\n",
       "      <td>New York-Newark-Jersey City, NY-NJ-PA MSA</td>\n",
       "      <td>2018-11-25</td>\n",
       "      <td>surf</td>\n",
       "      <td>2099-01-01</td>\n",
       "      <td>NY-NJ-PA</td>\n",
       "      <td>NY-NJ</td>\n",
       "      <td>2099-01-01</td>\n",
       "      <td>2018-11-01</td>\n",
       "    </tr>\n",
       "    <tr>\n",
       "      <th>15</th>\n",
       "      <td>1015</td>\n",
       "      <td>Beata</td>\n",
       "      <td>Carpenter</td>\n",
       "      <td>26</td>\n",
       "      <td>Pittsburgh, PA MSA</td>\n",
       "      <td>2018-12-05</td>\n",
       "      <td>surf</td>\n",
       "      <td>2099-01-01</td>\n",
       "      <td>PA</td>\n",
       "      <td>Other</td>\n",
       "      <td>2099-01-01</td>\n",
       "      <td>2018-12-01</td>\n",
       "    </tr>\n",
       "    <tr>\n",
       "      <th>16</th>\n",
       "      <td>1016</td>\n",
       "      <td>Jann</td>\n",
       "      <td>Salinas</td>\n",
       "      <td>30</td>\n",
       "      <td>Fresno, CA MSA</td>\n",
       "      <td>2018-10-25</td>\n",
       "      <td>surf</td>\n",
       "      <td>2099-01-01</td>\n",
       "      <td>CA</td>\n",
       "      <td>Other</td>\n",
       "      <td>2099-01-01</td>\n",
       "      <td>2018-10-01</td>\n",
       "    </tr>\n",
       "    <tr>\n",
       "      <th>17</th>\n",
       "      <td>1017</td>\n",
       "      <td>Boris</td>\n",
       "      <td>Gates</td>\n",
       "      <td>61</td>\n",
       "      <td>Washington-Arlington-Alexandria, DC-VA-MD-WV MSA</td>\n",
       "      <td>2018-08-26</td>\n",
       "      <td>surf</td>\n",
       "      <td>2099-01-01</td>\n",
       "      <td>DC-VA-MD-WV</td>\n",
       "      <td>Other</td>\n",
       "      <td>2099-01-01</td>\n",
       "      <td>2018-08-01</td>\n",
       "    </tr>\n",
       "    <tr>\n",
       "      <th>18</th>\n",
       "      <td>1018</td>\n",
       "      <td>Dennis</td>\n",
       "      <td>Grimes</td>\n",
       "      <td>70</td>\n",
       "      <td>Indianapolis-Carmel-Anderson, IN MSA</td>\n",
       "      <td>2018-10-17</td>\n",
       "      <td>surf</td>\n",
       "      <td>2099-01-01</td>\n",
       "      <td>IN</td>\n",
       "      <td>Other</td>\n",
       "      <td>2099-01-01</td>\n",
       "      <td>2018-10-01</td>\n",
       "    </tr>\n",
       "    <tr>\n",
       "      <th>19</th>\n",
       "      <td>1019</td>\n",
       "      <td>Shizue</td>\n",
       "      <td>Landry</td>\n",
       "      <td>34</td>\n",
       "      <td>Jacksonville, FL MSA</td>\n",
       "      <td>2018-01-16</td>\n",
       "      <td>surf</td>\n",
       "      <td>2099-01-01</td>\n",
       "      <td>FL</td>\n",
       "      <td>Other</td>\n",
       "      <td>2099-01-01</td>\n",
       "      <td>2018-01-01</td>\n",
       "    </tr>\n",
       "  </tbody>\n",
       "</table>\n",
       "</div>"
      ],
      "text/plain": [
       "   user_id first_name  last_name  age  \\\n",
       "0     1000   Anamaria      Bauer   45   \n",
       "1     1001     Mickey  Wilkerson   28   \n",
       "2     1002     Carlee    Hoffman   36   \n",
       "3     1003   Reynaldo    Jenkins   52   \n",
       "4     1004    Leonila   Thompson   40   \n",
       "5     1005      Livia    Shields   31   \n",
       "6     1006     Jesusa   Bradford   73   \n",
       "7     1007    Eusebio      Welch   42   \n",
       "8     1008      Emely    Hoffman   53   \n",
       "9     1009      Gerry     Little   19   \n",
       "10    1010     Wilber      Blair   52   \n",
       "11    1011     Halina      Henry   73   \n",
       "12    1012    Jonelle    Mcbride   59   \n",
       "13    1013    Nicolas     Snider   50   \n",
       "14    1014    Edmundo      Simon   61   \n",
       "15    1015      Beata  Carpenter   26   \n",
       "16    1016       Jann    Salinas   30   \n",
       "17    1017      Boris      Gates   61   \n",
       "18    1018     Dennis     Grimes   70   \n",
       "19    1019     Shizue     Landry   34   \n",
       "\n",
       "                                                city   reg_date      plan  \\\n",
       "0              Atlanta-Sandy Springs-Roswell, GA MSA 2018-12-24  ultimate   \n",
       "1                    Seattle-Tacoma-Bellevue, WA MSA 2018-08-13      surf   \n",
       "2               Las Vegas-Henderson-Paradise, NV MSA 2018-10-21      surf   \n",
       "3                                      Tulsa, OK MSA 2018-01-28      surf   \n",
       "4                    Seattle-Tacoma-Bellevue, WA MSA 2018-05-23      surf   \n",
       "5                Dallas-Fort Worth-Arlington, TX MSA 2018-11-29      surf   \n",
       "6             San Francisco-Oakland-Berkeley, CA MSA 2018-11-27  ultimate   \n",
       "7                      Grand Rapids-Kentwood, MI MSA 2018-07-11      surf   \n",
       "8                  Orlando-Kissimmee-Sanford, FL MSA 2018-08-03  ultimate   \n",
       "9             San Jose-Sunnyvale-Santa Clara, CA MSA 2018-04-22      surf   \n",
       "10               Dallas-Fort Worth-Arlington, TX MSA 2018-03-09      surf   \n",
       "11                          Cleveland-Elyria, OH MSA 2018-01-18  ultimate   \n",
       "12            Chicago-Naperville-Elgin, IL-IN-WI MSA 2018-06-28      surf   \n",
       "13                                 Knoxville, TN MSA 2018-12-01  ultimate   \n",
       "14         New York-Newark-Jersey City, NY-NJ-PA MSA 2018-11-25      surf   \n",
       "15                                Pittsburgh, PA MSA 2018-12-05      surf   \n",
       "16                                    Fresno, CA MSA 2018-10-25      surf   \n",
       "17  Washington-Arlington-Alexandria, DC-VA-MD-WV MSA 2018-08-26      surf   \n",
       "18              Indianapolis-Carmel-Anderson, IN MSA 2018-10-17      surf   \n",
       "19                              Jacksonville, FL MSA 2018-01-16      surf   \n",
       "\n",
       "   churn_date        state  NY_NJ churn_month start_month  \n",
       "0  2099-01-01           GA  Other  2099-01-01  2018-12-01  \n",
       "1  2099-01-01           WA  Other  2099-01-01  2018-08-01  \n",
       "2  2099-01-01           NV  Other  2099-01-01  2018-10-01  \n",
       "3  2099-01-01           OK  Other  2099-01-01  2018-01-01  \n",
       "4  2099-01-01           WA  Other  2099-01-01  2018-05-01  \n",
       "5  2099-01-01           TX  Other  2099-01-01  2018-11-01  \n",
       "6  2018-12-18           CA  Other  2018-12-01  2018-11-01  \n",
       "7  2099-01-01           MI  Other  2099-01-01  2018-07-01  \n",
       "8  2099-01-01           FL  Other  2099-01-01  2018-08-01  \n",
       "9  2099-01-01           CA  Other  2099-01-01  2018-04-01  \n",
       "10 2099-01-01           TX  Other  2099-01-01  2018-03-01  \n",
       "11 2099-01-01           OH  Other  2099-01-01  2018-01-01  \n",
       "12 2018-11-16     IL-IN-WI  Other  2018-11-01  2018-06-01  \n",
       "13 2099-01-01           TN  Other  2099-01-01  2018-12-01  \n",
       "14 2099-01-01     NY-NJ-PA  NY-NJ  2099-01-01  2018-11-01  \n",
       "15 2099-01-01           PA  Other  2099-01-01  2018-12-01  \n",
       "16 2099-01-01           CA  Other  2099-01-01  2018-10-01  \n",
       "17 2099-01-01  DC-VA-MD-WV  Other  2099-01-01  2018-08-01  \n",
       "18 2099-01-01           IN  Other  2099-01-01  2018-10-01  \n",
       "19 2099-01-01           FL  Other  2099-01-01  2018-01-01  "
      ]
     },
     "execution_count": 10,
     "metadata": {},
     "output_type": "execute_result"
    }
   ],
   "source": [
    "# Add a State field to users table\n",
    "# Split city and take the [1] index which contains the state and replace 'MSA' with a whitespace\n",
    "users['state'] = users['city'].str.split(',',expand=True)[1].str.replace('MSA','').str.strip()\n",
    "    \n",
    "# If a state has NJ or NY in it then print \"NY-NJ\"\n",
    "def map_state(state):\n",
    "   if 'NY' in state or 'NJ' in state :\n",
    "    return \"NY-NJ\"\n",
    "   else:\n",
    "     return 'Other'\n",
    "\n",
    "# Create a column called NY_NJ to be used in later analysis about \n",
    "# The average revenue from users in NY-NJ area is different from that of the users from other regions.\n",
    "users[\"NY_NJ\"] = users['city'].apply(map_state)\n",
    "\n",
    "# Replace churn_date with a value far in the future \n",
    "# Because we know the data set is for 2018 we can assume that they haven't churned yet if the date is set after 2018\n",
    "# Replace NULL values with \"2099-01-01\" for ease of working with user data in later section\n",
    "users['churn_date'].fillna('2099-01-01', inplace = True)\n",
    "\n",
    "\n",
    "# Create a column for start month and churn month so I can determine active months for the user\n",
    "users['churn_date']= pd.to_datetime(users['churn_date'])\n",
    "users['churn_month'] = users['churn_date'].dt.to_period('M').dt.to_timestamp()\n",
    "users['start_month'] = users['reg_date'].dt.to_period('M').dt.to_timestamp()\n",
    "\n",
    "\n",
    "# Check new users df\n",
    "users.head(20)"
   ]
  },
  {
   "cell_type": "markdown",
   "metadata": {},
   "source": [
    "## Calls"
   ]
  },
  {
   "cell_type": "code",
   "execution_count": 11,
   "metadata": {},
   "outputs": [
    {
     "name": "stdout",
     "output_type": "stream",
     "text": [
      "<class 'pandas.core.frame.DataFrame'>\n",
      "RangeIndex: 137735 entries, 0 to 137734\n",
      "Data columns (total 4 columns):\n",
      " #   Column     Non-Null Count   Dtype  \n",
      "---  ------     --------------   -----  \n",
      " 0   id         137735 non-null  object \n",
      " 1   user_id    137735 non-null  int64  \n",
      " 2   call_date  137735 non-null  object \n",
      " 3   duration   137735 non-null  float64\n",
      "dtypes: float64(1), int64(1), object(2)\n",
      "memory usage: 4.2+ MB\n"
     ]
    },
    {
     "data": {
      "text/html": [
       "<div>\n",
       "<style scoped>\n",
       "    .dataframe tbody tr th:only-of-type {\n",
       "        vertical-align: middle;\n",
       "    }\n",
       "\n",
       "    .dataframe tbody tr th {\n",
       "        vertical-align: top;\n",
       "    }\n",
       "\n",
       "    .dataframe thead th {\n",
       "        text-align: right;\n",
       "    }\n",
       "</style>\n",
       "<table border=\"1\" class=\"dataframe\">\n",
       "  <thead>\n",
       "    <tr style=\"text-align: right;\">\n",
       "      <th></th>\n",
       "      <th>id</th>\n",
       "      <th>user_id</th>\n",
       "      <th>call_date</th>\n",
       "      <th>duration</th>\n",
       "    </tr>\n",
       "  </thead>\n",
       "  <tbody>\n",
       "  </tbody>\n",
       "</table>\n",
       "</div>"
      ],
      "text/plain": [
       "Empty DataFrame\n",
       "Columns: [id, user_id, call_date, duration]\n",
       "Index: []"
      ]
     },
     "execution_count": 11,
     "metadata": {},
     "output_type": "execute_result"
    }
   ],
   "source": [
    "# Print the general/summary information about the calls' DataFrame\n",
    "\n",
    "# Check head \n",
    "calls.head()\n",
    "\n",
    "# Check for missing values\n",
    "calls.isna().sum()\n",
    "\n",
    "# Check data types \n",
    "calls.info()\n",
    "\n",
    "# Describe data\n",
    "calls.describe(include = 'all')\n",
    "\n",
    "# Check for duplicates in all rows, id, and user_id\n",
    "calls[calls.duplicated(keep=False)]\n",
    "calls[calls.duplicated(subset=['user_id','id'], keep=False)].sort_values(by='user_id')\n"
   ]
  },
  {
   "cell_type": "code",
   "execution_count": 12,
   "metadata": {},
   "outputs": [
    {
     "data": {
      "text/html": [
       "<div>\n",
       "<style scoped>\n",
       "    .dataframe tbody tr th:only-of-type {\n",
       "        vertical-align: middle;\n",
       "    }\n",
       "\n",
       "    .dataframe tbody tr th {\n",
       "        vertical-align: top;\n",
       "    }\n",
       "\n",
       "    .dataframe thead th {\n",
       "        text-align: right;\n",
       "    }\n",
       "</style>\n",
       "<table border=\"1\" class=\"dataframe\">\n",
       "  <thead>\n",
       "    <tr style=\"text-align: right;\">\n",
       "      <th></th>\n",
       "      <th>id</th>\n",
       "      <th>user_id</th>\n",
       "      <th>call_date</th>\n",
       "      <th>duration</th>\n",
       "    </tr>\n",
       "  </thead>\n",
       "  <tbody>\n",
       "    <tr>\n",
       "      <th>0</th>\n",
       "      <td>1000_93</td>\n",
       "      <td>1000</td>\n",
       "      <td>2018-12-27</td>\n",
       "      <td>8.52</td>\n",
       "    </tr>\n",
       "    <tr>\n",
       "      <th>1</th>\n",
       "      <td>1000_145</td>\n",
       "      <td>1000</td>\n",
       "      <td>2018-12-27</td>\n",
       "      <td>13.66</td>\n",
       "    </tr>\n",
       "    <tr>\n",
       "      <th>2</th>\n",
       "      <td>1000_247</td>\n",
       "      <td>1000</td>\n",
       "      <td>2018-12-27</td>\n",
       "      <td>14.48</td>\n",
       "    </tr>\n",
       "    <tr>\n",
       "      <th>3</th>\n",
       "      <td>1000_309</td>\n",
       "      <td>1000</td>\n",
       "      <td>2018-12-28</td>\n",
       "      <td>5.76</td>\n",
       "    </tr>\n",
       "    <tr>\n",
       "      <th>4</th>\n",
       "      <td>1000_380</td>\n",
       "      <td>1000</td>\n",
       "      <td>2018-12-30</td>\n",
       "      <td>4.22</td>\n",
       "    </tr>\n",
       "  </tbody>\n",
       "</table>\n",
       "</div>"
      ],
      "text/plain": [
       "         id  user_id   call_date  duration\n",
       "0   1000_93     1000  2018-12-27      8.52\n",
       "1  1000_145     1000  2018-12-27     13.66\n",
       "2  1000_247     1000  2018-12-27     14.48\n",
       "3  1000_309     1000  2018-12-28      5.76\n",
       "4  1000_380     1000  2018-12-30      4.22"
      ]
     },
     "execution_count": 12,
     "metadata": {},
     "output_type": "execute_result"
    }
   ],
   "source": [
    "# Print a sample of data for calls\n",
    "calls.head()"
   ]
  },
  {
   "cell_type": "markdown",
   "metadata": {},
   "source": [
    "After looking at the calls table, none of the fields have missing data and there are no duplicates that take away from the integrity of the data set. There are duplicate rows where user_id is the same but that is ok since users can make multiple calls. Wil convert call_date to datetime from object and convert user_id from integer to string in case leading digits or zeros were lost do to being an integer. id can be changed to a string, but call_duration can remain a float since it represents minutes spent on a call."
   ]
  },
  {
   "cell_type": "markdown",
   "metadata": {},
   "source": [
    "### Fix data"
   ]
  },
  {
   "cell_type": "markdown",
   "metadata": {},
   "source": [
    "Convert data types from intial data load"
   ]
  },
  {
   "cell_type": "code",
   "execution_count": 13,
   "metadata": {},
   "outputs": [
    {
     "name": "stdout",
     "output_type": "stream",
     "text": [
      "<class 'pandas.core.frame.DataFrame'>\n",
      "RangeIndex: 137735 entries, 0 to 137734\n",
      "Data columns (total 4 columns):\n",
      " #   Column     Non-Null Count   Dtype         \n",
      "---  ------     --------------   -----         \n",
      " 0   id         137735 non-null  string        \n",
      " 1   user_id    137735 non-null  string        \n",
      " 2   call_date  137735 non-null  datetime64[ns]\n",
      " 3   duration   137735 non-null  float64       \n",
      "dtypes: datetime64[ns](1), float64(1), string(2)\n",
      "memory usage: 4.2 MB\n"
     ]
    }
   ],
   "source": [
    "# Convert data types \n",
    "\n",
    "# Convert the 'call_date' column to datetime format\n",
    "calls['call_date'] = calls['call_date'].astype('datetime64')\n",
    "\n",
    "# Convert the user_id, id column to string format\n",
    "calls['user_id'] = calls['user_id'].astype('string')\n",
    "calls['id'] = calls['id'].astype('string')\n",
    "\n",
    "# Check data types after change\n",
    "calls.info()"
   ]
  },
  {
   "cell_type": "markdown",
   "metadata": {},
   "source": [
    "### Enrich data"
   ]
  },
  {
   "cell_type": "markdown",
   "metadata": {},
   "source": [
    "Create a field that extracts the month/year from each call_date and add to new columns called call_month. Required to understand how many calls a user makes a month. In this section, I will also round up call duration for individual calls to the nearest minute as per the plan requirements (Note this is different than internet rounding which is done at the monthly level and not at a session level)."
   ]
  },
  {
   "cell_type": "code",
   "execution_count": 14,
   "metadata": {},
   "outputs": [
    {
     "data": {
      "text/html": [
       "<div>\n",
       "<style scoped>\n",
       "    .dataframe tbody tr th:only-of-type {\n",
       "        vertical-align: middle;\n",
       "    }\n",
       "\n",
       "    .dataframe tbody tr th {\n",
       "        vertical-align: top;\n",
       "    }\n",
       "\n",
       "    .dataframe thead th {\n",
       "        text-align: right;\n",
       "    }\n",
       "</style>\n",
       "<table border=\"1\" class=\"dataframe\">\n",
       "  <thead>\n",
       "    <tr style=\"text-align: right;\">\n",
       "      <th></th>\n",
       "      <th>id</th>\n",
       "      <th>user_id</th>\n",
       "      <th>call_date</th>\n",
       "      <th>duration</th>\n",
       "      <th>call_month</th>\n",
       "      <th>mins_per_call_rounded</th>\n",
       "    </tr>\n",
       "  </thead>\n",
       "  <tbody>\n",
       "    <tr>\n",
       "      <th>0</th>\n",
       "      <td>1000_93</td>\n",
       "      <td>1000</td>\n",
       "      <td>2018-12-27</td>\n",
       "      <td>8.52</td>\n",
       "      <td>2018-12-01</td>\n",
       "      <td>9</td>\n",
       "    </tr>\n",
       "    <tr>\n",
       "      <th>1</th>\n",
       "      <td>1000_145</td>\n",
       "      <td>1000</td>\n",
       "      <td>2018-12-27</td>\n",
       "      <td>13.66</td>\n",
       "      <td>2018-12-01</td>\n",
       "      <td>14</td>\n",
       "    </tr>\n",
       "    <tr>\n",
       "      <th>2</th>\n",
       "      <td>1000_247</td>\n",
       "      <td>1000</td>\n",
       "      <td>2018-12-27</td>\n",
       "      <td>14.48</td>\n",
       "      <td>2018-12-01</td>\n",
       "      <td>15</td>\n",
       "    </tr>\n",
       "    <tr>\n",
       "      <th>3</th>\n",
       "      <td>1000_309</td>\n",
       "      <td>1000</td>\n",
       "      <td>2018-12-28</td>\n",
       "      <td>5.76</td>\n",
       "      <td>2018-12-01</td>\n",
       "      <td>6</td>\n",
       "    </tr>\n",
       "    <tr>\n",
       "      <th>4</th>\n",
       "      <td>1000_380</td>\n",
       "      <td>1000</td>\n",
       "      <td>2018-12-30</td>\n",
       "      <td>4.22</td>\n",
       "      <td>2018-12-01</td>\n",
       "      <td>5</td>\n",
       "    </tr>\n",
       "  </tbody>\n",
       "</table>\n",
       "</div>"
      ],
      "text/plain": [
       "         id user_id  call_date  duration call_month  mins_per_call_rounded\n",
       "0   1000_93    1000 2018-12-27      8.52 2018-12-01                      9\n",
       "1  1000_145    1000 2018-12-27     13.66 2018-12-01                     14\n",
       "2  1000_247    1000 2018-12-27     14.48 2018-12-01                     15\n",
       "3  1000_309    1000 2018-12-28      5.76 2018-12-01                      6\n",
       "4  1000_380    1000 2018-12-30      4.22 2018-12-01                      5"
      ]
     },
     "execution_count": 14,
     "metadata": {},
     "output_type": "execute_result"
    }
   ],
   "source": [
    "# Truncate call_date to call_month\n",
    "calls['call_month'] = calls['call_date'].dt.to_period('M').dt.to_timestamp()\n",
    "\n",
    "# Round up individual call duration to the next minute if as plan requirement states that \"Every individual call should be rounded up to the nearest minute, even if it lasts just one second\".\n",
    "calls['mins_per_call_rounded'] = np.ceil(calls.duration).astype(int)\n",
    "\n",
    "# Check added field\n",
    "calls.head()"
   ]
  },
  {
   "cell_type": "markdown",
   "metadata": {},
   "source": [
    "## Messages"
   ]
  },
  {
   "cell_type": "code",
   "execution_count": 15,
   "metadata": {},
   "outputs": [
    {
     "name": "stdout",
     "output_type": "stream",
     "text": [
      "<class 'pandas.core.frame.DataFrame'>\n",
      "RangeIndex: 76051 entries, 0 to 76050\n",
      "Data columns (total 3 columns):\n",
      " #   Column        Non-Null Count  Dtype \n",
      "---  ------        --------------  ----- \n",
      " 0   id            76051 non-null  object\n",
      " 1   user_id       76051 non-null  int64 \n",
      " 2   message_date  76051 non-null  object\n",
      "dtypes: int64(1), object(2)\n",
      "memory usage: 1.7+ MB\n"
     ]
    },
    {
     "data": {
      "text/html": [
       "<div>\n",
       "<style scoped>\n",
       "    .dataframe tbody tr th:only-of-type {\n",
       "        vertical-align: middle;\n",
       "    }\n",
       "\n",
       "    .dataframe tbody tr th {\n",
       "        vertical-align: top;\n",
       "    }\n",
       "\n",
       "    .dataframe thead th {\n",
       "        text-align: right;\n",
       "    }\n",
       "</style>\n",
       "<table border=\"1\" class=\"dataframe\">\n",
       "  <thead>\n",
       "    <tr style=\"text-align: right;\">\n",
       "      <th></th>\n",
       "      <th>id</th>\n",
       "      <th>user_id</th>\n",
       "      <th>message_date</th>\n",
       "    </tr>\n",
       "  </thead>\n",
       "  <tbody>\n",
       "  </tbody>\n",
       "</table>\n",
       "</div>"
      ],
      "text/plain": [
       "Empty DataFrame\n",
       "Columns: [id, user_id, message_date]\n",
       "Index: []"
      ]
     },
     "execution_count": 15,
     "metadata": {},
     "output_type": "execute_result"
    }
   ],
   "source": [
    "# Print the general/summary information about the messages' DataFrame\n",
    "\n",
    "# Check head \n",
    "messages.head()\n",
    "\n",
    "# Check for missing values\n",
    "messages.isna().sum()\n",
    "\n",
    "# Check data types \n",
    "messages.info()\n",
    "\n",
    "# Describe data\n",
    "messages.describe(include = 'all')\n",
    "\n",
    "# Check for duplicates in all rows and within id\n",
    "messages[messages.duplicated(keep=False)]\n",
    "messages[messages.duplicated(subset=['id'], keep=False)].sort_values(by='user_id')"
   ]
  },
  {
   "cell_type": "code",
   "execution_count": 16,
   "metadata": {},
   "outputs": [
    {
     "data": {
      "text/html": [
       "<div>\n",
       "<style scoped>\n",
       "    .dataframe tbody tr th:only-of-type {\n",
       "        vertical-align: middle;\n",
       "    }\n",
       "\n",
       "    .dataframe tbody tr th {\n",
       "        vertical-align: top;\n",
       "    }\n",
       "\n",
       "    .dataframe thead th {\n",
       "        text-align: right;\n",
       "    }\n",
       "</style>\n",
       "<table border=\"1\" class=\"dataframe\">\n",
       "  <thead>\n",
       "    <tr style=\"text-align: right;\">\n",
       "      <th></th>\n",
       "      <th>id</th>\n",
       "      <th>user_id</th>\n",
       "      <th>message_date</th>\n",
       "    </tr>\n",
       "  </thead>\n",
       "  <tbody>\n",
       "    <tr>\n",
       "      <th>0</th>\n",
       "      <td>1000_125</td>\n",
       "      <td>1000</td>\n",
       "      <td>2018-12-27</td>\n",
       "    </tr>\n",
       "    <tr>\n",
       "      <th>1</th>\n",
       "      <td>1000_160</td>\n",
       "      <td>1000</td>\n",
       "      <td>2018-12-31</td>\n",
       "    </tr>\n",
       "    <tr>\n",
       "      <th>2</th>\n",
       "      <td>1000_223</td>\n",
       "      <td>1000</td>\n",
       "      <td>2018-12-31</td>\n",
       "    </tr>\n",
       "    <tr>\n",
       "      <th>3</th>\n",
       "      <td>1000_251</td>\n",
       "      <td>1000</td>\n",
       "      <td>2018-12-27</td>\n",
       "    </tr>\n",
       "    <tr>\n",
       "      <th>4</th>\n",
       "      <td>1000_255</td>\n",
       "      <td>1000</td>\n",
       "      <td>2018-12-26</td>\n",
       "    </tr>\n",
       "  </tbody>\n",
       "</table>\n",
       "</div>"
      ],
      "text/plain": [
       "         id  user_id message_date\n",
       "0  1000_125     1000   2018-12-27\n",
       "1  1000_160     1000   2018-12-31\n",
       "2  1000_223     1000   2018-12-31\n",
       "3  1000_251     1000   2018-12-27\n",
       "4  1000_255     1000   2018-12-26"
      ]
     },
     "execution_count": 16,
     "metadata": {},
     "output_type": "execute_result"
    }
   ],
   "source": [
    "# Print a sample of data for messages\n",
    "messages.head()"
   ]
  },
  {
   "cell_type": "markdown",
   "metadata": {},
   "source": [
    "The messages dataframe doesn't have any missing values or fully duplicated rows. Message_date needs to be converted to a date and both id and user_id can be converted to a string."
   ]
  },
  {
   "cell_type": "markdown",
   "metadata": {},
   "source": [
    "### Fix data"
   ]
  },
  {
   "cell_type": "markdown",
   "metadata": {},
   "source": [
    "Convert data types from intial data load"
   ]
  },
  {
   "cell_type": "code",
   "execution_count": 17,
   "metadata": {},
   "outputs": [
    {
     "name": "stdout",
     "output_type": "stream",
     "text": [
      "<class 'pandas.core.frame.DataFrame'>\n",
      "RangeIndex: 76051 entries, 0 to 76050\n",
      "Data columns (total 3 columns):\n",
      " #   Column        Non-Null Count  Dtype         \n",
      "---  ------        --------------  -----         \n",
      " 0   id            76051 non-null  string        \n",
      " 1   user_id       76051 non-null  string        \n",
      " 2   message_date  76051 non-null  datetime64[ns]\n",
      "dtypes: datetime64[ns](1), string(2)\n",
      "memory usage: 1.7 MB\n"
     ]
    }
   ],
   "source": [
    "# Convert data types \n",
    "\n",
    "# Convert the 'call_date' column to datetime format\n",
    "messages['message_date'] = messages['message_date'].astype('datetime64')\n",
    "\n",
    "# Convert the user_id, id column to string format\n",
    "messages['user_id'] = calls['user_id'].astype('string')\n",
    "messages['id'] = calls['id'].astype('string')\n",
    "\n",
    "# Check data types after change\n",
    "messages.info()"
   ]
  },
  {
   "cell_type": "markdown",
   "metadata": {},
   "source": [
    "### Enrich data"
   ]
  },
  {
   "cell_type": "markdown",
   "metadata": {},
   "source": [
    "Create a field that extracts the month/year from each message_date and add to new columns called message_month. Message month will be need to count the number of message a user has in a month"
   ]
  },
  {
   "cell_type": "code",
   "execution_count": 18,
   "metadata": {},
   "outputs": [
    {
     "data": {
      "text/html": [
       "<div>\n",
       "<style scoped>\n",
       "    .dataframe tbody tr th:only-of-type {\n",
       "        vertical-align: middle;\n",
       "    }\n",
       "\n",
       "    .dataframe tbody tr th {\n",
       "        vertical-align: top;\n",
       "    }\n",
       "\n",
       "    .dataframe thead th {\n",
       "        text-align: right;\n",
       "    }\n",
       "</style>\n",
       "<table border=\"1\" class=\"dataframe\">\n",
       "  <thead>\n",
       "    <tr style=\"text-align: right;\">\n",
       "      <th></th>\n",
       "      <th>id</th>\n",
       "      <th>user_id</th>\n",
       "      <th>message_date</th>\n",
       "      <th>message_month</th>\n",
       "    </tr>\n",
       "  </thead>\n",
       "  <tbody>\n",
       "    <tr>\n",
       "      <th>0</th>\n",
       "      <td>1000_93</td>\n",
       "      <td>1000</td>\n",
       "      <td>2018-12-27</td>\n",
       "      <td>2018-12-01</td>\n",
       "    </tr>\n",
       "    <tr>\n",
       "      <th>1</th>\n",
       "      <td>1000_145</td>\n",
       "      <td>1000</td>\n",
       "      <td>2018-12-31</td>\n",
       "      <td>2018-12-01</td>\n",
       "    </tr>\n",
       "    <tr>\n",
       "      <th>2</th>\n",
       "      <td>1000_247</td>\n",
       "      <td>1000</td>\n",
       "      <td>2018-12-31</td>\n",
       "      <td>2018-12-01</td>\n",
       "    </tr>\n",
       "    <tr>\n",
       "      <th>3</th>\n",
       "      <td>1000_309</td>\n",
       "      <td>1000</td>\n",
       "      <td>2018-12-27</td>\n",
       "      <td>2018-12-01</td>\n",
       "    </tr>\n",
       "    <tr>\n",
       "      <th>4</th>\n",
       "      <td>1000_380</td>\n",
       "      <td>1000</td>\n",
       "      <td>2018-12-26</td>\n",
       "      <td>2018-12-01</td>\n",
       "    </tr>\n",
       "  </tbody>\n",
       "</table>\n",
       "</div>"
      ],
      "text/plain": [
       "         id user_id message_date message_month\n",
       "0   1000_93    1000   2018-12-27    2018-12-01\n",
       "1  1000_145    1000   2018-12-31    2018-12-01\n",
       "2  1000_247    1000   2018-12-31    2018-12-01\n",
       "3  1000_309    1000   2018-12-27    2018-12-01\n",
       "4  1000_380    1000   2018-12-26    2018-12-01"
      ]
     },
     "execution_count": 18,
     "metadata": {},
     "output_type": "execute_result"
    }
   ],
   "source": [
    "# Truncate message_date to message_month\n",
    "messages['message_month'] = messages['message_date'].dt.to_period('M').dt.to_timestamp()\n",
    "\n",
    "# Check added field\n",
    "messages.head()"
   ]
  },
  {
   "cell_type": "markdown",
   "metadata": {},
   "source": [
    "## Internet"
   ]
  },
  {
   "cell_type": "code",
   "execution_count": 19,
   "metadata": {},
   "outputs": [
    {
     "name": "stdout",
     "output_type": "stream",
     "text": [
      "<class 'pandas.core.frame.DataFrame'>\n",
      "RangeIndex: 104825 entries, 0 to 104824\n",
      "Data columns (total 4 columns):\n",
      " #   Column        Non-Null Count   Dtype  \n",
      "---  ------        --------------   -----  \n",
      " 0   id            104825 non-null  object \n",
      " 1   user_id       104825 non-null  int64  \n",
      " 2   session_date  104825 non-null  object \n",
      " 3   mb_used       104825 non-null  float64\n",
      "dtypes: float64(1), int64(1), object(2)\n",
      "memory usage: 3.2+ MB\n"
     ]
    },
    {
     "data": {
      "text/html": [
       "<div>\n",
       "<style scoped>\n",
       "    .dataframe tbody tr th:only-of-type {\n",
       "        vertical-align: middle;\n",
       "    }\n",
       "\n",
       "    .dataframe tbody tr th {\n",
       "        vertical-align: top;\n",
       "    }\n",
       "\n",
       "    .dataframe thead th {\n",
       "        text-align: right;\n",
       "    }\n",
       "</style>\n",
       "<table border=\"1\" class=\"dataframe\">\n",
       "  <thead>\n",
       "    <tr style=\"text-align: right;\">\n",
       "      <th></th>\n",
       "      <th>id</th>\n",
       "      <th>user_id</th>\n",
       "      <th>session_date</th>\n",
       "      <th>mb_used</th>\n",
       "    </tr>\n",
       "  </thead>\n",
       "  <tbody>\n",
       "  </tbody>\n",
       "</table>\n",
       "</div>"
      ],
      "text/plain": [
       "Empty DataFrame\n",
       "Columns: [id, user_id, session_date, mb_used]\n",
       "Index: []"
      ]
     },
     "execution_count": 19,
     "metadata": {},
     "output_type": "execute_result"
    }
   ],
   "source": [
    "# Print the general/summary information about the internet DataFrame\n",
    "\n",
    "# Check for missing values\n",
    "internet.isna().sum()\n",
    "\n",
    "# Check data types \n",
    "internet.info()\n",
    "\n",
    "# Describe data\n",
    "internet.describe(include = 'all')\n",
    "\n",
    "# Check for duplicates in all rows, id, and user_id\n",
    "internet[internet.duplicated(keep=False)]\n",
    "internet[internet.duplicated(subset=['user_id','id'], keep=False)].sort_values(by='user_id')"
   ]
  },
  {
   "cell_type": "code",
   "execution_count": 20,
   "metadata": {},
   "outputs": [
    {
     "data": {
      "text/html": [
       "<div>\n",
       "<style scoped>\n",
       "    .dataframe tbody tr th:only-of-type {\n",
       "        vertical-align: middle;\n",
       "    }\n",
       "\n",
       "    .dataframe tbody tr th {\n",
       "        vertical-align: top;\n",
       "    }\n",
       "\n",
       "    .dataframe thead th {\n",
       "        text-align: right;\n",
       "    }\n",
       "</style>\n",
       "<table border=\"1\" class=\"dataframe\">\n",
       "  <thead>\n",
       "    <tr style=\"text-align: right;\">\n",
       "      <th></th>\n",
       "      <th>id</th>\n",
       "      <th>user_id</th>\n",
       "      <th>session_date</th>\n",
       "      <th>mb_used</th>\n",
       "    </tr>\n",
       "  </thead>\n",
       "  <tbody>\n",
       "    <tr>\n",
       "      <th>0</th>\n",
       "      <td>1000_13</td>\n",
       "      <td>1000</td>\n",
       "      <td>2018-12-29</td>\n",
       "      <td>89.86</td>\n",
       "    </tr>\n",
       "    <tr>\n",
       "      <th>1</th>\n",
       "      <td>1000_204</td>\n",
       "      <td>1000</td>\n",
       "      <td>2018-12-31</td>\n",
       "      <td>0.00</td>\n",
       "    </tr>\n",
       "    <tr>\n",
       "      <th>2</th>\n",
       "      <td>1000_379</td>\n",
       "      <td>1000</td>\n",
       "      <td>2018-12-28</td>\n",
       "      <td>660.40</td>\n",
       "    </tr>\n",
       "    <tr>\n",
       "      <th>3</th>\n",
       "      <td>1000_413</td>\n",
       "      <td>1000</td>\n",
       "      <td>2018-12-26</td>\n",
       "      <td>270.99</td>\n",
       "    </tr>\n",
       "    <tr>\n",
       "      <th>4</th>\n",
       "      <td>1000_442</td>\n",
       "      <td>1000</td>\n",
       "      <td>2018-12-27</td>\n",
       "      <td>880.22</td>\n",
       "    </tr>\n",
       "  </tbody>\n",
       "</table>\n",
       "</div>"
      ],
      "text/plain": [
       "         id  user_id session_date  mb_used\n",
       "0   1000_13     1000   2018-12-29    89.86\n",
       "1  1000_204     1000   2018-12-31     0.00\n",
       "2  1000_379     1000   2018-12-28   660.40\n",
       "3  1000_413     1000   2018-12-26   270.99\n",
       "4  1000_442     1000   2018-12-27   880.22"
      ]
     },
     "execution_count": 20,
     "metadata": {},
     "output_type": "execute_result"
    }
   ],
   "source": [
    "# Print a sample of data for the internet traffic\n",
    "\n",
    "# Check head \n",
    "internet.head()"
   ]
  },
  {
   "cell_type": "markdown",
   "metadata": {},
   "source": [
    "After looking at the internet table, none of the fields have missing data and there are no duplicates that take away from the integrity of the data set. There are duplicate rows where user_id is the same but that is ok since users can have multiple web sessions. Need to convert session_date to datetime from object and convert user_id and id to string in case leading digits or zeros were lost do to being an integer. I'm also going to create a new column called gb_used that converts mb_used to gigabytes since the plans are measured by Gb."
   ]
  },
  {
   "cell_type": "markdown",
   "metadata": {},
   "source": [
    "### Fix data"
   ]
  },
  {
   "cell_type": "markdown",
   "metadata": {},
   "source": [
    "Convert data types from intial data load"
   ]
  },
  {
   "cell_type": "code",
   "execution_count": 21,
   "metadata": {},
   "outputs": [
    {
     "name": "stdout",
     "output_type": "stream",
     "text": [
      "<class 'pandas.core.frame.DataFrame'>\n",
      "RangeIndex: 104825 entries, 0 to 104824\n",
      "Data columns (total 4 columns):\n",
      " #   Column        Non-Null Count   Dtype         \n",
      "---  ------        --------------   -----         \n",
      " 0   id            104825 non-null  string        \n",
      " 1   user_id       104825 non-null  string        \n",
      " 2   session_date  104825 non-null  datetime64[ns]\n",
      " 3   mb_used       104825 non-null  float64       \n",
      "dtypes: datetime64[ns](1), float64(1), string(2)\n",
      "memory usage: 3.2 MB\n"
     ]
    }
   ],
   "source": [
    "# Convert data types \n",
    "\n",
    "# Convert the 'call_date' column to datetime format\n",
    "internet['session_date'] = internet['session_date'].astype('datetime64')\n",
    "\n",
    "# Convert the user_id, id column to string format\n",
    "internet['user_id'] = internet['user_id'].astype('string')\n",
    "internet['id'] = internet['id'].astype('string')\n",
    "\n",
    "# Check data types after change\n",
    "internet.info()"
   ]
  },
  {
   "cell_type": "markdown",
   "metadata": {},
   "source": [
    "### Enrich data"
   ]
  },
  {
   "cell_type": "markdown",
   "metadata": {},
   "source": [
    "Adding an additional column called gb_used. Adding this field because other fields are based on gigabytes and not megabytes. To calculate plan overages for internet, mb needs to be converted to gb."
   ]
  },
  {
   "cell_type": "code",
   "execution_count": 22,
   "metadata": {},
   "outputs": [
    {
     "data": {
      "text/html": [
       "<div>\n",
       "<style scoped>\n",
       "    .dataframe tbody tr th:only-of-type {\n",
       "        vertical-align: middle;\n",
       "    }\n",
       "\n",
       "    .dataframe tbody tr th {\n",
       "        vertical-align: top;\n",
       "    }\n",
       "\n",
       "    .dataframe thead th {\n",
       "        text-align: right;\n",
       "    }\n",
       "</style>\n",
       "<table border=\"1\" class=\"dataframe\">\n",
       "  <thead>\n",
       "    <tr style=\"text-align: right;\">\n",
       "      <th></th>\n",
       "      <th>id</th>\n",
       "      <th>user_id</th>\n",
       "      <th>session_date</th>\n",
       "      <th>mb_used</th>\n",
       "      <th>gb_used</th>\n",
       "      <th>gb_month</th>\n",
       "    </tr>\n",
       "  </thead>\n",
       "  <tbody>\n",
       "    <tr>\n",
       "      <th>0</th>\n",
       "      <td>1000_13</td>\n",
       "      <td>1000</td>\n",
       "      <td>2018-12-29</td>\n",
       "      <td>89.86</td>\n",
       "      <td>0.087754</td>\n",
       "      <td>2018-12-01</td>\n",
       "    </tr>\n",
       "    <tr>\n",
       "      <th>1</th>\n",
       "      <td>1000_204</td>\n",
       "      <td>1000</td>\n",
       "      <td>2018-12-31</td>\n",
       "      <td>0.00</td>\n",
       "      <td>0.000000</td>\n",
       "      <td>2018-12-01</td>\n",
       "    </tr>\n",
       "    <tr>\n",
       "      <th>2</th>\n",
       "      <td>1000_379</td>\n",
       "      <td>1000</td>\n",
       "      <td>2018-12-28</td>\n",
       "      <td>660.40</td>\n",
       "      <td>0.644922</td>\n",
       "      <td>2018-12-01</td>\n",
       "    </tr>\n",
       "    <tr>\n",
       "      <th>3</th>\n",
       "      <td>1000_413</td>\n",
       "      <td>1000</td>\n",
       "      <td>2018-12-26</td>\n",
       "      <td>270.99</td>\n",
       "      <td>0.264639</td>\n",
       "      <td>2018-12-01</td>\n",
       "    </tr>\n",
       "    <tr>\n",
       "      <th>4</th>\n",
       "      <td>1000_442</td>\n",
       "      <td>1000</td>\n",
       "      <td>2018-12-27</td>\n",
       "      <td>880.22</td>\n",
       "      <td>0.859590</td>\n",
       "      <td>2018-12-01</td>\n",
       "    </tr>\n",
       "  </tbody>\n",
       "</table>\n",
       "</div>"
      ],
      "text/plain": [
       "         id user_id session_date  mb_used   gb_used   gb_month\n",
       "0   1000_13    1000   2018-12-29    89.86  0.087754 2018-12-01\n",
       "1  1000_204    1000   2018-12-31     0.00  0.000000 2018-12-01\n",
       "2  1000_379    1000   2018-12-28   660.40  0.644922 2018-12-01\n",
       "3  1000_413    1000   2018-12-26   270.99  0.264639 2018-12-01\n",
       "4  1000_442    1000   2018-12-27   880.22  0.859590 2018-12-01"
      ]
     },
     "execution_count": 22,
     "metadata": {},
     "output_type": "execute_result"
    }
   ],
   "source": [
    "# Divide mb by 1024 to get gb\n",
    "def mb_to_gb(plans):\n",
    "    return (plans/1024)\n",
    "\n",
    "# Create a column gb_used to be used in later analysis. Convert values to float since value will be small and a decimal. \n",
    "internet['gb_used'] = internet['mb_used'].apply(mb_to_gb).astype(float)\n",
    "\n",
    "#Create a field that extracts the month/year from each session and add to new columns called gb_month\n",
    "internet['gb_month'] = internet['session_date'].dt.to_period('M').dt.to_timestamp()\n",
    "\n",
    "# Print head to see column\n",
    "internet.head()"
   ]
  },
  {
   "cell_type": "markdown",
   "metadata": {},
   "source": [
    "## Study Plan Conditions"
   ]
  },
  {
   "cell_type": "markdown",
   "metadata": {},
   "source": [
    "**Description of the Plans** <br>\n",
    "*Note: Megaline rounds seconds up to minutes, and megabytes to gigabytes. For calls, each individual call is rounded up: even if the call lasted just one second, it will be counted as one minute. For web traffic, individual web sessions are not rounded up. Instead, the total for the month is rounded up. If someone uses 1025 megabytes this month, they will be charged for 2 gigabytes.*<br>\n",
    "- **Surf**\n",
    "  - Monthly charge: \\$20\n",
    "  - 500 monthly minutes, 50 texts, and 15 GB of data\n",
    "  - After exceeding the package limits:\n",
    "      - 1 minute: 3 cents\n",
    "      - 1 text message: 3 cents\n",
    "      - 1 GB of data: \\$10\n",
    "- **Ultimate**\n",
    "  - Monthly charge: \\$70\n",
    "  - 3000 monthly minutes, 1000 text messages, and 30 GB of data\n",
    "  - After exceeding the package limits:\n",
    "      * 1 minute: 1 cent\n",
    "      * 1 text message: 1 cent\n",
    "      * 1 GB of data: \\$7"
   ]
  },
  {
   "cell_type": "code",
   "execution_count": 23,
   "metadata": {},
   "outputs": [
    {
     "data": {
      "text/html": [
       "<div>\n",
       "<style scoped>\n",
       "    .dataframe tbody tr th:only-of-type {\n",
       "        vertical-align: middle;\n",
       "    }\n",
       "\n",
       "    .dataframe tbody tr th {\n",
       "        vertical-align: top;\n",
       "    }\n",
       "\n",
       "    .dataframe thead th {\n",
       "        text-align: right;\n",
       "    }\n",
       "</style>\n",
       "<table border=\"1\" class=\"dataframe\">\n",
       "  <thead>\n",
       "    <tr style=\"text-align: right;\">\n",
       "      <th></th>\n",
       "      <th>plan_name</th>\n",
       "      <th>usd_monthly_pay</th>\n",
       "      <th>minutes_included</th>\n",
       "      <th>messages_included</th>\n",
       "      <th>gb_per_month_included</th>\n",
       "      <th>mb_per_month_included</th>\n",
       "      <th>usd_per_minute</th>\n",
       "      <th>usd_per_message</th>\n",
       "      <th>usd_per_gb</th>\n",
       "    </tr>\n",
       "  </thead>\n",
       "  <tbody>\n",
       "    <tr>\n",
       "      <th>0</th>\n",
       "      <td>surf</td>\n",
       "      <td>20</td>\n",
       "      <td>500</td>\n",
       "      <td>50</td>\n",
       "      <td>15</td>\n",
       "      <td>15360</td>\n",
       "      <td>0.03</td>\n",
       "      <td>0.03</td>\n",
       "      <td>10</td>\n",
       "    </tr>\n",
       "    <tr>\n",
       "      <th>1</th>\n",
       "      <td>ultimate</td>\n",
       "      <td>70</td>\n",
       "      <td>3000</td>\n",
       "      <td>1000</td>\n",
       "      <td>30</td>\n",
       "      <td>30720</td>\n",
       "      <td>0.01</td>\n",
       "      <td>0.01</td>\n",
       "      <td>7</td>\n",
       "    </tr>\n",
       "  </tbody>\n",
       "</table>\n",
       "</div>"
      ],
      "text/plain": [
       "  plan_name  usd_monthly_pay  minutes_included  messages_included  \\\n",
       "0      surf               20               500                 50   \n",
       "1  ultimate               70              3000               1000   \n",
       "\n",
       "   gb_per_month_included  mb_per_month_included  usd_per_minute  \\\n",
       "0                     15                  15360            0.03   \n",
       "1                     30                  30720            0.01   \n",
       "\n",
       "   usd_per_message  usd_per_gb  \n",
       "0             0.03          10  \n",
       "1             0.01           7  "
      ]
     },
     "execution_count": 23,
     "metadata": {},
     "output_type": "execute_result"
    }
   ],
   "source": [
    "# Print out the plan conditions and make sure they are clear for you\n",
    "\n",
    "# Reorganize plans df in order of plan description for ease of reading\n",
    "plans = plans[['plan_name','usd_monthly_pay','minutes_included','messages_included','gb_per_month_included','mb_per_month_included', 'usd_per_minute','usd_per_message','usd_per_gb']]\n",
    "\n",
    "# Print plans\n",
    "plans"
   ]
  },
  {
   "cell_type": "markdown",
   "metadata": {},
   "source": [
    "## Aggregate data per user\n",
    "\n",
    "Now that the data is clean, in this next section I will aggregate data per user per period in order to have just one record per user per period. This will ease the analysis when looking at monthly user data. "
   ]
  },
  {
   "cell_type": "code",
   "execution_count": 24,
   "metadata": {},
   "outputs": [
    {
     "data": {
      "text/html": [
       "<div>\n",
       "<style scoped>\n",
       "    .dataframe tbody tr th:only-of-type {\n",
       "        vertical-align: middle;\n",
       "    }\n",
       "\n",
       "    .dataframe tbody tr th {\n",
       "        vertical-align: top;\n",
       "    }\n",
       "\n",
       "    .dataframe thead th {\n",
       "        text-align: right;\n",
       "    }\n",
       "</style>\n",
       "<table border=\"1\" class=\"dataframe\">\n",
       "  <thead>\n",
       "    <tr style=\"text-align: right;\">\n",
       "      <th></th>\n",
       "      <th>user_id</th>\n",
       "      <th>call_month</th>\n",
       "      <th>calls_per_month</th>\n",
       "    </tr>\n",
       "  </thead>\n",
       "  <tbody>\n",
       "    <tr>\n",
       "      <th>0</th>\n",
       "      <td>1000</td>\n",
       "      <td>2018-12-01</td>\n",
       "      <td>16</td>\n",
       "    </tr>\n",
       "    <tr>\n",
       "      <th>1</th>\n",
       "      <td>1001</td>\n",
       "      <td>2018-08-01</td>\n",
       "      <td>27</td>\n",
       "    </tr>\n",
       "    <tr>\n",
       "      <th>2</th>\n",
       "      <td>1001</td>\n",
       "      <td>2018-09-01</td>\n",
       "      <td>49</td>\n",
       "    </tr>\n",
       "    <tr>\n",
       "      <th>3</th>\n",
       "      <td>1001</td>\n",
       "      <td>2018-10-01</td>\n",
       "      <td>65</td>\n",
       "    </tr>\n",
       "    <tr>\n",
       "      <th>4</th>\n",
       "      <td>1001</td>\n",
       "      <td>2018-11-01</td>\n",
       "      <td>64</td>\n",
       "    </tr>\n",
       "  </tbody>\n",
       "</table>\n",
       "</div>"
      ],
      "text/plain": [
       "  user_id call_month  calls_per_month\n",
       "0    1000 2018-12-01               16\n",
       "1    1001 2018-08-01               27\n",
       "2    1001 2018-09-01               49\n",
       "3    1001 2018-10-01               65\n",
       "4    1001 2018-11-01               64"
      ]
     },
     "execution_count": 24,
     "metadata": {},
     "output_type": "execute_result"
    }
   ],
   "source": [
    "# Calculate the number of calls made by each user per month. Save the result to variable monthly_calls_by_user.\n",
    "monthly_calls_by_user = calls.groupby(['user_id','call_month'])['id'].count().to_frame(name='calls_per_month').reset_index()\n",
    "\n",
    "# Show Results\n",
    "monthly_calls_by_user.head()"
   ]
  },
  {
   "cell_type": "code",
   "execution_count": 25,
   "metadata": {},
   "outputs": [
    {
     "data": {
      "text/html": [
       "<div>\n",
       "<style scoped>\n",
       "    .dataframe tbody tr th:only-of-type {\n",
       "        vertical-align: middle;\n",
       "    }\n",
       "\n",
       "    .dataframe tbody tr th {\n",
       "        vertical-align: top;\n",
       "    }\n",
       "\n",
       "    .dataframe thead th {\n",
       "        text-align: right;\n",
       "    }\n",
       "</style>\n",
       "<table border=\"1\" class=\"dataframe\">\n",
       "  <thead>\n",
       "    <tr style=\"text-align: right;\">\n",
       "      <th></th>\n",
       "      <th>user_id</th>\n",
       "      <th>call_month</th>\n",
       "      <th>mins_per_month_rounded</th>\n",
       "    </tr>\n",
       "  </thead>\n",
       "  <tbody>\n",
       "    <tr>\n",
       "      <th>0</th>\n",
       "      <td>1000</td>\n",
       "      <td>2018-12-01</td>\n",
       "      <td>124</td>\n",
       "    </tr>\n",
       "    <tr>\n",
       "      <th>1</th>\n",
       "      <td>1001</td>\n",
       "      <td>2018-08-01</td>\n",
       "      <td>182</td>\n",
       "    </tr>\n",
       "    <tr>\n",
       "      <th>2</th>\n",
       "      <td>1001</td>\n",
       "      <td>2018-09-01</td>\n",
       "      <td>315</td>\n",
       "    </tr>\n",
       "    <tr>\n",
       "      <th>3</th>\n",
       "      <td>1001</td>\n",
       "      <td>2018-10-01</td>\n",
       "      <td>393</td>\n",
       "    </tr>\n",
       "    <tr>\n",
       "      <th>4</th>\n",
       "      <td>1001</td>\n",
       "      <td>2018-11-01</td>\n",
       "      <td>426</td>\n",
       "    </tr>\n",
       "  </tbody>\n",
       "</table>\n",
       "</div>"
      ],
      "text/plain": [
       "  user_id call_month  mins_per_month_rounded\n",
       "0    1000 2018-12-01                     124\n",
       "1    1001 2018-08-01                     182\n",
       "2    1001 2018-09-01                     315\n",
       "3    1001 2018-10-01                     393\n",
       "4    1001 2018-11-01                     426"
      ]
     },
     "execution_count": 25,
     "metadata": {},
     "output_type": "execute_result"
    }
   ],
   "source": [
    "# Calculate the amount of minutes spent by each user per month. Save the result.\n",
    "\n",
    "# Calculate the duration spent on calls for each user per month. Save the result to variable monthly_minutes_by_user.\n",
    "# Use rounded individual mins from calls enrichment section\n",
    "monthly_minutes_by_user = calls.groupby(['user_id','call_month'])['mins_per_call_rounded'].sum().to_frame(name='mins_per_month_rounded').reset_index()\n",
    "\n",
    "# Show Results\n",
    "monthly_minutes_by_user.head()"
   ]
  },
  {
   "cell_type": "code",
   "execution_count": 26,
   "metadata": {},
   "outputs": [
    {
     "data": {
      "text/html": [
       "<div>\n",
       "<style scoped>\n",
       "    .dataframe tbody tr th:only-of-type {\n",
       "        vertical-align: middle;\n",
       "    }\n",
       "\n",
       "    .dataframe tbody tr th {\n",
       "        vertical-align: top;\n",
       "    }\n",
       "\n",
       "    .dataframe thead th {\n",
       "        text-align: right;\n",
       "    }\n",
       "</style>\n",
       "<table border=\"1\" class=\"dataframe\">\n",
       "  <thead>\n",
       "    <tr style=\"text-align: right;\">\n",
       "      <th></th>\n",
       "      <th>user_id</th>\n",
       "      <th>message_month</th>\n",
       "      <th>messages_per_month</th>\n",
       "    </tr>\n",
       "  </thead>\n",
       "  <tbody>\n",
       "    <tr>\n",
       "      <th>0</th>\n",
       "      <td>1000</td>\n",
       "      <td>2018-08-01</td>\n",
       "      <td>1</td>\n",
       "    </tr>\n",
       "    <tr>\n",
       "      <th>1</th>\n",
       "      <td>1000</td>\n",
       "      <td>2018-10-01</td>\n",
       "      <td>1</td>\n",
       "    </tr>\n",
       "    <tr>\n",
       "      <th>2</th>\n",
       "      <td>1000</td>\n",
       "      <td>2018-11-01</td>\n",
       "      <td>2</td>\n",
       "    </tr>\n",
       "    <tr>\n",
       "      <th>3</th>\n",
       "      <td>1000</td>\n",
       "      <td>2018-12-01</td>\n",
       "      <td>12</td>\n",
       "    </tr>\n",
       "    <tr>\n",
       "      <th>4</th>\n",
       "      <td>1001</td>\n",
       "      <td>2018-08-01</td>\n",
       "      <td>29</td>\n",
       "    </tr>\n",
       "  </tbody>\n",
       "</table>\n",
       "</div>"
      ],
      "text/plain": [
       "  user_id message_month  messages_per_month\n",
       "0    1000    2018-08-01                   1\n",
       "1    1000    2018-10-01                   1\n",
       "2    1000    2018-11-01                   2\n",
       "3    1000    2018-12-01                  12\n",
       "4    1001    2018-08-01                  29"
      ]
     },
     "execution_count": 26,
     "metadata": {},
     "output_type": "execute_result"
    }
   ],
   "source": [
    "# Calculate the number of messages sent by each user per month. Save the result.\n",
    "\n",
    "# Calculate the number of messages for each user per month. Save the result to variable monthly_messages_by_user.\n",
    "monthly_messages_by_user = messages.groupby(['user_id','message_month'])['id'].count().to_frame(name='messages_per_month').reset_index()\n",
    "\n",
    "# Show Results\n",
    "monthly_messages_by_user.head()"
   ]
  },
  {
   "cell_type": "code",
   "execution_count": 27,
   "metadata": {},
   "outputs": [
    {
     "data": {
      "text/html": [
       "<div>\n",
       "<style scoped>\n",
       "    .dataframe tbody tr th:only-of-type {\n",
       "        vertical-align: middle;\n",
       "    }\n",
       "\n",
       "    .dataframe tbody tr th {\n",
       "        vertical-align: top;\n",
       "    }\n",
       "\n",
       "    .dataframe thead th {\n",
       "        text-align: right;\n",
       "    }\n",
       "</style>\n",
       "<table border=\"1\" class=\"dataframe\">\n",
       "  <thead>\n",
       "    <tr style=\"text-align: right;\">\n",
       "      <th></th>\n",
       "      <th>user_id</th>\n",
       "      <th>gb_month</th>\n",
       "      <th>sum_gb_used</th>\n",
       "      <th>gb_per_month_rounded</th>\n",
       "    </tr>\n",
       "  </thead>\n",
       "  <tbody>\n",
       "    <tr>\n",
       "      <th>0</th>\n",
       "      <td>1000</td>\n",
       "      <td>2018-12-01</td>\n",
       "      <td>1.856904</td>\n",
       "      <td>2.0</td>\n",
       "    </tr>\n",
       "    <tr>\n",
       "      <th>1</th>\n",
       "      <td>1001</td>\n",
       "      <td>2018-08-01</td>\n",
       "      <td>6.756982</td>\n",
       "      <td>7.0</td>\n",
       "    </tr>\n",
       "    <tr>\n",
       "      <th>2</th>\n",
       "      <td>1001</td>\n",
       "      <td>2018-09-01</td>\n",
       "      <td>13.002754</td>\n",
       "      <td>14.0</td>\n",
       "    </tr>\n",
       "    <tr>\n",
       "      <th>3</th>\n",
       "      <td>1001</td>\n",
       "      <td>2018-10-01</td>\n",
       "      <td>21.807119</td>\n",
       "      <td>22.0</td>\n",
       "    </tr>\n",
       "    <tr>\n",
       "      <th>4</th>\n",
       "      <td>1001</td>\n",
       "      <td>2018-11-01</td>\n",
       "      <td>18.070605</td>\n",
       "      <td>19.0</td>\n",
       "    </tr>\n",
       "  </tbody>\n",
       "</table>\n",
       "</div>"
      ],
      "text/plain": [
       "  user_id   gb_month  sum_gb_used  gb_per_month_rounded\n",
       "0    1000 2018-12-01     1.856904                   2.0\n",
       "1    1001 2018-08-01     6.756982                   7.0\n",
       "2    1001 2018-09-01    13.002754                  14.0\n",
       "3    1001 2018-10-01    21.807119                  22.0\n",
       "4    1001 2018-11-01    18.070605                  19.0"
      ]
     },
     "execution_count": 27,
     "metadata": {},
     "output_type": "execute_result"
    }
   ],
   "source": [
    "# Calculate the volume of internet traffic used by each user per month. Save the result.\n",
    "\n",
    "# Calculate the gb used for each user per month. Save the result to variable monthly_gb_by_user.\n",
    "monthly_gb_by_user = internet.groupby(['user_id','gb_month'])['gb_used'].sum().to_frame(name='sum_gb_used').reset_index()\n",
    "\n",
    "# Round up the sum of GBs used. If there are 6.7569 GBs used then round to 7 GBs\n",
    "monthly_gb_by_user['gb_per_month_rounded'] = np.ceil(monthly_gb_by_user.sum_gb_used)\n",
    "\n",
    "# Show Results\n",
    "monthly_gb_by_user.head()"
   ]
  },
  {
   "cell_type": "markdown",
   "metadata": {},
   "source": [
    "**Important Assumptions About the Data & Data Enrichment** <br><br>\n",
    "In this next block I will merge the user info with their usage related to calls, messages, and internet usage. But first, I will lay out some assumptions that will drive the next few sections - \n",
    "  -  First, I will reate a user base table\n",
    "      - For this I will cross join user data with each month in 2018 to have a base table to join calls, messages, and internet to. The key for all of the merges will be the date the user is active on the plan\n",
    "      - I need to have a month column that contains all months that a user was active so that I can appropriate join usage data to it\n",
    "  - Months before a user's reg_date (start month) will be excluded and months after a users churn date (churn month) will be excluded\n",
    "  - One important assumpiton that I am making is that a user will pay for the plan for the month they churn \n",
    "  - I am also assuming that the user will pay based on the month and not every 30 days. \n",
    "      - For example, if a user was created on 12/24/2018, the user will pay the plan fee for the month of December\n",
    "      - For example, if a user churns on 12/24/2018, the user will pay for the plan fee and all overages for the month of December\n",
    "  - Missing or null values for minutes, messages, or internet usage will be filled with 0 \n",
    "      - The assumption here is that if a user is active on a plan but doesn't have usage data it's because their usage data isn't available for that month and I will assume they didn't have any calls, messages, or internet usage at that time \n",
    "  - I will convert NULL churn values to a date far in the future since we know the data set is just for 2018. Will make date operations more easy when not working with NULL dates\n",
    "  "
   ]
  },
  {
   "cell_type": "code",
   "execution_count": 28,
   "metadata": {},
   "outputs": [],
   "source": [
    "# Create a list of distinct months in 2018\n",
    "distinct_months = pd.Series(users['start_month'].unique()).to_frame(name='active_month')\n",
    "\n",
    "# Cross join each user in user df with each month from 2018 to get a base table of users and all months in 2018\n",
    "# There will be more months for each user than they are active but I will handle this in the next few lines of code\n",
    "users_raw = users.merge(distinct_months, how='cross')\n",
    "\n",
    "# Create a function to flag for active months outside of reg_date and churn date to be removed\n",
    "# Function will return 1 for the months that the user was active \n",
    "    # Active means the months between (and including) the user start month until their churn date or throughout 2018\n",
    "def date_check(users_raw):\n",
    "    if users_raw['active_month'] >= users_raw['start_month'] and users_raw['active_month'] <= users_raw['churn_month']:\n",
    "        return 1\n",
    "    else:\n",
    "        return 0\n",
    "\n",
    "# Apply function \n",
    "users_raw['date_flag'] = users_raw[['active_month', 'start_month','churn_month']].apply(date_check,axis = 1)\n",
    "\n",
    "# Drop rows with a 0 in the flag to only include active months for each user \n",
    "# This will create a new base user table\n",
    "users_raw = users_raw[users_raw['date_flag'] == 1]"
   ]
  },
  {
   "cell_type": "markdown",
   "metadata": {},
   "source": [
    "In the next two cells, I will join the new user data frame with minute, message, and internet data. I will join usage information on the months that the user is active. I will handle null values in the second cell based on the assumption I made that if there is missing values, it means that the user hasn't had usage for that month but are paying for the plan"
   ]
  },
  {
   "cell_type": "code",
   "execution_count": 29,
   "metadata": {},
   "outputs": [
    {
     "data": {
      "text/html": [
       "<div>\n",
       "<style scoped>\n",
       "    .dataframe tbody tr th:only-of-type {\n",
       "        vertical-align: middle;\n",
       "    }\n",
       "\n",
       "    .dataframe tbody tr th {\n",
       "        vertical-align: top;\n",
       "    }\n",
       "\n",
       "    .dataframe thead th {\n",
       "        text-align: right;\n",
       "    }\n",
       "</style>\n",
       "<table border=\"1\" class=\"dataframe\">\n",
       "  <thead>\n",
       "    <tr style=\"text-align: right;\">\n",
       "      <th></th>\n",
       "      <th>user_id</th>\n",
       "      <th>first_name</th>\n",
       "      <th>last_name</th>\n",
       "      <th>age</th>\n",
       "      <th>city</th>\n",
       "      <th>reg_date</th>\n",
       "      <th>plan</th>\n",
       "      <th>churn_date</th>\n",
       "      <th>state</th>\n",
       "      <th>NY_NJ</th>\n",
       "      <th>churn_month</th>\n",
       "      <th>start_month</th>\n",
       "      <th>active_month</th>\n",
       "      <th>date_flag</th>\n",
       "      <th>call_month</th>\n",
       "      <th>mins_per_month_rounded</th>\n",
       "      <th>message_month</th>\n",
       "      <th>messages_per_month</th>\n",
       "      <th>gb_month</th>\n",
       "      <th>sum_gb_used</th>\n",
       "      <th>gb_per_month_rounded</th>\n",
       "    </tr>\n",
       "  </thead>\n",
       "  <tbody>\n",
       "    <tr>\n",
       "      <th>0</th>\n",
       "      <td>1000</td>\n",
       "      <td>Anamaria</td>\n",
       "      <td>Bauer</td>\n",
       "      <td>45</td>\n",
       "      <td>Atlanta-Sandy Springs-Roswell, GA MSA</td>\n",
       "      <td>2018-12-24</td>\n",
       "      <td>ultimate</td>\n",
       "      <td>2099-01-01</td>\n",
       "      <td>GA</td>\n",
       "      <td>Other</td>\n",
       "      <td>2099-01-01</td>\n",
       "      <td>2018-12-01</td>\n",
       "      <td>2018-12-01</td>\n",
       "      <td>1</td>\n",
       "      <td>2018-12-01</td>\n",
       "      <td>124.0</td>\n",
       "      <td>2018-12-01</td>\n",
       "      <td>12.0</td>\n",
       "      <td>2018-12-01</td>\n",
       "      <td>1.856904</td>\n",
       "      <td>2.0</td>\n",
       "    </tr>\n",
       "    <tr>\n",
       "      <th>1</th>\n",
       "      <td>1001</td>\n",
       "      <td>Mickey</td>\n",
       "      <td>Wilkerson</td>\n",
       "      <td>28</td>\n",
       "      <td>Seattle-Tacoma-Bellevue, WA MSA</td>\n",
       "      <td>2018-08-13</td>\n",
       "      <td>surf</td>\n",
       "      <td>2099-01-01</td>\n",
       "      <td>WA</td>\n",
       "      <td>Other</td>\n",
       "      <td>2099-01-01</td>\n",
       "      <td>2018-08-01</td>\n",
       "      <td>2018-12-01</td>\n",
       "      <td>1</td>\n",
       "      <td>2018-12-01</td>\n",
       "      <td>412.0</td>\n",
       "      <td>2018-12-01</td>\n",
       "      <td>72.0</td>\n",
       "      <td>2018-12-01</td>\n",
       "      <td>18.915215</td>\n",
       "      <td>19.0</td>\n",
       "    </tr>\n",
       "    <tr>\n",
       "      <th>2</th>\n",
       "      <td>1001</td>\n",
       "      <td>Mickey</td>\n",
       "      <td>Wilkerson</td>\n",
       "      <td>28</td>\n",
       "      <td>Seattle-Tacoma-Bellevue, WA MSA</td>\n",
       "      <td>2018-08-13</td>\n",
       "      <td>surf</td>\n",
       "      <td>2099-01-01</td>\n",
       "      <td>WA</td>\n",
       "      <td>Other</td>\n",
       "      <td>2099-01-01</td>\n",
       "      <td>2018-08-01</td>\n",
       "      <td>2018-08-01</td>\n",
       "      <td>1</td>\n",
       "      <td>2018-08-01</td>\n",
       "      <td>182.0</td>\n",
       "      <td>2018-08-01</td>\n",
       "      <td>29.0</td>\n",
       "      <td>2018-08-01</td>\n",
       "      <td>6.756982</td>\n",
       "      <td>7.0</td>\n",
       "    </tr>\n",
       "    <tr>\n",
       "      <th>3</th>\n",
       "      <td>1001</td>\n",
       "      <td>Mickey</td>\n",
       "      <td>Wilkerson</td>\n",
       "      <td>28</td>\n",
       "      <td>Seattle-Tacoma-Bellevue, WA MSA</td>\n",
       "      <td>2018-08-13</td>\n",
       "      <td>surf</td>\n",
       "      <td>2099-01-01</td>\n",
       "      <td>WA</td>\n",
       "      <td>Other</td>\n",
       "      <td>2099-01-01</td>\n",
       "      <td>2018-08-01</td>\n",
       "      <td>2018-10-01</td>\n",
       "      <td>1</td>\n",
       "      <td>2018-10-01</td>\n",
       "      <td>393.0</td>\n",
       "      <td>2018-10-01</td>\n",
       "      <td>61.0</td>\n",
       "      <td>2018-10-01</td>\n",
       "      <td>21.807119</td>\n",
       "      <td>22.0</td>\n",
       "    </tr>\n",
       "    <tr>\n",
       "      <th>4</th>\n",
       "      <td>1001</td>\n",
       "      <td>Mickey</td>\n",
       "      <td>Wilkerson</td>\n",
       "      <td>28</td>\n",
       "      <td>Seattle-Tacoma-Bellevue, WA MSA</td>\n",
       "      <td>2018-08-13</td>\n",
       "      <td>surf</td>\n",
       "      <td>2099-01-01</td>\n",
       "      <td>WA</td>\n",
       "      <td>Other</td>\n",
       "      <td>2099-01-01</td>\n",
       "      <td>2018-08-01</td>\n",
       "      <td>2018-11-01</td>\n",
       "      <td>1</td>\n",
       "      <td>2018-11-01</td>\n",
       "      <td>426.0</td>\n",
       "      <td>2018-11-01</td>\n",
       "      <td>55.0</td>\n",
       "      <td>2018-11-01</td>\n",
       "      <td>18.070605</td>\n",
       "      <td>19.0</td>\n",
       "    </tr>\n",
       "  </tbody>\n",
       "</table>\n",
       "</div>"
      ],
      "text/plain": [
       "  user_id first_name  last_name  age                                   city  \\\n",
       "0    1000   Anamaria      Bauer   45  Atlanta-Sandy Springs-Roswell, GA MSA   \n",
       "1    1001     Mickey  Wilkerson   28        Seattle-Tacoma-Bellevue, WA MSA   \n",
       "2    1001     Mickey  Wilkerson   28        Seattle-Tacoma-Bellevue, WA MSA   \n",
       "3    1001     Mickey  Wilkerson   28        Seattle-Tacoma-Bellevue, WA MSA   \n",
       "4    1001     Mickey  Wilkerson   28        Seattle-Tacoma-Bellevue, WA MSA   \n",
       "\n",
       "    reg_date      plan churn_date state  NY_NJ churn_month start_month  \\\n",
       "0 2018-12-24  ultimate 2099-01-01    GA  Other  2099-01-01  2018-12-01   \n",
       "1 2018-08-13      surf 2099-01-01    WA  Other  2099-01-01  2018-08-01   \n",
       "2 2018-08-13      surf 2099-01-01    WA  Other  2099-01-01  2018-08-01   \n",
       "3 2018-08-13      surf 2099-01-01    WA  Other  2099-01-01  2018-08-01   \n",
       "4 2018-08-13      surf 2099-01-01    WA  Other  2099-01-01  2018-08-01   \n",
       "\n",
       "  active_month  date_flag call_month  mins_per_month_rounded message_month  \\\n",
       "0   2018-12-01          1 2018-12-01                   124.0    2018-12-01   \n",
       "1   2018-12-01          1 2018-12-01                   412.0    2018-12-01   \n",
       "2   2018-08-01          1 2018-08-01                   182.0    2018-08-01   \n",
       "3   2018-10-01          1 2018-10-01                   393.0    2018-10-01   \n",
       "4   2018-11-01          1 2018-11-01                   426.0    2018-11-01   \n",
       "\n",
       "   messages_per_month   gb_month  sum_gb_used  gb_per_month_rounded  \n",
       "0                12.0 2018-12-01     1.856904                   2.0  \n",
       "1                72.0 2018-12-01    18.915215                  19.0  \n",
       "2                29.0 2018-08-01     6.756982                   7.0  \n",
       "3                61.0 2018-10-01    21.807119                  22.0  \n",
       "4                55.0 2018-11-01    18.070605                  19.0  "
      ]
     },
     "execution_count": 29,
     "metadata": {},
     "output_type": "execute_result"
    }
   ],
   "source": [
    "# Merge the data for calls, minutes, messages, internet based on user_id and month\n",
    "# For either plan we only care about minutes/duration and not number of calls so I will not join to get number of calls\n",
    "\n",
    "# Merge to get users and calls by month\n",
    "user_calls = users_raw.merge(monthly_minutes_by_user, how='left'\n",
    "                                                  , left_on=['user_id','active_month']\n",
    "                                                  , right_on=['user_id','call_month'])\n",
    "\n",
    "# Merge to get users, calls, minutes, messages by month\n",
    "user_calls_mins_messages = user_calls.merge(monthly_messages_by_user, how='left'\n",
    "                                                                         , left_on=['user_id','active_month']\n",
    "                                                                         , right_on=['user_id','message_month'])\n",
    "\n",
    "# Merge to get users, calls, minutes, messages, internet by month\n",
    "user_plan_usage = user_calls_mins_messages.merge(monthly_gb_by_user, how='left'\n",
    "                                                                   , left_on=['user_id','active_month']\n",
    "                                                                   , right_on=['user_id','gb_month'])\n",
    "# Print results\n",
    "user_plan_usage.head()"
   ]
  },
  {
   "cell_type": "code",
   "execution_count": 30,
   "metadata": {
    "scrolled": true
   },
   "outputs": [],
   "source": [
    "# Add the plan information\n",
    "\n",
    "# Merge to get user plan usages with plans df\n",
    "monthly_plan_usage = user_plan_usage.merge(plans, how = 'left', left_on = 'plan', right_on = 'plan_name')\n",
    "\n",
    "# Print results\n",
    "#monthly_plan_usage.head()\n",
    "\n",
    "# Check for missing values in new base table \n",
    "monthly_plan_usage.isna().sum()\n",
    "\n",
    "#There are instances where a user is active on a plan but has no activity - In these cases the user will still pay for the plan\n",
    "\n",
    "# Replace null values in mins, messages, and gbs used with 0 after joining to data usage tables\n",
    "monthly_plan_usage.fillna({'mins_per_month_rounded': '0'\n",
    "                           , 'messages_per_month': '0'\n",
    "                           , 'sum_gb_used': '0'\n",
    "                           , 'gb_per_month_rounded': '0'}, inplace=True)\n",
    "\n",
    "# Convert newly filled columns to integers\n",
    "monthly_plan_usage['mins_per_month_rounded'] = monthly_plan_usage['mins_per_month_rounded'].astype(int)\n",
    "monthly_plan_usage['messages_per_month'] = monthly_plan_usage['messages_per_month'].astype(int)\n",
    "monthly_plan_usage['sum_gb_used'] = monthly_plan_usage['sum_gb_used'].astype(int)\n",
    "monthly_plan_usage['gb_per_month_rounded'] = monthly_plan_usage['gb_per_month_rounded'].astype(int)"
   ]
  },
  {
   "cell_type": "markdown",
   "metadata": {},
   "source": [
    "In the next cell, I will create a few functions that will allow me to calculate the monthly revenue for each user. To do this, I will subtract the free package limit from the total number of calls, text messages, and data; multiply the result by the calling plan value; add the monthly charge depending on the calling plan. To make this work a bit more organized and cleaner, I will create a new data frame that only inlucdes the fields that I will need for analysis called user_plan_usage_subset"
   ]
  },
  {
   "cell_type": "code",
   "execution_count": 31,
   "metadata": {},
   "outputs": [
    {
     "data": {
      "text/html": [
       "<div>\n",
       "<style scoped>\n",
       "    .dataframe tbody tr th:only-of-type {\n",
       "        vertical-align: middle;\n",
       "    }\n",
       "\n",
       "    .dataframe tbody tr th {\n",
       "        vertical-align: top;\n",
       "    }\n",
       "\n",
       "    .dataframe thead th {\n",
       "        text-align: right;\n",
       "    }\n",
       "</style>\n",
       "<table border=\"1\" class=\"dataframe\">\n",
       "  <thead>\n",
       "    <tr style=\"text-align: right;\">\n",
       "      <th></th>\n",
       "      <th>user_id</th>\n",
       "      <th>active_month</th>\n",
       "      <th>NY_NJ</th>\n",
       "      <th>plan</th>\n",
       "      <th>usd_monthly_pay</th>\n",
       "      <th>minutes_included</th>\n",
       "      <th>mins_per_month_rounded</th>\n",
       "      <th>messages_included</th>\n",
       "      <th>messages_per_month</th>\n",
       "      <th>gb_per_month_included</th>\n",
       "      <th>gb_per_month_rounded</th>\n",
       "      <th>usd_per_minute</th>\n",
       "      <th>usd_per_message</th>\n",
       "      <th>usd_per_gb</th>\n",
       "      <th>gb_overage_cost</th>\n",
       "      <th>min_overage_cost</th>\n",
       "      <th>text_overage_cost</th>\n",
       "      <th>final_monthly_plan_cost</th>\n",
       "    </tr>\n",
       "  </thead>\n",
       "  <tbody>\n",
       "    <tr>\n",
       "      <th>0</th>\n",
       "      <td>1000</td>\n",
       "      <td>2018-12-01</td>\n",
       "      <td>Other</td>\n",
       "      <td>ultimate</td>\n",
       "      <td>70</td>\n",
       "      <td>3000</td>\n",
       "      <td>124</td>\n",
       "      <td>1000</td>\n",
       "      <td>12</td>\n",
       "      <td>30</td>\n",
       "      <td>2</td>\n",
       "      <td>0.01</td>\n",
       "      <td>0.01</td>\n",
       "      <td>7</td>\n",
       "      <td>0</td>\n",
       "      <td>0.00</td>\n",
       "      <td>0.00</td>\n",
       "      <td>70.00</td>\n",
       "    </tr>\n",
       "    <tr>\n",
       "      <th>1</th>\n",
       "      <td>1001</td>\n",
       "      <td>2018-12-01</td>\n",
       "      <td>Other</td>\n",
       "      <td>surf</td>\n",
       "      <td>20</td>\n",
       "      <td>500</td>\n",
       "      <td>412</td>\n",
       "      <td>50</td>\n",
       "      <td>72</td>\n",
       "      <td>15</td>\n",
       "      <td>19</td>\n",
       "      <td>0.03</td>\n",
       "      <td>0.03</td>\n",
       "      <td>10</td>\n",
       "      <td>40</td>\n",
       "      <td>0.00</td>\n",
       "      <td>0.66</td>\n",
       "      <td>60.66</td>\n",
       "    </tr>\n",
       "    <tr>\n",
       "      <th>2</th>\n",
       "      <td>1001</td>\n",
       "      <td>2018-08-01</td>\n",
       "      <td>Other</td>\n",
       "      <td>surf</td>\n",
       "      <td>20</td>\n",
       "      <td>500</td>\n",
       "      <td>182</td>\n",
       "      <td>50</td>\n",
       "      <td>29</td>\n",
       "      <td>15</td>\n",
       "      <td>7</td>\n",
       "      <td>0.03</td>\n",
       "      <td>0.03</td>\n",
       "      <td>10</td>\n",
       "      <td>0</td>\n",
       "      <td>0.00</td>\n",
       "      <td>0.00</td>\n",
       "      <td>20.00</td>\n",
       "    </tr>\n",
       "    <tr>\n",
       "      <th>3</th>\n",
       "      <td>1001</td>\n",
       "      <td>2018-10-01</td>\n",
       "      <td>Other</td>\n",
       "      <td>surf</td>\n",
       "      <td>20</td>\n",
       "      <td>500</td>\n",
       "      <td>393</td>\n",
       "      <td>50</td>\n",
       "      <td>61</td>\n",
       "      <td>15</td>\n",
       "      <td>22</td>\n",
       "      <td>0.03</td>\n",
       "      <td>0.03</td>\n",
       "      <td>10</td>\n",
       "      <td>70</td>\n",
       "      <td>0.00</td>\n",
       "      <td>0.33</td>\n",
       "      <td>90.33</td>\n",
       "    </tr>\n",
       "    <tr>\n",
       "      <th>4</th>\n",
       "      <td>1001</td>\n",
       "      <td>2018-11-01</td>\n",
       "      <td>Other</td>\n",
       "      <td>surf</td>\n",
       "      <td>20</td>\n",
       "      <td>500</td>\n",
       "      <td>426</td>\n",
       "      <td>50</td>\n",
       "      <td>55</td>\n",
       "      <td>15</td>\n",
       "      <td>19</td>\n",
       "      <td>0.03</td>\n",
       "      <td>0.03</td>\n",
       "      <td>10</td>\n",
       "      <td>40</td>\n",
       "      <td>0.00</td>\n",
       "      <td>0.15</td>\n",
       "      <td>60.15</td>\n",
       "    </tr>\n",
       "    <tr>\n",
       "      <th>5</th>\n",
       "      <td>1001</td>\n",
       "      <td>2018-09-01</td>\n",
       "      <td>Other</td>\n",
       "      <td>surf</td>\n",
       "      <td>20</td>\n",
       "      <td>500</td>\n",
       "      <td>315</td>\n",
       "      <td>50</td>\n",
       "      <td>44</td>\n",
       "      <td>15</td>\n",
       "      <td>14</td>\n",
       "      <td>0.03</td>\n",
       "      <td>0.03</td>\n",
       "      <td>10</td>\n",
       "      <td>0</td>\n",
       "      <td>0.00</td>\n",
       "      <td>0.00</td>\n",
       "      <td>20.00</td>\n",
       "    </tr>\n",
       "    <tr>\n",
       "      <th>6</th>\n",
       "      <td>1002</td>\n",
       "      <td>2018-12-01</td>\n",
       "      <td>Other</td>\n",
       "      <td>surf</td>\n",
       "      <td>20</td>\n",
       "      <td>500</td>\n",
       "      <td>384</td>\n",
       "      <td>50</td>\n",
       "      <td>70</td>\n",
       "      <td>15</td>\n",
       "      <td>15</td>\n",
       "      <td>0.03</td>\n",
       "      <td>0.03</td>\n",
       "      <td>10</td>\n",
       "      <td>0</td>\n",
       "      <td>0.00</td>\n",
       "      <td>0.60</td>\n",
       "      <td>20.60</td>\n",
       "    </tr>\n",
       "    <tr>\n",
       "      <th>7</th>\n",
       "      <td>1002</td>\n",
       "      <td>2018-10-01</td>\n",
       "      <td>Other</td>\n",
       "      <td>surf</td>\n",
       "      <td>20</td>\n",
       "      <td>500</td>\n",
       "      <td>59</td>\n",
       "      <td>50</td>\n",
       "      <td>9</td>\n",
       "      <td>15</td>\n",
       "      <td>7</td>\n",
       "      <td>0.03</td>\n",
       "      <td>0.03</td>\n",
       "      <td>10</td>\n",
       "      <td>0</td>\n",
       "      <td>0.00</td>\n",
       "      <td>0.00</td>\n",
       "      <td>20.00</td>\n",
       "    </tr>\n",
       "    <tr>\n",
       "      <th>8</th>\n",
       "      <td>1002</td>\n",
       "      <td>2018-11-01</td>\n",
       "      <td>Other</td>\n",
       "      <td>surf</td>\n",
       "      <td>20</td>\n",
       "      <td>500</td>\n",
       "      <td>386</td>\n",
       "      <td>50</td>\n",
       "      <td>17</td>\n",
       "      <td>15</td>\n",
       "      <td>19</td>\n",
       "      <td>0.03</td>\n",
       "      <td>0.03</td>\n",
       "      <td>10</td>\n",
       "      <td>40</td>\n",
       "      <td>0.00</td>\n",
       "      <td>0.00</td>\n",
       "      <td>60.00</td>\n",
       "    </tr>\n",
       "    <tr>\n",
       "      <th>9</th>\n",
       "      <td>1003</td>\n",
       "      <td>2018-12-01</td>\n",
       "      <td>Other</td>\n",
       "      <td>surf</td>\n",
       "      <td>20</td>\n",
       "      <td>500</td>\n",
       "      <td>1104</td>\n",
       "      <td>50</td>\n",
       "      <td>29</td>\n",
       "      <td>15</td>\n",
       "      <td>27</td>\n",
       "      <td>0.03</td>\n",
       "      <td>0.03</td>\n",
       "      <td>10</td>\n",
       "      <td>120</td>\n",
       "      <td>18.12</td>\n",
       "      <td>0.00</td>\n",
       "      <td>158.12</td>\n",
       "    </tr>\n",
       "    <tr>\n",
       "      <th>10</th>\n",
       "      <td>1003</td>\n",
       "      <td>2018-08-01</td>\n",
       "      <td>Other</td>\n",
       "      <td>surf</td>\n",
       "      <td>20</td>\n",
       "      <td>500</td>\n",
       "      <td>0</td>\n",
       "      <td>50</td>\n",
       "      <td>21</td>\n",
       "      <td>15</td>\n",
       "      <td>0</td>\n",
       "      <td>0.03</td>\n",
       "      <td>0.03</td>\n",
       "      <td>10</td>\n",
       "      <td>0</td>\n",
       "      <td>0.00</td>\n",
       "      <td>0.00</td>\n",
       "      <td>20.00</td>\n",
       "    </tr>\n",
       "    <tr>\n",
       "      <th>11</th>\n",
       "      <td>1003</td>\n",
       "      <td>2018-10-01</td>\n",
       "      <td>Other</td>\n",
       "      <td>surf</td>\n",
       "      <td>20</td>\n",
       "      <td>500</td>\n",
       "      <td>0</td>\n",
       "      <td>50</td>\n",
       "      <td>21</td>\n",
       "      <td>15</td>\n",
       "      <td>0</td>\n",
       "      <td>0.03</td>\n",
       "      <td>0.03</td>\n",
       "      <td>10</td>\n",
       "      <td>0</td>\n",
       "      <td>0.00</td>\n",
       "      <td>0.00</td>\n",
       "      <td>20.00</td>\n",
       "    </tr>\n",
       "    <tr>\n",
       "      <th>12</th>\n",
       "      <td>1003</td>\n",
       "      <td>2018-01-01</td>\n",
       "      <td>Other</td>\n",
       "      <td>surf</td>\n",
       "      <td>20</td>\n",
       "      <td>500</td>\n",
       "      <td>0</td>\n",
       "      <td>50</td>\n",
       "      <td>0</td>\n",
       "      <td>15</td>\n",
       "      <td>0</td>\n",
       "      <td>0.03</td>\n",
       "      <td>0.03</td>\n",
       "      <td>10</td>\n",
       "      <td>0</td>\n",
       "      <td>0.00</td>\n",
       "      <td>0.00</td>\n",
       "      <td>20.00</td>\n",
       "    </tr>\n",
       "    <tr>\n",
       "      <th>13</th>\n",
       "      <td>1003</td>\n",
       "      <td>2018-05-01</td>\n",
       "      <td>Other</td>\n",
       "      <td>surf</td>\n",
       "      <td>20</td>\n",
       "      <td>500</td>\n",
       "      <td>0</td>\n",
       "      <td>50</td>\n",
       "      <td>5</td>\n",
       "      <td>15</td>\n",
       "      <td>0</td>\n",
       "      <td>0.03</td>\n",
       "      <td>0.03</td>\n",
       "      <td>10</td>\n",
       "      <td>0</td>\n",
       "      <td>0.00</td>\n",
       "      <td>0.00</td>\n",
       "      <td>20.00</td>\n",
       "    </tr>\n",
       "    <tr>\n",
       "      <th>14</th>\n",
       "      <td>1003</td>\n",
       "      <td>2018-11-01</td>\n",
       "      <td>Other</td>\n",
       "      <td>surf</td>\n",
       "      <td>20</td>\n",
       "      <td>500</td>\n",
       "      <td>0</td>\n",
       "      <td>50</td>\n",
       "      <td>19</td>\n",
       "      <td>15</td>\n",
       "      <td>0</td>\n",
       "      <td>0.03</td>\n",
       "      <td>0.03</td>\n",
       "      <td>10</td>\n",
       "      <td>0</td>\n",
       "      <td>0.00</td>\n",
       "      <td>0.00</td>\n",
       "      <td>20.00</td>\n",
       "    </tr>\n",
       "    <tr>\n",
       "      <th>15</th>\n",
       "      <td>1003</td>\n",
       "      <td>2018-07-01</td>\n",
       "      <td>Other</td>\n",
       "      <td>surf</td>\n",
       "      <td>20</td>\n",
       "      <td>500</td>\n",
       "      <td>0</td>\n",
       "      <td>50</td>\n",
       "      <td>23</td>\n",
       "      <td>15</td>\n",
       "      <td>0</td>\n",
       "      <td>0.03</td>\n",
       "      <td>0.03</td>\n",
       "      <td>10</td>\n",
       "      <td>0</td>\n",
       "      <td>0.00</td>\n",
       "      <td>0.00</td>\n",
       "      <td>20.00</td>\n",
       "    </tr>\n",
       "    <tr>\n",
       "      <th>16</th>\n",
       "      <td>1003</td>\n",
       "      <td>2018-04-01</td>\n",
       "      <td>Other</td>\n",
       "      <td>surf</td>\n",
       "      <td>20</td>\n",
       "      <td>500</td>\n",
       "      <td>0</td>\n",
       "      <td>50</td>\n",
       "      <td>0</td>\n",
       "      <td>15</td>\n",
       "      <td>0</td>\n",
       "      <td>0.03</td>\n",
       "      <td>0.03</td>\n",
       "      <td>10</td>\n",
       "      <td>0</td>\n",
       "      <td>0.00</td>\n",
       "      <td>0.00</td>\n",
       "      <td>20.00</td>\n",
       "    </tr>\n",
       "    <tr>\n",
       "      <th>17</th>\n",
       "      <td>1003</td>\n",
       "      <td>2018-03-01</td>\n",
       "      <td>Other</td>\n",
       "      <td>surf</td>\n",
       "      <td>20</td>\n",
       "      <td>500</td>\n",
       "      <td>0</td>\n",
       "      <td>50</td>\n",
       "      <td>0</td>\n",
       "      <td>15</td>\n",
       "      <td>0</td>\n",
       "      <td>0.03</td>\n",
       "      <td>0.03</td>\n",
       "      <td>10</td>\n",
       "      <td>0</td>\n",
       "      <td>0.00</td>\n",
       "      <td>0.00</td>\n",
       "      <td>20.00</td>\n",
       "    </tr>\n",
       "    <tr>\n",
       "      <th>18</th>\n",
       "      <td>1003</td>\n",
       "      <td>2018-06-01</td>\n",
       "      <td>Other</td>\n",
       "      <td>surf</td>\n",
       "      <td>20</td>\n",
       "      <td>500</td>\n",
       "      <td>0</td>\n",
       "      <td>50</td>\n",
       "      <td>15</td>\n",
       "      <td>15</td>\n",
       "      <td>0</td>\n",
       "      <td>0.03</td>\n",
       "      <td>0.03</td>\n",
       "      <td>10</td>\n",
       "      <td>0</td>\n",
       "      <td>0.00</td>\n",
       "      <td>0.00</td>\n",
       "      <td>20.00</td>\n",
       "    </tr>\n",
       "    <tr>\n",
       "      <th>19</th>\n",
       "      <td>1003</td>\n",
       "      <td>2018-02-01</td>\n",
       "      <td>Other</td>\n",
       "      <td>surf</td>\n",
       "      <td>20</td>\n",
       "      <td>500</td>\n",
       "      <td>0</td>\n",
       "      <td>50</td>\n",
       "      <td>0</td>\n",
       "      <td>15</td>\n",
       "      <td>0</td>\n",
       "      <td>0.03</td>\n",
       "      <td>0.03</td>\n",
       "      <td>10</td>\n",
       "      <td>0</td>\n",
       "      <td>0.00</td>\n",
       "      <td>0.00</td>\n",
       "      <td>20.00</td>\n",
       "    </tr>\n",
       "  </tbody>\n",
       "</table>\n",
       "</div>"
      ],
      "text/plain": [
       "   user_id active_month  NY_NJ      plan  usd_monthly_pay  minutes_included  \\\n",
       "0     1000   2018-12-01  Other  ultimate               70              3000   \n",
       "1     1001   2018-12-01  Other      surf               20               500   \n",
       "2     1001   2018-08-01  Other      surf               20               500   \n",
       "3     1001   2018-10-01  Other      surf               20               500   \n",
       "4     1001   2018-11-01  Other      surf               20               500   \n",
       "5     1001   2018-09-01  Other      surf               20               500   \n",
       "6     1002   2018-12-01  Other      surf               20               500   \n",
       "7     1002   2018-10-01  Other      surf               20               500   \n",
       "8     1002   2018-11-01  Other      surf               20               500   \n",
       "9     1003   2018-12-01  Other      surf               20               500   \n",
       "10    1003   2018-08-01  Other      surf               20               500   \n",
       "11    1003   2018-10-01  Other      surf               20               500   \n",
       "12    1003   2018-01-01  Other      surf               20               500   \n",
       "13    1003   2018-05-01  Other      surf               20               500   \n",
       "14    1003   2018-11-01  Other      surf               20               500   \n",
       "15    1003   2018-07-01  Other      surf               20               500   \n",
       "16    1003   2018-04-01  Other      surf               20               500   \n",
       "17    1003   2018-03-01  Other      surf               20               500   \n",
       "18    1003   2018-06-01  Other      surf               20               500   \n",
       "19    1003   2018-02-01  Other      surf               20               500   \n",
       "\n",
       "    mins_per_month_rounded  messages_included  messages_per_month  \\\n",
       "0                      124               1000                  12   \n",
       "1                      412                 50                  72   \n",
       "2                      182                 50                  29   \n",
       "3                      393                 50                  61   \n",
       "4                      426                 50                  55   \n",
       "5                      315                 50                  44   \n",
       "6                      384                 50                  70   \n",
       "7                       59                 50                   9   \n",
       "8                      386                 50                  17   \n",
       "9                     1104                 50                  29   \n",
       "10                       0                 50                  21   \n",
       "11                       0                 50                  21   \n",
       "12                       0                 50                   0   \n",
       "13                       0                 50                   5   \n",
       "14                       0                 50                  19   \n",
       "15                       0                 50                  23   \n",
       "16                       0                 50                   0   \n",
       "17                       0                 50                   0   \n",
       "18                       0                 50                  15   \n",
       "19                       0                 50                   0   \n",
       "\n",
       "    gb_per_month_included  gb_per_month_rounded  usd_per_minute  \\\n",
       "0                      30                     2            0.01   \n",
       "1                      15                    19            0.03   \n",
       "2                      15                     7            0.03   \n",
       "3                      15                    22            0.03   \n",
       "4                      15                    19            0.03   \n",
       "5                      15                    14            0.03   \n",
       "6                      15                    15            0.03   \n",
       "7                      15                     7            0.03   \n",
       "8                      15                    19            0.03   \n",
       "9                      15                    27            0.03   \n",
       "10                     15                     0            0.03   \n",
       "11                     15                     0            0.03   \n",
       "12                     15                     0            0.03   \n",
       "13                     15                     0            0.03   \n",
       "14                     15                     0            0.03   \n",
       "15                     15                     0            0.03   \n",
       "16                     15                     0            0.03   \n",
       "17                     15                     0            0.03   \n",
       "18                     15                     0            0.03   \n",
       "19                     15                     0            0.03   \n",
       "\n",
       "    usd_per_message  usd_per_gb  gb_overage_cost  min_overage_cost  \\\n",
       "0              0.01           7                0              0.00   \n",
       "1              0.03          10               40              0.00   \n",
       "2              0.03          10                0              0.00   \n",
       "3              0.03          10               70              0.00   \n",
       "4              0.03          10               40              0.00   \n",
       "5              0.03          10                0              0.00   \n",
       "6              0.03          10                0              0.00   \n",
       "7              0.03          10                0              0.00   \n",
       "8              0.03          10               40              0.00   \n",
       "9              0.03          10              120             18.12   \n",
       "10             0.03          10                0              0.00   \n",
       "11             0.03          10                0              0.00   \n",
       "12             0.03          10                0              0.00   \n",
       "13             0.03          10                0              0.00   \n",
       "14             0.03          10                0              0.00   \n",
       "15             0.03          10                0              0.00   \n",
       "16             0.03          10                0              0.00   \n",
       "17             0.03          10                0              0.00   \n",
       "18             0.03          10                0              0.00   \n",
       "19             0.03          10                0              0.00   \n",
       "\n",
       "    text_overage_cost  final_monthly_plan_cost  \n",
       "0                0.00                    70.00  \n",
       "1                0.66                    60.66  \n",
       "2                0.00                    20.00  \n",
       "3                0.33                    90.33  \n",
       "4                0.15                    60.15  \n",
       "5                0.00                    20.00  \n",
       "6                0.60                    20.60  \n",
       "7                0.00                    20.00  \n",
       "8                0.00                    60.00  \n",
       "9                0.00                   158.12  \n",
       "10               0.00                    20.00  \n",
       "11               0.00                    20.00  \n",
       "12               0.00                    20.00  \n",
       "13               0.00                    20.00  \n",
       "14               0.00                    20.00  \n",
       "15               0.00                    20.00  \n",
       "16               0.00                    20.00  \n",
       "17               0.00                    20.00  \n",
       "18               0.00                    20.00  \n",
       "19               0.00                    20.00  "
      ]
     },
     "execution_count": 31,
     "metadata": {},
     "output_type": "execute_result"
    }
   ],
   "source": [
    "# Calculate the monthly revenue for each user\n",
    "\n",
    "# First take a subset of columns that will be used in the analysis\n",
    "user_plan_usage_subset = monthly_plan_usage = monthly_plan_usage[['user_id','active_month','NY_NJ','plan','usd_monthly_pay','minutes_included','mins_per_month_rounded','messages_included','messages_per_month','gb_per_month_included','gb_per_month_rounded', 'usd_per_minute','usd_per_message','usd_per_gb']]\n",
    "\n",
    "# Determine overages for minutes, texts, and gb per user/month\n",
    "\n",
    "# Define function for cost on overages on gigabytes\n",
    "def gb_overage(plan_info):\n",
    "    if plan_info['gb_per_month_included'] - plan_info['gb_per_month_rounded'] < 0:\n",
    "        return abs((plan_info['gb_per_month_included'] - plan_info['gb_per_month_rounded']) * plan_info['usd_per_gb'])\n",
    "    else:\n",
    "        return 0\n",
    "\n",
    "# Define function for cost on overages on minutes\n",
    "def min_overage(plan_info):\n",
    "    if plan_info['minutes_included'] - plan_info['mins_per_month_rounded'] < 0:\n",
    "        return abs((plan_info['minutes_included'] - plan_info['mins_per_month_rounded']) * plan_info['usd_per_minute'])\n",
    "    else:\n",
    "        return 0\n",
    "    \n",
    "# Define function for cost on overages on texts\n",
    "def text_overage(plan_info):\n",
    "    if plan_info['messages_included'] - plan_info['messages_per_month'] < 0:\n",
    "        return abs((plan_info['messages_included'] - plan_info['messages_per_month']) * plan_info['usd_per_message'])\n",
    "    else:\n",
    "        return 0\n",
    "\n",
    "# Calculate cost for gb overages\n",
    "user_plan_usage_subset['gb_overage_cost'] = user_plan_usage_subset[['gb_per_month_included','gb_per_month_rounded','usd_per_gb']].apply(gb_overage,axis = 1)\n",
    "\n",
    "# Calculate cost for min overages\n",
    "user_plan_usage_subset['min_overage_cost'] = user_plan_usage_subset[['minutes_included','mins_per_month_rounded','usd_per_minute']].apply(min_overage,axis = 1)\n",
    "\n",
    "# Calculate cost for text overages\n",
    "user_plan_usage_subset['text_overage_cost'] = user_plan_usage_subset[['messages_included','messages_per_month','usd_per_message']].apply(text_overage,axis = 1)\n",
    "\n",
    "# Create field sums up all of the monthly costs for each per user - base plan and overages\n",
    "user_plan_usage_subset['final_monthly_plan_cost'] = user_plan_usage_subset[['usd_monthly_pay','gb_overage_cost','text_overage_cost','min_overage_cost']].sum(axis=1)\n",
    "\n",
    "# Check a few rows to see if the calculation looks accurate\n",
    "user_plan_usage_subset.head(20)"
   ]
  },
  {
   "cell_type": "markdown",
   "metadata": {},
   "source": [
    "## Study User Behaviour"
   ]
  },
  {
   "cell_type": "markdown",
   "metadata": {},
   "source": [
    "In section 1.11, I will be performing some useful descriptive statistics for the aggregated and merged data and visualizing the results. I will be performing the same exercise for calls, messages, internet usage, and revenue."
   ]
  },
  {
   "cell_type": "markdown",
   "metadata": {},
   "source": [
    "### Calls"
   ]
  },
  {
   "cell_type": "code",
   "execution_count": 32,
   "metadata": {},
   "outputs": [
    {
     "data": {
      "text/plain": [
       "777"
      ]
     },
     "execution_count": 32,
     "metadata": {},
     "output_type": "execute_result"
    }
   ],
   "source": [
    "# Compare average duration of calls per each plan per each distinct month. Plot a bar plat to visualize it.\n",
    "\n",
    "# SURF - Create a df of average duration/mins by call month and plan\n",
    "monthly_duration_by_plan_surf = user_plan_usage_subset[user_plan_usage_subset['plan']=='surf'].groupby('active_month')['mins_per_month_rounded'].mean().to_frame(name='surf_mins_per_month').reset_index()\n",
    "\n",
    "# ULTIMATE - Create a df of average duration/mins by call month and plan\n",
    "monthly_duration_by_plan_ultimate = user_plan_usage_subset[user_plan_usage_subset['plan']=='ultimate'].groupby('active_month')['mins_per_month_rounded'].mean().to_frame(name='ultimate_mins_per_month').reset_index()\n",
    "\n",
    "# Merge both dataframes to get data in format suitable for plotting\n",
    "monthly_duration_by_plan_merged = monthly_duration_by_plan_surf.merge(monthly_duration_by_plan_ultimate, how='left', on='active_month')\n",
    "\n",
    "# Change call_month date format to be %m/%d/%Y \n",
    "monthly_duration_by_plan_merged['active_month'] = monthly_duration_by_plan_merged['active_month'].dt.strftime(\"%m/%d/%Y\")\n",
    "\n",
    "777"
   ]
  },
  {
   "cell_type": "markdown",
   "metadata": {},
   "source": [
    "With the exception of January and February 2018 (and barely October 2018), on average, users on the surf plan spend more time on phone calls than users on the ultimate plan. In the exception months I highlighted above, on average, users on the ultimate plan spend more time on phone calls than users on the surf plan. "
   ]
  },
  {
   "cell_type": "code",
   "execution_count": 33,
   "metadata": {},
   "outputs": [
    {
     "data": {
      "image/png": "[encoded data removed]",
      "text/plain": [
       "<Figure size 640x480 with 1 Axes>"
      ]
     },
     "metadata": {},
     "output_type": "display_data"
    }
   ],
   "source": [
    "# Compare the number of minutes users of each plan require each month. Plot a histogram.\n",
    "\n",
    "# Get mins per user per month for surf plan \n",
    "user_plan_usage_subset[user_plan_usage_subset['plan'] == 'surf']['mins_per_month_rounded'].plot(kind='hist', bins=30)\n",
    "\n",
    "# Get mins per user per month for surf ultimate plan  \n",
    "# Include an alpha value so we can fully see both histograms\n",
    "user_plan_usage_subset[user_plan_usage_subset['plan'] == 'ultimate']['mins_per_month_rounded'].plot(kind='hist', bins=30, alpha=0.8)\n",
    "\n",
    "# Set legend values\n",
    "plt.legend(['Surf', 'Ultimate'])\n",
    "\n",
    "# Set Axis and Title\n",
    "plt.xlabel('Minutes')\n",
    "plt.ylabel('Count of Users')\n",
    "plt.title('Number of Minutes Users of Each Plan Require Per Month')\n",
    "\n",
    "# Plot Histogram\n",
    "plt.show()\n"
   ]
  },
  {
   "cell_type": "markdown",
   "metadata": {},
   "source": [
    "The disttribution of minutes users use look similiar across the plans, however, there are more users on the surf plan than the ultimate plan. From the distribution, it looks like there are more users will need to pay overages on the surf plan because it only includes 500 minutes where as the ultimate plan includes 3000 mins per month, and no one is exceeding that in the 2018 data. "
   ]
  },
  {
   "cell_type": "code",
   "execution_count": 34,
   "metadata": {},
   "outputs": [
    {
     "name": "stdout",
     "output_type": "stream",
     "text": [
      "For the Surf plan, the mean monthly call duration was 296.07 and the variance is 77480.1\n",
      "For the Ultimate plan, the mean monthly call duration was 284.36 and the variance is 79790.24\n"
     ]
    }
   ],
   "source": [
    "# Calculate the mean and the variable of the call duration to reason on whether users on the different plans have different behaviours for their calls.\n",
    "# Calculate the mean and the variance of the monthly call duration\n",
    "\n",
    "# Calculate the mean and variance of surf\n",
    "surf_mean = user_plan_usage_subset[user_plan_usage_subset['plan'] == 'surf']['mins_per_month_rounded'].mean()\n",
    "surf_variance = np.var(user_plan_usage_subset[user_plan_usage_subset['plan'] == 'surf']['mins_per_month_rounded'])\n",
    "\n",
    "# Calculate the mean and variance of ultimate\n",
    "ultimate_mean = user_plan_usage_subset[user_plan_usage_subset['plan'] == 'ultimate']['mins_per_month_rounded'].mean()\n",
    "ultimate_variance = np.var(user_plan_usage_subset[user_plan_usage_subset['plan'] == 'ultimate']['mins_per_month_rounded'])\n",
    "\n",
    "# Print Results\n",
    "print('For the Surf plan, the mean monthly call duration was',round(surf_mean,2), 'and the variance is',round(surf_variance,2))\n",
    "print('For the Ultimate plan, the mean monthly call duration was',round(ultimate_mean,2), 'and the variance is',round(ultimate_variance,2))"
   ]
  },
  {
   "cell_type": "markdown",
   "metadata": {},
   "source": [
    "Users on the surf plan on average have a higher monthly call duration than users on the ultimate plan "
   ]
  },
  {
   "cell_type": "code",
   "execution_count": 35,
   "metadata": {},
   "outputs": [
    {
     "data": {
      "image/png": "[encoded data removed]",
      "text/plain": [
       "<Figure size 640x480 with 1 Axes>"
      ]
     },
     "metadata": {},
     "output_type": "display_data"
    }
   ],
   "source": [
    "# Plot a boxplot to visualize the distribution of the monthly call duration\n",
    "\n",
    "# Create df with duration by plan for all months combined \n",
    "call_duration = user_plan_usage_subset.pivot(columns='plan', values='mins_per_month_rounded').fillna(0)\n",
    "\n",
    "# Add series label names\n",
    "plt.boxplot(call_duration, labels = ['Surf','Ultimate'])\n",
    "\n",
    "# Add title \n",
    "plt.title(\"Distribution of Call Duration Per Plan\")\n",
    "\n",
    "# Plot boxplot\n",
    "plt.show()"
   ]
  },
  {
   "cell_type": "markdown",
   "metadata": {},
   "source": [
    "In terms of the distribution of calls, it seems like users with 0 mins used in call duration is skewing the results, but regardless of the skew, those on the surf plan have a monthly and overall high call duration than those on the ultimate plan. "
   ]
  },
  {
   "cell_type": "markdown",
   "metadata": {},
   "source": [
    "### Messages"
   ]
  },
  {
   "cell_type": "code",
   "execution_count": 36,
   "metadata": {},
   "outputs": [
    {
     "data": {
      "image/png": "[encoded data removed]",
      "text/plain": [
       "<Figure size 2500x1000 with 1 Axes>"
      ]
     },
     "metadata": {},
     "output_type": "display_data"
    }
   ],
   "source": [
    "# Compare the number of messages users of each plan tend to send each month\n",
    "\n",
    "# SURF - Create a df of sum of messages sent by call month and plan\n",
    "monthly_messages_by_plan_surf = user_plan_usage_subset[user_plan_usage_subset['plan']=='surf'].groupby('active_month')['messages_per_month'].mean().to_frame(name='avg_surf_messages_sent_per_month').reset_index()\n",
    "\n",
    "# ULTIMATE - Create a df of sum of messages sent by call month and plan\n",
    "monthly_messages_by_plan_ultimate = user_plan_usage_subset[user_plan_usage_subset['plan']=='ultimate'].groupby('active_month')['messages_per_month'].mean().to_frame(name='avg_ultimate_messages_sent_per_month').reset_index()\n",
    "\n",
    "# Merge both dataframes to get data in format suitable for plotting\n",
    "monthly_messages_by_plan_merged = monthly_messages_by_plan_surf.merge(monthly_messages_by_plan_ultimate, how='left', on='active_month')\n",
    "\n",
    "# Change call_month date format to be %m/%d/%Y \n",
    "monthly_messages_by_plan_merged['active_month'] = monthly_messages_by_plan_merged['active_month'].dt.strftime(\"%m/%d/%Y\")\n",
    "\n",
    "\n",
    "# Plot bar chart for monthly metrics\n",
    "# Set configs for bar chart \n",
    "monthly_messages_by_plan_merged.plot(x = 'active_month'\n",
    "                                     , y = ['avg_surf_messages_sent_per_month','avg_ultimate_messages_sent_per_month']\n",
    "                                     , title = 'Average Monthly Messages Sent Per User By Plan'\n",
    "                                     , xlabel = 'Month of Texts'\n",
    "                                     , ylabel = 'Avg Number of Texts Sent Per User'\n",
    "                                     , kind = 'bar'\n",
    "                                     , rot = 0\n",
    "                                     , figsize=(25,10)\n",
    "                                     )\n",
    "\n",
    "# Change legend/series titles\n",
    "plt.legend(['Surf - Monthly Avg Text Sent Per User','Ultimate - Monthly Avg Text Sent Per User'])\n",
    "\n",
    "# Show bar chart\n",
    "plt.show() "
   ]
  },
  {
   "cell_type": "markdown",
   "metadata": {},
   "source": [
    "With the exception of May and December, those on the ultimate plan on average send more text messages per month"
   ]
  },
  {
   "cell_type": "code",
   "execution_count": 37,
   "metadata": {},
   "outputs": [
    {
     "data": {
      "image/png": "[encoded data removed]",
      "text/plain": [
       "<Figure size 640x480 with 1 Axes>"
      ]
     },
     "metadata": {},
     "output_type": "display_data"
    }
   ],
   "source": [
    "# Compare the number of messages users of each plan require each month. Plot a histogram.\n",
    "\n",
    "# Get messages per user per month for surf plan \n",
    "user_plan_usage_subset[user_plan_usage_subset['plan'] == 'surf']['messages_per_month'].plot(kind='hist', bins=30)\n",
    "\n",
    "# Get messages per user per month for surf ultimate plan  \n",
    "# Include an alpha value so we can fully see both histograms\n",
    "user_plan_usage_subset[user_plan_usage_subset['plan'] == 'ultimate']['messages_per_month'].plot(kind='hist', bins=30, alpha=0.8)\n",
    "\n",
    "# Set legend values\n",
    "plt.legend(['Surf', 'Ultimate'])\n",
    "\n",
    "# Set Axis and Title\n",
    "plt.xlabel('Messages')\n",
    "plt.ylabel('Count of Users')\n",
    "plt.title('Number of Messages Users of Each Plan Require Per Month')\n",
    "\n",
    "# Plot Histogram\n",
    "plt.show()"
   ]
  },
  {
   "cell_type": "markdown",
   "metadata": {},
   "source": [
    "While those on the ultimate plan send more texts, these users have 1000 messages included in their plan so they don't ever exceed this value looking at all of the 2018 data"
   ]
  },
  {
   "cell_type": "code",
   "execution_count": 38,
   "metadata": {},
   "outputs": [
    {
     "name": "stdout",
     "output_type": "stream",
     "text": [
      "For the Surf plan, the mean monthly messages sent was 20.65 and the variance is 1262.64\n",
      "For the Ultimate plan, the mean monthly messages sent was 20.79 and the variance is 1700.94\n"
     ]
    }
   ],
   "source": [
    "# Calculate the mean and the variance of the monthly messages sent\n",
    "\n",
    "# Calculate the mean and variance of surf\n",
    "surf_mean = user_plan_usage_subset[user_plan_usage_subset['plan'] == 'surf']['messages_per_month'].mean()\n",
    "surf_variance = np.var(user_plan_usage_subset[user_plan_usage_subset['plan'] == 'surf']['messages_per_month'])\n",
    "\n",
    "# Calculate the mean and variance of ultimate\n",
    "ultimate_mean = user_plan_usage_subset[user_plan_usage_subset['plan'] == 'ultimate']['messages_per_month'].mean()\n",
    "ultimate_variance = np.var(user_plan_usage_subset[user_plan_usage_subset['plan'] == 'ultimate']['messages_per_month'])\n",
    "\n",
    "# Print Results\n",
    "print('For the Surf plan, the mean monthly messages sent was',round(surf_mean,2), 'and the variance is',round(surf_variance,2))\n",
    "print('For the Ultimate plan, the mean monthly messages sent was',round(ultimate_mean,2), 'and the variance is',round(ultimate_variance,2))"
   ]
  },
  {
   "cell_type": "code",
   "execution_count": 39,
   "metadata": {},
   "outputs": [
    {
     "data": {
      "image/png": "[encoded data removed]",
      "text/plain": [
       "<Figure size 640x480 with 1 Axes>"
      ]
     },
     "metadata": {},
     "output_type": "display_data"
    }
   ],
   "source": [
    "# Plot a boxplot to visualize the distribution of the monthly messages sent\n",
    "\n",
    "# Create df with messages sent by plan for all months combined \n",
    "messages_sent = user_plan_usage_subset.pivot(columns='plan', values='messages_per_month').fillna(0)\n",
    "\n",
    "# Add series label names\n",
    "plt.boxplot(messages_sent, labels = ['Surf','Ultimate'])\n",
    "\n",
    "# Add title \n",
    "plt.title(\"Distribution of Messages Sent Per Plan\")\n",
    "\n",
    "# Plot boxplot\n",
    "plt.show()"
   ]
  },
  {
   "cell_type": "markdown",
   "metadata": {},
   "source": [
    "Those on the ultimate plan tend to send more messages a month on average compared to those on the surf plan. The number of users with 0 messages is skewing the results to appear as though the means are near equal in terms of averages messages sent per month. "
   ]
  },
  {
   "cell_type": "markdown",
   "metadata": {},
   "source": [
    " "
   ]
  },
  {
   "cell_type": "markdown",
   "metadata": {},
   "source": [
    "### Internet"
   ]
  },
  {
   "cell_type": "code",
   "execution_count": 40,
   "metadata": {},
   "outputs": [
    {
     "data": {
      "image/png": "[encoded data removed]",
      "text/plain": [
       "<Figure size 2500x1000 with 1 Axes>"
      ]
     },
     "metadata": {},
     "output_type": "display_data"
    }
   ],
   "source": [
    "# Compare the amount of internet traffic consumed by users per plan\n",
    "\n",
    "# SURF - Create a df of avg gbs used per month and plan\n",
    "monthly_gb_by_plan_surf = user_plan_usage_subset[user_plan_usage_subset['plan']=='surf'].groupby('active_month')['gb_per_month_rounded'].mean().to_frame(name='avg_surf_gb_used_per_month').reset_index()\n",
    "\n",
    "# ULTIMATE - Create a df of avg gbs used per month and plan\n",
    "monthly_gb_by_plan_ultimate = user_plan_usage_subset[user_plan_usage_subset['plan']=='ultimate'].groupby('active_month')['gb_per_month_rounded'].mean().to_frame(name='avg_ultimate_gb_used_per_month').reset_index()\n",
    "\n",
    "# Merge both dataframes to get data in format suitable for plotting\n",
    "monthly_gb_by_plan_merged = monthly_gb_by_plan_surf.merge(monthly_gb_by_plan_ultimate, how='left', on='active_month')\n",
    "\n",
    "# Change call_month date format to be %m/%d/%Y \n",
    "monthly_gb_by_plan_merged['active_month'] = monthly_gb_by_plan_merged['active_month'].dt.strftime(\"%m/%d/%Y\")\n",
    "\n",
    "\n",
    "# Plot bar chart for monthly metrics\n",
    "# Set configs for bar chart \n",
    "monthly_gb_by_plan_merged.plot(x = 'active_month'\n",
    "                               , y = ['avg_surf_gb_used_per_month','avg_ultimate_gb_used_per_month']\n",
    "                               , title = 'Average Monthly Gigabytes Used Per User By Plan'\n",
    "                               , xlabel = 'Month'\n",
    "                               , ylabel = 'Avg Gigabytes Used Per User'\n",
    "                               , kind = 'bar'\n",
    "                               , rot = 0\n",
    "                               , figsize=(25,10)\n",
    "                               )\n",
    "\n",
    "# Change legend/series titles\n",
    "plt.legend(['Surf - Monthly Avg GBs Used Per User','Ultimate - Monthly Avg GBs Used Per User'])\n",
    "\n",
    "# Show bar chart\n",
    "plt.show() "
   ]
  },
  {
   "cell_type": "markdown",
   "metadata": {},
   "source": [
    "It appears that internet consumption increases throughout 2018. In the later half of the year, on average, Ulitmate users use more GBs of data for internet usage. "
   ]
  },
  {
   "cell_type": "code",
   "execution_count": 41,
   "metadata": {},
   "outputs": [
    {
     "data": {
      "image/png": "[encoded data removed]",
      "text/plain": [
       "<Figure size 640x480 with 1 Axes>"
      ]
     },
     "metadata": {},
     "output_type": "display_data"
    }
   ],
   "source": [
    "# Compare the amount of GBs users of each plan require each month. Plot a histogram.\n",
    "\n",
    "# Get GBs per user per month for surf plan \n",
    "user_plan_usage_subset[user_plan_usage_subset['plan'] == 'surf']['gb_per_month_rounded'].plot(kind='hist', bins=30)\n",
    "\n",
    "# Get GBs per user per month for surf ultimate plan  \n",
    "# Include an alpha value so we can fully see both histograms\n",
    "user_plan_usage_subset[user_plan_usage_subset['plan'] == 'ultimate']['gb_per_month_rounded'].plot(kind='hist', bins=30, alpha=0.8)\n",
    "\n",
    "# Set legend values\n",
    "plt.legend(['Surf', 'Ultimate'])\n",
    "\n",
    "# Set Axis and Title\n",
    "plt.xlabel('Gigabytes')\n",
    "plt.ylabel('Count of Users')\n",
    "plt.title('Amount of Gigabytes Users of Each Plan Require Per Month')\n",
    "\n",
    "# Plot Histogram\n",
    "plt.show()"
   ]
  },
  {
   "cell_type": "markdown",
   "metadata": {},
   "source": [
    "The distribution looks similiar between users of both plans, but there are more ultimate users using internet than surf plan users"
   ]
  },
  {
   "cell_type": "code",
   "execution_count": 42,
   "metadata": {},
   "outputs": [
    {
     "name": "stdout",
     "output_type": "stream",
     "text": [
      "For the Surf plan, the mean monthly gigabytes used was 11.51 and the variance is 101.82\n",
      "For the Ultimate plan, the mean monthly gigabytes used was 11.46 and the variance is 106.47\n"
     ]
    }
   ],
   "source": [
    "# Calculate the mean and the variance of the monthly gigabytes used\n",
    "\n",
    "# Calculate the mean and variance of surf\n",
    "surf_mean = user_plan_usage_subset[user_plan_usage_subset['plan'] == 'surf']['gb_per_month_rounded'].mean()\n",
    "surf_variance = np.var(user_plan_usage_subset[user_plan_usage_subset['plan'] == 'surf']['gb_per_month_rounded'])\n",
    "\n",
    "# Calculate the mean and variance of ultimate\n",
    "ultimate_mean = user_plan_usage_subset[user_plan_usage_subset['plan'] == 'ultimate']['gb_per_month_rounded'].mean()\n",
    "ultimate_variance = np.var(user_plan_usage_subset[user_plan_usage_subset['plan'] == 'ultimate']['gb_per_month_rounded'])\n",
    "\n",
    "# Print Results\n",
    "print('For the Surf plan, the mean monthly gigabytes used was',round(surf_mean,2), 'and the variance is',round(surf_variance,2))\n",
    "print('For the Ultimate plan, the mean monthly gigabytes used was',round(ultimate_mean,2), 'and the variance is',round(ultimate_variance,2))"
   ]
  },
  {
   "cell_type": "code",
   "execution_count": 43,
   "metadata": {},
   "outputs": [
    {
     "data": {
      "image/png": "[encoded data removed]",
      "text/plain": [
       "<Figure size 640x480 with 1 Axes>"
      ]
     },
     "metadata": {},
     "output_type": "display_data"
    }
   ],
   "source": [
    "# Plot a boxplot to visualize the distribution of the gbs used \n",
    "\n",
    "# Create df with GBs used per plan for all months combined \n",
    "messages_sent = user_plan_usage_subset.pivot(columns='plan', values='gb_per_month_rounded').fillna(0)\n",
    "\n",
    "# Add series label names\n",
    "plt.boxplot(messages_sent, labels = ['Surf','Ultimate'])\n",
    "\n",
    "# Add title \n",
    "plt.title(\"Distribution of Gigabytes Used Per Plan\")\n",
    "\n",
    "# Plot boxplot\n",
    "plt.show()"
   ]
  },
  {
   "cell_type": "markdown",
   "metadata": {},
   "source": [
    "There are more users on the ultimate plan using internet compared to the surf plan and these ultimate plan users tend to use more GBs that surf plan users"
   ]
  },
  {
   "cell_type": "markdown",
   "metadata": {},
   "source": [
    "## Revenue"
   ]
  },
  {
   "cell_type": "markdown",
   "metadata": {},
   "source": [
    "This section will look into the difference between the two groups in terms of revenue"
   ]
  },
  {
   "cell_type": "code",
   "execution_count": 44,
   "metadata": {},
   "outputs": [
    {
     "data": {
      "image/png": "[encoded data removed]",
      "text/plain": [
       "<Figure size 2500x1000 with 1 Axes>"
      ]
     },
     "metadata": {},
     "output_type": "display_data"
    }
   ],
   "source": [
    "# Compare the amount of internet traffic consumed by users per plan\n",
    "\n",
    "# SURF - Create a df of avg gbs used per month and plan\n",
    "monthly_rev_by_plan_surf = user_plan_usage_subset[user_plan_usage_subset['plan']=='surf'].groupby('active_month')['final_monthly_plan_cost'].mean().to_frame(name='avg_surf_rev_per_month').reset_index()\n",
    "\n",
    "# ULTIMATE - Create a df of avg gbs used per month and plan\n",
    "monthly_rev_by_plan_ultimate = user_plan_usage_subset[user_plan_usage_subset['plan']=='ultimate'].groupby('active_month')['final_monthly_plan_cost'].mean().to_frame(name='avg_ultimate_rev_per_month').reset_index()\n",
    "\n",
    "# Merge both dataframes to get data in format suitable for plotting\n",
    "monthly_revenue_by_plan_merged = monthly_rev_by_plan_surf.merge(monthly_rev_by_plan_ultimate, how='left', on='active_month')\n",
    "\n",
    "# Change call_month date format to be %m/%d/%Y \n",
    "monthly_revenue_by_plan_merged['active_month'] = monthly_revenue_by_plan_merged['active_month'].dt.strftime(\"%m/%d/%Y\")\n",
    "\n",
    "\n",
    "# Plot bar chart for monthly metrics\n",
    "# Set configs for bar chart \n",
    "monthly_revenue_by_plan_merged.plot(x = 'active_month'\n",
    "                                    , y = ['avg_surf_rev_per_month','avg_ultimate_rev_per_month']\n",
    "                                    , title = 'Average Monthly Revenue Per User By Plan'\n",
    "                                    , xlabel = 'Month'\n",
    "                                    , ylabel = 'Avg Dollars Spent Per User'\n",
    "                                    , kind = 'bar'\n",
    "                                    , rot = 0\n",
    "                                    , figsize=(25,10)\n",
    "                                    )\n",
    "\n",
    "# Change legend/series titles\n",
    "plt.legend(['Surf - Monthly Avg Spend Per User','Ultimate - Monthly Avg Spend Used Per User'])\n",
    "\n",
    "# Show bar chart\n",
    "plt.show() "
   ]
  },
  {
   "cell_type": "markdown",
   "metadata": {},
   "source": [
    "Those users who are on the ulimate plan hover around $70 a month in terms of monthly payments. Users on the surf plan pay an initual plan fee of 20, but we see most months nearly double or exceed that 20 due to overages on call minutes, messages, or internet usage."
   ]
  },
  {
   "cell_type": "code",
   "execution_count": 45,
   "metadata": {},
   "outputs": [
    {
     "data": {
      "image/png": "[encoded data removed]",
      "text/plain": [
       "<Figure size 640x480 with 1 Axes>"
      ]
     },
     "metadata": {},
     "output_type": "display_data"
    }
   ],
   "source": [
    "# Compare the amount of spent for each plan each month. Plot a histogram.\n",
    "\n",
    "# Get spend per user per month for surf plan \n",
    "user_plan_usage_subset[user_plan_usage_subset['plan'] == 'surf']['final_monthly_plan_cost'].plot(kind='hist', bins=10)\n",
    "\n",
    "# Get spend per user per month for surf ultimate plan  \n",
    "# Include an alpha value so we can fully see both histograms\n",
    "user_plan_usage_subset[user_plan_usage_subset['plan'] == 'ultimate']['final_monthly_plan_cost'].plot(kind='hist', bins=10, alpha=0.8)\n",
    "\n",
    "# Set legend values\n",
    "plt.legend(['Surf', 'Ultimate'])\n",
    "\n",
    "# Set Axis and Title\n",
    "plt.xlabel('Spend ($)')\n",
    "plt.ylabel('Count of Users')\n",
    "plt.title('Amount of Spent on Each Plan Per Month')\n",
    "\n",
    "# Plot Histogram\n",
    "plt.show()"
   ]
  },
  {
   "cell_type": "code",
   "execution_count": 46,
   "metadata": {},
   "outputs": [
    {
     "name": "stdout",
     "output_type": "stream",
     "text": [
      "For the Surf plan, the mean monthly spend was 48.11 and the variance is 2470.09\n",
      "For the Ultimate plan, the mean monthly spend was 71.56 and the variance is 88.35\n"
     ]
    }
   ],
   "source": [
    "# Calculate the mean and the variance of the monthly spend per plan\n",
    "\n",
    "# Calculate the mean and variance of surf\n",
    "surf_mean = user_plan_usage_subset[user_plan_usage_subset['plan'] == 'surf']['final_monthly_plan_cost'].mean()\n",
    "surf_variance = np.var(user_plan_usage_subset[user_plan_usage_subset['plan'] == 'surf']['final_monthly_plan_cost'])\n",
    "\n",
    "# Calculate the mean and variance of ultimate\n",
    "ultimate_mean = user_plan_usage_subset[user_plan_usage_subset['plan'] == 'ultimate']['final_monthly_plan_cost'].mean()\n",
    "ultimate_variance = np.var(user_plan_usage_subset[user_plan_usage_subset['plan'] == 'ultimate']['final_monthly_plan_cost'])\n",
    "\n",
    "# Print Results\n",
    "print('For the Surf plan, the mean monthly spend was',round(surf_mean,2), 'and the variance is',round(surf_variance,2))\n",
    "print('For the Ultimate plan, the mean monthly spend was',round(ultimate_mean,2), 'and the variance is',round(ultimate_variance,2))"
   ]
  },
  {
   "cell_type": "code",
   "execution_count": 47,
   "metadata": {},
   "outputs": [
    {
     "data": {
      "image/png": "[encoded data removed]",
      "text/plain": [
       "<Figure size 640x480 with 1 Axes>"
      ]
     },
     "metadata": {},
     "output_type": "display_data"
    }
   ],
   "source": [
    "# Plot a boxplot to visualize the distribution of spend \n",
    "\n",
    "# Create df with spend used per plan for all months combined \n",
    "messages_sent = user_plan_usage_subset.pivot(columns='plan', values='final_monthly_plan_cost').fillna(0)\n",
    "\n",
    "# Add series label names\n",
    "plt.boxplot(messages_sent, labels = ['Surf','Ultimate'])\n",
    "\n",
    "# Add title \n",
    "plt.title(\"Spend Distribution Per Month Per Plan\")\n",
    "\n",
    "# Plot boxplot\n",
    "plt.show()"
   ]
  },
  {
   "cell_type": "markdown",
   "metadata": {},
   "source": [
    "Those users who are on the ulimate plan hover around \\\\$70 a month in terms of monthly payments. Users on the surf plan pay an initual plan fee of 20, but we see most months nearly double or exceed that 20 due to overages on call minutes, messages, or internet usage. Most users in the Surf plan pay around \\$40 a month, however there are users that pay well over 100 a month. These users should consider switching plans if they are going to have overages for more than a few months."
   ]
  },
  {
   "cell_type": "markdown",
   "metadata": {},
   "source": [
    "## Test statistical hypotheses"
   ]
  },
  {
   "cell_type": "markdown",
   "metadata": {},
   "source": [
    "In this next cell, I will be testing the hypothesis that the average revenue from users of the Ultimate and Surf calling plans differs."
   ]
  },
  {
   "cell_type": "code",
   "execution_count": 48,
   "metadata": {},
   "outputs": [
    {
     "name": "stdout",
     "output_type": "stream",
     "text": [
      "p-value:  9.665323193568845e-08\n",
      "The average revenue for the Surf plan is 50.53\n",
      "The average revenue for the Ultimate plan is 73.57\n",
      "We reject the null hypothesis - There is a difference in the average revenue for users in each plan\n"
     ]
    }
   ],
   "source": [
    "# Test the hypotheses\n",
    "\n",
    "# Null Hypothesis - \"There is no difference in the average revenue between the Ultimate and Surf Calling Plans\"\n",
    "# Alternative Hypothesis - \"There is a difference in the average revenue between the Ultimate and Surf Calling Plans\"\n",
    "\n",
    "# Get monthly surf revenue\n",
    "# Take a random sample of 100 values because ultimate and surf list lengths are not equal\n",
    "# There are more values for surf than there are ultimate\n",
    "surf_revenue = user_plan_usage_subset[user_plan_usage_subset['plan'] == 'surf']['final_monthly_plan_cost'].sample(n=200)\n",
    "\n",
    "# Get monthly ultimate revenue\n",
    "ultimate_revenue = user_plan_usage_subset[user_plan_usage_subset['plan'] == 'ultimate']['final_monthly_plan_cost'].sample(n=200)\n",
    "\n",
    "alpha = 0.05  # critical statistical significance level\n",
    "# if the p-value is less than alpha, we reject the hypothesis\n",
    "\n",
    "# In order to test the hypothesis that the means of the two statistical populations are equal based on samples taken from them, apply the method \n",
    "results = st.ttest_ind(surf_revenue, ultimate_revenue)\n",
    "\n",
    "print('p-value: ', results.pvalue)\n",
    "print('The average revenue for the Surf plan is',round(surf_revenue.mean(),2))\n",
    "print('The average revenue for the Ultimate plan is',round(ultimate_revenue.mean(),2))\n",
    "\n",
    "if results.pvalue < alpha:\n",
    "    print(\"We reject the null hypothesis - There is a difference in the average revenue for users in each plan\")\n",
    "else:\n",
    "    print(\"We can't reject the null hypothesis - There is no difference in the average revenue from users in each plan\") \n"
   ]
  },
  {
   "cell_type": "markdown",
   "metadata": {},
   "source": [
    "In this next cell, I will be testing the hypothesis that the that the average revenue from users in the NY-NJ area is different from that of the users from the other regions."
   ]
  },
  {
   "cell_type": "code",
   "execution_count": 49,
   "metadata": {},
   "outputs": [
    {
     "name": "stdout",
     "output_type": "stream",
     "text": [
      "p-value:  0.9749283253728787\n",
      "The average revenue for those in NY-NJ is 50.53\n",
      "The average revenue for those not in NY-NJ is 73.57\n",
      "We can't reject the null hypothesis - There is no difference in the average revenue from users in NY/NJ and other regions of the United States\n"
     ]
    }
   ],
   "source": [
    "# Test the hypotheses\n",
    "\n",
    "# Null Hypothesis - \"There is no difference in the average revenue between users in the NY-NJ area and other areas\"\n",
    "# Alternative Hypothesis - \"There is a difference in the average revenue between users in the NY-NJ area and other areas\"\n",
    "\n",
    "# Get monthly revenue for those in NY-NJ\n",
    "# Take a random sample of 100 values because ultimate and surf list lengths are not equal\n",
    "NY_NJ_revenue = user_plan_usage_subset[user_plan_usage_subset['NY_NJ'] == 'NY-NJ']['final_monthly_plan_cost'].sample(n=200)\n",
    "\n",
    "# Get monthly revenue for those NOT in NY-NJ\n",
    "other_revenue = user_plan_usage_subset[user_plan_usage_subset['NY_NJ'] == 'Other']['final_monthly_plan_cost'].sample(n=200)\n",
    "\n",
    "alpha = 0.05  # critical statistical significance level\n",
    "# if the p-value is less than alpha, we reject the hypothesis\n",
    "\n",
    "# In order to test the hypothesis that the means of the two statistical populations are equal based on samples taken from them, apply the method \n",
    "results = st.ttest_ind(NY_NJ_revenue, other_revenue)\n",
    "\n",
    "print('p-value: ', results.pvalue)\n",
    "print('The average revenue for those in NY-NJ is',round(surf_revenue.mean(),2))\n",
    "print('The average revenue for those not in NY-NJ is',round(ultimate_revenue.mean(),2))\n",
    "\n",
    "if results.pvalue < alpha:\n",
    "    print(\"We reject the null hypothesis - There is a difference in the average revenue for users in different regions\")\n",
    "else:\n",
    "    print(\"We can't reject the null hypothesis - There is no difference in the average revenue from users in NY/NJ and other regions of the United States\") \n"
   ]
  },
  {
   "cell_type": "markdown",
   "metadata": {},
   "source": [
    "## General Conclusions\n",
    "\n",
    "### Assumptions\n",
    "It's important to note the assumptions I made when beginning the analysis because these assumptions have a lot of incluence over the results of my analysis. Before getting into the general conclusions, these were the assumptions that I made\n",
    "1. The months before a user's reg_date (start month) will be excluded and months after a users churn date (churn month) will be excluded from the analysis\n",
    "2. A user will pay for the plan they are enrolled in for the month that they churn\n",
    "    - For example, if a user was created on 12/24/2018, the user will pay the plan fee for the month of December\n",
    "3. Users will pay based on the month and based on a 30/31 day rolling window/period.\n",
    "    - For example, if a user enrolled for a plan on 12/24/2018, the user will pay the plan fee for the month of December\n",
    "4. Missing or null values for any month that a user is actively enrolled in a plan for minutes, messages, or internet usage will be filled with 0\n",
    "    - The assumption here is that if a user is active on a plan but doesn't have usage data it's because their usage data isn't available for that month and I will assume they didn't have any calls, messages, or internet usage at that time\n",
    "\n",
    "\n",
    "\n",
    "### Conclusions\n",
    "1. Per month in 2018, we see that Ulitmate plan users spend more on average for their plans than surf plan users, however, surf plan users pay more in overages that ultimate plan users. \n",
    "    - From the data, we can see these overages for surf plan users is largely attributed to GBs used for internet. Overages on internet for the surf plan cost 10 GB for every GB a user goes over the included amount of 15 GB. We don't see this for ultimate plan users. Looking at the box plot there are at least 25% of surf users that go over 15 GBs per month. This adds up fast. \n",
    "2. With a confidence interval of 95%, \n",
    "    - We see that there is a difference in the average revenue for users in each plan.\n",
    "    - However, we do not see a difference in the average revenue for users when comparing users in the NY/NJ and other regions of the United States"
   ]
  }
 ],
 "metadata": {
  "ExecuteTimeLog": [
   {
    "duration": 828,
    "start_time": "2021-11-16T09:21:11.304Z"
   },
   {
    "duration": 893,
    "start_time": "2021-11-16T09:21:17.728Z"
   },
   {
    "duration": 1150,
    "start_time": "2021-11-16T09:21:29.568Z"
   },
   {
    "duration": 3,
    "start_time": "2021-11-16T09:24:14.495Z"
   },
   {
    "duration": 120,
    "start_time": "2021-11-16T09:24:46.630Z"
   },
   {
    "duration": 3,
    "start_time": "2021-11-16T09:28:27.882Z"
   },
   {
    "duration": 4,
    "start_time": "2021-11-16T09:29:54.281Z"
   },
   {
    "duration": 3,
    "start_time": "2021-11-16T09:30:45.936Z"
   },
   {
    "duration": 4,
    "start_time": "2021-11-16T09:31:06.300Z"
   },
   {
    "duration": 113,
    "start_time": "2021-11-16T09:31:37.208Z"
   },
   {
    "duration": 143,
    "start_time": "2021-11-16T09:31:48.656Z"
   },
   {
    "duration": 98,
    "start_time": "2021-11-16T09:31:55.678Z"
   },
   {
    "duration": 3,
    "start_time": "2021-11-16T09:32:08.535Z"
   },
   {
    "duration": 111,
    "start_time": "2021-11-16T09:32:10.120Z"
   },
   {
    "duration": 3,
    "start_time": "2021-11-16T09:32:15.732Z"
   },
   {
    "duration": 4,
    "start_time": "2021-11-16T09:32:29.423Z"
   },
   {
    "duration": 3,
    "start_time": "2021-11-16T10:03:03.074Z"
   },
   {
    "duration": 3,
    "start_time": "2021-11-16T10:10:01.288Z"
   },
   {
    "duration": 3,
    "start_time": "2021-11-16T10:10:46.923Z"
   },
   {
    "duration": 121,
    "start_time": "2021-11-16T10:37:46.494Z"
   },
   {
    "duration": 125,
    "start_time": "2021-11-16T10:38:20.632Z"
   },
   {
    "duration": 112,
    "start_time": "2021-11-16T10:46:53.001Z"
   },
   {
    "duration": 110,
    "start_time": "2021-11-16T10:48:25.775Z"
   },
   {
    "duration": 3,
    "start_time": "2021-11-16T10:50:18.720Z"
   },
   {
    "duration": 4,
    "start_time": "2021-11-16T10:50:37.649Z"
   },
   {
    "duration": 2,
    "start_time": "2021-11-16T10:50:51.884Z"
   },
   {
    "duration": 3,
    "start_time": "2021-11-16T10:51:56.237Z"
   },
   {
    "duration": 101,
    "start_time": "2021-11-16T10:53:13.791Z"
   },
   {
    "duration": 3,
    "start_time": "2021-11-16T10:55:59.186Z"
   },
   {
    "duration": 3,
    "start_time": "2021-11-16T10:56:10.751Z"
   },
   {
    "duration": 3,
    "start_time": "2021-11-16T10:56:49.038Z"
   },
   {
    "duration": 3,
    "start_time": "2021-11-16T10:56:49.174Z"
   },
   {
    "duration": 4,
    "start_time": "2021-11-16T10:56:49.414Z"
   },
   {
    "duration": 3,
    "start_time": "2021-11-16T10:56:49.680Z"
   },
   {
    "duration": 3,
    "start_time": "2021-11-16T10:56:50.370Z"
   },
   {
    "duration": 114,
    "start_time": "2021-11-16T10:59:34.518Z"
   },
   {
    "duration": 3,
    "start_time": "2021-11-16T11:01:41.201Z"
   },
   {
    "duration": 116,
    "start_time": "2021-11-16T11:01:48.754Z"
   },
   {
    "duration": 3,
    "start_time": "2021-11-16T11:02:16.685Z"
   },
   {
    "duration": 3,
    "start_time": "2021-11-16T11:02:19.479Z"
   },
   {
    "duration": 3,
    "start_time": "2021-11-16T11:02:47.067Z"
   },
   {
    "duration": 3,
    "start_time": "2021-11-16T11:02:49.353Z"
   },
   {
    "duration": 3,
    "start_time": "2021-11-16T11:03:07.835Z"
   },
   {
    "duration": 3,
    "start_time": "2021-11-16T11:03:07.953Z"
   },
   {
    "duration": 112,
    "start_time": "2021-11-16T11:07:52.072Z"
   },
   {
    "duration": 187,
    "start_time": "2021-11-16T11:09:23.468Z"
   },
   {
    "duration": 4,
    "start_time": "2021-11-16T11:10:01.455Z"
   },
   {
    "duration": 3,
    "start_time": "2021-11-16T11:10:05.069Z"
   },
   {
    "duration": 4,
    "start_time": "2021-11-16T11:10:13.376Z"
   },
   {
    "duration": 3,
    "start_time": "2021-11-16T11:10:14.434Z"
   },
   {
    "duration": 3,
    "start_time": "2021-11-16T11:10:22.853Z"
   },
   {
    "duration": 4,
    "start_time": "2021-11-16T11:27:29.279Z"
   },
   {
    "duration": 4,
    "start_time": "2021-11-16T11:29:08.919Z"
   },
   {
    "duration": 118,
    "start_time": "2021-11-16T11:29:46.703Z"
   },
   {
    "duration": 437,
    "start_time": "2021-11-16T11:36:02.181Z"
   },
   {
    "duration": 157,
    "start_time": "2021-11-16T11:36:14.388Z"
   },
   {
    "duration": 207,
    "start_time": "2021-11-16T11:47:15.898Z"
   },
   {
    "duration": 3,
    "start_time": "2021-11-16T11:53:52.092Z"
   },
   {
    "duration": 3,
    "start_time": "2021-11-16T11:53:52.236Z"
   },
   {
    "duration": 3,
    "start_time": "2021-11-16T11:59:12.005Z"
   },
   {
    "duration": 112,
    "start_time": "2021-11-16T12:00:33.446Z"
   },
   {
    "duration": 3,
    "start_time": "2021-11-16T12:02:14.453Z"
   },
   {
    "duration": 3,
    "start_time": "2021-11-16T12:02:39.512Z"
   },
   {
    "duration": 106,
    "start_time": "2021-11-16T12:03:03.460Z"
   },
   {
    "duration": 3,
    "start_time": "2021-11-17T20:37:21.139Z"
   },
   {
    "duration": 3,
    "start_time": "2021-11-17T20:37:22.229Z"
   },
   {
    "duration": 3,
    "start_time": "2021-11-17T20:38:38.806Z"
   },
   {
    "duration": 3,
    "start_time": "2021-11-17T20:38:41.958Z"
   },
   {
    "duration": 3,
    "start_time": "2021-11-17T20:43:46.551Z"
   },
   {
    "duration": 4,
    "start_time": "2021-11-17T20:58:21.835Z"
   },
   {
    "duration": 3,
    "start_time": "2021-11-17T20:59:21.872Z"
   },
   {
    "duration": 4,
    "start_time": "2021-11-17T20:59:45.352Z"
   },
   {
    "duration": 4,
    "start_time": "2021-11-17T20:59:49.646Z"
   },
   {
    "duration": 159,
    "start_time": "2021-11-17T21:02:26.949Z"
   },
   {
    "duration": 3,
    "start_time": "2021-11-17T21:03:53.461Z"
   },
   {
    "duration": 3,
    "start_time": "2021-11-17T21:03:53.694Z"
   },
   {
    "duration": 3,
    "start_time": "2021-11-17T21:05:28.145Z"
   },
   {
    "duration": 116,
    "start_time": "2021-11-17T21:05:57.787Z"
   },
   {
    "duration": 3,
    "start_time": "2021-11-17T21:06:37.993Z"
   },
   {
    "duration": 3,
    "start_time": "2021-11-17T21:06:38.261Z"
   },
   {
    "duration": 3,
    "start_time": "2021-11-17T21:11:54.358Z"
   },
   {
    "duration": 3,
    "start_time": "2021-11-17T21:12:43.846Z"
   },
   {
    "duration": 4,
    "start_time": "2021-11-17T21:13:08.773Z"
   },
   {
    "duration": 3,
    "start_time": "2021-11-17T21:14:44.441Z"
   },
   {
    "duration": 3,
    "start_time": "2021-11-17T21:15:42.059Z"
   },
   {
    "duration": 4,
    "start_time": "2021-11-17T21:15:51.995Z"
   },
   {
    "duration": 3,
    "start_time": "2021-11-17T21:15:53.923Z"
   },
   {
    "duration": 3,
    "start_time": "2021-11-17T21:15:55.282Z"
   },
   {
    "duration": 3,
    "start_time": "2021-11-17T21:16:28.492Z"
   },
   {
    "duration": 3,
    "start_time": "2021-11-17T21:16:32.603Z"
   },
   {
    "duration": 3,
    "start_time": "2021-11-17T21:17:06.941Z"
   },
   {
    "duration": 98,
    "start_time": "2021-11-17T21:18:05.733Z"
   },
   {
    "duration": 4,
    "start_time": "2021-11-17T21:21:35.255Z"
   },
   {
    "duration": 3,
    "start_time": "2021-11-17T21:21:37.804Z"
   },
   {
    "duration": 4,
    "start_time": "2021-11-17T21:23:06.071Z"
   },
   {
    "duration": 3,
    "start_time": "2021-11-17T21:23:24.799Z"
   },
   {
    "duration": 3,
    "start_time": "2021-11-17T21:23:32.591Z"
   },
   {
    "duration": 98,
    "start_time": "2021-11-17T21:28:31.559Z"
   },
   {
    "duration": 3,
    "start_time": "2021-11-17T21:28:45.448Z"
   },
   {
    "duration": 3,
    "start_time": "2021-11-17T21:29:17.303Z"
   },
   {
    "duration": 3,
    "start_time": "2021-11-17T21:29:29.617Z"
   },
   {
    "duration": 3,
    "start_time": "2021-11-17T21:29:32.681Z"
   },
   {
    "duration": 3,
    "start_time": "2021-11-17T21:36:11.474Z"
   },
   {
    "duration": 3,
    "start_time": "2021-11-17T21:36:14.791Z"
   },
   {
    "duration": 3,
    "start_time": "2021-11-17T21:36:53.943Z"
   },
   {
    "duration": 3,
    "start_time": "2021-11-17T21:36:56.165Z"
   },
   {
    "duration": 4,
    "start_time": "2021-11-17T21:37:16.590Z"
   },
   {
    "duration": 3,
    "start_time": "2021-11-17T21:37:22.702Z"
   },
   {
    "duration": 4,
    "start_time": "2021-11-17T21:38:03.479Z"
   },
   {
    "duration": 3,
    "start_time": "2021-11-17T21:38:08.601Z"
   },
   {
    "duration": 3,
    "start_time": "2021-11-17T21:38:12.928Z"
   },
   {
    "duration": 3,
    "start_time": "2021-11-17T21:38:48.896Z"
   },
   {
    "duration": 2,
    "start_time": "2021-11-17T21:38:49.171Z"
   },
   {
    "duration": 4,
    "start_time": "2021-11-17T21:39:57.889Z"
   },
   {
    "duration": 3,
    "start_time": "2021-11-17T21:39:58.057Z"
   },
   {
    "duration": 3,
    "start_time": "2021-11-17T21:41:20.108Z"
   },
   {
    "duration": 3,
    "start_time": "2021-11-17T21:41:20.629Z"
   },
   {
    "duration": 3,
    "start_time": "2021-11-17T21:42:49.136Z"
   },
   {
    "duration": 3,
    "start_time": "2021-11-17T21:43:15.137Z"
   },
   {
    "duration": 4,
    "start_time": "2021-11-17T21:43:16.766Z"
   },
   {
    "duration": 4,
    "start_time": "2021-11-17T21:43:31.711Z"
   },
   {
    "duration": 3,
    "start_time": "2021-11-17T21:43:36.312Z"
   },
   {
    "duration": 4,
    "start_time": "2021-11-17T21:45:08.825Z"
   },
   {
    "duration": 4,
    "start_time": "2021-11-17T21:45:10.119Z"
   },
   {
    "duration": 4,
    "start_time": "2021-11-17T21:45:13.748Z"
   },
   {
    "duration": 3,
    "start_time": "2021-11-17T21:45:22.219Z"
   },
   {
    "duration": 3,
    "start_time": "2021-11-17T21:45:33.412Z"
   },
   {
    "duration": 2,
    "start_time": "2021-11-17T21:46:01.885Z"
   },
   {
    "duration": 3,
    "start_time": "2021-11-17T21:46:03.628Z"
   },
   {
    "duration": 107,
    "start_time": "2021-11-17T21:47:32.512Z"
   },
   {
    "duration": 103,
    "start_time": "2021-11-17T21:50:36.243Z"
   },
   {
    "duration": 3,
    "start_time": "2021-11-18T06:28:31.440Z"
   },
   {
    "duration": 3,
    "start_time": "2021-11-18T06:29:00.168Z"
   },
   {
    "duration": 3,
    "start_time": "2021-11-18T06:31:27.008Z"
   },
   {
    "duration": 2,
    "start_time": "2021-11-18T06:35:34.288Z"
   },
   {
    "duration": 2,
    "start_time": "2021-11-18T06:38:04.527Z"
   },
   {
    "duration": 1172,
    "start_time": "2024-06-03T01:17:34.202Z"
   },
   {
    "duration": 366,
    "start_time": "2024-06-03T01:17:35.379Z"
   },
   {
    "duration": 58,
    "start_time": "2024-06-03T01:17:35.748Z"
   },
   {
    "duration": 24,
    "start_time": "2024-06-03T01:17:35.810Z"
   },
   {
    "duration": 15,
    "start_time": "2024-06-03T01:17:35.841Z"
   },
   {
    "duration": 18,
    "start_time": "2024-06-03T01:17:35.860Z"
   },
   {
    "duration": 68,
    "start_time": "2024-06-03T01:17:35.881Z"
   },
   {
    "duration": 14,
    "start_time": "2024-06-03T01:17:35.952Z"
   },
   {
    "duration": 25,
    "start_time": "2024-06-03T01:17:35.969Z"
   },
   {
    "duration": 316,
    "start_time": "2024-06-03T01:17:36.033Z"
   },
   {
    "duration": 300,
    "start_time": "2024-06-03T01:17:36.352Z"
   },
   {
    "duration": 11,
    "start_time": "2024-06-03T01:17:36.655Z"
   },
   {
    "duration": 232,
    "start_time": "2024-06-03T01:17:36.669Z"
   },
   {
    "duration": 51,
    "start_time": "2024-06-03T01:17:36.910Z"
   },
   {
    "duration": 158,
    "start_time": "2024-06-03T01:17:36.964Z"
   },
   {
    "duration": 16,
    "start_time": "2024-06-03T01:17:37.125Z"
   },
   {
    "duration": 62,
    "start_time": "2024-06-03T01:17:37.147Z"
   },
   {
    "duration": 32,
    "start_time": "2024-06-03T01:17:37.234Z"
   },
   {
    "duration": 286,
    "start_time": "2024-06-03T01:17:37.269Z"
   },
   {
    "duration": 11,
    "start_time": "2024-06-03T01:17:37.558Z"
   },
   {
    "duration": 180,
    "start_time": "2024-06-03T01:17:37.572Z"
   },
   {
    "duration": 83,
    "start_time": "2024-06-03T01:17:37.756Z"
   },
   {
    "duration": 16,
    "start_time": "2024-06-03T01:17:37.842Z"
   },
   {
    "duration": 76,
    "start_time": "2024-06-03T01:17:37.861Z"
   },
   {
    "duration": 52,
    "start_time": "2024-06-03T01:17:37.940Z"
   },
   {
    "duration": 58,
    "start_time": "2024-06-03T01:17:37.998Z"
   },
   {
    "duration": 43,
    "start_time": "2024-06-03T01:17:38.058Z"
   },
   {
    "duration": 382,
    "start_time": "2024-06-03T01:17:38.104Z"
   },
   {
    "duration": 70,
    "start_time": "2024-06-03T01:17:38.489Z"
   },
   {
    "duration": 29,
    "start_time": "2024-06-03T01:17:38.562Z"
   },
   {
    "duration": 269,
    "start_time": "2024-06-03T01:17:38.594Z"
   },
   {
    "duration": 21,
    "start_time": "2024-06-03T01:17:38.866Z"
   },
   {
    "duration": 426,
    "start_time": "2024-06-03T01:17:38.889Z"
   },
   {
    "duration": 29,
    "start_time": "2024-06-03T01:17:39.318Z"
   },
   {
    "duration": 193,
    "start_time": "2024-06-03T01:17:39.349Z"
   },
   {
    "duration": 550,
    "start_time": "2024-06-03T01:17:39.546Z"
   },
   {
    "duration": 390,
    "start_time": "2024-06-03T01:17:40.099Z"
   },
   {
    "duration": 15,
    "start_time": "2024-06-03T01:17:40.493Z"
   },
   {
    "duration": 173,
    "start_time": "2024-06-03T01:17:40.532Z"
   },
   {
    "duration": 554,
    "start_time": "2024-06-03T01:17:40.708Z"
   },
   {
    "duration": 419,
    "start_time": "2024-06-03T01:17:41.273Z"
   },
   {
    "duration": 15,
    "start_time": "2024-06-03T01:17:41.696Z"
   },
   {
    "duration": 184,
    "start_time": "2024-06-03T01:17:41.734Z"
   },
   {
    "duration": 560,
    "start_time": "2024-06-03T01:17:41.921Z"
   },
   {
    "duration": 292,
    "start_time": "2024-06-03T01:17:42.484Z"
   },
   {
    "duration": 15,
    "start_time": "2024-06-03T01:17:42.780Z"
   },
   {
    "duration": 194,
    "start_time": "2024-06-03T01:17:42.798Z"
   },
   {
    "duration": 15,
    "start_time": "2024-06-03T01:17:42.995Z"
   },
   {
    "duration": 13,
    "start_time": "2024-06-03T01:17:43.032Z"
   }
  ],
  "kernelspec": {
   "display_name": "Python 3 (ipykernel)",
   "language": "python",
   "name": "python3"
  },
  "language_info": {
   "codemirror_mode": {
    "name": "ipython",
    "version": 3
   },
   "file_extension": ".py",
   "mimetype": "text/x-python",
   "name": "python",
   "nbconvert_exporter": "python",
   "pygments_lexer": "ipython3",
   "version": "3.9.19"
  },
  "toc": {
   "base_numbering": 1,
   "nav_menu": {},
   "number_sections": true,
   "sideBar": true,
   "skip_h1_title": false,
   "title_cell": "Table of Contents",
   "title_sidebar": "Contents",
   "toc_cell": false,
   "toc_position": {
    "height": "calc(100% - 180px)",
    "left": "10px",
    "top": "150px",
    "width": "272px"
   },
   "toc_section_display": true,
   "toc_window_display": true
  }
 },
 "nbformat": 4,
 "nbformat_minor": 2
}
