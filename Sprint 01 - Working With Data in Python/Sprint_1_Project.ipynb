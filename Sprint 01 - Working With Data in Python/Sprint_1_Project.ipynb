{
 "cells": [
  {
   "cell_type": "markdown",
   "id": "f85a80d2",
   "metadata": {},
   "source": [
    "## Basic Python - Project <a id='intro'></a>"
   ]
  },
  {
   "cell_type": "markdown",
   "id": "a1262df4",
   "metadata": {},
   "source": [
    "## Introduction <a id='intro'></a>\n",
    "In this project, you will work with data from the entertainment industry. You will study a dataset with records on movies and shows. The research will focus on the \"Golden Age\" of television, which began in 1999 with the release of *The Sopranos* and is still ongoing.\n",
    "\n",
    "The aim of this project is to investigate how the number of votes a title receives impacts its ratings. The assumption is that highly-rated shows (we will focus on TV shows, ignoring movies) released during the \"Golden Age\" of television also have the most votes.\n",
    "\n",
    "### Stages \n",
    "Data on movies and shows is stored in the `/datasets/movies_and_shows.csv` file. There is no information about the quality of the data, so you will need to explore it before doing the analysis.\n",
    "\n",
    "First, you'll evaluate the quality of the data and see whether its issues are significant. Then, during data preprocessing, you will try to account for the most critical problems.\n",
    " \n",
    "Your project will consist of three stages:\n",
    " 1. Data overview\n",
    " 2. Data preprocessing\n",
    " 3. Data analysis"
   ]
  },
  {
   "cell_type": "markdown",
   "id": "ac0593ac",
   "metadata": {},
   "source": [
    "## Stage 1. Data overview <a id='data_review'></a>\n",
    "\n",
    "Open and explore the data."
   ]
  },
  {
   "cell_type": "markdown",
   "id": "e86ed00e",
   "metadata": {},
   "source": [
    "You'll need `pandas`, so import it."
   ]
  },
  {
   "cell_type": "code",
   "execution_count": 2,
   "id": "1727d3f8",
   "metadata": {},
   "outputs": [],
   "source": [
    "# importing pandas\n",
    "import pandas as pd"
   ]
  },
  {
   "cell_type": "markdown",
   "id": "9821beeb",
   "metadata": {},
   "source": [
    "Read the `movies_and_shows.csv` file from the `datasets` folder and save it in the `df` variable:"
   ]
  },
  {
   "cell_type": "code",
   "execution_count": 3,
   "id": "fc5a1402",
   "metadata": {},
   "outputs": [],
   "source": [
    "# reading the files and storing them to df\n",
    "df = pd.read_csv('/datasets/movies_and_shows.csv')"
   ]
  },
  {
   "cell_type": "markdown",
   "id": "1cd0a96d",
   "metadata": {},
   "source": [
    "Print the first 10 table rows:"
   ]
  },
  {
   "cell_type": "code",
   "execution_count": 4,
   "id": "acd92001",
   "metadata": {},
   "outputs": [
    {
     "data": {
      "text/html": [
       "<div>\n",
       "<style scoped>\n",
       "    .dataframe tbody tr th:only-of-type {\n",
       "        vertical-align: middle;\n",
       "    }\n",
       "\n",
       "    .dataframe tbody tr th {\n",
       "        vertical-align: top;\n",
       "    }\n",
       "\n",
       "    .dataframe thead th {\n",
       "        text-align: right;\n",
       "    }\n",
       "</style>\n",
       "<table border=\"1\" class=\"dataframe\">\n",
       "  <thead>\n",
       "    <tr style=\"text-align: right;\">\n",
       "      <th></th>\n",
       "      <th>name</th>\n",
       "      <th>Character</th>\n",
       "      <th>r0le</th>\n",
       "      <th>TITLE</th>\n",
       "      <th>Type</th>\n",
       "      <th>release Year</th>\n",
       "      <th>genres</th>\n",
       "      <th>imdb sc0re</th>\n",
       "      <th>imdb v0tes</th>\n",
       "    </tr>\n",
       "  </thead>\n",
       "  <tbody>\n",
       "    <tr>\n",
       "      <th>0</th>\n",
       "      <td>Robert De Niro</td>\n",
       "      <td>Travis Bickle</td>\n",
       "      <td>ACTOR</td>\n",
       "      <td>Taxi Driver</td>\n",
       "      <td>MOVIE</td>\n",
       "      <td>1976</td>\n",
       "      <td>['drama', 'crime']</td>\n",
       "      <td>8.2</td>\n",
       "      <td>808582.0</td>\n",
       "    </tr>\n",
       "    <tr>\n",
       "      <th>1</th>\n",
       "      <td>Jodie Foster</td>\n",
       "      <td>Iris Steensma</td>\n",
       "      <td>ACTOR</td>\n",
       "      <td>Taxi Driver</td>\n",
       "      <td>MOVIE</td>\n",
       "      <td>1976</td>\n",
       "      <td>['drama', 'crime']</td>\n",
       "      <td>8.2</td>\n",
       "      <td>808582.0</td>\n",
       "    </tr>\n",
       "    <tr>\n",
       "      <th>2</th>\n",
       "      <td>Albert Brooks</td>\n",
       "      <td>Tom</td>\n",
       "      <td>ACTOR</td>\n",
       "      <td>Taxi Driver</td>\n",
       "      <td>MOVIE</td>\n",
       "      <td>1976</td>\n",
       "      <td>['drama', 'crime']</td>\n",
       "      <td>8.2</td>\n",
       "      <td>808582.0</td>\n",
       "    </tr>\n",
       "    <tr>\n",
       "      <th>3</th>\n",
       "      <td>Harvey Keitel</td>\n",
       "      <td>Matthew 'Sport' Higgins</td>\n",
       "      <td>ACTOR</td>\n",
       "      <td>Taxi Driver</td>\n",
       "      <td>MOVIE</td>\n",
       "      <td>1976</td>\n",
       "      <td>['drama', 'crime']</td>\n",
       "      <td>8.2</td>\n",
       "      <td>808582.0</td>\n",
       "    </tr>\n",
       "    <tr>\n",
       "      <th>4</th>\n",
       "      <td>Cybill Shepherd</td>\n",
       "      <td>Betsy</td>\n",
       "      <td>ACTOR</td>\n",
       "      <td>Taxi Driver</td>\n",
       "      <td>MOVIE</td>\n",
       "      <td>1976</td>\n",
       "      <td>['drama', 'crime']</td>\n",
       "      <td>8.2</td>\n",
       "      <td>808582.0</td>\n",
       "    </tr>\n",
       "  </tbody>\n",
       "</table>\n",
       "</div>"
      ],
      "text/plain": [
       "              name                Character   r0le        TITLE   Type  \\\n",
       "0   Robert De Niro            Travis Bickle  ACTOR  Taxi Driver  MOVIE   \n",
       "1     Jodie Foster            Iris Steensma  ACTOR  Taxi Driver  MOVIE   \n",
       "2    Albert Brooks                      Tom  ACTOR  Taxi Driver  MOVIE   \n",
       "3    Harvey Keitel  Matthew 'Sport' Higgins  ACTOR  Taxi Driver  MOVIE   \n",
       "4  Cybill Shepherd                    Betsy  ACTOR  Taxi Driver  MOVIE   \n",
       "\n",
       "   release Year              genres  imdb sc0re  imdb v0tes  \n",
       "0          1976  ['drama', 'crime']         8.2    808582.0  \n",
       "1          1976  ['drama', 'crime']         8.2    808582.0  \n",
       "2          1976  ['drama', 'crime']         8.2    808582.0  \n",
       "3          1976  ['drama', 'crime']         8.2    808582.0  \n",
       "4          1976  ['drama', 'crime']         8.2    808582.0  "
      ]
     },
     "execution_count": 4,
     "metadata": {},
     "output_type": "execute_result"
    }
   ],
   "source": [
    "# obtaining the first 10 rows from the df table\n",
    "# hint: you can use head() and tail() in Jupyter Notebook without wrapping them into print()\n",
    "df.head()\n",
    "# df.tail() --showing for credit but commenting out"
   ]
  },
  {
   "cell_type": "markdown",
   "id": "e579aa91",
   "metadata": {},
   "source": [
    "Obtain the general information about the table with one command:"
   ]
  },
  {
   "cell_type": "code",
   "execution_count": 9,
   "id": "7bf66d2a",
   "metadata": {},
   "outputs": [
    {
     "name": "stdout",
     "output_type": "stream",
     "text": [
      "<class 'pandas.core.frame.DataFrame'>\n",
      "RangeIndex: 85579 entries, 0 to 85578\n",
      "Data columns (total 9 columns):\n",
      " #   Column        Non-Null Count  Dtype  \n",
      "---  ------        --------------  -----  \n",
      " 0      name       85579 non-null  object \n",
      " 1   Character     85579 non-null  object \n",
      " 2   r0le          85579 non-null  object \n",
      " 3   TITLE         85578 non-null  object \n",
      " 4     Type        85579 non-null  object \n",
      " 5   release Year  85579 non-null  int64  \n",
      " 6   genres        85579 non-null  object \n",
      " 7   imdb sc0re    80970 non-null  float64\n",
      " 8   imdb v0tes    80853 non-null  float64\n",
      "dtypes: float64(2), int64(1), object(6)\n",
      "memory usage: 5.9+ MB\n"
     ]
    }
   ],
   "source": [
    "# obtaining general information about the data in df\n",
    "df.info()"
   ]
  },
  {
   "cell_type": "markdown",
   "id": "e91f62a7",
   "metadata": {},
   "source": [
    "The table contains nine columns. The majority store the same data type: object. The only exceptions are `'release Year'` (int64 type), `'imdb sc0re'` (float64 type) and `'imdb v0tes'` (float64 type). Scores and votes will be used in our analysis, so it's important to verify that they are present in the dataframe in the appropriate numeric format. Three columns (`'TITLE'`, `'imdb sc0re'` and `'imdb v0tes'`) have missing values.\n",
    "\n",
    "According to the documentation:\n",
    "- `'name'` — actor/director's name and last name\n",
    "- `'Character'` — character played (for actors)\n",
    "- `'r0le '` — the person's contribution to the title (it can be in the capacity of either actor or director)\n",
    "- `'TITLE '` — title of the movie (show)\n",
    "- `'  Type'` — show or movie\n",
    "- `'release Year'` — year when movie (show) was released\n",
    "- `'genres'` — list of genres under which the movie (show) falls\n",
    "- `'imdb sc0re'` — score on IMDb\n",
    "- `'imdb v0tes'` — votes on IMDb\n",
    "\n",
    "We can see three issues with the column names:\n",
    "1. Some names are uppercase, while others are lowercase.\n",
    "2. There are names containing whitespace.\n",
    "3. A few column names have digit '0' instead of letter 'o'. \n"
   ]
  },
  {
   "cell_type": "markdown",
   "id": "4355de7b",
   "metadata": {},
   "source": [
    "### Conclusions <a id='data_review_conclusions'></a> \n",
    "\n",
    "Each row in the table stores data about a movie or show. The columns can be divided into two categories: the first is about the roles held by different people who worked on the movie or show (role, name of the actor or director, and character if the row is about an actor); the second category is information about the movie or show itself (title, release year, genre, imdb figures).\n",
    "\n",
    "It's clear that there is sufficient data to do the analysis and evaluate our assumption. However, to move forward, we need to preprocess the data."
   ]
  },
  {
   "cell_type": "markdown",
   "id": "c5dc9111",
   "metadata": {},
   "source": [
    "## Stage 2. Data preprocessing <a id='data_preprocessing'></a>\n",
    "Correct the formatting in the column headers and deal with the missing values. Then, check whether there are duplicates in the data."
   ]
  },
  {
   "cell_type": "code",
   "execution_count": 5,
   "id": "9c850d13",
   "metadata": {},
   "outputs": [
    {
     "data": {
      "text/plain": [
       "Index(['   name', 'Character', 'r0le', 'TITLE', '  Type', 'release Year',\n",
       "       'genres', 'imdb sc0re', 'imdb v0tes'],\n",
       "      dtype='object')"
      ]
     },
     "execution_count": 5,
     "metadata": {},
     "output_type": "execute_result"
    }
   ],
   "source": [
    "# the list of column names in the df table\n",
    "df.columns"
   ]
  },
  {
   "cell_type": "markdown",
   "id": "5f966df9",
   "metadata": {},
   "source": [
    "Change the column names according to the rules of good style:\n",
    "* If the name has several words, use snake_case\n",
    "* All characters must be lowercase\n",
    "* Remove whitespace\n",
    "* Replace zero with letter 'o'"
   ]
  },
  {
   "cell_type": "code",
   "execution_count": 5,
   "id": "23a1dc11",
   "metadata": {},
   "outputs": [],
   "source": [
    "# renaming columns\n",
    "df.columns = df.columns.str.strip() #whitespace removal\n",
    "df.columns = df.columns.str.lower() #make lowercase\n",
    "df.columns = df.columns.str.replace('0','o') #replace 0 with o\n",
    "df.columns = df.columns.str.replace(' ','_') #convert to snake_case\n",
    "\n",
    "#show renamed columns in dataframe\n",
    "#df.columns"
   ]
  },
  {
   "cell_type": "markdown",
   "id": "464fbd04",
   "metadata": {},
   "source": [
    "Check the result. Print the names of the columns once more:"
   ]
  },
  {
   "cell_type": "code",
   "execution_count": 4,
   "id": "0eb6527f",
   "metadata": {},
   "outputs": [
    {
     "data": {
      "text/plain": [
       "Index(['name', 'character', 'role', 'title', 'type', 'release_year', 'genres',\n",
       "       'imdb_score', 'imdb_votes'],\n",
       "      dtype='object')"
      ]
     },
     "execution_count": 4,
     "metadata": {},
     "output_type": "execute_result"
    }
   ],
   "source": [
    "# checking result: the list of column names\n",
    "df.columns"
   ]
  },
  {
   "cell_type": "markdown",
   "id": "14d9c319",
   "metadata": {},
   "source": [
    "### Missing values <a id='missing_values'></a>\n",
    "First, find the number of missing values in the table. To do so, combine two `pandas` methods:"
   ]
  },
  {
   "cell_type": "code",
   "execution_count": 6,
   "id": "21c427f2",
   "metadata": {},
   "outputs": [
    {
     "data": {
      "text/plain": [
       "name               0\n",
       "character          0\n",
       "role               0\n",
       "title              1\n",
       "type               0\n",
       "release_year       0\n",
       "genres             0\n",
       "imdb_score      4609\n",
       "imdb_votes      4726\n",
       "dtype: int64"
      ]
     },
     "execution_count": 6,
     "metadata": {},
     "output_type": "execute_result"
    }
   ],
   "source": [
    "# calculating missing values\n",
    "#df.isna().sum() #missing values for each column\n",
    "df.isna().sum() #missing values for whole dataframe"
   ]
  },
  {
   "cell_type": "markdown",
   "id": "c8272df3",
   "metadata": {},
   "source": [
    "Not all missing values affect the research: the single missing value in `'title'` is not critical. The missing values in columns `'imdb_score'` and `'imdb_votes'` represent around 6% of all records (4,609 and 4,726, respectively, of the total 85,579). This could potentially affect our research. To avoid this issue, we will drop rows with missing values in the `'imdb_score'` and `'imdb_votes'` columns."
   ]
  },
  {
   "cell_type": "code",
   "execution_count": 5,
   "id": "599d5550",
   "metadata": {},
   "outputs": [],
   "source": [
    "# dropping rows where columns with title, scores and votes have missing values\n",
    "df.dropna(axis = 0, subset=['imdb_score', 'imdb_votes'], inplace=True)"
   ]
  },
  {
   "cell_type": "markdown",
   "id": "2156887f",
   "metadata": {},
   "source": [
    "Make sure the table doesn't contain any more missing values. Count the missing values again."
   ]
  },
  {
   "cell_type": "code",
   "execution_count": 8,
   "id": "55c0b0ce",
   "metadata": {},
   "outputs": [
    {
     "data": {
      "text/plain": [
       "0"
      ]
     },
     "execution_count": 8,
     "metadata": {},
     "output_type": "execute_result"
    }
   ],
   "source": [
    "# counting missing values\n",
    "df.isna().sum().sum() #missing values for whole dataframe\n",
    "#df.info() #re-check number of rows"
   ]
  },
  {
   "cell_type": "markdown",
   "id": "a7dc7aa0",
   "metadata": {},
   "source": [
    "### Duplicates <a id='duplicates'></a>\n",
    "Find the number of duplicate rows in the table using one command:"
   ]
  },
  {
   "cell_type": "code",
   "execution_count": 39,
   "id": "9227df01",
   "metadata": {},
   "outputs": [
    {
     "data": {
      "text/plain": [
       "6994"
      ]
     },
     "execution_count": 39,
     "metadata": {},
     "output_type": "execute_result"
    }
   ],
   "source": [
    "# counting duplicate rows\n",
    "df.duplicated().sum()"
   ]
  },
  {
   "cell_type": "markdown",
   "id": "5f6eb0fc",
   "metadata": {},
   "source": [
    "Review the duplicate rows to determine if removing them would distort our dataset."
   ]
  },
  {
   "cell_type": "code",
   "execution_count": 6,
   "id": "bcf32fcb",
   "metadata": {},
   "outputs": [
    {
     "data": {
      "text/html": [
       "<div>\n",
       "<style scoped>\n",
       "    .dataframe tbody tr th:only-of-type {\n",
       "        vertical-align: middle;\n",
       "    }\n",
       "\n",
       "    .dataframe tbody tr th {\n",
       "        vertical-align: top;\n",
       "    }\n",
       "\n",
       "    .dataframe thead th {\n",
       "        text-align: right;\n",
       "    }\n",
       "</style>\n",
       "<table border=\"1\" class=\"dataframe\">\n",
       "  <thead>\n",
       "    <tr style=\"text-align: right;\">\n",
       "      <th></th>\n",
       "      <th>name</th>\n",
       "      <th>character</th>\n",
       "      <th>role</th>\n",
       "      <th>title</th>\n",
       "      <th>type</th>\n",
       "      <th>release_year</th>\n",
       "      <th>genres</th>\n",
       "      <th>imdb_score</th>\n",
       "      <th>imdb_votes</th>\n",
       "    </tr>\n",
       "  </thead>\n",
       "  <tbody>\n",
       "    <tr>\n",
       "      <th>37611</th>\n",
       "      <td>†??‘æú‘?›</td>\n",
       "      <td>unknown</td>\n",
       "      <td>DIRECTOR</td>\n",
       "      <td>The Rise of Phoenixes</td>\n",
       "      <td>SHOW</td>\n",
       "      <td>2018</td>\n",
       "      <td>['drama', 'romance', 'history']</td>\n",
       "      <td>8.4</td>\n",
       "      <td>1492.0</td>\n",
       "    </tr>\n",
       "    <tr>\n",
       "      <th>11835</th>\n",
       "      <td>†?‘?­Š?¯</td>\n",
       "      <td>‘§®‚??Š?</td>\n",
       "      <td>ACTOR</td>\n",
       "      <td>The Fierce Wife</td>\n",
       "      <td>SHOW</td>\n",
       "      <td>2010</td>\n",
       "      <td>['drama']</td>\n",
       "      <td>6.8</td>\n",
       "      <td>95.0</td>\n",
       "    </tr>\n",
       "    <tr>\n",
       "      <th>76630</th>\n",
       "      <td>‡??†ññ‡®?‘ª­</td>\n",
       "      <td>unknown</td>\n",
       "      <td>ACTOR</td>\n",
       "      <td>Creator's File: GOLD</td>\n",
       "      <td>SHOW</td>\n",
       "      <td>2021</td>\n",
       "      <td>['drama', 'comedy']</td>\n",
       "      <td>6.6</td>\n",
       "      <td>22.0</td>\n",
       "    </tr>\n",
       "    <tr>\n",
       "      <th>84408</th>\n",
       "      <td>‡??†ññ‡®?‘ª­</td>\n",
       "      <td>unknown</td>\n",
       "      <td>ACTOR</td>\n",
       "      <td>Creator's File: GOLD</td>\n",
       "      <td>SHOW</td>\n",
       "      <td>2021</td>\n",
       "      <td>['drama', 'comedy']</td>\n",
       "      <td>6.6</td>\n",
       "      <td>22.0</td>\n",
       "    </tr>\n",
       "    <tr>\n",
       "      <th>7297</th>\n",
       "      <td>‰??‰ÿ??? ??‰¦ª??</td>\n",
       "      <td>unknown</td>\n",
       "      <td>DIRECTOR</td>\n",
       "      <td>Octonauts</td>\n",
       "      <td>SHOW</td>\n",
       "      <td>2010</td>\n",
       "      <td>['action', 'animation', 'comedy', 'family']</td>\n",
       "      <td>7.6</td>\n",
       "      <td>1083.0</td>\n",
       "    </tr>\n",
       "  </tbody>\n",
       "</table>\n",
       "</div>"
      ],
      "text/plain": [
       "                      name  character      role                  title  type  \\\n",
       "37611            †??‘æú‘?›    unknown  DIRECTOR  The Rise of Phoenixes  SHOW   \n",
       "11835            †?‘?­Š?¯  ‘§®‚??Š?     ACTOR        The Fierce Wife  SHOW   \n",
       "76630         ‡??†ññ‡®?‘ª­    unknown     ACTOR   Creator's File: GOLD  SHOW   \n",
       "84408         ‡??†ññ‡®?‘ª­    unknown     ACTOR   Creator's File: GOLD  SHOW   \n",
       "7297   ‰??‰ÿ??? ??‰¦ª??    unknown  DIRECTOR              Octonauts  SHOW   \n",
       "\n",
       "       release_year                                       genres  imdb_score  \\\n",
       "37611          2018              ['drama', 'romance', 'history']         8.4   \n",
       "11835          2010                                    ['drama']         6.8   \n",
       "76630          2021                          ['drama', 'comedy']         6.6   \n",
       "84408          2021                          ['drama', 'comedy']         6.6   \n",
       "7297           2010  ['action', 'animation', 'comedy', 'family']         7.6   \n",
       "\n",
       "       imdb_votes  \n",
       "37611      1492.0  \n",
       "11835        95.0  \n",
       "76630        22.0  \n",
       "84408        22.0  \n",
       "7297       1083.0  "
      ]
     },
     "execution_count": 6,
     "metadata": {},
     "output_type": "execute_result"
    }
   ],
   "source": [
    "# Produce table with duplicates (with original rows included) and review last 5 rows\n",
    "\n",
    "df[df.duplicated(keep=False)] #show df with duplicated rows\n",
    "df = df.sort_values(by=['name']) #sort tables by name to view duplicated rows with printed\n",
    "df.tail() #print last 5 rows\n"
   ]
  },
  {
   "cell_type": "markdown",
   "id": "a1ed6640",
   "metadata": {},
   "source": [
    "There are two clear duplicates in the printed rows. We can safely remove them.\n",
    "Call the `pandas` method for getting rid of duplicate rows:"
   ]
  },
  {
   "cell_type": "code",
   "execution_count": 7,
   "id": "724d5bc8",
   "metadata": {},
   "outputs": [],
   "source": [
    "# removing duplicate rows\n",
    "df.drop_duplicates(inplace = True) #drop duplicate rows "
   ]
  },
  {
   "cell_type": "markdown",
   "id": "fc8c77ba",
   "metadata": {},
   "source": [
    "Check for duplicate rows once more to make sure you have removed all of them:"
   ]
  },
  {
   "cell_type": "code",
   "execution_count": 8,
   "id": "8091a9bc",
   "metadata": {},
   "outputs": [
    {
     "data": {
      "text/html": [
       "<div>\n",
       "<style scoped>\n",
       "    .dataframe tbody tr th:only-of-type {\n",
       "        vertical-align: middle;\n",
       "    }\n",
       "\n",
       "    .dataframe tbody tr th {\n",
       "        vertical-align: top;\n",
       "    }\n",
       "\n",
       "    .dataframe thead th {\n",
       "        text-align: right;\n",
       "    }\n",
       "</style>\n",
       "<table border=\"1\" class=\"dataframe\">\n",
       "  <thead>\n",
       "    <tr style=\"text-align: right;\">\n",
       "      <th></th>\n",
       "      <th>name</th>\n",
       "      <th>character</th>\n",
       "      <th>role</th>\n",
       "      <th>title</th>\n",
       "      <th>type</th>\n",
       "      <th>release_year</th>\n",
       "      <th>genres</th>\n",
       "      <th>imdb_score</th>\n",
       "      <th>imdb_votes</th>\n",
       "    </tr>\n",
       "  </thead>\n",
       "  <tbody>\n",
       "    <tr>\n",
       "      <th>76500</th>\n",
       "      <td>‚§‘ý?‘ñ</td>\n",
       "      <td>unknown</td>\n",
       "      <td>ACTOR</td>\n",
       "      <td>Zero to Hero</td>\n",
       "      <td>MOVIE</td>\n",
       "      <td>2021</td>\n",
       "      <td>['drama', 'sport']</td>\n",
       "      <td>6.7</td>\n",
       "      <td>842.0</td>\n",
       "    </tr>\n",
       "    <tr>\n",
       "      <th>37611</th>\n",
       "      <td>†??‘æú‘?›</td>\n",
       "      <td>unknown</td>\n",
       "      <td>DIRECTOR</td>\n",
       "      <td>The Rise of Phoenixes</td>\n",
       "      <td>SHOW</td>\n",
       "      <td>2018</td>\n",
       "      <td>['drama', 'romance', 'history']</td>\n",
       "      <td>8.4</td>\n",
       "      <td>1492.0</td>\n",
       "    </tr>\n",
       "    <tr>\n",
       "      <th>11835</th>\n",
       "      <td>†?‘?­Š?¯</td>\n",
       "      <td>‘§®‚??Š?</td>\n",
       "      <td>ACTOR</td>\n",
       "      <td>The Fierce Wife</td>\n",
       "      <td>SHOW</td>\n",
       "      <td>2010</td>\n",
       "      <td>['drama']</td>\n",
       "      <td>6.8</td>\n",
       "      <td>95.0</td>\n",
       "    </tr>\n",
       "    <tr>\n",
       "      <th>76630</th>\n",
       "      <td>‡??†ññ‡®?‘ª­</td>\n",
       "      <td>unknown</td>\n",
       "      <td>ACTOR</td>\n",
       "      <td>Creator's File: GOLD</td>\n",
       "      <td>SHOW</td>\n",
       "      <td>2021</td>\n",
       "      <td>['drama', 'comedy']</td>\n",
       "      <td>6.6</td>\n",
       "      <td>22.0</td>\n",
       "    </tr>\n",
       "    <tr>\n",
       "      <th>7297</th>\n",
       "      <td>‰??‰ÿ??? ??‰¦ª??</td>\n",
       "      <td>unknown</td>\n",
       "      <td>DIRECTOR</td>\n",
       "      <td>Octonauts</td>\n",
       "      <td>SHOW</td>\n",
       "      <td>2010</td>\n",
       "      <td>['action', 'animation', 'comedy', 'family']</td>\n",
       "      <td>7.6</td>\n",
       "      <td>1083.0</td>\n",
       "    </tr>\n",
       "  </tbody>\n",
       "</table>\n",
       "</div>"
      ],
      "text/plain": [
       "                      name  character      role                  title   type  \\\n",
       "76500            ‚§‘ý?‘ñ    unknown     ACTOR           Zero to Hero  MOVIE   \n",
       "37611            †??‘æú‘?›    unknown  DIRECTOR  The Rise of Phoenixes   SHOW   \n",
       "11835            †?‘?­Š?¯  ‘§®‚??Š?     ACTOR        The Fierce Wife   SHOW   \n",
       "76630         ‡??†ññ‡®?‘ª­    unknown     ACTOR   Creator's File: GOLD   SHOW   \n",
       "7297   ‰??‰ÿ??? ??‰¦ª??    unknown  DIRECTOR              Octonauts   SHOW   \n",
       "\n",
       "       release_year                                       genres  imdb_score  \\\n",
       "76500          2021                           ['drama', 'sport']         6.7   \n",
       "37611          2018              ['drama', 'romance', 'history']         8.4   \n",
       "11835          2010                                    ['drama']         6.8   \n",
       "76630          2021                          ['drama', 'comedy']         6.6   \n",
       "7297           2010  ['action', 'animation', 'comedy', 'family']         7.6   \n",
       "\n",
       "       imdb_votes  \n",
       "76500       842.0  \n",
       "37611      1492.0  \n",
       "11835        95.0  \n",
       "76630        22.0  \n",
       "7297       1083.0  "
      ]
     },
     "execution_count": 8,
     "metadata": {},
     "output_type": "execute_result"
    }
   ],
   "source": [
    "# checking for duplicates\n",
    "df.tail() #check last 5 rows"
   ]
  },
  {
   "cell_type": "markdown",
   "id": "1d802b07",
   "metadata": {},
   "source": [
    "Now get rid of implicit duplicates in the `'type'` column. For example, the string `'SHOW'` can be written in different ways. These kinds of errors will also affect the result."
   ]
  },
  {
   "cell_type": "markdown",
   "id": "d5f987ed",
   "metadata": {},
   "source": [
    "Print a list of unique `'type'` names, sorted in alphabetical order. To do so:\n",
    "* Retrieve the intended dataframe column \n",
    "* Apply a sorting method to it\n",
    "* For the sorted column, call the method that will return all unique column values"
   ]
  },
  {
   "cell_type": "code",
   "execution_count": 9,
   "id": "3d7b0ac5",
   "metadata": {},
   "outputs": [
    {
     "data": {
      "text/plain": [
       "['MOVIE',\n",
       " 'SHOW',\n",
       " 'movies',\n",
       " 'shows',\n",
       " 'the movie',\n",
       " 'tv',\n",
       " 'tv series',\n",
       " 'tv show',\n",
       " 'tv shows']"
      ]
     },
     "execution_count": 9,
     "metadata": {},
     "output_type": "execute_result"
    }
   ],
   "source": [
    "# viewing unique type names\n",
    "sorted(set(df['type'])) #returns unique list of types\n"
   ]
  },
  {
   "cell_type": "markdown",
   "id": "ac6e8b18",
   "metadata": {},
   "source": [
    "Look through the list to find implicit duplicates of `'show'` (`'movie'` duplicates will be ignored since the assumption is about shows). These could be names written incorrectly or alternative names of the same genre.\n",
    "\n",
    "You will see the following implicit duplicates:\n",
    "* `'shows'`\n",
    "* `'SHOW'`\n",
    "* `'tv show'`\n",
    "* `'tv shows'`\n",
    "* `'tv series'`\n",
    "* `'tv'`\n",
    "\n",
    "To get rid of them, declare the function `replace_wrong_show()` with two parameters: \n",
    "* `wrong_shows_list=` — the list of duplicates\n",
    "* `correct_show=` — the string with the correct value\n",
    "\n",
    "The function should correct the names in the `'type'` column from the `df` table (i.e., replace each value from the `wrong_shows_list` list with the value in `correct_show`)."
   ]
  },
  {
   "cell_type": "code",
   "execution_count": 10,
   "id": "bff944f9",
   "metadata": {},
   "outputs": [],
   "source": [
    "# function for replacing implicit duplicates\n",
    "# create lists \n",
    "wrong_shows_list = ['shows','SHOW','tv show','tv shows','tv series','tv']\n",
    "correct_show = ['show']\n",
    "\n",
    "#define function \n",
    "def replace_wrong_show(df, wrong_shows_list, correct_show):\n",
    "    for wrong_show in wrong_shows_list: #loop over implicit duplicates\n",
    "        df['type'] = df['type'].replace(wrong_show, correct_show[0]) #replace implicit dupes with correct show\n",
    "    \n",
    "    "
   ]
  },
  {
   "cell_type": "markdown",
   "id": "d02d13a6",
   "metadata": {},
   "source": [
    "Call `replace_wrong_show()` and pass it arguments so that it clears implicit duplicates and replaces them with `SHOW`:"
   ]
  },
  {
   "cell_type": "code",
   "execution_count": 11,
   "id": "a2217e53",
   "metadata": {},
   "outputs": [],
   "source": [
    "# removing implicit duplicates\n",
    "replace_wrong_show(df, wrong_shows_list, correct_show)"
   ]
  },
  {
   "cell_type": "markdown",
   "id": "318b09f7",
   "metadata": {},
   "source": [
    "Make sure the duplicate names are removed. Print the list of unique values from the `'type'` column:"
   ]
  },
  {
   "cell_type": "code",
   "execution_count": 12,
   "id": "25d49d73",
   "metadata": {},
   "outputs": [
    {
     "data": {
      "text/plain": [
       "['MOVIE', 'movies', 'show', 'the movie']"
      ]
     },
     "execution_count": 12,
     "metadata": {},
     "output_type": "execute_result"
    }
   ],
   "source": [
    "# viewing unique genre names\n",
    "sorted(set(df['type']))"
   ]
  },
  {
   "cell_type": "markdown",
   "id": "18b2049e",
   "metadata": {},
   "source": [
    "### Conclusions <a id='data_preprocessing_conclusions'></a>\n",
    "We detected three issues with the data:\n",
    "\n",
    "- Incorrect header styles\n",
    "- Missing values\n",
    "- Duplicate rows and implicit duplicates\n",
    "\n",
    "The headers have been cleaned up to make processing the table simpler.\n",
    "\n",
    "All rows with missing values have been removed. \n",
    "\n",
    "The absence of duplicates will make the results more precise and easier to understand.\n",
    "\n",
    "Now we can move on to our analysis of the prepared data."
   ]
  },
  {
   "cell_type": "markdown",
   "id": "1aa0f1b1",
   "metadata": {},
   "source": [
    "## Stage 3. Data analysis <a id='hypotheses'></a>"
   ]
  },
  {
   "cell_type": "markdown",
   "id": "f8fb6a0e",
   "metadata": {},
   "source": [
    "Based on the previous project stages, you can now define how the assumption will be checked. Calculate the average amount of votes for each score (this data is available in the `imdb_score` and `imdb_votes` columns), and then check how these averages relate to each other. If the averages for shows with the highest scores are bigger than those for shows with lower scores, the assumption appears to be true.\n",
    "\n",
    "Based on this, complete the following steps:\n",
    "\n",
    "- Filter the dataframe to only include shows released in 1999 or later.\n",
    "- Group scores into buckets by rounding the values of the appropriate column (a set of 1-10 integers will help us make the outcome of our calculations more evident without damaging the quality of our research).\n",
    "- Identify outliers among scores based on their number of votes, and exclude scores with few votes.\n",
    "- Calculate the average votes for each score and check whether the assumption matches the results."
   ]
  },
  {
   "cell_type": "markdown",
   "id": "0ea2cb51",
   "metadata": {},
   "source": [
    "To filter the dataframe and only include shows released in 1999 or later, you will take two steps. First, keep only titles published in 1999 or later in our dataframe. Then, filter the table to only contain shows (movies will be removed)."
   ]
  },
  {
   "cell_type": "code",
   "execution_count": 13,
   "id": "6a704aa1",
   "metadata": {},
   "outputs": [],
   "source": [
    "# using conditional indexing modify df so it has only titles released after 1999 (with 1999 included)\n",
    "# give the slice of dataframe new name\n",
    "release_date_titles = df[df['release_year'] >= 1999] #get shows from 1999 and afterwards\n",
    "\n",
    "#golden_age_shows.head() #print 5 rows from new dataframe"
   ]
  },
  {
   "cell_type": "code",
   "execution_count": 14,
   "id": "128dc6a9",
   "metadata": {
    "scrolled": true
   },
   "outputs": [],
   "source": [
    "# repeat conditional indexing so df has only shows (movies are removed as result)\n",
    "release_date_shows = release_date_titles[release_date_titles['type'] == 'show']\n",
    "\n",
    "#release_date_shows.head() #print 5 rows from new dataframe\n",
    "#release_date_shows['type'].unique() #check if shows is only value in colum \n"
   ]
  },
  {
   "cell_type": "markdown",
   "id": "9648040c",
   "metadata": {},
   "source": [
    "The scores that are to be grouped should be rounded. For instance, titles with scores like 7.8, 8.1, and 8.3 will all be placed in the same bucket with a score of 8."
   ]
  },
  {
   "cell_type": "code",
   "execution_count": 15,
   "id": "54bbd5c0",
   "metadata": {},
   "outputs": [
    {
     "name": "stderr",
     "output_type": "stream",
     "text": [
      "/tmp/ipykernel_65/272764694.py:2: SettingWithCopyWarning: \n",
      "A value is trying to be set on a copy of a slice from a DataFrame.\n",
      "Try using .loc[row_indexer,col_indexer] = value instead\n",
      "\n",
      "See the caveats in the documentation: https://pandas.pydata.org/pandas-docs/stable/user_guide/indexing.html#returning-a-view-versus-a-copy\n",
      "  release_date_shows['imdb_score'] = release_date_shows['imdb_score'].round(0)\n"
     ]
    },
    {
     "data": {
      "text/html": [
       "<div>\n",
       "<style scoped>\n",
       "    .dataframe tbody tr th:only-of-type {\n",
       "        vertical-align: middle;\n",
       "    }\n",
       "\n",
       "    .dataframe tbody tr th {\n",
       "        vertical-align: top;\n",
       "    }\n",
       "\n",
       "    .dataframe thead th {\n",
       "        text-align: right;\n",
       "    }\n",
       "</style>\n",
       "<table border=\"1\" class=\"dataframe\">\n",
       "  <thead>\n",
       "    <tr style=\"text-align: right;\">\n",
       "      <th></th>\n",
       "      <th>name</th>\n",
       "      <th>character</th>\n",
       "      <th>role</th>\n",
       "      <th>title</th>\n",
       "      <th>type</th>\n",
       "      <th>release_year</th>\n",
       "      <th>genres</th>\n",
       "      <th>imdb_score</th>\n",
       "      <th>imdb_votes</th>\n",
       "    </tr>\n",
       "  </thead>\n",
       "  <tbody>\n",
       "    <tr>\n",
       "      <th>11836</th>\n",
       "      <td>‚??†??</td>\n",
       "      <td>‘§®‘?ª„??</td>\n",
       "      <td>ACTOR</td>\n",
       "      <td>The Fierce Wife</td>\n",
       "      <td>show</td>\n",
       "      <td>2010</td>\n",
       "      <td>['drama']</td>\n",
       "      <td>7.0</td>\n",
       "      <td>95.0</td>\n",
       "    </tr>\n",
       "    <tr>\n",
       "      <th>37611</th>\n",
       "      <td>†??‘æú‘?›</td>\n",
       "      <td>unknown</td>\n",
       "      <td>DIRECTOR</td>\n",
       "      <td>The Rise of Phoenixes</td>\n",
       "      <td>show</td>\n",
       "      <td>2018</td>\n",
       "      <td>['drama', 'romance', 'history']</td>\n",
       "      <td>8.0</td>\n",
       "      <td>1492.0</td>\n",
       "    </tr>\n",
       "    <tr>\n",
       "      <th>11835</th>\n",
       "      <td>†?‘?­Š?¯</td>\n",
       "      <td>‘§®‚??Š?</td>\n",
       "      <td>ACTOR</td>\n",
       "      <td>The Fierce Wife</td>\n",
       "      <td>show</td>\n",
       "      <td>2010</td>\n",
       "      <td>['drama']</td>\n",
       "      <td>7.0</td>\n",
       "      <td>95.0</td>\n",
       "    </tr>\n",
       "    <tr>\n",
       "      <th>76630</th>\n",
       "      <td>‡??†ññ‡®?‘ª­</td>\n",
       "      <td>unknown</td>\n",
       "      <td>ACTOR</td>\n",
       "      <td>Creator's File: GOLD</td>\n",
       "      <td>show</td>\n",
       "      <td>2021</td>\n",
       "      <td>['drama', 'comedy']</td>\n",
       "      <td>7.0</td>\n",
       "      <td>22.0</td>\n",
       "    </tr>\n",
       "    <tr>\n",
       "      <th>7297</th>\n",
       "      <td>‰??‰ÿ??? ??‰¦ª??</td>\n",
       "      <td>unknown</td>\n",
       "      <td>DIRECTOR</td>\n",
       "      <td>Octonauts</td>\n",
       "      <td>show</td>\n",
       "      <td>2010</td>\n",
       "      <td>['action', 'animation', 'comedy', 'family']</td>\n",
       "      <td>8.0</td>\n",
       "      <td>1083.0</td>\n",
       "    </tr>\n",
       "  </tbody>\n",
       "</table>\n",
       "</div>"
      ],
      "text/plain": [
       "                      name  character      role                  title  type  \\\n",
       "11836               ‚??†??  ‘§®‘?ª„??     ACTOR        The Fierce Wife  show   \n",
       "37611            †??‘æú‘?›    unknown  DIRECTOR  The Rise of Phoenixes  show   \n",
       "11835            †?‘?­Š?¯  ‘§®‚??Š?     ACTOR        The Fierce Wife  show   \n",
       "76630         ‡??†ññ‡®?‘ª­    unknown     ACTOR   Creator's File: GOLD  show   \n",
       "7297   ‰??‰ÿ??? ??‰¦ª??    unknown  DIRECTOR              Octonauts  show   \n",
       "\n",
       "       release_year                                       genres  imdb_score  \\\n",
       "11836          2010                                    ['drama']         7.0   \n",
       "37611          2018              ['drama', 'romance', 'history']         8.0   \n",
       "11835          2010                                    ['drama']         7.0   \n",
       "76630          2021                          ['drama', 'comedy']         7.0   \n",
       "7297           2010  ['action', 'animation', 'comedy', 'family']         8.0   \n",
       "\n",
       "       imdb_votes  \n",
       "11836        95.0  \n",
       "37611      1492.0  \n",
       "11835        95.0  \n",
       "76630        22.0  \n",
       "7297       1083.0  "
      ]
     },
     "execution_count": 15,
     "metadata": {},
     "output_type": "execute_result"
    }
   ],
   "source": [
    "# rounding column with scores\n",
    "release_date_shows['imdb_score'] = release_date_shows['imdb_score'].round(0)\n",
    "\n",
    "#checking the outcome with tail()\n",
    "release_date_shows['imdb_score'].tail() #check tail column values \n",
    "release_date_shows.tail() #check tail df values \n",
    "\n",
    "\n",
    "\n",
    "##----------------throws this error but the code runs and produces correct final output\n",
    "# /tmp/ipykernel_65/272764694.py:2: SettingWithCopyWarning: \n",
    "# A value is trying to be set on a copy of a slice from a DataFrame.\n",
    "# Try using .loc[row_indexer,col_indexer] = value instead\n",
    "\n",
    "# See the caveats in the documentation: https://pandas.pydata.org/pandas-docs/stable/user_guide/indexing.html#returning-a-view-versus-a-copy\n",
    "#   release_date_shows['imdb_score'] = release_date_shows['imdb_score'].round(0)"
   ]
  },
  {
   "cell_type": "markdown",
   "id": "36dbd00a",
   "metadata": {},
   "source": [
    "It is now time to identify outliers based on the number of votes."
   ]
  },
  {
   "cell_type": "code",
   "execution_count": 16,
   "id": "b8b55e95",
   "metadata": {},
   "outputs": [
    {
     "data": {
      "text/html": [
       "<div>\n",
       "<style scoped>\n",
       "    .dataframe tbody tr th:only-of-type {\n",
       "        vertical-align: middle;\n",
       "    }\n",
       "\n",
       "    .dataframe tbody tr th {\n",
       "        vertical-align: top;\n",
       "    }\n",
       "\n",
       "    .dataframe thead th {\n",
       "        text-align: right;\n",
       "    }\n",
       "</style>\n",
       "<table border=\"1\" class=\"dataframe\">\n",
       "  <thead>\n",
       "    <tr style=\"text-align: right;\">\n",
       "      <th></th>\n",
       "      <th>name</th>\n",
       "      <th>character</th>\n",
       "      <th>role</th>\n",
       "      <th>title</th>\n",
       "      <th>type</th>\n",
       "      <th>release_year</th>\n",
       "      <th>genres</th>\n",
       "      <th>imdb_votes</th>\n",
       "    </tr>\n",
       "    <tr>\n",
       "      <th>imdb_score</th>\n",
       "      <th></th>\n",
       "      <th></th>\n",
       "      <th></th>\n",
       "      <th></th>\n",
       "      <th></th>\n",
       "      <th></th>\n",
       "      <th></th>\n",
       "      <th></th>\n",
       "    </tr>\n",
       "  </thead>\n",
       "  <tbody>\n",
       "    <tr>\n",
       "      <th>2.0</th>\n",
       "      <td>24</td>\n",
       "      <td>18</td>\n",
       "      <td>2</td>\n",
       "      <td>5</td>\n",
       "      <td>1</td>\n",
       "      <td>4</td>\n",
       "      <td>5</td>\n",
       "      <td>5</td>\n",
       "    </tr>\n",
       "    <tr>\n",
       "      <th>3.0</th>\n",
       "      <td>27</td>\n",
       "      <td>27</td>\n",
       "      <td>2</td>\n",
       "      <td>4</td>\n",
       "      <td>1</td>\n",
       "      <td>3</td>\n",
       "      <td>4</td>\n",
       "      <td>4</td>\n",
       "    </tr>\n",
       "    <tr>\n",
       "      <th>4.0</th>\n",
       "      <td>174</td>\n",
       "      <td>108</td>\n",
       "      <td>2</td>\n",
       "      <td>30</td>\n",
       "      <td>1</td>\n",
       "      <td>13</td>\n",
       "      <td>19</td>\n",
       "      <td>30</td>\n",
       "    </tr>\n",
       "    <tr>\n",
       "      <th>5.0</th>\n",
       "      <td>581</td>\n",
       "      <td>419</td>\n",
       "      <td>2</td>\n",
       "      <td>94</td>\n",
       "      <td>1</td>\n",
       "      <td>12</td>\n",
       "      <td>68</td>\n",
       "      <td>91</td>\n",
       "    </tr>\n",
       "    <tr>\n",
       "      <th>6.0</th>\n",
       "      <td>2365</td>\n",
       "      <td>1896</td>\n",
       "      <td>2</td>\n",
       "      <td>347</td>\n",
       "      <td>1</td>\n",
       "      <td>19</td>\n",
       "      <td>212</td>\n",
       "      <td>329</td>\n",
       "    </tr>\n",
       "    <tr>\n",
       "      <th>7.0</th>\n",
       "      <td>4342</td>\n",
       "      <td>3813</td>\n",
       "      <td>2</td>\n",
       "      <td>593</td>\n",
       "      <td>1</td>\n",
       "      <td>24</td>\n",
       "      <td>304</td>\n",
       "      <td>568</td>\n",
       "    </tr>\n",
       "    <tr>\n",
       "      <th>8.0</th>\n",
       "      <td>4194</td>\n",
       "      <td>4028</td>\n",
       "      <td>2</td>\n",
       "      <td>539</td>\n",
       "      <td>1</td>\n",
       "      <td>23</td>\n",
       "      <td>329</td>\n",
       "      <td>527</td>\n",
       "    </tr>\n",
       "    <tr>\n",
       "      <th>9.0</th>\n",
       "      <td>542</td>\n",
       "      <td>498</td>\n",
       "      <td>2</td>\n",
       "      <td>65</td>\n",
       "      <td>1</td>\n",
       "      <td>20</td>\n",
       "      <td>50</td>\n",
       "      <td>65</td>\n",
       "    </tr>\n",
       "    <tr>\n",
       "      <th>10.0</th>\n",
       "      <td>8</td>\n",
       "      <td>8</td>\n",
       "      <td>1</td>\n",
       "      <td>1</td>\n",
       "      <td>1</td>\n",
       "      <td>1</td>\n",
       "      <td>1</td>\n",
       "      <td>1</td>\n",
       "    </tr>\n",
       "  </tbody>\n",
       "</table>\n",
       "</div>"
      ],
      "text/plain": [
       "            name  character  role  title  type  release_year  genres  \\\n",
       "imdb_score                                                             \n",
       "2.0           24         18     2      5     1             4       5   \n",
       "3.0           27         27     2      4     1             3       4   \n",
       "4.0          174        108     2     30     1            13      19   \n",
       "5.0          581        419     2     94     1            12      68   \n",
       "6.0         2365       1896     2    347     1            19     212   \n",
       "7.0         4342       3813     2    593     1            24     304   \n",
       "8.0         4194       4028     2    539     1            23     329   \n",
       "9.0          542        498     2     65     1            20      50   \n",
       "10.0           8          8     1      1     1             1       1   \n",
       "\n",
       "            imdb_votes  \n",
       "imdb_score              \n",
       "2.0                  5  \n",
       "3.0                  4  \n",
       "4.0                 30  \n",
       "5.0                 91  \n",
       "6.0                329  \n",
       "7.0                568  \n",
       "8.0                527  \n",
       "9.0                 65  \n",
       "10.0                 1  "
      ]
     },
     "execution_count": 16,
     "metadata": {},
     "output_type": "execute_result"
    }
   ],
   "source": [
    "# Use groupby() for scores and count all unique values in each group, print the result\n",
    "release_date_shows.groupby(by = 'imdb_score').nunique()"
   ]
  },
  {
   "cell_type": "markdown",
   "id": "1ba6daae",
   "metadata": {},
   "source": [
    "Based on the aggregation performed, it is evident that scores 2 (24 voted shows), 3 (27 voted shows), and 10 (only 8 voted shows) are outliers. There isn't enough data for these scores for the average number of votes to be meaningful."
   ]
  },
  {
   "cell_type": "markdown",
   "id": "bd468c46",
   "metadata": {},
   "source": [
    "To obtain the mean numbers of votes for the selected scores (we identified a range of 4-9 as acceptable), use conditional filtering and grouping."
   ]
  },
  {
   "cell_type": "markdown",
   "id": "96a66d14",
   "metadata": {},
   "source": [
    "Now for the final step! Round the column with the averages, rename both columns, and print the dataframe in descending order."
   ]
  },
  {
   "cell_type": "code",
   "execution_count": 17,
   "id": "c2469178",
   "metadata": {},
   "outputs": [],
   "source": [
    "# filter dataframe using two conditions (scores to be in the range 4-9)\n",
    "release_date_shows = release_date_shows[release_date_shows['imdb_score'] >= 4] \n",
    "release_date_shows = release_date_shows[release_date_shows['imdb_score'] <= 9] \n",
    "\n",
    "# group scores and corresponding average number of votes, reset index and print the result\n",
    "average_votes_by_score = release_date_shows[['imdb_votes','imdb_score']].groupby(by = 'imdb_score').mean().reset_index()\n",
    "\n",
    "#check results\n",
    "#average_votes_by_score"
   ]
  },
  {
   "cell_type": "code",
   "execution_count": 18,
   "id": "5999051b",
   "metadata": {},
   "outputs": [
    {
     "data": {
      "text/html": [
       "<div>\n",
       "<style scoped>\n",
       "    .dataframe tbody tr th:only-of-type {\n",
       "        vertical-align: middle;\n",
       "    }\n",
       "\n",
       "    .dataframe tbody tr th {\n",
       "        vertical-align: top;\n",
       "    }\n",
       "\n",
       "    .dataframe thead th {\n",
       "        text-align: right;\n",
       "    }\n",
       "</style>\n",
       "<table border=\"1\" class=\"dataframe\">\n",
       "  <thead>\n",
       "    <tr style=\"text-align: right;\">\n",
       "      <th></th>\n",
       "      <th>IMDb_Score</th>\n",
       "      <th>Average_IMDb_Votes</th>\n",
       "    </tr>\n",
       "  </thead>\n",
       "  <tbody>\n",
       "    <tr>\n",
       "      <th>0</th>\n",
       "      <td>9.0</td>\n",
       "      <td>126904.0</td>\n",
       "    </tr>\n",
       "    <tr>\n",
       "      <th>1</th>\n",
       "      <td>8.0</td>\n",
       "      <td>30299.0</td>\n",
       "    </tr>\n",
       "    <tr>\n",
       "      <th>2</th>\n",
       "      <td>7.0</td>\n",
       "      <td>8727.0</td>\n",
       "    </tr>\n",
       "    <tr>\n",
       "      <th>3</th>\n",
       "      <td>4.0</td>\n",
       "      <td>5278.0</td>\n",
       "    </tr>\n",
       "    <tr>\n",
       "      <th>4</th>\n",
       "      <td>6.0</td>\n",
       "      <td>3482.0</td>\n",
       "    </tr>\n",
       "    <tr>\n",
       "      <th>5</th>\n",
       "      <td>5.0</td>\n",
       "      <td>3144.0</td>\n",
       "    </tr>\n",
       "  </tbody>\n",
       "</table>\n",
       "</div>"
      ],
      "text/plain": [
       "   IMDb_Score  Average_IMDb_Votes\n",
       "0         9.0            126904.0\n",
       "1         8.0             30299.0\n",
       "2         7.0              8727.0\n",
       "3         4.0              5278.0\n",
       "4         6.0              3482.0\n",
       "5         5.0              3144.0"
      ]
     },
     "execution_count": 18,
     "metadata": {},
     "output_type": "execute_result"
    }
   ],
   "source": [
    "# round column with averages\n",
    "average_votes_by_score = average_votes_by_score.round({'imdb_votes': 0})\n",
    "\n",
    "# rename columns\n",
    "average_votes_by_score = average_votes_by_score.rename(columns={'imdb_score': 'IMDb_Score', 'imdb_votes': 'Average_IMDb_Votes'})\n",
    "\n",
    "# print dataframe in descending order\n",
    "average_votes_by_score.sort_values(by = 'Average_IMDb_Votes', ascending=False).reset_index(drop=True)\n"
   ]
  },
  {
   "cell_type": "markdown",
   "id": "af07386d",
   "metadata": {},
   "source": [
    "The assumption macthes the analysis: the shows with the top 3 scores have the most amounts of votes."
   ]
  },
  {
   "cell_type": "markdown",
   "id": "84e29a37",
   "metadata": {},
   "source": [
    "## Conclusion <a id='hypotheses'></a>"
   ]
  },
  {
   "cell_type": "markdown",
   "id": "984766a3",
   "metadata": {},
   "source": [
    "The research done confirms that highly-rated shows released during the \"Golden Age\" of television also have the most votes. While shows with score 4 have more votes than ones with scores 5 and 6, the top three (scores 7-9) have the largest number. The data studied represents around 94% of the original set, so we can be confident in our findings."
   ]
  }
 ],
 "metadata": {
  "kernelspec": {
   "display_name": "Python 3 (ipykernel)",
   "language": "python",
   "name": "python3"
  },
  "language_info": {
   "codemirror_mode": {
    "name": "ipython",
    "version": 3
   },
   "file_extension": ".py",
   "mimetype": "text/x-python",
   "name": "python",
   "nbconvert_exporter": "python",
   "pygments_lexer": "ipython3",
   "version": "3.9.19"
  },
  "toc": {
   "base_numbering": 1,
   "nav_menu": {},
   "number_sections": true,
   "sideBar": true,
   "skip_h1_title": true,
   "title_cell": "Table of Contents",
   "title_sidebar": "Contents",
   "toc_cell": false,
   "toc_position": {},
   "toc_section_display": true,
   "toc_window_display": false
  }
 },
 "nbformat": 4,
 "nbformat_minor": 5
}
