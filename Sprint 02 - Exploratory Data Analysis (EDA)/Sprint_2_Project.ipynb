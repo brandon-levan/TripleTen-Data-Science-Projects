{
 "cells": [
  {
   "cell_type": "markdown",
   "id": "e39e0c61",
   "metadata": {},
   "source": [
    "# Instacart Project Summary\n",
    "\n",
    "**Instacart is a grocery delivery platform** where customers can place a grocery order and have it delivered to them, similar to how Uber Eats and Door Dash work. In this project, I will be working with a dataset that was publicly released by Instacart in a 2017 for a Kaggle competition.\n",
    "\n",
    "**The goal of this project** is to clean up the data and prepare a report that gives insight into the shopping habits of Instacart customers. \n",
    "\n",
    "There are five tables in the enitre Instantcart dataset. These tables provide information on what a user orders, when they order, and what products are in the users orders.  \n",
    "\n",
    "For my exploratory data analysis, I will be performing the following steps - \n",
    "\n",
    "- **Step 1**: Read in the data files\n",
    "- **Step 2**: Preprocess the data by doing the following:\n",
    "  - Verify and fix data types (e.g. make sure ID columns are integers)\n",
    "  - Identify and fill in missing values\n",
    "  - Identify and remove duplicate values\n",
    "- **Step 3**: Once the data is processed and ready for analysis, I will provide insights around user behavior on the app. \n",
    "\n",
    "Please see my findings below. "
   ]
  },
  {
   "cell_type": "markdown",
   "id": "5b40da9f",
   "metadata": {},
   "source": [
    "# Library Imports"
   ]
  },
  {
   "cell_type": "code",
   "execution_count": 1,
   "id": "fbf1adab",
   "metadata": {},
   "outputs": [],
   "source": [
    "# Import libraries required for this project\n",
    "import pandas as pd\n",
    "import numpy as np\n",
    "from matplotlib import pyplot as plt"
   ]
  },
  {
   "cell_type": "markdown",
   "id": "9347e494",
   "metadata": {},
   "source": [
    "# Read in Tables"
   ]
  },
  {
   "cell_type": "code",
   "execution_count": 2,
   "id": "30f975b4",
   "metadata": {},
   "outputs": [],
   "source": [
    "# Read in Tables \n",
    "# splits on ; not ,\n",
    "\n",
    "# ingest orders dataframe \n",
    "orders = pd.read_csv('/datasets/instacart_orders.csv', sep = ';')\n",
    "\n",
    "# ingest products dataframe \n",
    "products = pd.read_csv('/datasets/products.csv', sep = ';')\n",
    "\n",
    "# ingest departments dataframe \n",
    "departments = pd.read_csv('/datasets/departments.csv', sep = ';')\n",
    "\n",
    "# ingest departments dataframe \n",
    "aisles = pd.read_csv('/datasets/aisles.csv', sep = ';')\n",
    "\n",
    "# ingest departments dataframe \n",
    "order_products = pd.read_csv('/datasets/order_products.csv', sep = ';')\n",
    "\n",
    "\n",
    "# Print head of each table to get a sense of what each data frame looks like\n",
    "# print(orders.head()) \n",
    "# print(products.head()) \n",
    "# print(departments.head()) \n",
    "# print(aisles.head()) \n",
    "# print(order_products.head()) "
   ]
  },
  {
   "cell_type": "markdown",
   "id": "07357848-dc64-4156-9cc3-01ff4365226d",
   "metadata": {},
   "source": [
    "## Find and remove duplicate values (and describe why you make your choices)"
   ]
  },
  {
   "cell_type": "markdown",
   "id": "f179f0a9",
   "metadata": {},
   "source": [
    "### `orders` data frame"
   ]
  },
  {
   "cell_type": "code",
   "execution_count": 3,
   "id": "b99297a5-405a-463d-8535-9adc3da4ad74",
   "metadata": {},
   "outputs": [
    {
     "data": {
      "text/html": [
       "<div>\n",
       "<style scoped>\n",
       "    .dataframe tbody tr th:only-of-type {\n",
       "        vertical-align: middle;\n",
       "    }\n",
       "\n",
       "    .dataframe tbody tr th {\n",
       "        vertical-align: top;\n",
       "    }\n",
       "\n",
       "    .dataframe thead th {\n",
       "        text-align: right;\n",
       "    }\n",
       "</style>\n",
       "<table border=\"1\" class=\"dataframe\">\n",
       "  <thead>\n",
       "    <tr style=\"text-align: right;\">\n",
       "      <th></th>\n",
       "      <th>order_id</th>\n",
       "      <th>user_id</th>\n",
       "      <th>order_number</th>\n",
       "      <th>order_dow</th>\n",
       "      <th>order_hour_of_day</th>\n",
       "      <th>days_since_prior_order</th>\n",
       "    </tr>\n",
       "  </thead>\n",
       "  <tbody>\n",
       "    <tr>\n",
       "      <th>354993</th>\n",
       "      <td>391768</td>\n",
       "      <td>57671</td>\n",
       "      <td>19</td>\n",
       "      <td>3</td>\n",
       "      <td>2</td>\n",
       "      <td>10.0</td>\n",
       "    </tr>\n",
       "    <tr>\n",
       "      <th>371905</th>\n",
       "      <td>391768</td>\n",
       "      <td>57671</td>\n",
       "      <td>19</td>\n",
       "      <td>3</td>\n",
       "      <td>2</td>\n",
       "      <td>10.0</td>\n",
       "    </tr>\n",
       "    <tr>\n",
       "      <th>119251</th>\n",
       "      <td>408114</td>\n",
       "      <td>68324</td>\n",
       "      <td>4</td>\n",
       "      <td>3</td>\n",
       "      <td>2</td>\n",
       "      <td>18.0</td>\n",
       "    </tr>\n",
       "    <tr>\n",
       "      <th>321100</th>\n",
       "      <td>408114</td>\n",
       "      <td>68324</td>\n",
       "      <td>4</td>\n",
       "      <td>3</td>\n",
       "      <td>2</td>\n",
       "      <td>18.0</td>\n",
       "    </tr>\n",
       "    <tr>\n",
       "      <th>394347</th>\n",
       "      <td>467134</td>\n",
       "      <td>63189</td>\n",
       "      <td>21</td>\n",
       "      <td>3</td>\n",
       "      <td>2</td>\n",
       "      <td>2.0</td>\n",
       "    </tr>\n",
       "    <tr>\n",
       "      <th>250626</th>\n",
       "      <td>467134</td>\n",
       "      <td>63189</td>\n",
       "      <td>21</td>\n",
       "      <td>3</td>\n",
       "      <td>2</td>\n",
       "      <td>2.0</td>\n",
       "    </tr>\n",
       "    <tr>\n",
       "      <th>99462</th>\n",
       "      <td>794638</td>\n",
       "      <td>50898</td>\n",
       "      <td>24</td>\n",
       "      <td>3</td>\n",
       "      <td>2</td>\n",
       "      <td>2.0</td>\n",
       "    </tr>\n",
       "    <tr>\n",
       "      <th>145574</th>\n",
       "      <td>794638</td>\n",
       "      <td>50898</td>\n",
       "      <td>24</td>\n",
       "      <td>3</td>\n",
       "      <td>2</td>\n",
       "      <td>2.0</td>\n",
       "    </tr>\n",
       "    <tr>\n",
       "      <th>311713</th>\n",
       "      <td>1021560</td>\n",
       "      <td>53767</td>\n",
       "      <td>3</td>\n",
       "      <td>3</td>\n",
       "      <td>2</td>\n",
       "      <td>9.0</td>\n",
       "    </tr>\n",
       "    <tr>\n",
       "      <th>242618</th>\n",
       "      <td>1021560</td>\n",
       "      <td>53767</td>\n",
       "      <td>3</td>\n",
       "      <td>3</td>\n",
       "      <td>2</td>\n",
       "      <td>9.0</td>\n",
       "    </tr>\n",
       "  </tbody>\n",
       "</table>\n",
       "</div>"
      ],
      "text/plain": [
       "        order_id  user_id  order_number  order_dow  order_hour_of_day  \\\n",
       "354993    391768    57671            19          3                  2   \n",
       "371905    391768    57671            19          3                  2   \n",
       "119251    408114    68324             4          3                  2   \n",
       "321100    408114    68324             4          3                  2   \n",
       "394347    467134    63189            21          3                  2   \n",
       "250626    467134    63189            21          3                  2   \n",
       "99462     794638    50898            24          3                  2   \n",
       "145574    794638    50898            24          3                  2   \n",
       "311713   1021560    53767             3          3                  2   \n",
       "242618   1021560    53767             3          3                  2   \n",
       "\n",
       "        days_since_prior_order  \n",
       "354993                    10.0  \n",
       "371905                    10.0  \n",
       "119251                    18.0  \n",
       "321100                    18.0  \n",
       "394347                     2.0  \n",
       "250626                     2.0  \n",
       "99462                      2.0  \n",
       "145574                     2.0  \n",
       "311713                     9.0  \n",
       "242618                     9.0  "
      ]
     },
     "execution_count": 3,
     "metadata": {},
     "output_type": "execute_result"
    }
   ],
   "source": [
    "# Check for duplicated orders by looking for duplicates in order id. Sort by order id to see duplicated rows next to eachother\n",
    "\n",
    "# Return 10 rows to see duplicated order ids\n",
    "orders[orders.duplicated(keep=False)].sort_values(by='order_id').head(10)"
   ]
  },
  {
   "cell_type": "code",
   "execution_count": 4,
   "id": "0d44de5d",
   "metadata": {
    "scrolled": true
   },
   "outputs": [
    {
     "data": {
      "text/html": [
       "<div>\n",
       "<style scoped>\n",
       "    .dataframe tbody tr th:only-of-type {\n",
       "        vertical-align: middle;\n",
       "    }\n",
       "\n",
       "    .dataframe tbody tr th {\n",
       "        vertical-align: top;\n",
       "    }\n",
       "\n",
       "    .dataframe thead th {\n",
       "        text-align: right;\n",
       "    }\n",
       "</style>\n",
       "<table border=\"1\" class=\"dataframe\">\n",
       "  <thead>\n",
       "    <tr style=\"text-align: right;\">\n",
       "      <th></th>\n",
       "      <th>order_id</th>\n",
       "      <th>user_id</th>\n",
       "      <th>order_number</th>\n",
       "      <th>order_dow</th>\n",
       "      <th>order_hour_of_day</th>\n",
       "      <th>days_since_prior_order</th>\n",
       "    </tr>\n",
       "  </thead>\n",
       "  <tbody>\n",
       "    <tr>\n",
       "      <th>4838</th>\n",
       "      <td>2766110</td>\n",
       "      <td>162084</td>\n",
       "      <td>41</td>\n",
       "      <td>3</td>\n",
       "      <td>2</td>\n",
       "      <td>16.0</td>\n",
       "    </tr>\n",
       "    <tr>\n",
       "      <th>5156</th>\n",
       "      <td>2190225</td>\n",
       "      <td>138285</td>\n",
       "      <td>18</td>\n",
       "      <td>3</td>\n",
       "      <td>2</td>\n",
       "      <td>11.0</td>\n",
       "    </tr>\n",
       "    <tr>\n",
       "      <th>15506</th>\n",
       "      <td>553049</td>\n",
       "      <td>58599</td>\n",
       "      <td>13</td>\n",
       "      <td>3</td>\n",
       "      <td>2</td>\n",
       "      <td>7.0</td>\n",
       "    </tr>\n",
       "    <tr>\n",
       "      <th>18420</th>\n",
       "      <td>382357</td>\n",
       "      <td>120200</td>\n",
       "      <td>19</td>\n",
       "      <td>3</td>\n",
       "      <td>2</td>\n",
       "      <td>11.0</td>\n",
       "    </tr>\n",
       "    <tr>\n",
       "      <th>24691</th>\n",
       "      <td>690242</td>\n",
       "      <td>77357</td>\n",
       "      <td>2</td>\n",
       "      <td>3</td>\n",
       "      <td>2</td>\n",
       "      <td>9.0</td>\n",
       "    </tr>\n",
       "    <tr>\n",
       "      <th>...</th>\n",
       "      <td>...</td>\n",
       "      <td>...</td>\n",
       "      <td>...</td>\n",
       "      <td>...</td>\n",
       "      <td>...</td>\n",
       "      <td>...</td>\n",
       "    </tr>\n",
       "    <tr>\n",
       "      <th>457013</th>\n",
       "      <td>3384021</td>\n",
       "      <td>14881</td>\n",
       "      <td>6</td>\n",
       "      <td>3</td>\n",
       "      <td>2</td>\n",
       "      <td>30.0</td>\n",
       "    </tr>\n",
       "    <tr>\n",
       "      <th>458816</th>\n",
       "      <td>910166</td>\n",
       "      <td>164782</td>\n",
       "      <td>18</td>\n",
       "      <td>3</td>\n",
       "      <td>2</td>\n",
       "      <td>4.0</td>\n",
       "    </tr>\n",
       "    <tr>\n",
       "      <th>459635</th>\n",
       "      <td>1680532</td>\n",
       "      <td>106435</td>\n",
       "      <td>6</td>\n",
       "      <td>3</td>\n",
       "      <td>2</td>\n",
       "      <td>21.0</td>\n",
       "    </tr>\n",
       "    <tr>\n",
       "      <th>468324</th>\n",
       "      <td>222962</td>\n",
       "      <td>54979</td>\n",
       "      <td>59</td>\n",
       "      <td>3</td>\n",
       "      <td>2</td>\n",
       "      <td>3.0</td>\n",
       "    </tr>\n",
       "    <tr>\n",
       "      <th>477526</th>\n",
       "      <td>2592344</td>\n",
       "      <td>46860</td>\n",
       "      <td>38</td>\n",
       "      <td>3</td>\n",
       "      <td>2</td>\n",
       "      <td>3.0</td>\n",
       "    </tr>\n",
       "  </tbody>\n",
       "</table>\n",
       "<p>121 rows × 6 columns</p>\n",
       "</div>"
      ],
      "text/plain": [
       "        order_id  user_id  order_number  order_dow  order_hour_of_day  \\\n",
       "4838     2766110   162084            41          3                  2   \n",
       "5156     2190225   138285            18          3                  2   \n",
       "15506     553049    58599            13          3                  2   \n",
       "18420     382357   120200            19          3                  2   \n",
       "24691     690242    77357             2          3                  2   \n",
       "...          ...      ...           ...        ...                ...   \n",
       "457013   3384021    14881             6          3                  2   \n",
       "458816    910166   164782            18          3                  2   \n",
       "459635   1680532   106435             6          3                  2   \n",
       "468324    222962    54979            59          3                  2   \n",
       "477526   2592344    46860            38          3                  2   \n",
       "\n",
       "        days_since_prior_order  \n",
       "4838                      16.0  \n",
       "5156                      11.0  \n",
       "15506                      7.0  \n",
       "18420                     11.0  \n",
       "24691                      9.0  \n",
       "...                        ...  \n",
       "457013                    30.0  \n",
       "458816                     4.0  \n",
       "459635                    21.0  \n",
       "468324                     3.0  \n",
       "477526                     3.0  \n",
       "\n",
       "[121 rows x 6 columns]"
      ]
     },
     "execution_count": 4,
     "metadata": {},
     "output_type": "execute_result"
    }
   ],
   "source": [
    "# Check for all orders placed Wednesday at 2:00 AM\n",
    "\n",
    "# If Monday = 0 -> Wednesday = 2\n",
    "\n",
    "# Return/print all rows that meet condition \n",
    "orders.query(\"order_dow == 3 and order_hour_of_day == 2\") \n",
    "\n",
    "# Determines Total Count of Orders\n",
    "# orders.query(\"order_dow == 2 and order_hour_of_day == 2\")['order_id'].count()"
   ]
  },
  {
   "cell_type": "markdown",
   "id": "13d0046f",
   "metadata": {},
   "source": [
    "Outcome -> There were 136 orders that happened on Wednesday at 2 AM"
   ]
  },
  {
   "cell_type": "code",
   "execution_count": 5,
   "id": "0c51099d",
   "metadata": {},
   "outputs": [],
   "source": [
    "# Remove duplicate orders\n",
    "\n",
    "# Remove duplicated order ids and set inplace to true to overwrite changes\n",
    "orders.drop_duplicates(subset=['order_id'], inplace=True)"
   ]
  },
  {
   "cell_type": "code",
   "execution_count": 6,
   "id": "0b2396a2",
   "metadata": {},
   "outputs": [
    {
     "data": {
      "text/html": [
       "<div>\n",
       "<style scoped>\n",
       "    .dataframe tbody tr th:only-of-type {\n",
       "        vertical-align: middle;\n",
       "    }\n",
       "\n",
       "    .dataframe tbody tr th {\n",
       "        vertical-align: top;\n",
       "    }\n",
       "\n",
       "    .dataframe thead th {\n",
       "        text-align: right;\n",
       "    }\n",
       "</style>\n",
       "<table border=\"1\" class=\"dataframe\">\n",
       "  <thead>\n",
       "    <tr style=\"text-align: right;\">\n",
       "      <th></th>\n",
       "      <th>order_id</th>\n",
       "      <th>user_id</th>\n",
       "      <th>order_number</th>\n",
       "      <th>order_dow</th>\n",
       "      <th>order_hour_of_day</th>\n",
       "      <th>days_since_prior_order</th>\n",
       "    </tr>\n",
       "  </thead>\n",
       "  <tbody>\n",
       "  </tbody>\n",
       "</table>\n",
       "</div>"
      ],
      "text/plain": [
       "Empty DataFrame\n",
       "Columns: [order_id, user_id, order_number, order_dow, order_hour_of_day, days_since_prior_order]\n",
       "Index: []"
      ]
     },
     "execution_count": 6,
     "metadata": {},
     "output_type": "execute_result"
    }
   ],
   "source": [
    "# Double check for duplicate rows\n",
    "\n",
    "# Using same logic as I did earlier. \n",
    "# Outcome -> No longer returns duplicate order ids\n",
    "orders[orders.duplicated(keep=False)].sort_values(by='order_id')"
   ]
  },
  {
   "cell_type": "code",
   "execution_count": 7,
   "id": "f6113ef1",
   "metadata": {},
   "outputs": [
    {
     "data": {
      "text/html": [
       "<div>\n",
       "<style scoped>\n",
       "    .dataframe tbody tr th:only-of-type {\n",
       "        vertical-align: middle;\n",
       "    }\n",
       "\n",
       "    .dataframe tbody tr th {\n",
       "        vertical-align: top;\n",
       "    }\n",
       "\n",
       "    .dataframe thead th {\n",
       "        text-align: right;\n",
       "    }\n",
       "</style>\n",
       "<table border=\"1\" class=\"dataframe\">\n",
       "  <thead>\n",
       "    <tr style=\"text-align: right;\">\n",
       "      <th></th>\n",
       "      <th>order_id</th>\n",
       "      <th>user_id</th>\n",
       "      <th>order_number</th>\n",
       "      <th>order_dow</th>\n",
       "      <th>order_hour_of_day</th>\n",
       "      <th>days_since_prior_order</th>\n",
       "    </tr>\n",
       "  </thead>\n",
       "  <tbody>\n",
       "  </tbody>\n",
       "</table>\n",
       "</div>"
      ],
      "text/plain": [
       "Empty DataFrame\n",
       "Columns: [order_id, user_id, order_number, order_dow, order_hour_of_day, days_since_prior_order]\n",
       "Index: []"
      ]
     },
     "execution_count": 7,
     "metadata": {},
     "output_type": "execute_result"
    }
   ],
   "source": [
    "# Double check for duplicate order IDs only\n",
    "orders[orders.duplicated(subset=['order_id'], keep=False)].sort_values(by='order_id')"
   ]
  },
  {
   "cell_type": "markdown",
   "id": "45e6bc46",
   "metadata": {},
   "source": [
    "### `products` data frame"
   ]
  },
  {
   "cell_type": "code",
   "execution_count": 8,
   "id": "5f526b5b-8175-46fa-a0fd-441767d50e64",
   "metadata": {},
   "outputs": [
    {
     "data": {
      "text/html": [
       "<div>\n",
       "<style scoped>\n",
       "    .dataframe tbody tr th:only-of-type {\n",
       "        vertical-align: middle;\n",
       "    }\n",
       "\n",
       "    .dataframe tbody tr th {\n",
       "        vertical-align: top;\n",
       "    }\n",
       "\n",
       "    .dataframe thead th {\n",
       "        text-align: right;\n",
       "    }\n",
       "</style>\n",
       "<table border=\"1\" class=\"dataframe\">\n",
       "  <thead>\n",
       "    <tr style=\"text-align: right;\">\n",
       "      <th></th>\n",
       "      <th>product_id</th>\n",
       "      <th>product_name</th>\n",
       "      <th>aisle_id</th>\n",
       "      <th>department_id</th>\n",
       "    </tr>\n",
       "  </thead>\n",
       "  <tbody>\n",
       "  </tbody>\n",
       "</table>\n",
       "</div>"
      ],
      "text/plain": [
       "Empty DataFrame\n",
       "Columns: [product_id, product_name, aisle_id, department_id]\n",
       "Index: []"
      ]
     },
     "execution_count": 8,
     "metadata": {},
     "output_type": "execute_result"
    }
   ],
   "source": [
    "# Check for fully duplicate rows\n",
    "products[products.duplicated(keep=False)]"
   ]
  },
  {
   "cell_type": "code",
   "execution_count": 9,
   "id": "88daa4f4",
   "metadata": {},
   "outputs": [
    {
     "data": {
      "text/html": [
       "<div>\n",
       "<style scoped>\n",
       "    .dataframe tbody tr th:only-of-type {\n",
       "        vertical-align: middle;\n",
       "    }\n",
       "\n",
       "    .dataframe tbody tr th {\n",
       "        vertical-align: top;\n",
       "    }\n",
       "\n",
       "    .dataframe thead th {\n",
       "        text-align: right;\n",
       "    }\n",
       "</style>\n",
       "<table border=\"1\" class=\"dataframe\">\n",
       "  <thead>\n",
       "    <tr style=\"text-align: right;\">\n",
       "      <th></th>\n",
       "      <th>product_id</th>\n",
       "      <th>product_name</th>\n",
       "      <th>aisle_id</th>\n",
       "      <th>department_id</th>\n",
       "    </tr>\n",
       "  </thead>\n",
       "  <tbody>\n",
       "  </tbody>\n",
       "</table>\n",
       "</div>"
      ],
      "text/plain": [
       "Empty DataFrame\n",
       "Columns: [product_id, product_name, aisle_id, department_id]\n",
       "Index: []"
      ]
     },
     "execution_count": 9,
     "metadata": {},
     "output_type": "execute_result"
    }
   ],
   "source": [
    "# Check for just duplicate product IDs\n",
    "products[products.duplicated(subset=['product_id'], keep=False)].sort_values(by='product_id')"
   ]
  },
  {
   "cell_type": "markdown",
   "id": "6ade574f",
   "metadata": {},
   "source": [
    "Outcome -> No fully duplicated rows or duplicated product ids"
   ]
  },
  {
   "cell_type": "code",
   "execution_count": 10,
   "id": "c773f0bf",
   "metadata": {},
   "outputs": [
    {
     "data": {
      "text/html": [
       "<div>\n",
       "<style scoped>\n",
       "    .dataframe tbody tr th:only-of-type {\n",
       "        vertical-align: middle;\n",
       "    }\n",
       "\n",
       "    .dataframe tbody tr th {\n",
       "        vertical-align: top;\n",
       "    }\n",
       "\n",
       "    .dataframe thead th {\n",
       "        text-align: right;\n",
       "    }\n",
       "</style>\n",
       "<table border=\"1\" class=\"dataframe\">\n",
       "  <thead>\n",
       "    <tr style=\"text-align: right;\">\n",
       "      <th></th>\n",
       "      <th>product_id</th>\n",
       "      <th>product_name</th>\n",
       "      <th>aisle_id</th>\n",
       "      <th>department_id</th>\n",
       "      <th>lower_product_name</th>\n",
       "    </tr>\n",
       "  </thead>\n",
       "  <tbody>\n",
       "    <tr>\n",
       "      <th>23339</th>\n",
       "      <td>23340</td>\n",
       "      <td>18-in-1 Hemp Peppermint Pure-Castile Soap</td>\n",
       "      <td>25</td>\n",
       "      <td>11</td>\n",
       "      <td>18-in-1 hemp peppermint pure-castile soap</td>\n",
       "    </tr>\n",
       "    <tr>\n",
       "      <th>31844</th>\n",
       "      <td>31845</td>\n",
       "      <td>18-In-1 Hemp Peppermint Pure-Castile Soap</td>\n",
       "      <td>25</td>\n",
       "      <td>11</td>\n",
       "      <td>18-in-1 hemp peppermint pure-castile soap</td>\n",
       "    </tr>\n",
       "    <tr>\n",
       "      <th>19941</th>\n",
       "      <td>19942</td>\n",
       "      <td>Aged Balsamic Vinegar Of Modena</td>\n",
       "      <td>19</td>\n",
       "      <td>13</td>\n",
       "      <td>aged balsamic vinegar of modena</td>\n",
       "    </tr>\n",
       "    <tr>\n",
       "      <th>13152</th>\n",
       "      <td>13153</td>\n",
       "      <td>Aged Balsamic Vinegar of Modena</td>\n",
       "      <td>19</td>\n",
       "      <td>13</td>\n",
       "      <td>aged balsamic vinegar of modena</td>\n",
       "    </tr>\n",
       "    <tr>\n",
       "      <th>24830</th>\n",
       "      <td>24831</td>\n",
       "      <td>Albacore Solid White Tuna in Water</td>\n",
       "      <td>95</td>\n",
       "      <td>15</td>\n",
       "      <td>albacore solid white tuna in water</td>\n",
       "    </tr>\n",
       "    <tr>\n",
       "      <th>...</th>\n",
       "      <td>...</td>\n",
       "      <td>...</td>\n",
       "      <td>...</td>\n",
       "      <td>...</td>\n",
       "      <td>...</td>\n",
       "    </tr>\n",
       "    <tr>\n",
       "      <th>49552</th>\n",
       "      <td>49553</td>\n",
       "      <td>NaN</td>\n",
       "      <td>100</td>\n",
       "      <td>21</td>\n",
       "      <td>NaN</td>\n",
       "    </tr>\n",
       "    <tr>\n",
       "      <th>49574</th>\n",
       "      <td>49575</td>\n",
       "      <td>NaN</td>\n",
       "      <td>100</td>\n",
       "      <td>21</td>\n",
       "      <td>NaN</td>\n",
       "    </tr>\n",
       "    <tr>\n",
       "      <th>49640</th>\n",
       "      <td>49641</td>\n",
       "      <td>NaN</td>\n",
       "      <td>100</td>\n",
       "      <td>21</td>\n",
       "      <td>NaN</td>\n",
       "    </tr>\n",
       "    <tr>\n",
       "      <th>49663</th>\n",
       "      <td>49664</td>\n",
       "      <td>NaN</td>\n",
       "      <td>100</td>\n",
       "      <td>21</td>\n",
       "      <td>NaN</td>\n",
       "    </tr>\n",
       "    <tr>\n",
       "      <th>49668</th>\n",
       "      <td>49669</td>\n",
       "      <td>NaN</td>\n",
       "      <td>100</td>\n",
       "      <td>21</td>\n",
       "      <td>NaN</td>\n",
       "    </tr>\n",
       "  </tbody>\n",
       "</table>\n",
       "<p>1465 rows × 5 columns</p>\n",
       "</div>"
      ],
      "text/plain": [
       "       product_id                               product_name  aisle_id  \\\n",
       "23339       23340  18-in-1 Hemp Peppermint Pure-Castile Soap        25   \n",
       "31844       31845  18-In-1 Hemp Peppermint Pure-Castile Soap        25   \n",
       "19941       19942            Aged Balsamic Vinegar Of Modena        19   \n",
       "13152       13153            Aged Balsamic Vinegar of Modena        19   \n",
       "24830       24831         Albacore Solid White Tuna in Water        95   \n",
       "...           ...                                        ...       ...   \n",
       "49552       49553                                        NaN       100   \n",
       "49574       49575                                        NaN       100   \n",
       "49640       49641                                        NaN       100   \n",
       "49663       49664                                        NaN       100   \n",
       "49668       49669                                        NaN       100   \n",
       "\n",
       "       department_id                         lower_product_name  \n",
       "23339             11  18-in-1 hemp peppermint pure-castile soap  \n",
       "31844             11  18-in-1 hemp peppermint pure-castile soap  \n",
       "19941             13            aged balsamic vinegar of modena  \n",
       "13152             13            aged balsamic vinegar of modena  \n",
       "24830             15         albacore solid white tuna in water  \n",
       "...              ...                                        ...  \n",
       "49552             21                                        NaN  \n",
       "49574             21                                        NaN  \n",
       "49640             21                                        NaN  \n",
       "49663             21                                        NaN  \n",
       "49668             21                                        NaN  \n",
       "\n",
       "[1465 rows x 5 columns]"
      ]
     },
     "execution_count": 10,
     "metadata": {},
     "output_type": "execute_result"
    }
   ],
   "source": [
    "# Check for just duplicate product names (convert names to lowercase to compare better)\n",
    "\n",
    "#Create a column in the df that converts product name to be lowercase\n",
    "products['lower_product_name'] = products['product_name'].str.lower()\n",
    "\n",
    "#Check for dupes on lowered product name column\n",
    "products[products.duplicated(subset=['lower_product_name'], keep=False)].sort_values(by='lower_product_name')"
   ]
  },
  {
   "cell_type": "markdown",
   "id": "d732ba42",
   "metadata": {},
   "source": [
    "Outcome -> \n",
    "- There are product names that are duplicated but have different product ids\n",
    "- There are also missing product names for some product ids"
   ]
  },
  {
   "cell_type": "code",
   "execution_count": 11,
   "id": "01efd02e",
   "metadata": {},
   "outputs": [
    {
     "data": {
      "text/html": [
       "<div>\n",
       "<style scoped>\n",
       "    .dataframe tbody tr th:only-of-type {\n",
       "        vertical-align: middle;\n",
       "    }\n",
       "\n",
       "    .dataframe tbody tr th {\n",
       "        vertical-align: top;\n",
       "    }\n",
       "\n",
       "    .dataframe thead th {\n",
       "        text-align: right;\n",
       "    }\n",
       "</style>\n",
       "<table border=\"1\" class=\"dataframe\">\n",
       "  <thead>\n",
       "    <tr style=\"text-align: right;\">\n",
       "      <th></th>\n",
       "      <th>product_id</th>\n",
       "      <th>product_name</th>\n",
       "      <th>aisle_id</th>\n",
       "      <th>department_id</th>\n",
       "      <th>lower_product_name</th>\n",
       "    </tr>\n",
       "  </thead>\n",
       "  <tbody>\n",
       "    <tr>\n",
       "      <th>23339</th>\n",
       "      <td>23340</td>\n",
       "      <td>18-in-1 Hemp Peppermint Pure-Castile Soap</td>\n",
       "      <td>25</td>\n",
       "      <td>11</td>\n",
       "      <td>18-in-1 hemp peppermint pure-castile soap</td>\n",
       "    </tr>\n",
       "    <tr>\n",
       "      <th>31844</th>\n",
       "      <td>31845</td>\n",
       "      <td>18-In-1 Hemp Peppermint Pure-Castile Soap</td>\n",
       "      <td>25</td>\n",
       "      <td>11</td>\n",
       "      <td>18-in-1 hemp peppermint pure-castile soap</td>\n",
       "    </tr>\n",
       "    <tr>\n",
       "      <th>19941</th>\n",
       "      <td>19942</td>\n",
       "      <td>Aged Balsamic Vinegar Of Modena</td>\n",
       "      <td>19</td>\n",
       "      <td>13</td>\n",
       "      <td>aged balsamic vinegar of modena</td>\n",
       "    </tr>\n",
       "    <tr>\n",
       "      <th>13152</th>\n",
       "      <td>13153</td>\n",
       "      <td>Aged Balsamic Vinegar of Modena</td>\n",
       "      <td>19</td>\n",
       "      <td>13</td>\n",
       "      <td>aged balsamic vinegar of modena</td>\n",
       "    </tr>\n",
       "    <tr>\n",
       "      <th>24830</th>\n",
       "      <td>24831</td>\n",
       "      <td>Albacore Solid White Tuna in Water</td>\n",
       "      <td>95</td>\n",
       "      <td>15</td>\n",
       "      <td>albacore solid white tuna in water</td>\n",
       "    </tr>\n",
       "    <tr>\n",
       "      <th>...</th>\n",
       "      <td>...</td>\n",
       "      <td>...</td>\n",
       "      <td>...</td>\n",
       "      <td>...</td>\n",
       "      <td>...</td>\n",
       "    </tr>\n",
       "    <tr>\n",
       "      <th>46873</th>\n",
       "      <td>46874</td>\n",
       "      <td>Vitamin D3 5000 IU</td>\n",
       "      <td>47</td>\n",
       "      <td>11</td>\n",
       "      <td>vitamin d3 5000 iu</td>\n",
       "    </tr>\n",
       "    <tr>\n",
       "      <th>21366</th>\n",
       "      <td>21367</td>\n",
       "      <td>Wild Sardines in Spring Water</td>\n",
       "      <td>95</td>\n",
       "      <td>15</td>\n",
       "      <td>wild sardines in spring water</td>\n",
       "    </tr>\n",
       "    <tr>\n",
       "      <th>40093</th>\n",
       "      <td>40094</td>\n",
       "      <td>Wild Sardines In Spring Water</td>\n",
       "      <td>95</td>\n",
       "      <td>15</td>\n",
       "      <td>wild sardines in spring water</td>\n",
       "    </tr>\n",
       "    <tr>\n",
       "      <th>1826</th>\n",
       "      <td>1827</td>\n",
       "      <td>Yams Cut Sweet Potatoes in Syrup</td>\n",
       "      <td>81</td>\n",
       "      <td>15</td>\n",
       "      <td>yams cut sweet potatoes in syrup</td>\n",
       "    </tr>\n",
       "    <tr>\n",
       "      <th>38260</th>\n",
       "      <td>38261</td>\n",
       "      <td>Yams Cut Sweet Potatoes In Syrup</td>\n",
       "      <td>81</td>\n",
       "      <td>15</td>\n",
       "      <td>yams cut sweet potatoes in syrup</td>\n",
       "    </tr>\n",
       "  </tbody>\n",
       "</table>\n",
       "<p>207 rows × 5 columns</p>\n",
       "</div>"
      ],
      "text/plain": [
       "       product_id                               product_name  aisle_id  \\\n",
       "23339       23340  18-in-1 Hemp Peppermint Pure-Castile Soap        25   \n",
       "31844       31845  18-In-1 Hemp Peppermint Pure-Castile Soap        25   \n",
       "19941       19942            Aged Balsamic Vinegar Of Modena        19   \n",
       "13152       13153            Aged Balsamic Vinegar of Modena        19   \n",
       "24830       24831         Albacore Solid White Tuna in Water        95   \n",
       "...           ...                                        ...       ...   \n",
       "46873       46874                         Vitamin D3 5000 IU        47   \n",
       "21366       21367              Wild Sardines in Spring Water        95   \n",
       "40093       40094              Wild Sardines In Spring Water        95   \n",
       "1826         1827           Yams Cut Sweet Potatoes in Syrup        81   \n",
       "38260       38261           Yams Cut Sweet Potatoes In Syrup        81   \n",
       "\n",
       "       department_id                         lower_product_name  \n",
       "23339             11  18-in-1 hemp peppermint pure-castile soap  \n",
       "31844             11  18-in-1 hemp peppermint pure-castile soap  \n",
       "19941             13            aged balsamic vinegar of modena  \n",
       "13152             13            aged balsamic vinegar of modena  \n",
       "24830             15         albacore solid white tuna in water  \n",
       "...              ...                                        ...  \n",
       "46873             11                         vitamin d3 5000 iu  \n",
       "21366             15              wild sardines in spring water  \n",
       "40093             15              wild sardines in spring water  \n",
       "1826              15           yams cut sweet potatoes in syrup  \n",
       "38260             15           yams cut sweet potatoes in syrup  \n",
       "\n",
       "[207 rows x 5 columns]"
      ]
     },
     "execution_count": 11,
     "metadata": {},
     "output_type": "execute_result"
    }
   ],
   "source": [
    "# Check for duplicate product names that aren't missing\n",
    "\n",
    "# Filter out null values from product table\n",
    "products = products[products['lower_product_name'].notnull()]\n",
    "\n",
    "# Check again for duplicates in the lower_product_name column\n",
    "products[products.duplicated(subset=['lower_product_name'], keep=False)].sort_values(by='lower_product_name')"
   ]
  },
  {
   "cell_type": "markdown",
   "id": "0d60cb4b",
   "metadata": {},
   "source": [
    "Outcome -> Even after removing missing product names, there are duplicated product names"
   ]
  },
  {
   "cell_type": "markdown",
   "id": "60f30db1",
   "metadata": {},
   "source": [
    "### `departments` data frame"
   ]
  },
  {
   "cell_type": "code",
   "execution_count": 12,
   "id": "fb410ad4-0fbf-4b80-bb09-23fdea79afe3",
   "metadata": {},
   "outputs": [
    {
     "data": {
      "text/plain": [
       "department_id    0\n",
       "department       0\n",
       "dtype: int64"
      ]
     },
     "execution_count": 12,
     "metadata": {},
     "output_type": "execute_result"
    }
   ],
   "source": [
    "# Not requested but check for duplicates\n",
    "departments[departments.duplicated(subset=['department'], keep=False)].sort_values(by='department')\n",
    "departments[departments.duplicated(subset=['department_id'], keep=False)].sort_values(by='department_id')\n",
    "\n",
    "# Check for missing values\n",
    "departments.isna().sum()"
   ]
  },
  {
   "cell_type": "markdown",
   "id": "57efeb7a",
   "metadata": {},
   "source": [
    "Outcome -> No duplicates found in either field of departments df and no missing values in this dataframe"
   ]
  },
  {
   "cell_type": "markdown",
   "id": "889349c1",
   "metadata": {},
   "source": [
    "### `aisles` data frame"
   ]
  },
  {
   "cell_type": "code",
   "execution_count": 13,
   "id": "da7c2822",
   "metadata": {},
   "outputs": [
    {
     "data": {
      "text/plain": [
       "aisle_id    0\n",
       "aisle       0\n",
       "dtype: int64"
      ]
     },
     "execution_count": 13,
     "metadata": {},
     "output_type": "execute_result"
    }
   ],
   "source": [
    "# Not requested but check for duplicates\n",
    "aisles[aisles.duplicated(subset=['aisle'], keep=False)].sort_values(by='aisle')\n",
    "aisles[aisles.duplicated(subset=['aisle_id'], keep=False)].sort_values(by='aisle_id')\n",
    "\n",
    "# Check for missing values\n",
    "aisles.isna().sum()\n",
    "# Outcome -> No duplicates found in either field"
   ]
  },
  {
   "cell_type": "markdown",
   "id": "5436fcdf",
   "metadata": {},
   "source": [
    "Outcome -> No duplicates found in either field of aisles df and no missing values in this dataframe"
   ]
  },
  {
   "cell_type": "markdown",
   "id": "274cd06a",
   "metadata": {},
   "source": [
    "### `order_products` data frame"
   ]
  },
  {
   "cell_type": "code",
   "execution_count": 14,
   "id": "52326689-84a8-4b8f-a881-7c68780f62c9",
   "metadata": {},
   "outputs": [
    {
     "data": {
      "text/html": [
       "<div>\n",
       "<style scoped>\n",
       "    .dataframe tbody tr th:only-of-type {\n",
       "        vertical-align: middle;\n",
       "    }\n",
       "\n",
       "    .dataframe tbody tr th {\n",
       "        vertical-align: top;\n",
       "    }\n",
       "\n",
       "    .dataframe thead th {\n",
       "        text-align: right;\n",
       "    }\n",
       "</style>\n",
       "<table border=\"1\" class=\"dataframe\">\n",
       "  <thead>\n",
       "    <tr style=\"text-align: right;\">\n",
       "      <th></th>\n",
       "      <th>order_id</th>\n",
       "      <th>product_id</th>\n",
       "      <th>add_to_cart_order</th>\n",
       "      <th>reordered</th>\n",
       "    </tr>\n",
       "  </thead>\n",
       "  <tbody>\n",
       "  </tbody>\n",
       "</table>\n",
       "</div>"
      ],
      "text/plain": [
       "Empty DataFrame\n",
       "Columns: [order_id, product_id, add_to_cart_order, reordered]\n",
       "Index: []"
      ]
     },
     "execution_count": 14,
     "metadata": {},
     "output_type": "execute_result"
    }
   ],
   "source": [
    "# Check for fully duplicate rows\n",
    "order_products[order_products.duplicated(keep=False)]"
   ]
  },
  {
   "cell_type": "code",
   "execution_count": 15,
   "id": "7b861391",
   "metadata": {},
   "outputs": [
    {
     "name": "stdout",
     "output_type": "stream",
     "text": [
      "Empty DataFrame\n",
      "Columns: [order_id, product_id, add_to_cart_order, reordered]\n",
      "Index: []\n"
     ]
    }
   ],
   "source": [
    "# Double check for any other tricky duplicates\n",
    "\n",
    "# Check for duplicates in the set of columns 'order_id' and 'product_id'\n",
    "print(order_products[order_products.duplicated(subset=['order_id', 'product_id'], keep=False)])"
   ]
  },
  {
   "cell_type": "markdown",
   "id": "2430f6b1",
   "metadata": {},
   "source": [
    "Outcome -> No duplicates found in this combination of fields in order_products df"
   ]
  },
  {
   "cell_type": "markdown",
   "id": "1e46de76",
   "metadata": {},
   "source": [
    "## Find and remove missing values\n"
   ]
  },
  {
   "cell_type": "markdown",
   "id": "c0aebd78",
   "metadata": {},
   "source": [
    "### `products` data frame"
   ]
  },
  {
   "cell_type": "code",
   "execution_count": 16,
   "id": "e96167bc",
   "metadata": {},
   "outputs": [
    {
     "data": {
      "text/html": [
       "<div>\n",
       "<style scoped>\n",
       "    .dataframe tbody tr th:only-of-type {\n",
       "        vertical-align: middle;\n",
       "    }\n",
       "\n",
       "    .dataframe tbody tr th {\n",
       "        vertical-align: top;\n",
       "    }\n",
       "\n",
       "    .dataframe thead th {\n",
       "        text-align: right;\n",
       "    }\n",
       "</style>\n",
       "<table border=\"1\" class=\"dataframe\">\n",
       "  <thead>\n",
       "    <tr style=\"text-align: right;\">\n",
       "      <th></th>\n",
       "      <th></th>\n",
       "      <th>product_id</th>\n",
       "      <th>product_name</th>\n",
       "      <th>lower_product_name</th>\n",
       "    </tr>\n",
       "    <tr>\n",
       "      <th>aisle_id</th>\n",
       "      <th>department_id</th>\n",
       "      <th></th>\n",
       "      <th></th>\n",
       "      <th></th>\n",
       "    </tr>\n",
       "  </thead>\n",
       "  <tbody>\n",
       "  </tbody>\n",
       "</table>\n",
       "</div>"
      ],
      "text/plain": [
       "Empty DataFrame\n",
       "Columns: [product_id, product_name, lower_product_name]\n",
       "Index: []"
      ]
     },
     "execution_count": 16,
     "metadata": {},
     "output_type": "execute_result"
    }
   ],
   "source": [
    "# Are all of the missing product names associated with aisle ID 100?\n",
    "\n",
    "# Filter df to only include missing vales \n",
    "# Group by aisle id and department id and count missing values\n",
    "products[products['product_name'].isna()].groupby(by = ['aisle_id','department_id']).count()\n"
   ]
  },
  {
   "cell_type": "code",
   "execution_count": 17,
   "id": "8fd0a541",
   "metadata": {},
   "outputs": [
    {
     "data": {
      "text/html": [
       "<div>\n",
       "<style scoped>\n",
       "    .dataframe tbody tr th:only-of-type {\n",
       "        vertical-align: middle;\n",
       "    }\n",
       "\n",
       "    .dataframe tbody tr th {\n",
       "        vertical-align: top;\n",
       "    }\n",
       "\n",
       "    .dataframe thead th {\n",
       "        text-align: right;\n",
       "    }\n",
       "</style>\n",
       "<table border=\"1\" class=\"dataframe\">\n",
       "  <thead>\n",
       "    <tr style=\"text-align: right;\">\n",
       "      <th></th>\n",
       "      <th></th>\n",
       "      <th>product_id</th>\n",
       "      <th>product_name</th>\n",
       "      <th>lower_product_name</th>\n",
       "    </tr>\n",
       "    <tr>\n",
       "      <th>aisle_id</th>\n",
       "      <th>department_id</th>\n",
       "      <th></th>\n",
       "      <th></th>\n",
       "      <th></th>\n",
       "    </tr>\n",
       "  </thead>\n",
       "  <tbody>\n",
       "  </tbody>\n",
       "</table>\n",
       "</div>"
      ],
      "text/plain": [
       "Empty DataFrame\n",
       "Columns: [product_id, product_name, lower_product_name]\n",
       "Index: []"
      ]
     },
     "execution_count": 17,
     "metadata": {},
     "output_type": "execute_result"
    }
   ],
   "source": [
    "# Are all of the missing product names associated with department ID 21?\n",
    "\n",
    "# Filter df to only include missing vales \n",
    "# Group by aisle id and department id and count missing values\n",
    "products[products['product_name'].isna()].groupby(by = ['aisle_id','department_id']).count()\n"
   ]
  },
  {
   "cell_type": "code",
   "execution_count": 18,
   "id": "325c3464",
   "metadata": {},
   "outputs": [
    {
     "name": "stdout",
     "output_type": "stream",
     "text": [
      "    aisle_id    aisle\n",
      "99       100  missing\n",
      "    department_id department\n",
      "20             21    missing\n"
     ]
    }
   ],
   "source": [
    "# What is this ailse and department?\n",
    "\n",
    "# Easy option is to look up these values in the aisle and department tables\n",
    "# More complex option is to join to aisle and department tables to get the names of these aisles and departments\n",
    "# Taking the easy option at the moment \n",
    "\n",
    "# Which aisle is aisle id 100\n",
    "print(aisles[aisles['aisle_id'] == 100])\n",
    "\n",
    "#Which department is department id 21\n",
    "print(departments[departments['department_id'] == 21])\n"
   ]
  },
  {
   "cell_type": "markdown",
   "id": "6d2916eb",
   "metadata": {},
   "source": [
    "Outcome -> When checking for missing product names in the products df\n",
    "- All of the missing product names are associated with aisle ID 100\n",
    "- All missing product names are associated with department ID 21\n",
    "- When checking the name of both of these department and aisle ids, both aisle_id = 100 and department_id = 21 return 'missing' as their respective name\n",
    "\n",
    "In the next step, going to replace missing values with the string 'Unknown'"
   ]
  },
  {
   "cell_type": "code",
   "execution_count": 19,
   "id": "6b295120",
   "metadata": {},
   "outputs": [
    {
     "data": {
      "text/html": [
       "<div>\n",
       "<style scoped>\n",
       "    .dataframe tbody tr th:only-of-type {\n",
       "        vertical-align: middle;\n",
       "    }\n",
       "\n",
       "    .dataframe tbody tr th {\n",
       "        vertical-align: top;\n",
       "    }\n",
       "\n",
       "    .dataframe thead th {\n",
       "        text-align: right;\n",
       "    }\n",
       "</style>\n",
       "<table border=\"1\" class=\"dataframe\">\n",
       "  <thead>\n",
       "    <tr style=\"text-align: right;\">\n",
       "      <th></th>\n",
       "      <th>product_id</th>\n",
       "      <th>product_name</th>\n",
       "      <th>aisle_id</th>\n",
       "      <th>department_id</th>\n",
       "      <th>lower_product_name</th>\n",
       "    </tr>\n",
       "  </thead>\n",
       "  <tbody>\n",
       "  </tbody>\n",
       "</table>\n",
       "</div>"
      ],
      "text/plain": [
       "Empty DataFrame\n",
       "Columns: [product_id, product_name, aisle_id, department_id, lower_product_name]\n",
       "Index: []"
      ]
     },
     "execution_count": 19,
     "metadata": {},
     "output_type": "execute_result"
    }
   ],
   "source": [
    "# Fill missing product names with 'Unknown'\n",
    "products['product_name'] = products['product_name'].fillna('Unknown')\n",
    "\n",
    "# Check to see if there are still any missing product names \n",
    "products[products['product_name'].isna()]"
   ]
  },
  {
   "cell_type": "markdown",
   "id": "b5268890",
   "metadata": {},
   "source": [
    "Outcome -> There are no longer missing product names after replacing the missing values with the string 'Unknown'"
   ]
  },
  {
   "cell_type": "markdown",
   "id": "7eb45c86",
   "metadata": {},
   "source": [
    "### `orders` data frame"
   ]
  },
  {
   "cell_type": "code",
   "execution_count": 20,
   "id": "166e5a86",
   "metadata": {},
   "outputs": [
    {
     "data": {
      "text/plain": [
       "order_id                  0\n",
       "user_id                   0\n",
       "order_number              0\n",
       "order_dow                 0\n",
       "order_hour_of_day         0\n",
       "days_since_prior_order    0\n",
       "dtype: int64"
      ]
     },
     "execution_count": 20,
     "metadata": {},
     "output_type": "execute_result"
    }
   ],
   "source": [
    "# Are there any missing values where it's not a customer's first order?\n",
    "\n",
    "# Assumption -> When the order number is greater than 1 then the customer has already placed their first order\n",
    "orders[orders['order_number'] > 1].isnull().sum()"
   ]
  },
  {
   "cell_type": "markdown",
   "id": "bd84ce81",
   "metadata": {},
   "source": [
    "Outcome -> There aren't any missing values in any column of the orders df where it's not a customer's first order"
   ]
  },
  {
   "cell_type": "markdown",
   "id": "4e23d089",
   "metadata": {},
   "source": []
  },
  {
   "cell_type": "markdown",
   "id": "69dc9ca4",
   "metadata": {},
   "source": [
    "### `order_products` data frame"
   ]
  },
  {
   "cell_type": "code",
   "execution_count": 21,
   "id": "9a78e5ee",
   "metadata": {},
   "outputs": [
    {
     "name": "stdout",
     "output_type": "stream",
     "text": [
      "The min of add_to_cart_order is 1.0\n",
      "The max of add_to_cart_order is 64.0\n"
     ]
    }
   ],
   "source": [
    "# What are the min and max values in this column?\n",
    "\n",
    "# Assuming that you're asking to take the min and max of add_to_cart_order?\n",
    "\n",
    "print('The min of add_to_cart_order is', order_products['add_to_cart_order'].min())\n",
    "print('The max of add_to_cart_order is', order_products['add_to_cart_order'].max())"
   ]
  },
  {
   "cell_type": "code",
   "execution_count": 22,
   "id": "ab9d0c2b",
   "metadata": {},
   "outputs": [
    {
     "data": {
      "text/plain": [
       "array([2449164, 1968313, 2926893, 1717990, 1959075,  844733,   61355,\n",
       "        936852,  264710, 1564093,  129627,  293169, 2849370, 1386261,\n",
       "       3308010,  903110, 2136777, 3347453, 1888628,  165801, 2094761,\n",
       "       1038146, 2997021,  813364, 2256933,  171934, 2409109, 1730767,\n",
       "       1169835,  733526,  404157, 3125735,  747668, 1800005, 1961723,\n",
       "        871281,  388234, 1648217, 1477139,  102236, 1021563, 1832957,\n",
       "       2721963,  678116, 1220886, 1673227, 2999801, 1633337, 2470674,\n",
       "       2625444, 1677118, 2479011, 3383594, 1183255, 1713430, 2652650,\n",
       "       1598369, 1916118,  854647, 1302315,  888470,  180546, 2621907,\n",
       "       1308785, 2729254,    9310, 2170451, 2979697, 1625713, 1529171])"
      ]
     },
     "execution_count": 22,
     "metadata": {},
     "output_type": "execute_result"
    }
   ],
   "source": [
    "# Save all order IDs with at least one missing value in 'add_to_cart_order'\n",
    "# Assumption -> This means to create a list of order ids with a least one missing value in 'add_to_cart_order'\n",
    "\n",
    "# Determine which orders have a missing value in them \n",
    "order_ids = order_products[order_products['add_to_cart_order'].isnull()].reset_index(drop=True)\n",
    "\n",
    "# Get the distinct order ids that have at least one missing value in them\n",
    "order_ids = order_ids['order_id'].unique()\n",
    "\n",
    "# Print list of those order ids\n",
    "order_ids"
   ]
  },
  {
   "cell_type": "code",
   "execution_count": 23,
   "id": "54c31695",
   "metadata": {},
   "outputs": [
    {
     "data": {
      "text/plain": [
       "65"
      ]
     },
     "execution_count": 23,
     "metadata": {},
     "output_type": "execute_result"
    }
   ],
   "source": [
    "# Do all orders with missing values have more than 64 products?\n",
    "\n",
    "# Get order ids with at least one missing value in add_to_cart_order\n",
    "orders_ids = order_products[order_products['add_to_cart_order'].isna()]['order_id'].unique()\n",
    "\n",
    "# Return dataframe of orders where the order ids are the ids with missing values\n",
    "order_info = order_products[order_products['order_id'].isin(order_ids)]\n",
    "\n",
    "# Count the number of products in each order\n",
    "products_per_order = order_info.groupby('order_id')['product_id'].count().sort_values()\n",
    "\n",
    "#Check if there are any orders with less than 64 products\n",
    "products_per_order.min()\n",
    "\n",
    "# Outcome -> The lowest number of products in an order with missing values is 65"
   ]
  },
  {
   "cell_type": "markdown",
   "id": "f6e6e322",
   "metadata": {},
   "source": [
    "Outcome -> When there are missing values in the order_products df, all of those orders have more than 65 items in the order. We see that when the values aren't missing, the most items added to an order is 64 items."
   ]
  },
  {
   "cell_type": "code",
   "execution_count": 24,
   "id": "7a987d08",
   "metadata": {},
   "outputs": [
    {
     "name": "stdout",
     "output_type": "stream",
     "text": [
      "<class 'pandas.core.frame.DataFrame'>\n",
      "RangeIndex: 4545007 entries, 0 to 4545006\n",
      "Data columns (total 4 columns):\n",
      " #   Column             Dtype\n",
      "---  ------             -----\n",
      " 0   order_id           int64\n",
      " 1   product_id         int64\n",
      " 2   add_to_cart_order  int64\n",
      " 3   reordered          int64\n",
      "dtypes: int64(4)\n",
      "memory usage: 138.7 MB\n"
     ]
    }
   ],
   "source": [
    "# Replace missing values with 999 and convert column to integer type\n",
    "\n",
    "# Fill missing values with 999 and then convert column to int\n",
    "order_products['add_to_cart_order'] = order_products['add_to_cart_order'].fillna(999).astype(np.int64)\n",
    "\n",
    "# Check if series converted from float to int -> Confirmed that converted to interger\n",
    "order_products.info()"
   ]
  },
  {
   "cell_type": "markdown",
   "id": "7e613ae1",
   "metadata": {},
   "source": []
  },
  {
   "cell_type": "markdown",
   "id": "turkish-kidney",
   "metadata": {},
   "source": [
    "# [A] Easy (must complete all to pass)"
   ]
  },
  {
   "cell_type": "markdown",
   "id": "short-capability",
   "metadata": {},
   "source": [
    "### [A1] Verify that the `'order_hour_of_day'` and `'order_dow'` values in the `orders` tables are sensible (i.e. `'order_hour_of_day'` ranges from 0 to 23 and `'order_dow'` ranges from 0 to 6)"
   ]
  },
  {
   "cell_type": "code",
   "execution_count": 25,
   "id": "growing-fruit",
   "metadata": {},
   "outputs": [
    {
     "name": "stdout",
     "output_type": "stream",
     "text": [
      "Empty DataFrame\n",
      "Columns: [order_id, user_id, order_number, order_dow, order_hour_of_day, days_since_prior_order]\n",
      "Index: []\n",
      "[0, 1, 2, 3, 4, 5, 6, 7, 8, 9, 10, 11, 12, 13, 14, 15, 16, 17, 18, 19, 20, 21, 22, 23]\n"
     ]
    }
   ],
   "source": [
    "# Validating 'order_hour_of_day' first\n",
    "# Return table that contains order_hour_of_day less than 0 or greater than 23\n",
    "print(orders[(0 < orders['order_hour_of_day']) & (orders['order_hour_of_day'] > 23)])\n",
    "\n",
    "# Return unique values in order_hour_of_day sorted from low to high to visually check the values \n",
    "print(sorted(orders['order_hour_of_day'].unique()))"
   ]
  },
  {
   "cell_type": "markdown",
   "id": "a9d8493e",
   "metadata": {},
   "source": []
  },
  {
   "cell_type": "code",
   "execution_count": 26,
   "id": "accessory-malaysia",
   "metadata": {},
   "outputs": [
    {
     "name": "stdout",
     "output_type": "stream",
     "text": [
      "Empty DataFrame\n",
      "Columns: [order_id, user_id, order_number, order_dow, order_hour_of_day, days_since_prior_order]\n",
      "Index: []\n"
     ]
    },
    {
     "data": {
      "text/plain": [
       "[0, 1, 2, 3, 4, 5, 6]"
      ]
     },
     "execution_count": 26,
     "metadata": {},
     "output_type": "execute_result"
    }
   ],
   "source": [
    "# Validating 'order_dow' second\n",
    "#Return table that contains day of week less than 0 or greater than 6\n",
    "print(orders[(0 < orders['order_dow']) & (orders['order_dow'] > 6)])\n",
    "\n",
    "#Return unique values in order_dow sorted from low to high to visually check the values \n",
    "sorted(orders['order_dow'].unique())"
   ]
  },
  {
   "cell_type": "markdown",
   "id": "bde9c372",
   "metadata": {},
   "source": [
    "Outcome -> Verified that orders['order_hour_of_day'] is between 0 and 23\n",
    "Outcome -> Verified that orders['order_dow'] is between 0 and 6"
   ]
  },
  {
   "cell_type": "markdown",
   "id": "a6743a70",
   "metadata": {},
   "source": [
    "### [A2] What time of day do people shop for groceries?"
   ]
  },
  {
   "cell_type": "code",
   "execution_count": 27,
   "id": "a36cca27",
   "metadata": {},
   "outputs": [
    {
     "name": "stdout",
     "output_type": "stream",
     "text": [
      "The most popular time of the day to shop is 10 am\n"
     ]
    },
    {
     "data": {
      "image/png": "[encoded data removed]",
      "text/plain": [
       "<Figure size 1000x1000 with 1 Axes>"
      ]
     },
     "metadata": {},
     "output_type": "display_data"
    }
   ],
   "source": [
    "# The most popular time of day to shop \n",
    "\n",
    "# Assumption -> The hour with the highest volume of orders will be the most popular time to shop for groceries\n",
    "hourly_max = orders.groupby('order_hour_of_day')['order_id'].count().idxmax()\n",
    "\n",
    "# Output the most popular time of the day to shop\n",
    "print('The most popular time of the day to shop is', hourly_max, 'am')\n",
    "\n",
    "# Save order count by hour to hourly_orders dataframe for viz\n",
    "hourly_orders = orders.groupby('order_hour_of_day')['order_id'].count().to_frame().reset_index()\n",
    "\n",
    "# Plot bar chart for hourly sales \n",
    "# Set configs for bar chart \n",
    "hourly_orders.plot(x = 'order_hour_of_day'\n",
    "                         , y = 'order_id'\n",
    "                         , title = 'Hourly Volume of Instacart Orders'\n",
    "                         , xlabel = 'Hour of Day'\n",
    "                         , ylabel = 'Number of Orders Placed'\n",
    "                         , kind = 'bar'\n",
    "                         , rot = 0\n",
    "                         , figsize=(10,10)\n",
    "                         )\n",
    "\n",
    "# Change legend/series titles\n",
    "plt.legend(['Houlry Sales'])\n",
    "\n",
    "# Show bar chart\n",
    "plt.show() \n"
   ]
  },
  {
   "cell_type": "markdown",
   "id": "documented-command",
   "metadata": {},
   "source": [
    "### [A3] What day of the week do people shop for groceries?"
   ]
  },
  {
   "cell_type": "code",
   "execution_count": 28,
   "id": "chief-digit",
   "metadata": {},
   "outputs": [
    {
     "name": "stdout",
     "output_type": "stream",
     "text": [
      "The most popular time of the week to shop is Monday\n"
     ]
    },
    {
     "data": {
      "image/png": "[encoded data removed]",
      "text/plain": [
       "<Figure size 1000x1000 with 1 Axes>"
      ]
     },
     "metadata": {},
     "output_type": "display_data"
    }
   ],
   "source": [
    "# The most popular day of the week to shop \n",
    "\n",
    "# Assumption -> The day with the highest volume of orders will be the most popular day to shop for groceries\n",
    "daily_max = orders.groupby('order_dow')['order_id'].count().idxmax()\n",
    "\n",
    "print('The most popular time of the week to shop is Monday')\n",
    "      \n",
    "daily_orders = orders.groupby('order_dow')['order_id'].count().to_frame().reset_index()\n",
    "\n",
    "# Plot bar chart for hourly sales \n",
    "# Set configs for bar chart \n",
    "daily_orders.plot(x = 'order_dow'\n",
    "                      , y = 'order_id'\n",
    "                      , title = 'Daily Volume of Instacart Orders'\n",
    "                      , xlabel = 'Day of Week (Where Monday = 0)'\n",
    "                      , ylabel = 'Number of Orders Placed'\n",
    "                      , kind = 'bar'\n",
    "                      , rot = 0\n",
    "                      , figsize=(10,10)\n",
    "                      )\n",
    "\n",
    "# Change legend/series titles\n",
    "plt.legend(['Daily Sales'])\n",
    "\n",
    "# Show bar chart\n",
    "plt.show() "
   ]
  },
  {
   "cell_type": "markdown",
   "id": "dominant-lightning",
   "metadata": {},
   "source": []
  },
  {
   "cell_type": "markdown",
   "id": "cutting-concert",
   "metadata": {},
   "source": [
    "### [A4] How long do people wait until placing another order?"
   ]
  },
  {
   "cell_type": "code",
   "execution_count": 29,
   "id": "c231f523",
   "metadata": {},
   "outputs": [
    {
     "name": "stdout",
     "output_type": "stream",
     "text": [
      "For those users that place multiple orders, on average people tend to wait 11.1 days until placing another order\n"
     ]
    },
    {
     "data": {
      "image/png": "[encoded data removed]",
      "text/plain": [
       "<Figure size 1000x1000 with 1 Axes>"
      ]
     },
     "metadata": {},
     "output_type": "display_data"
    }
   ],
   "source": [
    "# 'days_since_prior_order' in orders df is the number of days since this customer placed their previous order\n",
    "# It is possible that days_since_prior_order is null, but the mean calculation ignores these rows\n",
    "# Check if days_since_prior_order can be null # orders[orders['days_since_prior_order'].isnull()]\n",
    "\n",
    "print('For those users that place multiple orders, on average people tend to wait', round(orders['days_since_prior_order'].mean(),1) , 'days until placing another order')\n",
    "\n",
    "# Going to include order rows where users have placed more than 1 order\n",
    "two_or_more_orders = orders[orders['order_number'] > 1]\n",
    "\n",
    "# Create varaible order_days_elapsed and pass df of days elapsed since last order for each order id\n",
    "order_days_elapsed = two_or_more_orders.groupby('days_since_prior_order')['order_id'].count().to_frame().reset_index()\n",
    "\n",
    "# Convert days_since_prior_order to int to remove decimal in x-axis and clean up viz\n",
    "order_days_elapsed['days_since_prior_order'] = order_days_elapsed['days_since_prior_order'].astype('Int64', errors='ignore')\n",
    "\n",
    "# Plot bar chart for hourly sales \n",
    "# Set configs for bar chart \n",
    "order_days_elapsed.plot(x = 'days_since_prior_order'\n",
    "                      , y = 'order_id'\n",
    "                      , title = 'Days Elapsed Between Purchases For Users With More Than One Order'\n",
    "                      , xlabel = 'Number of Days Elapsed Between Purchases'\n",
    "                      , ylabel = 'Number of Orders Placed'\n",
    "                      , kind = 'bar'\n",
    "                      , rot = 0\n",
    "                      , figsize=(10,10)\n",
    "                      )\n",
    "\n",
    "# Change legend/series titles\n",
    "plt.legend(['Number of Instantcart Orders'])\n",
    "\n",
    "# Show bar chart\n",
    "plt.show()"
   ]
  },
  {
   "cell_type": "markdown",
   "id": "tight-staff",
   "metadata": {},
   "source": [
    "# [B] Medium (must complete all to pass)"
   ]
  },
  {
   "cell_type": "markdown",
   "id": "packed-classic",
   "metadata": {},
   "source": [
    "### [B1] Is there a difference in `'order_hour_of_day'` distributions on Wednesdays and Saturdays? Plot the histograms for both days and describe the differences that you see."
   ]
  },
  {
   "cell_type": "code",
   "execution_count": 30,
   "id": "d89b8403",
   "metadata": {},
   "outputs": [],
   "source": [
    "# Completing 2.8 over the next 3 cells\n",
    "\n",
    "# Wednesdays\n",
    "wednesday = orders[orders['order_dow'] == 2]\n",
    "wed_orders = wednesday.groupby('order_hour_of_day')['order_id'].count().to_frame().reset_index()\n",
    "#print(wed_orders.head())\n",
    "\n",
    "# Saturdays\n",
    "saturday = orders[orders['order_dow'] == 5]\n",
    "sat_orders = saturday.groupby('order_hour_of_day')['order_id'].count().to_frame().reset_index()\n",
    "#print(sat_orders.head())\n"
   ]
  },
  {
   "cell_type": "code",
   "execution_count": 31,
   "id": "797c90a8",
   "metadata": {},
   "outputs": [],
   "source": [
    "# Merge wednesday and saturday orders on hour of the day assuming that each df has 0-23 as index\n",
    "\n",
    "hourly_sales_by_day = sat_orders.merge(wed_orders\n",
    "                              , how = 'inner'\n",
    "                              , on = 'order_hour_of_day'\n",
    "                              ).rename(columns={\"order_id_x\": \"saturday_sales\", \"order_id_y\": \"wednesday_sales\"})\n",
    "\n",
    "#print(hourly_sales_by_day)"
   ]
  },
  {
   "cell_type": "code",
   "execution_count": 32,
   "id": "35bcea30",
   "metadata": {},
   "outputs": [
    {
     "data": {
      "image/png": "[encoded data removed]",
      "text/plain": [
       "<Figure size 1000x1000 with 1 Axes>"
      ]
     },
     "metadata": {},
     "output_type": "display_data"
    }
   ],
   "source": [
    "# Plot bar chart with wednesday vs saturdays sales \n",
    "# Set configs for bar chart \n",
    "hourly_sales_by_day.plot(x = 'order_hour_of_day'\n",
    "                         , y = ['wednesday_sales','saturday_sales']\n",
    "                         , title = 'Hourly Instacart Orders on Wednesday vs Friday'\n",
    "                         , xlabel = 'Hour of Day'\n",
    "                         , ylabel = 'Number of Orders Placed'\n",
    "                         , kind = 'bar'\n",
    "                         , rot = 0\n",
    "                         , figsize=(10,10)\n",
    "                         )\n",
    "\n",
    "# Change legend/series titles\n",
    "plt.legend(['Wednesday Houlry Sales', 'Saturdays Houlry Sales'])\n",
    "\n",
    "# Show bar chart\n",
    "plt.show() "
   ]
  },
  {
   "cell_type": "markdown",
   "id": "e3891143",
   "metadata": {},
   "source": [
    "### [B2] What's the distribution for the number of orders per customer?"
   ]
  },
  {
   "cell_type": "code",
   "execution_count": 33,
   "id": "d8c26c23",
   "metadata": {},
   "outputs": [
    {
     "data": {
      "image/png": "[encoded data removed]",
      "text/plain": [
       "<Figure size 1000x1000 with 1 Axes>"
      ]
     },
     "metadata": {},
     "output_type": "display_data"
    }
   ],
   "source": [
    "# Determine the number of orders each user has placed\n",
    "orders_per_user = orders.groupby('user_id')['order_id'].count().to_frame(name = 'order_count').reset_index()\n",
    "\n",
    "# Determine the count of users by the number of orders placed\n",
    "user_count_per_orders_place = orders_per_user.groupby('order_count')['user_id'].count().to_frame(name = 'user_count').reset_index()\n",
    "\n",
    "# Set configs for bar chart \n",
    "user_count_per_orders_place.plot(x = 'order_count'\n",
    "                                 , y = 'user_count'\n",
    "                                 , title = 'Distribution of the Number of Orders per Customer'\n",
    "                                 , xlabel = 'Number of Orders Placed'\n",
    "                                 , ylabel = 'Count of Users'\n",
    "                                 , kind = 'bar'\n",
    "                                 , rot = 0\n",
    "                                 , figsize=(10,10)\n",
    "                                 )\n",
    "# Change legend/series titles\n",
    "plt.legend(['Count of Users That Placed N # of Orders'])\n",
    "\n",
    "# Show bar chart\n",
    "plt.show() "
   ]
  },
  {
   "cell_type": "markdown",
   "id": "54a0319c",
   "metadata": {},
   "source": [
    "### [B3] What are the top 20 popular products (display their id and name)?"
   ]
  },
  {
   "cell_type": "code",
   "execution_count": 34,
   "id": "exterior-arizona",
   "metadata": {
    "scrolled": true
   },
   "outputs": [
    {
     "name": "stdout",
     "output_type": "stream",
     "text": [
      "    product_id              product_name\n",
      "0        24852                    Banana\n",
      "1        13176    Bag of Organic Bananas\n",
      "2        21137      Organic Strawberries\n",
      "3        21903      Organic Baby Spinach\n",
      "4        47209      Organic Hass Avocado\n",
      "5        47766           Organic Avocado\n",
      "6        47626               Large Lemon\n",
      "7        16797              Strawberries\n",
      "8        26209                     Limes\n",
      "9        27845        Organic Whole Milk\n",
      "10       27966       Organic Raspberries\n",
      "11       22935      Organic Yellow Onion\n",
      "12       24964            Organic Garlic\n",
      "13       45007          Organic Zucchini\n",
      "14       39275       Organic Blueberries\n",
      "15       49683            Cucumber Kirby\n",
      "16       28204        Organic Fuji Apple\n",
      "17        5876             Organic Lemon\n",
      "18        8277  Apple Honeycrisp Organic\n",
      "19       40706    Organic Grape Tomatoes\n"
     ]
    }
   ],
   "source": [
    "# Assumption -> The most popular products are ones that have been added to orders the most\n",
    "# Will use order_products dataframe get top 20 product ids by order count \n",
    "\n",
    "# Count the number of orders that each product id has been added to and create a df of this aggregation\n",
    "popular_products = order_products.groupby('product_id')['order_id'].count().to_frame(name = 'order_count').reset_index()\n",
    "\n",
    "# Sort the purchased products from most purchases to lowest number of purchases (desc)\n",
    "# Return top twenty most purchased items to top_twenty_products variable\n",
    "top_twenty_products = popular_products.sort_values(by = 'order_count', ascending = False).head(20)\n",
    "\n",
    "# Left join the products dataframe to the top_twenty_products df to get the product names for each product id\n",
    "top_twenty_products = top_twenty_products.merge(products\n",
    "                                                , how = 'left'\n",
    "                                                , on = 'product_id')\n",
    "\n",
    "# Print the top 20 most purchased products with their names and ids\n",
    "print(top_twenty_products[['product_id','product_name']])"
   ]
  },
  {
   "cell_type": "markdown",
   "id": "gross-theme",
   "metadata": {},
   "source": [
    "# [C] Hard (must complete at least two to pass)"
   ]
  },
  {
   "cell_type": "markdown",
   "id": "romantic-deposit",
   "metadata": {},
   "source": [
    "### [C1] How many items do people typically buy in one order? What does the distribution look like?"
   ]
  },
  {
   "cell_type": "code",
   "execution_count": 35,
   "id": "virtual-punch",
   "metadata": {},
   "outputs": [
    {
     "name": "stdout",
     "output_type": "stream",
     "text": [
      "On average users will purchase 10.1 items per order\n"
     ]
    },
    {
     "data": {
      "image/png": "[encoded data removed]",
      "text/plain": [
       "<Figure size 2300x1000 with 1 Axes>"
      ]
     },
     "metadata": {},
     "output_type": "display_data"
    }
   ],
   "source": [
    "# Determine the number of products in each order\n",
    "products_per_order = order_products.groupby('order_id')['product_id'].count().to_frame(name = 'product_count').reset_index()\n",
    "\n",
    "# Determine the volume of orders by the number of items in the order\n",
    "cart_sizes_by_orders = products_per_order.groupby('product_count')['order_id'].count().to_frame(name = 'num_orders').reset_index()\n",
    "\n",
    "# Calculate the average number of items per order. Round the average. \n",
    "avg_items_per_order = round(products_per_order['product_count'].mean(),2)\n",
    "\n",
    "# Print a response containing the avg number of items in each order\n",
    "print('On average users will purchase',avg_items_per_order, 'items per order')\n",
    "\n",
    "# Set configs for bar chart \n",
    "cart_sizes_by_orders.plot(x = 'product_count'\n",
    "                          , y = 'num_orders'\n",
    "                          , title = 'Distribution of Number of Items Per Order By Volume of Orders'\n",
    "                          , xlabel = 'Number of Items Per Order'\n",
    "                          , ylabel = 'Number of Orders'\n",
    "                          , kind = 'bar'\n",
    "                          , rot = 0\n",
    "                          , figsize=(23,10) #adjust figure size to show all values on x-axis\n",
    "                          )\n",
    "\n",
    "# Potential solution for adjusting x-axis tickets to show less ticks and make a less cluttered chart\n",
    "# plt.xticks(np.arange(0, cart_sizes_by_orders['product_count'].max(), 5)) \n",
    "\n",
    "# Change legend/series titles\n",
    "plt.legend(['Number of Orders Placed With N # of Items in it'])\n",
    "\n",
    "# Show bar chart\n",
    "plt.show()#.autofmt_xdate"
   ]
  },
  {
   "cell_type": "markdown",
   "id": "designed-mortality",
   "metadata": {},
   "source": []
  },
  {
   "cell_type": "markdown",
   "id": "5e6b5537",
   "metadata": {},
   "source": [
    "### [C2] What are the top 20 items that are reordered most frequently (display their names and product IDs)?"
   ]
  },
  {
   "cell_type": "code",
   "execution_count": null,
   "id": "4e13b67c",
   "metadata": {},
   "outputs": [],
   "source": []
  },
  {
   "cell_type": "markdown",
   "id": "9d312b14",
   "metadata": {},
   "source": [
    "### [C3] For each product, what proportion of its orders are reorders?"
   ]
  },
  {
   "cell_type": "code",
   "execution_count": 36,
   "id": "8ae9f4b1",
   "metadata": {},
   "outputs": [
    {
     "data": {
      "text/html": [
       "<div>\n",
       "<style scoped>\n",
       "    .dataframe tbody tr th:only-of-type {\n",
       "        vertical-align: middle;\n",
       "    }\n",
       "\n",
       "    .dataframe tbody tr th {\n",
       "        vertical-align: top;\n",
       "    }\n",
       "\n",
       "    .dataframe thead th {\n",
       "        text-align: right;\n",
       "    }\n",
       "</style>\n",
       "<table border=\"1\" class=\"dataframe\">\n",
       "  <thead>\n",
       "    <tr style=\"text-align: right;\">\n",
       "      <th></th>\n",
       "      <th>product_id</th>\n",
       "      <th>total_orders</th>\n",
       "      <th>reorders</th>\n",
       "      <th>share_of_orders</th>\n",
       "    </tr>\n",
       "  </thead>\n",
       "  <tbody>\n",
       "    <tr>\n",
       "      <th>22808</th>\n",
       "      <td>24852</td>\n",
       "      <td>66050</td>\n",
       "      <td>55763</td>\n",
       "      <td>0.84</td>\n",
       "    </tr>\n",
       "    <tr>\n",
       "      <th>12025</th>\n",
       "      <td>13176</td>\n",
       "      <td>53297</td>\n",
       "      <td>44450</td>\n",
       "      <td>0.83</td>\n",
       "    </tr>\n",
       "    <tr>\n",
       "      <th>19370</th>\n",
       "      <td>21137</td>\n",
       "      <td>37039</td>\n",
       "      <td>28639</td>\n",
       "      <td>0.77</td>\n",
       "    </tr>\n",
       "    <tr>\n",
       "      <th>20077</th>\n",
       "      <td>21903</td>\n",
       "      <td>33971</td>\n",
       "      <td>26233</td>\n",
       "      <td>0.77</td>\n",
       "    </tr>\n",
       "    <tr>\n",
       "      <th>43271</th>\n",
       "      <td>47209</td>\n",
       "      <td>29773</td>\n",
       "      <td>23629</td>\n",
       "      <td>0.79</td>\n",
       "    </tr>\n",
       "    <tr>\n",
       "      <th>43788</th>\n",
       "      <td>47766</td>\n",
       "      <td>24689</td>\n",
       "      <td>18743</td>\n",
       "      <td>0.76</td>\n",
       "    </tr>\n",
       "    <tr>\n",
       "      <th>43663</th>\n",
       "      <td>47626</td>\n",
       "      <td>21495</td>\n",
       "      <td>15044</td>\n",
       "      <td>0.70</td>\n",
       "    </tr>\n",
       "    <tr>\n",
       "      <th>15364</th>\n",
       "      <td>16797</td>\n",
       "      <td>20018</td>\n",
       "      <td>13945</td>\n",
       "      <td>0.70</td>\n",
       "    </tr>\n",
       "    <tr>\n",
       "      <th>24047</th>\n",
       "      <td>26209</td>\n",
       "      <td>19690</td>\n",
       "      <td>13327</td>\n",
       "      <td>0.68</td>\n",
       "    </tr>\n",
       "    <tr>\n",
       "      <th>25556</th>\n",
       "      <td>27845</td>\n",
       "      <td>19600</td>\n",
       "      <td>16251</td>\n",
       "      <td>0.83</td>\n",
       "    </tr>\n",
       "    <tr>\n",
       "      <th>25666</th>\n",
       "      <td>27966</td>\n",
       "      <td>19197</td>\n",
       "      <td>14748</td>\n",
       "      <td>0.77</td>\n",
       "    </tr>\n",
       "    <tr>\n",
       "      <th>21025</th>\n",
       "      <td>22935</td>\n",
       "      <td>15898</td>\n",
       "      <td>11145</td>\n",
       "      <td>0.70</td>\n",
       "    </tr>\n",
       "    <tr>\n",
       "      <th>22908</th>\n",
       "      <td>24964</td>\n",
       "      <td>15292</td>\n",
       "      <td>10411</td>\n",
       "      <td>0.68</td>\n",
       "    </tr>\n",
       "    <tr>\n",
       "      <th>41244</th>\n",
       "      <td>45007</td>\n",
       "      <td>14584</td>\n",
       "      <td>10076</td>\n",
       "      <td>0.69</td>\n",
       "    </tr>\n",
       "    <tr>\n",
       "      <th>35996</th>\n",
       "      <td>39275</td>\n",
       "      <td>13879</td>\n",
       "      <td>8799</td>\n",
       "      <td>0.63</td>\n",
       "    </tr>\n",
       "    <tr>\n",
       "      <th>45561</th>\n",
       "      <td>49683</td>\n",
       "      <td>13675</td>\n",
       "      <td>9538</td>\n",
       "      <td>0.70</td>\n",
       "    </tr>\n",
       "    <tr>\n",
       "      <th>25889</th>\n",
       "      <td>28204</td>\n",
       "      <td>12544</td>\n",
       "      <td>8989</td>\n",
       "      <td>0.72</td>\n",
       "    </tr>\n",
       "    <tr>\n",
       "      <th>5375</th>\n",
       "      <td>5876</td>\n",
       "      <td>12232</td>\n",
       "      <td>8412</td>\n",
       "      <td>0.69</td>\n",
       "    </tr>\n",
       "    <tr>\n",
       "      <th>7543</th>\n",
       "      <td>8277</td>\n",
       "      <td>11993</td>\n",
       "      <td>8836</td>\n",
       "      <td>0.74</td>\n",
       "    </tr>\n",
       "    <tr>\n",
       "      <th>37301</th>\n",
       "      <td>40706</td>\n",
       "      <td>11781</td>\n",
       "      <td>7793</td>\n",
       "      <td>0.66</td>\n",
       "    </tr>\n",
       "  </tbody>\n",
       "</table>\n",
       "</div>"
      ],
      "text/plain": [
       "       product_id  total_orders  reorders  share_of_orders\n",
       "22808       24852         66050     55763             0.84\n",
       "12025       13176         53297     44450             0.83\n",
       "19370       21137         37039     28639             0.77\n",
       "20077       21903         33971     26233             0.77\n",
       "43271       47209         29773     23629             0.79\n",
       "43788       47766         24689     18743             0.76\n",
       "43663       47626         21495     15044             0.70\n",
       "15364       16797         20018     13945             0.70\n",
       "24047       26209         19690     13327             0.68\n",
       "25556       27845         19600     16251             0.83\n",
       "25666       27966         19197     14748             0.77\n",
       "21025       22935         15898     11145             0.70\n",
       "22908       24964         15292     10411             0.68\n",
       "41244       45007         14584     10076             0.69\n",
       "35996       39275         13879      8799             0.63\n",
       "45561       49683         13675      9538             0.70\n",
       "25889       28204         12544      8989             0.72\n",
       "5375         5876         12232      8412             0.69\n",
       "7543         8277         11993      8836             0.74\n",
       "37301       40706         11781      7793             0.66"
      ]
     },
     "execution_count": 36,
     "metadata": {},
     "output_type": "execute_result"
    }
   ],
   "source": [
    "# Sum the number of reorders by summing 1 in the reorder column\n",
    "reorders = order_products.groupby('product_id')['reordered'].sum().to_frame(name = 'reorders').reset_index()\n",
    "\n",
    "# Count the total number of orders per product (count 1 or 0)\n",
    "total_orders = order_products.groupby('product_id')['reordered'].count().to_frame(name = 'total_orders').reset_index()\n",
    "\n",
    "# Left join the products dataframe to the total_orders df to get the product names for each product id\n",
    "product_counts = total_orders.merge(reorders\n",
    "                                    , how = 'left'\n",
    "                                    , on = 'product_id')\n",
    "\n",
    "# Create a column that calculates the share of reorders for a product out of the total number of orders for that product\n",
    "# Round share\n",
    "product_counts['share_of_orders'] = round((product_counts['reorders']/product_counts['total_orders']),2)\n",
    "\n",
    "# Print out the top 20 most purchased product ids and the proportion of its orders that are reorders ('share_of_orders')\n",
    "product_counts.sort_values(by = 'total_orders', ascending = False).head(20)"
   ]
  },
  {
   "cell_type": "markdown",
   "id": "subject-boxing",
   "metadata": {},
   "source": [
    "### [C4] For each customer, what proportion of their products ordered are reorders?"
   ]
  },
  {
   "cell_type": "code",
   "execution_count": null,
   "id": "medical-couple",
   "metadata": {
    "scrolled": true
   },
   "outputs": [],
   "source": []
  },
  {
   "cell_type": "markdown",
   "id": "92d35137",
   "metadata": {},
   "source": [
    "### [C5] What are the top 20 items that people put in their carts first? "
   ]
  },
  {
   "cell_type": "code",
   "execution_count": null,
   "id": "0ae57274",
   "metadata": {
    "scrolled": true
   },
   "outputs": [],
   "source": []
  },
  {
   "cell_type": "markdown",
   "id": "6eb8eb95",
   "metadata": {},
   "source": [
    "# Instacart Project - Conclusion & Findings\n",
    "\n",
    "**After checking for missing values and duplicates** in the five tables in the Instantcart data set, I was able to uncover several insights in my exploratory data analysis. Here are a few findings - \n",
    "\n",
    "- **Insight 1**: The most popular time of the day to shop is 10 am\n",
    "- **Insight 2**: The most popular time of the week to shop is Monday\n",
    "- **Insight 3**: For those users that place multiple orders, on average people tend to wait 11.1 days until placing another order\n",
    "- **Insight 4**: On average users will purchase 10.1 items per order\n",
    "\n",
    "Thank you for taking the time to read through my analysis and findings."
   ]
  }
 ],
 "metadata": {
  "ExecuteTimeLog": [
   {
    "duration": 4375,
    "start_time": "2024-06-03T01:15:56.024Z"
   },
   {
    "duration": 1699,
    "start_time": "2024-06-03T01:16:00.403Z"
   },
   {
    "duration": 203,
    "start_time": "2024-06-03T01:16:02.105Z"
   },
   {
    "duration": 38,
    "start_time": "2024-06-03T01:16:02.313Z"
   },
   {
    "duration": 121,
    "start_time": "2024-06-03T01:16:02.354Z"
   },
   {
    "duration": 190,
    "start_time": "2024-06-03T01:16:02.478Z"
   },
   {
    "duration": 110,
    "start_time": "2024-06-03T01:16:02.671Z"
   },
   {
    "duration": 27,
    "start_time": "2024-06-03T01:16:02.784Z"
   },
   {
    "duration": 14,
    "start_time": "2024-06-03T01:16:02.834Z"
   },
   {
    "duration": 79,
    "start_time": "2024-06-03T01:16:02.855Z"
   },
   {
    "duration": 42,
    "start_time": "2024-06-03T01:16:02.937Z"
   },
   {
    "duration": 16,
    "start_time": "2024-06-03T01:16:02.982Z"
   },
   {
    "duration": 39,
    "start_time": "2024-06-03T01:16:03.001Z"
   },
   {
    "duration": 1496,
    "start_time": "2024-06-03T01:16:03.043Z"
   },
   {
    "duration": 1313,
    "start_time": "2024-06-03T01:16:04.542Z"
   },
   {
    "duration": 13,
    "start_time": "2024-06-03T01:16:05.858Z"
   },
   {
    "duration": 14,
    "start_time": "2024-06-03T01:16:05.874Z"
   },
   {
    "duration": 10,
    "start_time": "2024-06-03T01:16:05.891Z"
   },
   {
    "duration": 16,
    "start_time": "2024-06-03T01:16:05.935Z"
   },
   {
    "duration": 31,
    "start_time": "2024-06-03T01:16:05.954Z"
   },
   {
    "duration": 85,
    "start_time": "2024-06-03T01:16:05.987Z"
   },
   {
    "duration": 12,
    "start_time": "2024-06-03T01:16:06.075Z"
   },
   {
    "duration": 145,
    "start_time": "2024-06-03T01:16:06.090Z"
   },
   {
    "duration": 46,
    "start_time": "2024-06-03T01:16:06.239Z"
   },
   {
    "duration": 13,
    "start_time": "2024-06-03T01:16:06.288Z"
   },
   {
    "duration": 16,
    "start_time": "2024-06-03T01:16:06.333Z"
   },
   {
    "duration": 542,
    "start_time": "2024-06-03T01:16:06.353Z"
   },
   {
    "duration": 343,
    "start_time": "2024-06-03T01:16:06.903Z"
   },
   {
    "duration": 542,
    "start_time": "2024-06-03T01:16:07.248Z"
   },
   {
    "duration": 25,
    "start_time": "2024-06-03T01:16:07.793Z"
   },
   {
    "duration": 10,
    "start_time": "2024-06-03T01:16:07.833Z"
   },
   {
    "duration": 492,
    "start_time": "2024-06-03T01:16:07.846Z"
   },
   {
    "duration": 530,
    "start_time": "2024-06-03T01:16:08.341Z"
   },
   {
    "duration": 202,
    "start_time": "2024-06-03T01:16:08.874Z"
   },
   {
    "duration": 2282,
    "start_time": "2024-06-03T01:16:09.079Z"
   },
   {
    "duration": 410,
    "start_time": "2024-06-03T01:16:11.364Z"
   }
  ],
  "kernelspec": {
   "display_name": "Python 3 (ipykernel)",
   "language": "python",
   "name": "python3"
  },
  "language_info": {
   "codemirror_mode": {
    "name": "ipython",
    "version": 3
   },
   "file_extension": ".py",
   "mimetype": "text/x-python",
   "name": "python",
   "nbconvert_exporter": "python",
   "pygments_lexer": "ipython3",
   "version": "3.9.19"
  },
  "toc": {
   "base_numbering": 1,
   "nav_menu": {},
   "number_sections": true,
   "sideBar": true,
   "skip_h1_title": true,
   "title_cell": "Table of Contents",
   "title_sidebar": "Contents",
   "toc_cell": false,
   "toc_position": {},
   "toc_section_display": true,
   "toc_window_display": true
  },
  "vscode": {
   "interpreter": {
    "hash": "01a7be9ec63e704a62cefc5fe7a4756944464ee731be31632bdf42a4cb4688cf"
   }
  }
 },
 "nbformat": 4,
 "nbformat_minor": 5
}
