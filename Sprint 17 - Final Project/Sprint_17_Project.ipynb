{
 "cells": [
  {
   "cell_type": "markdown",
   "metadata": {},
   "source": [
    "# Final Sprint Project"
   ]
  },
  {
   "cell_type": "markdown",
   "metadata": {},
   "source": [
    "## Project Overview\n",
    "\n",
    "### Project Description\n",
    "\n",
    "**The telecom operator Interconnect would like to be able to forecast their churn of clients.** If it's discovered that a user is planning to leave, they will be offered promotional codes and special plan options. Interconnect's marketing team has collected some of their clientele's personal data, including information about their plans and contracts.\n",
    "\n",
    "Interconnect mainly provides two types of services:\n",
    "\n",
    "1. Landline communication. The telephone can be connected to several lines simultaneously.\n",
    "2. Internet. The network can be set up via a telephone line (DSL, *digital subscriber line*) or through a fiber optic cable.\n",
    "\n",
    "Some other services the company provides include:\n",
    "\n",
    "- Internet security: antivirus software (*DeviceProtection*) and a malicious website blocker (*OnlineSecurity*)\n",
    "- A dedicated technical support line (*TechSupport*)\n",
    "- Cloud file storage and data backup (*OnlineBackup*)\n",
    "- TV streaming (*StreamingTV*) and a movie directory (*StreamingMovies*)\n",
    "\n",
    "The clients can choose either a monthly payment or sign a 1- or 2-year contract. They can use various payment methods and receive an electronic invoice after a transaction.\n",
    "\n",
    "### Project Instructions\n",
    "**For this project I will evaluate a variety of classification models that will aim to predict whether a user is planning to leave Interconnect based on attributes found in the data.** The primary target feature will be `'EndDate'`. When `'EndDate'` is equal to `'No'`, this means that the user is still using Interconnect services. The model will be evaluated on AUC-ROC as the primary metric and accuracy as the additional metric. The acceptance criteria is that the model must have an AUC-ROC over 4. \n",
    "\n",
    "### This Notebook\n",
    "**In this notebook, I have copied and pasted the work I completed in Part 1 & 2 of this final project. In addition to Parts 1 & 2, I've added the solution report at the very end of the notebook. This write-up includes answers to the following questions-** \n",
    "1. What steps of the plan were performed and what steps were skipped (explain why)?\n",
    "2. What difficulties did you encounter and how did you manage to solve them?\n",
    "3. What were some of the key steps to solving the task?\n",
    "4. What is your final model and what quality score does it have?\n"
   ]
  },
  {
   "cell_type": "markdown",
   "metadata": {},
   "source": [
    "## Import Libraries"
   ]
  },
  {
   "cell_type": "code",
   "execution_count": 1,
   "metadata": {},
   "outputs": [],
   "source": [
    "# Import libraries required for this analysis\n",
    "import numpy as np\n",
    "import pandas as pd\n",
    "\n",
    "# For displying images \n",
    "import matplotlib.pyplot as plt\n",
    "\n",
    "# For Train, Test, Split\n",
    "from sklearn.model_selection import train_test_split\n",
    "\n",
    "# For Scaling\n",
    "from sklearn.preprocessing import StandardScaler\n",
    "\n",
    "# Grid Search\n",
    "# https://scikit-learn.org/stable/modules/generated/sklearn.model_selection.GridSearchCV.html\n",
    "from sklearn.model_selection import GridSearchCV\n",
    "\n",
    "# Accuracy score libraries\n",
    "from sklearn.metrics import accuracy_score\n",
    "from sklearn.metrics import confusion_matrix\n",
    "from sklearn.metrics import recall_score\n",
    "from sklearn.metrics import precision_score\n",
    "from sklearn.metrics import f1_score\n",
    "from sklearn.metrics import roc_curve\n",
    "from sklearn.metrics import roc_auc_score\n",
    "from sklearn.metrics import classification_report\n",
    "\n",
    "# From sklearn get classification models, model evaluation packages, and training data split\n",
    "from sklearn.dummy import DummyClassifier\n",
    "from sklearn.linear_model import LogisticRegression\n",
    "from sklearn.ensemble import RandomForestClassifier\n",
    "\n",
    "# https://lightgbm.readthedocs.io/en/stable/Python-Intro.html\n",
    "from lightgbm import LGBMClassifier\n",
    "\n",
    "# https://catboost.ai/en/docs/concepts/python-usages-examples\n",
    "from catboost import CatBoostClassifier\n",
    "\n",
    "#https://xgboost.readthedocs.io/en/stable/python/python_api.html\n",
    "from xgboost import XGBClassifier\n",
    "\n",
    "# Display all fields\n",
    "pd.set_option('display.max_columns', None)\n",
    "\n",
    "# Ignore warnings\n",
    "import warnings\n",
    "warnings.filterwarnings('ignore')"
   ]
  },
  {
   "cell_type": "markdown",
   "metadata": {},
   "source": [
    "Cell below is used to align the tables in the markdown to the left"
   ]
  },
  {
   "cell_type": "code",
   "execution_count": 2,
   "metadata": {},
   "outputs": [
    {
     "data": {
      "text/html": [
       "<style>\n",
       "table {float:left}\n",
       "</style>\n"
      ],
      "text/plain": [
       "<IPython.core.display.HTML object>"
      ]
     },
     "metadata": {},
     "output_type": "display_data"
    }
   ],
   "source": [
    "%%html\n",
    "<style>\n",
    "table {float:left}\n",
    "</style>"
   ]
  },
  {
   "cell_type": "markdown",
   "metadata": {},
   "source": [
    "## Load Data\n",
    "### Data Description"
   ]
  },
  {
   "cell_type": "markdown",
   "metadata": {},
   "source": [
    "The data consists of files obtained from different sources:\n",
    "\n",
    "- `contract.csv` — contract information\n",
    "- `personal.csv` — the client's personal data\n",
    "- `internet.csv` — information about Internet services\n",
    "- `phone.csv` — information about telephone services\n",
    "\n",
    "In each file, the column `customerID` contains a unique code assigned to each client.\n",
    "\n",
    "The contract information is valid as of February 1, 2020."
   ]
  },
  {
   "cell_type": "code",
   "execution_count": 3,
   "metadata": {},
   "outputs": [],
   "source": [
    "# Read in data CSVs and convert to dataframes\n",
    "\n",
    "# Contract\n",
    "contract = pd.read_csv('/datasets/final_provider/contract.csv')\n",
    "\n",
    "# Personal\n",
    "personal = pd.read_csv('/datasets/final_provider/personal.csv')\n",
    "\n",
    "# Internet\n",
    "internet = pd.read_csv('/datasets/final_provider/internet.csv')\n",
    "\n",
    "# Phone\n",
    "phone = pd.read_csv('/datasets/final_provider/phone.csv')"
   ]
  },
  {
   "cell_type": "markdown",
   "metadata": {},
   "source": [
    "## Perform Exploratory Data Analysis\n",
    "**In this section, I will perform an EDA. The EDA will include -**\n",
    "1. Ingesting the individual dataframes and exploring each of them individually\n",
    "2. Convert fields to the correct fields\n",
    "3. Feature development - Using the fields that are already provided, create new fields that will help train the model or help us gain insights about the differences between churned and non-churned customers\n",
    "4. Merge dataframes to create one dataset for model development\n",
    "5. Perform EDA on merged dataframe"
   ]
  },
  {
   "cell_type": "code",
   "execution_count": 4,
   "metadata": {},
   "outputs": [],
   "source": [
    "# Create a function to look at descriptive stats for each dataframe\n",
    "def descriptive_stats(df):\n",
    "    \n",
    "    # Print dataframe\n",
    "    print('Sample of dataframe')\n",
    "    display(df.head())\n",
    "    print()\n",
    "    \n",
    "    # Check for missing values\n",
    "    print('Check for Missing Values')\n",
    "    print(df.isna().sum())\n",
    "    print()\n",
    "\n",
    "    # Check data types\n",
    "    print('Check Data Types')\n",
    "    print(df.info())\n",
    "    print()\n",
    "\n",
    "    # Check values for each column\n",
    "    print('Describe Dataframe')\n",
    "    print(df.describe(include = 'all'))\n",
    "    print()\n",
    "    \n",
    "    # Check for Duplicates\n",
    "    print('Count of Duplicated Rows')\n",
    "    print(df.duplicated().sum())"
   ]
  },
  {
   "cell_type": "markdown",
   "metadata": {},
   "source": [
    "### EDA - Contract"
   ]
  },
  {
   "cell_type": "markdown",
   "metadata": {},
   "source": [
    "#### Descriptive Stats"
   ]
  },
  {
   "cell_type": "code",
   "execution_count": 5,
   "metadata": {},
   "outputs": [
    {
     "name": "stdout",
     "output_type": "stream",
     "text": [
      "Sample of dataframe\n"
     ]
    },
    {
     "data": {
      "text/html": [
       "<div>\n",
       "<style scoped>\n",
       "    .dataframe tbody tr th:only-of-type {\n",
       "        vertical-align: middle;\n",
       "    }\n",
       "\n",
       "    .dataframe tbody tr th {\n",
       "        vertical-align: top;\n",
       "    }\n",
       "\n",
       "    .dataframe thead th {\n",
       "        text-align: right;\n",
       "    }\n",
       "</style>\n",
       "<table border=\"1\" class=\"dataframe\">\n",
       "  <thead>\n",
       "    <tr style=\"text-align: right;\">\n",
       "      <th></th>\n",
       "      <th>customerID</th>\n",
       "      <th>BeginDate</th>\n",
       "      <th>EndDate</th>\n",
       "      <th>Type</th>\n",
       "      <th>PaperlessBilling</th>\n",
       "      <th>PaymentMethod</th>\n",
       "      <th>MonthlyCharges</th>\n",
       "      <th>TotalCharges</th>\n",
       "    </tr>\n",
       "  </thead>\n",
       "  <tbody>\n",
       "    <tr>\n",
       "      <th>0</th>\n",
       "      <td>7590-VHVEG</td>\n",
       "      <td>2020-01-01</td>\n",
       "      <td>No</td>\n",
       "      <td>Month-to-month</td>\n",
       "      <td>Yes</td>\n",
       "      <td>Electronic check</td>\n",
       "      <td>29.85</td>\n",
       "      <td>29.85</td>\n",
       "    </tr>\n",
       "    <tr>\n",
       "      <th>1</th>\n",
       "      <td>5575-GNVDE</td>\n",
       "      <td>2017-04-01</td>\n",
       "      <td>No</td>\n",
       "      <td>One year</td>\n",
       "      <td>No</td>\n",
       "      <td>Mailed check</td>\n",
       "      <td>56.95</td>\n",
       "      <td>1889.5</td>\n",
       "    </tr>\n",
       "    <tr>\n",
       "      <th>2</th>\n",
       "      <td>3668-QPYBK</td>\n",
       "      <td>2019-10-01</td>\n",
       "      <td>2019-12-01 00:00:00</td>\n",
       "      <td>Month-to-month</td>\n",
       "      <td>Yes</td>\n",
       "      <td>Mailed check</td>\n",
       "      <td>53.85</td>\n",
       "      <td>108.15</td>\n",
       "    </tr>\n",
       "    <tr>\n",
       "      <th>3</th>\n",
       "      <td>7795-CFOCW</td>\n",
       "      <td>2016-05-01</td>\n",
       "      <td>No</td>\n",
       "      <td>One year</td>\n",
       "      <td>No</td>\n",
       "      <td>Bank transfer (automatic)</td>\n",
       "      <td>42.30</td>\n",
       "      <td>1840.75</td>\n",
       "    </tr>\n",
       "    <tr>\n",
       "      <th>4</th>\n",
       "      <td>9237-HQITU</td>\n",
       "      <td>2019-09-01</td>\n",
       "      <td>2019-11-01 00:00:00</td>\n",
       "      <td>Month-to-month</td>\n",
       "      <td>Yes</td>\n",
       "      <td>Electronic check</td>\n",
       "      <td>70.70</td>\n",
       "      <td>151.65</td>\n",
       "    </tr>\n",
       "  </tbody>\n",
       "</table>\n",
       "</div>"
      ],
      "text/plain": [
       "   customerID   BeginDate              EndDate            Type  \\\n",
       "0  7590-VHVEG  2020-01-01                   No  Month-to-month   \n",
       "1  5575-GNVDE  2017-04-01                   No        One year   \n",
       "2  3668-QPYBK  2019-10-01  2019-12-01 00:00:00  Month-to-month   \n",
       "3  7795-CFOCW  2016-05-01                   No        One year   \n",
       "4  9237-HQITU  2019-09-01  2019-11-01 00:00:00  Month-to-month   \n",
       "\n",
       "  PaperlessBilling              PaymentMethod  MonthlyCharges TotalCharges  \n",
       "0              Yes           Electronic check           29.85        29.85  \n",
       "1               No               Mailed check           56.95       1889.5  \n",
       "2              Yes               Mailed check           53.85       108.15  \n",
       "3               No  Bank transfer (automatic)           42.30      1840.75  \n",
       "4              Yes           Electronic check           70.70       151.65  "
      ]
     },
     "metadata": {},
     "output_type": "display_data"
    },
    {
     "name": "stdout",
     "output_type": "stream",
     "text": [
      "\n",
      "Check for Missing Values\n",
      "customerID          0\n",
      "BeginDate           0\n",
      "EndDate             0\n",
      "Type                0\n",
      "PaperlessBilling    0\n",
      "PaymentMethod       0\n",
      "MonthlyCharges      0\n",
      "TotalCharges        0\n",
      "dtype: int64\n",
      "\n",
      "Check Data Types\n",
      "<class 'pandas.core.frame.DataFrame'>\n",
      "RangeIndex: 7043 entries, 0 to 7042\n",
      "Data columns (total 8 columns):\n",
      " #   Column            Non-Null Count  Dtype  \n",
      "---  ------            --------------  -----  \n",
      " 0   customerID        7043 non-null   object \n",
      " 1   BeginDate         7043 non-null   object \n",
      " 2   EndDate           7043 non-null   object \n",
      " 3   Type              7043 non-null   object \n",
      " 4   PaperlessBilling  7043 non-null   object \n",
      " 5   PaymentMethod     7043 non-null   object \n",
      " 6   MonthlyCharges    7043 non-null   float64\n",
      " 7   TotalCharges      7043 non-null   object \n",
      "dtypes: float64(1), object(7)\n",
      "memory usage: 440.3+ KB\n",
      "None\n",
      "\n",
      "Describe Dataframe\n",
      "        customerID   BeginDate EndDate            Type PaperlessBilling  \\\n",
      "count         7043        7043    7043            7043             7043   \n",
      "unique        7043          77       5               3                2   \n",
      "top     9722-UJOJR  2014-02-01      No  Month-to-month              Yes   \n",
      "freq             1         366    5174            3875             4171   \n",
      "mean           NaN         NaN     NaN             NaN              NaN   \n",
      "std            NaN         NaN     NaN             NaN              NaN   \n",
      "min            NaN         NaN     NaN             NaN              NaN   \n",
      "25%            NaN         NaN     NaN             NaN              NaN   \n",
      "50%            NaN         NaN     NaN             NaN              NaN   \n",
      "75%            NaN         NaN     NaN             NaN              NaN   \n",
      "max            NaN         NaN     NaN             NaN              NaN   \n",
      "\n",
      "           PaymentMethod  MonthlyCharges TotalCharges  \n",
      "count               7043     7043.000000         7043  \n",
      "unique                 4             NaN         6531  \n",
      "top     Electronic check             NaN               \n",
      "freq                2365             NaN           11  \n",
      "mean                 NaN       64.761692          NaN  \n",
      "std                  NaN       30.090047          NaN  \n",
      "min                  NaN       18.250000          NaN  \n",
      "25%                  NaN       35.500000          NaN  \n",
      "50%                  NaN       70.350000          NaN  \n",
      "75%                  NaN       89.850000          NaN  \n",
      "max                  NaN      118.750000          NaN  \n",
      "\n",
      "Count of Duplicated Rows\n",
      "0\n"
     ]
    }
   ],
   "source": [
    "# Check descriptive_stats for contract\n",
    "descriptive_stats(contract)"
   ]
  },
  {
   "cell_type": "markdown",
   "metadata": {},
   "source": [
    "**_Findings_** - There are no duplicated rows or missing values. Some of the datatypes need to be corrected: BeginDate, EndDate, TotalCharges."
   ]
  },
  {
   "cell_type": "markdown",
   "metadata": {},
   "source": [
    "#### Fix Fields & Create New Features\n",
    "**There are a few things that I am going to do in the following cells -**\n",
    "- When `EndDate` is filled with 'No' - replace with 0. Otherwise replace with 1.\n",
    "  - In other words, if the user churned then 1 else 0. This will be our target\n",
    "- Convert `BeginDate` to datetime\n",
    "- Create a new field called `EndDate_New` which will replace No with 2/1/2020 so that we can calculate the months between `BeginDate` and `EndDate_New`. The difference in months can be used as a feature to train the model. \n",
    "- Convert `TotalCharges` to a float\n",
    "    - Investigated why this field was initially ingested as an object and explored and corrected issue"
   ]
  },
  {
   "cell_type": "code",
   "execution_count": 6,
   "metadata": {},
   "outputs": [],
   "source": [
    "# For getting a rough sense of how churned an non-churned customers differ, I want to plot features by churn and did not churn\n",
    "contract['Churned'] = np.where(contract['EndDate'] == 'No', 0, 1)"
   ]
  },
  {
   "cell_type": "code",
   "execution_count": 7,
   "metadata": {},
   "outputs": [],
   "source": [
    "# Convert BeginDate to datetime\n",
    "contract['BeginDate'] = contract['BeginDate'].apply(pd.to_datetime)"
   ]
  },
  {
   "cell_type": "code",
   "execution_count": 8,
   "metadata": {},
   "outputs": [
    {
     "name": "stdout",
     "output_type": "stream",
     "text": [
      "<class 'pandas.core.frame.DataFrame'>\n",
      "RangeIndex: 7043 entries, 0 to 7042\n",
      "Data columns (total 11 columns):\n",
      " #   Column            Non-Null Count  Dtype         \n",
      "---  ------            --------------  -----         \n",
      " 0   customerID        7043 non-null   object        \n",
      " 1   BeginDate         7043 non-null   datetime64[ns]\n",
      " 2   EndDate           7043 non-null   object        \n",
      " 3   Type              7043 non-null   object        \n",
      " 4   PaperlessBilling  7043 non-null   object        \n",
      " 5   PaymentMethod     7043 non-null   object        \n",
      " 6   MonthlyCharges    7043 non-null   float64       \n",
      " 7   TotalCharges      7043 non-null   object        \n",
      " 8   Churned           7043 non-null   int64         \n",
      " 9   EndDate_New       7043 non-null   datetime64[ns]\n",
      " 10  months_diff       7043 non-null   int64         \n",
      "dtypes: datetime64[ns](2), float64(1), int64(2), object(6)\n",
      "memory usage: 605.4+ KB\n"
     ]
    },
    {
     "data": {
      "text/html": [
       "<div>\n",
       "<style scoped>\n",
       "    .dataframe tbody tr th:only-of-type {\n",
       "        vertical-align: middle;\n",
       "    }\n",
       "\n",
       "    .dataframe tbody tr th {\n",
       "        vertical-align: top;\n",
       "    }\n",
       "\n",
       "    .dataframe thead th {\n",
       "        text-align: right;\n",
       "    }\n",
       "</style>\n",
       "<table border=\"1\" class=\"dataframe\">\n",
       "  <thead>\n",
       "    <tr style=\"text-align: right;\">\n",
       "      <th></th>\n",
       "      <th>customerID</th>\n",
       "      <th>BeginDate</th>\n",
       "      <th>EndDate</th>\n",
       "      <th>Type</th>\n",
       "      <th>PaperlessBilling</th>\n",
       "      <th>PaymentMethod</th>\n",
       "      <th>MonthlyCharges</th>\n",
       "      <th>TotalCharges</th>\n",
       "      <th>Churned</th>\n",
       "      <th>EndDate_New</th>\n",
       "      <th>months_diff</th>\n",
       "    </tr>\n",
       "  </thead>\n",
       "  <tbody>\n",
       "    <tr>\n",
       "      <th>0</th>\n",
       "      <td>7590-VHVEG</td>\n",
       "      <td>2020-01-01</td>\n",
       "      <td>No</td>\n",
       "      <td>Month-to-month</td>\n",
       "      <td>Yes</td>\n",
       "      <td>Electronic check</td>\n",
       "      <td>29.85</td>\n",
       "      <td>29.85</td>\n",
       "      <td>0</td>\n",
       "      <td>2020-02-01</td>\n",
       "      <td>1</td>\n",
       "    </tr>\n",
       "    <tr>\n",
       "      <th>1</th>\n",
       "      <td>5575-GNVDE</td>\n",
       "      <td>2017-04-01</td>\n",
       "      <td>No</td>\n",
       "      <td>One year</td>\n",
       "      <td>No</td>\n",
       "      <td>Mailed check</td>\n",
       "      <td>56.95</td>\n",
       "      <td>1889.5</td>\n",
       "      <td>0</td>\n",
       "      <td>2020-02-01</td>\n",
       "      <td>34</td>\n",
       "    </tr>\n",
       "    <tr>\n",
       "      <th>2</th>\n",
       "      <td>3668-QPYBK</td>\n",
       "      <td>2019-10-01</td>\n",
       "      <td>2019-12-01 00:00:00</td>\n",
       "      <td>Month-to-month</td>\n",
       "      <td>Yes</td>\n",
       "      <td>Mailed check</td>\n",
       "      <td>53.85</td>\n",
       "      <td>108.15</td>\n",
       "      <td>1</td>\n",
       "      <td>2019-12-01</td>\n",
       "      <td>2</td>\n",
       "    </tr>\n",
       "    <tr>\n",
       "      <th>3</th>\n",
       "      <td>7795-CFOCW</td>\n",
       "      <td>2016-05-01</td>\n",
       "      <td>No</td>\n",
       "      <td>One year</td>\n",
       "      <td>No</td>\n",
       "      <td>Bank transfer (automatic)</td>\n",
       "      <td>42.30</td>\n",
       "      <td>1840.75</td>\n",
       "      <td>0</td>\n",
       "      <td>2020-02-01</td>\n",
       "      <td>45</td>\n",
       "    </tr>\n",
       "    <tr>\n",
       "      <th>4</th>\n",
       "      <td>9237-HQITU</td>\n",
       "      <td>2019-09-01</td>\n",
       "      <td>2019-11-01 00:00:00</td>\n",
       "      <td>Month-to-month</td>\n",
       "      <td>Yes</td>\n",
       "      <td>Electronic check</td>\n",
       "      <td>70.70</td>\n",
       "      <td>151.65</td>\n",
       "      <td>1</td>\n",
       "      <td>2019-11-01</td>\n",
       "      <td>2</td>\n",
       "    </tr>\n",
       "  </tbody>\n",
       "</table>\n",
       "</div>"
      ],
      "text/plain": [
       "   customerID  BeginDate              EndDate            Type  \\\n",
       "0  7590-VHVEG 2020-01-01                   No  Month-to-month   \n",
       "1  5575-GNVDE 2017-04-01                   No        One year   \n",
       "2  3668-QPYBK 2019-10-01  2019-12-01 00:00:00  Month-to-month   \n",
       "3  7795-CFOCW 2016-05-01                   No        One year   \n",
       "4  9237-HQITU 2019-09-01  2019-11-01 00:00:00  Month-to-month   \n",
       "\n",
       "  PaperlessBilling              PaymentMethod  MonthlyCharges TotalCharges  \\\n",
       "0              Yes           Electronic check           29.85        29.85   \n",
       "1               No               Mailed check           56.95       1889.5   \n",
       "2              Yes               Mailed check           53.85       108.15   \n",
       "3               No  Bank transfer (automatic)           42.30      1840.75   \n",
       "4              Yes           Electronic check           70.70       151.65   \n",
       "\n",
       "   Churned EndDate_New  months_diff  \n",
       "0        0  2020-02-01            1  \n",
       "1        0  2020-02-01           34  \n",
       "2        1  2019-12-01            2  \n",
       "3        0  2020-02-01           45  \n",
       "4        1  2019-11-01            2  "
      ]
     },
     "metadata": {},
     "output_type": "display_data"
    }
   ],
   "source": [
    "# In order to calculate the difference in months between we need to create a new field called EndDate_New\n",
    "# If the user hasn't churned I will use the validation date for the contracts which is 2/1/2020\n",
    "contract['EndDate_New'] = np.where(contract['EndDate'] == 'No', '2020-02-01', contract['EndDate'])\n",
    "contract['EndDate_New'] = contract['EndDate_New'].apply(pd.to_datetime)\n",
    "\n",
    "# Calculate differnce in months between EndDate_New and BeginDate\n",
    "contract['months_diff'] = ((contract['EndDate_New'] - contract['BeginDate'])/np.timedelta64(1, 'M'))\n",
    "contract['months_diff'] = contract['months_diff'].astype(int)\n",
    "\n",
    "# Print df info to see if fields are correct type\n",
    "contract.info()\n",
    "\n",
    "# Display df sample\n",
    "display(contract.head())"
   ]
  },
  {
   "cell_type": "code",
   "execution_count": 9,
   "metadata": {
    "scrolled": false
   },
   "outputs": [
    {
     "data": {
      "text/html": [
       "<div>\n",
       "<style scoped>\n",
       "    .dataframe tbody tr th:only-of-type {\n",
       "        vertical-align: middle;\n",
       "    }\n",
       "\n",
       "    .dataframe tbody tr th {\n",
       "        vertical-align: top;\n",
       "    }\n",
       "\n",
       "    .dataframe thead th {\n",
       "        text-align: right;\n",
       "    }\n",
       "</style>\n",
       "<table border=\"1\" class=\"dataframe\">\n",
       "  <thead>\n",
       "    <tr style=\"text-align: right;\">\n",
       "      <th></th>\n",
       "      <th>customerID</th>\n",
       "      <th>BeginDate</th>\n",
       "      <th>EndDate</th>\n",
       "      <th>Type</th>\n",
       "      <th>PaperlessBilling</th>\n",
       "      <th>PaymentMethod</th>\n",
       "      <th>MonthlyCharges</th>\n",
       "      <th>TotalCharges</th>\n",
       "      <th>Churned</th>\n",
       "      <th>EndDate_New</th>\n",
       "      <th>months_diff</th>\n",
       "    </tr>\n",
       "  </thead>\n",
       "  <tbody>\n",
       "    <tr>\n",
       "      <th>488</th>\n",
       "      <td>4472-LVYGI</td>\n",
       "      <td>2020-02-01</td>\n",
       "      <td>No</td>\n",
       "      <td>Two year</td>\n",
       "      <td>Yes</td>\n",
       "      <td>Bank transfer (automatic)</td>\n",
       "      <td>52.55</td>\n",
       "      <td></td>\n",
       "      <td>0</td>\n",
       "      <td>2020-02-01</td>\n",
       "      <td>0</td>\n",
       "    </tr>\n",
       "    <tr>\n",
       "      <th>753</th>\n",
       "      <td>3115-CZMZD</td>\n",
       "      <td>2020-02-01</td>\n",
       "      <td>No</td>\n",
       "      <td>Two year</td>\n",
       "      <td>No</td>\n",
       "      <td>Mailed check</td>\n",
       "      <td>20.25</td>\n",
       "      <td></td>\n",
       "      <td>0</td>\n",
       "      <td>2020-02-01</td>\n",
       "      <td>0</td>\n",
       "    </tr>\n",
       "    <tr>\n",
       "      <th>936</th>\n",
       "      <td>5709-LVOEQ</td>\n",
       "      <td>2020-02-01</td>\n",
       "      <td>No</td>\n",
       "      <td>Two year</td>\n",
       "      <td>No</td>\n",
       "      <td>Mailed check</td>\n",
       "      <td>80.85</td>\n",
       "      <td></td>\n",
       "      <td>0</td>\n",
       "      <td>2020-02-01</td>\n",
       "      <td>0</td>\n",
       "    </tr>\n",
       "    <tr>\n",
       "      <th>1082</th>\n",
       "      <td>4367-NUYAO</td>\n",
       "      <td>2020-02-01</td>\n",
       "      <td>No</td>\n",
       "      <td>Two year</td>\n",
       "      <td>No</td>\n",
       "      <td>Mailed check</td>\n",
       "      <td>25.75</td>\n",
       "      <td></td>\n",
       "      <td>0</td>\n",
       "      <td>2020-02-01</td>\n",
       "      <td>0</td>\n",
       "    </tr>\n",
       "    <tr>\n",
       "      <th>1340</th>\n",
       "      <td>1371-DWPAZ</td>\n",
       "      <td>2020-02-01</td>\n",
       "      <td>No</td>\n",
       "      <td>Two year</td>\n",
       "      <td>No</td>\n",
       "      <td>Credit card (automatic)</td>\n",
       "      <td>56.05</td>\n",
       "      <td></td>\n",
       "      <td>0</td>\n",
       "      <td>2020-02-01</td>\n",
       "      <td>0</td>\n",
       "    </tr>\n",
       "    <tr>\n",
       "      <th>3331</th>\n",
       "      <td>7644-OMVMY</td>\n",
       "      <td>2020-02-01</td>\n",
       "      <td>No</td>\n",
       "      <td>Two year</td>\n",
       "      <td>No</td>\n",
       "      <td>Mailed check</td>\n",
       "      <td>19.85</td>\n",
       "      <td></td>\n",
       "      <td>0</td>\n",
       "      <td>2020-02-01</td>\n",
       "      <td>0</td>\n",
       "    </tr>\n",
       "    <tr>\n",
       "      <th>3826</th>\n",
       "      <td>3213-VVOLG</td>\n",
       "      <td>2020-02-01</td>\n",
       "      <td>No</td>\n",
       "      <td>Two year</td>\n",
       "      <td>No</td>\n",
       "      <td>Mailed check</td>\n",
       "      <td>25.35</td>\n",
       "      <td></td>\n",
       "      <td>0</td>\n",
       "      <td>2020-02-01</td>\n",
       "      <td>0</td>\n",
       "    </tr>\n",
       "    <tr>\n",
       "      <th>4380</th>\n",
       "      <td>2520-SGTTA</td>\n",
       "      <td>2020-02-01</td>\n",
       "      <td>No</td>\n",
       "      <td>Two year</td>\n",
       "      <td>No</td>\n",
       "      <td>Mailed check</td>\n",
       "      <td>20.00</td>\n",
       "      <td></td>\n",
       "      <td>0</td>\n",
       "      <td>2020-02-01</td>\n",
       "      <td>0</td>\n",
       "    </tr>\n",
       "    <tr>\n",
       "      <th>5218</th>\n",
       "      <td>2923-ARZLG</td>\n",
       "      <td>2020-02-01</td>\n",
       "      <td>No</td>\n",
       "      <td>One year</td>\n",
       "      <td>Yes</td>\n",
       "      <td>Mailed check</td>\n",
       "      <td>19.70</td>\n",
       "      <td></td>\n",
       "      <td>0</td>\n",
       "      <td>2020-02-01</td>\n",
       "      <td>0</td>\n",
       "    </tr>\n",
       "    <tr>\n",
       "      <th>6670</th>\n",
       "      <td>4075-WKNIU</td>\n",
       "      <td>2020-02-01</td>\n",
       "      <td>No</td>\n",
       "      <td>Two year</td>\n",
       "      <td>No</td>\n",
       "      <td>Mailed check</td>\n",
       "      <td>73.35</td>\n",
       "      <td></td>\n",
       "      <td>0</td>\n",
       "      <td>2020-02-01</td>\n",
       "      <td>0</td>\n",
       "    </tr>\n",
       "    <tr>\n",
       "      <th>6754</th>\n",
       "      <td>2775-SEFEE</td>\n",
       "      <td>2020-02-01</td>\n",
       "      <td>No</td>\n",
       "      <td>Two year</td>\n",
       "      <td>Yes</td>\n",
       "      <td>Bank transfer (automatic)</td>\n",
       "      <td>61.90</td>\n",
       "      <td></td>\n",
       "      <td>0</td>\n",
       "      <td>2020-02-01</td>\n",
       "      <td>0</td>\n",
       "    </tr>\n",
       "  </tbody>\n",
       "</table>\n",
       "</div>"
      ],
      "text/plain": [
       "      customerID  BeginDate EndDate      Type PaperlessBilling  \\\n",
       "488   4472-LVYGI 2020-02-01      No  Two year              Yes   \n",
       "753   3115-CZMZD 2020-02-01      No  Two year               No   \n",
       "936   5709-LVOEQ 2020-02-01      No  Two year               No   \n",
       "1082  4367-NUYAO 2020-02-01      No  Two year               No   \n",
       "1340  1371-DWPAZ 2020-02-01      No  Two year               No   \n",
       "3331  7644-OMVMY 2020-02-01      No  Two year               No   \n",
       "3826  3213-VVOLG 2020-02-01      No  Two year               No   \n",
       "4380  2520-SGTTA 2020-02-01      No  Two year               No   \n",
       "5218  2923-ARZLG 2020-02-01      No  One year              Yes   \n",
       "6670  4075-WKNIU 2020-02-01      No  Two year               No   \n",
       "6754  2775-SEFEE 2020-02-01      No  Two year              Yes   \n",
       "\n",
       "                  PaymentMethod  MonthlyCharges TotalCharges  Churned  \\\n",
       "488   Bank transfer (automatic)           52.55                     0   \n",
       "753                Mailed check           20.25                     0   \n",
       "936                Mailed check           80.85                     0   \n",
       "1082               Mailed check           25.75                     0   \n",
       "1340    Credit card (automatic)           56.05                     0   \n",
       "3331               Mailed check           19.85                     0   \n",
       "3826               Mailed check           25.35                     0   \n",
       "4380               Mailed check           20.00                     0   \n",
       "5218               Mailed check           19.70                     0   \n",
       "6670               Mailed check           73.35                     0   \n",
       "6754  Bank transfer (automatic)           61.90                     0   \n",
       "\n",
       "     EndDate_New  months_diff  \n",
       "488   2020-02-01            0  \n",
       "753   2020-02-01            0  \n",
       "936   2020-02-01            0  \n",
       "1082  2020-02-01            0  \n",
       "1340  2020-02-01            0  \n",
       "3331  2020-02-01            0  \n",
       "3826  2020-02-01            0  \n",
       "4380  2020-02-01            0  \n",
       "5218  2020-02-01            0  \n",
       "6670  2020-02-01            0  \n",
       "6754  2020-02-01            0  "
      ]
     },
     "metadata": {},
     "output_type": "display_data"
    }
   ],
   "source": [
    "# Convert TotalCharges to float\n",
    "# When converting TotalCharges to float the cell raised and error because there were strings in the field\n",
    "# They don't have a total charge because they signed up in the same month the data was pulled \n",
    "\n",
    "# Look at total charges with no value\n",
    "display(contract[contract['TotalCharges'] == ' '])\n",
    "\n",
    "# I found that there were values = '0'. For these values I am replacing them with MonthlyCharges\n",
    "contract['TotalCharges'] = np.where(contract['TotalCharges'] == ' ', contract['MonthlyCharges'], contract['TotalCharges'])\n",
    "\n",
    "# Convert TotalCharges to float after replacing ' ' values\n",
    "contract['TotalCharges'] = pd.to_numeric(contract['TotalCharges'])"
   ]
  },
  {
   "cell_type": "code",
   "execution_count": 10,
   "metadata": {},
   "outputs": [
    {
     "data": {
      "text/html": [
       "<div>\n",
       "<style scoped>\n",
       "    .dataframe tbody tr th:only-of-type {\n",
       "        vertical-align: middle;\n",
       "    }\n",
       "\n",
       "    .dataframe tbody tr th {\n",
       "        vertical-align: top;\n",
       "    }\n",
       "\n",
       "    .dataframe thead th {\n",
       "        text-align: right;\n",
       "    }\n",
       "</style>\n",
       "<table border=\"1\" class=\"dataframe\">\n",
       "  <thead>\n",
       "    <tr style=\"text-align: right;\">\n",
       "      <th></th>\n",
       "      <th>customerID</th>\n",
       "    </tr>\n",
       "    <tr>\n",
       "      <th>Churned</th>\n",
       "      <th></th>\n",
       "    </tr>\n",
       "  </thead>\n",
       "  <tbody>\n",
       "    <tr>\n",
       "      <th>0</th>\n",
       "      <td>5174</td>\n",
       "    </tr>\n",
       "    <tr>\n",
       "      <th>1</th>\n",
       "      <td>1869</td>\n",
       "    </tr>\n",
       "  </tbody>\n",
       "</table>\n",
       "</div>"
      ],
      "text/plain": [
       "         customerID\n",
       "Churned            \n",
       "0              5174\n",
       "1              1869"
      ]
     },
     "execution_count": 10,
     "metadata": {},
     "output_type": "execute_result"
    }
   ],
   "source": [
    "# Count of customers that chruned vs those who didn't churn\n",
    "contract.groupby('Churned').agg({'customerID': 'count'})"
   ]
  },
  {
   "cell_type": "markdown",
   "metadata": {},
   "source": [
    "**_Findings_** - There are 1869 users in the data set that have churned. This represents approximately 27% of the user base. "
   ]
  },
  {
   "cell_type": "markdown",
   "metadata": {},
   "source": [
    "#### Histogram For Plotting Numerical Data For Churned Versus Non-Churned Users\n",
    "In the following cells, I am going to explore if there are any visual differences that I spot between churned and non-chruned users for numerical fields. I have built a function that will generate an output for each numerical field specified with the count of users per feature. "
   ]
  },
  {
   "cell_type": "code",
   "execution_count": 11,
   "metadata": {
    "scrolled": false
   },
   "outputs": [
    {
     "data": {
      "image/png": "[encoded data removed]",
      "text/plain": [
       "<Figure size 1000x300 with 1 Axes>"
      ]
     },
     "metadata": {},
     "output_type": "display_data"
    },
    {
     "data": {
      "image/png": "[encoded data removed]",
      "text/plain": [
       "<Figure size 1000x300 with 1 Axes>"
      ]
     },
     "metadata": {},
     "output_type": "display_data"
    },
    {
     "data": {
      "image/png": "[encoded data removed]",
      "text/plain": [
       "<Figure size 1000x300 with 1 Axes>"
      ]
     },
     "metadata": {},
     "output_type": "display_data"
    }
   ],
   "source": [
    "# Generate a histogram for each user group using the fields that are passed in to the function\n",
    "def generate_histogram(df, attributes):\n",
    "    for a in attributes:\n",
    "    \n",
    "        # Non-Churned users \n",
    "        df[df['Churned'] == 0][a].plot(kind='hist', bins=30, figsize=(10,3))\n",
    "\n",
    "        # Churned users \n",
    "        df[df['Churned'] == 1][a].plot(kind='hist', bins=30, alpha=0.8, figsize=(10,3))\n",
    "\n",
    "        # Set legend values\n",
    "        plt.legend(['Not Churned', 'Churned'])\n",
    "\n",
    "        # Set Axis and Title\n",
    "        plt.xlabel(a)\n",
    "        plt.ylabel('Count of Users')\n",
    "        plt.title(f\"Churned User Behavior Comparison - {a}\")\n",
    "\n",
    "        # Plot Histogram\n",
    "        plt.show()\n",
    "        \n",
    "# Create list of features with numerical datatypes\n",
    "attributes = ['MonthlyCharges','months_diff','TotalCharges']\n",
    "\n",
    "# Run function\n",
    "generate_histogram(contract, attributes)"
   ]
  },
  {
   "cell_type": "markdown",
   "metadata": {},
   "source": [
    "**_Findings_** - Compared to users that have not churned, **churned users** have higher monthly charges and they are with Interconnect for a shorter period of time than non-churned users. Nothing can be drawn about Total Charges because it is a function of monthly charges and monthly duration spent with Interconnect."
   ]
  },
  {
   "cell_type": "markdown",
   "metadata": {},
   "source": [
    "#### Bar Plot For Plotting Numerical Data For Churned Versus Non-Churned Users"
   ]
  },
  {
   "cell_type": "code",
   "execution_count": 12,
   "metadata": {
    "scrolled": false
   },
   "outputs": [
    {
     "data": {
      "image/png": "[encoded data removed]",
      "text/plain": [
       "<Figure size 1000x300 with 1 Axes>"
      ]
     },
     "metadata": {},
     "output_type": "display_data"
    },
    {
     "data": {
      "image/png": "[encoded data removed]",
      "text/plain": [
       "<Figure size 1000x300 with 1 Axes>"
      ]
     },
     "metadata": {},
     "output_type": "display_data"
    },
    {
     "data": {
      "image/png": "[encoded data removed]",
      "text/plain": [
       "<Figure size 1000x300 with 1 Axes>"
      ]
     },
     "metadata": {},
     "output_type": "display_data"
    }
   ],
   "source": [
    "# Generate a histogram for each user group using the fields that are passed in to the function\n",
    "def bar_plots(df, attributes):\n",
    "    for a in attributes:\n",
    "        \n",
    "        # Pivot df into a format usable with bar plot\n",
    "        table = pd.pivot_table(df, values='customerID', index=a,\n",
    "                               columns='Churned', aggfunc=\"count\")\n",
    "\n",
    "        # Non-Churned users \n",
    "        no_churn = table[0].to_frame(name=\"vals\").reset_index()\n",
    "        \n",
    "        # Churned users \n",
    "        churn = table[1].to_frame(name=\"vals\").reset_index()\n",
    "\n",
    "        # Plot Histogram on same plot\n",
    "        ax = no_churn.plot(kind='bar', x=a, y = 'vals' , color ='blue', figsize=(10,3),stacked = 'False',rot=45)\n",
    "        churn.plot(ax=ax,kind='bar', x=a, y = 'vals' , color ='orange', figsize=(10,3), stacked = 'False',rot=45)\n",
    "\n",
    "        # Set legend values\n",
    "        plt.legend(['Not Churned', 'Churn'])\n",
    "\n",
    "        # Set Axis and Title\n",
    "        plt.xlabel(a)\n",
    "        plt.ylabel('Count of Users')\n",
    "        plt.title(f\"Churned User Behavior Comparison - {a}\")\n",
    " \n",
    "# Create list of features with categorical datatypes\n",
    "attributes = ['Type','PaymentMethod','PaperlessBilling']\n",
    "\n",
    "# Run function\n",
    "bar_plots(contract, attributes)"
   ]
  },
  {
   "cell_type": "markdown",
   "metadata": {},
   "source": [
    "**_Findings_** - Compared to users that have not churned, **churned users** are more likley to be in month-to-month contracts, they use electronic check as their payment method, and they use paperless billing."
   ]
  },
  {
   "cell_type": "markdown",
   "metadata": {},
   "source": [
    "#### Contract EDA Conclusions\n",
    " - Created a field called `Churned` that has 0 for users that did not churn and 1 for users that churned\n",
    " - Converted `BeginDate` to `EndDate` to datetime and `TotalCharges` to float\n",
    " - Create a field called `MonthsElapsed` to be used as a feature in model training\n",
    "   - Subtracted months from start date to chrun date. If user did not churn then use Feb 1, 2020 as churn date (This is the date the contract information was validated)\n",
    " - There are 1869 users in the data set that have churned. This represents approximately 27% of the user base. \n",
    " - Compared to users that have not churned, **churned users** have higher monthly charges and they are with Interconnect for a shorter period of time than non-churned users. Nothing can be drawn about Total Charges because it is a function of monthly charges and monthly duration spent with Interconnect.\n",
    " - Compared to users that have not churned, **churned users** are more likley to be in month-to-month contracts, they use electronic check as their payment method, and they use paperless billing."
   ]
  },
  {
   "cell_type": "markdown",
   "metadata": {},
   "source": [
    "### EDA - Personal"
   ]
  },
  {
   "cell_type": "code",
   "execution_count": 13,
   "metadata": {},
   "outputs": [
    {
     "name": "stdout",
     "output_type": "stream",
     "text": [
      "Sample of dataframe\n"
     ]
    },
    {
     "data": {
      "text/html": [
       "<div>\n",
       "<style scoped>\n",
       "    .dataframe tbody tr th:only-of-type {\n",
       "        vertical-align: middle;\n",
       "    }\n",
       "\n",
       "    .dataframe tbody tr th {\n",
       "        vertical-align: top;\n",
       "    }\n",
       "\n",
       "    .dataframe thead th {\n",
       "        text-align: right;\n",
       "    }\n",
       "</style>\n",
       "<table border=\"1\" class=\"dataframe\">\n",
       "  <thead>\n",
       "    <tr style=\"text-align: right;\">\n",
       "      <th></th>\n",
       "      <th>customerID</th>\n",
       "      <th>gender</th>\n",
       "      <th>SeniorCitizen</th>\n",
       "      <th>Partner</th>\n",
       "      <th>Dependents</th>\n",
       "    </tr>\n",
       "  </thead>\n",
       "  <tbody>\n",
       "    <tr>\n",
       "      <th>0</th>\n",
       "      <td>7590-VHVEG</td>\n",
       "      <td>Female</td>\n",
       "      <td>0</td>\n",
       "      <td>Yes</td>\n",
       "      <td>No</td>\n",
       "    </tr>\n",
       "    <tr>\n",
       "      <th>1</th>\n",
       "      <td>5575-GNVDE</td>\n",
       "      <td>Male</td>\n",
       "      <td>0</td>\n",
       "      <td>No</td>\n",
       "      <td>No</td>\n",
       "    </tr>\n",
       "    <tr>\n",
       "      <th>2</th>\n",
       "      <td>3668-QPYBK</td>\n",
       "      <td>Male</td>\n",
       "      <td>0</td>\n",
       "      <td>No</td>\n",
       "      <td>No</td>\n",
       "    </tr>\n",
       "    <tr>\n",
       "      <th>3</th>\n",
       "      <td>7795-CFOCW</td>\n",
       "      <td>Male</td>\n",
       "      <td>0</td>\n",
       "      <td>No</td>\n",
       "      <td>No</td>\n",
       "    </tr>\n",
       "    <tr>\n",
       "      <th>4</th>\n",
       "      <td>9237-HQITU</td>\n",
       "      <td>Female</td>\n",
       "      <td>0</td>\n",
       "      <td>No</td>\n",
       "      <td>No</td>\n",
       "    </tr>\n",
       "  </tbody>\n",
       "</table>\n",
       "</div>"
      ],
      "text/plain": [
       "   customerID  gender  SeniorCitizen Partner Dependents\n",
       "0  7590-VHVEG  Female              0     Yes         No\n",
       "1  5575-GNVDE    Male              0      No         No\n",
       "2  3668-QPYBK    Male              0      No         No\n",
       "3  7795-CFOCW    Male              0      No         No\n",
       "4  9237-HQITU  Female              0      No         No"
      ]
     },
     "metadata": {},
     "output_type": "display_data"
    },
    {
     "name": "stdout",
     "output_type": "stream",
     "text": [
      "\n",
      "Check for Missing Values\n",
      "customerID       0\n",
      "gender           0\n",
      "SeniorCitizen    0\n",
      "Partner          0\n",
      "Dependents       0\n",
      "dtype: int64\n",
      "\n",
      "Check Data Types\n",
      "<class 'pandas.core.frame.DataFrame'>\n",
      "RangeIndex: 7043 entries, 0 to 7042\n",
      "Data columns (total 5 columns):\n",
      " #   Column         Non-Null Count  Dtype \n",
      "---  ------         --------------  ----- \n",
      " 0   customerID     7043 non-null   object\n",
      " 1   gender         7043 non-null   object\n",
      " 2   SeniorCitizen  7043 non-null   int64 \n",
      " 3   Partner        7043 non-null   object\n",
      " 4   Dependents     7043 non-null   object\n",
      "dtypes: int64(1), object(4)\n",
      "memory usage: 275.2+ KB\n",
      "None\n",
      "\n",
      "Describe Dataframe\n",
      "        customerID gender  SeniorCitizen Partner Dependents\n",
      "count         7043   7043    7043.000000    7043       7043\n",
      "unique        7043      2            NaN       2          2\n",
      "top     9722-UJOJR   Male            NaN      No         No\n",
      "freq             1   3555            NaN    3641       4933\n",
      "mean           NaN    NaN       0.162147     NaN        NaN\n",
      "std            NaN    NaN       0.368612     NaN        NaN\n",
      "min            NaN    NaN       0.000000     NaN        NaN\n",
      "25%            NaN    NaN       0.000000     NaN        NaN\n",
      "50%            NaN    NaN       0.000000     NaN        NaN\n",
      "75%            NaN    NaN       0.000000     NaN        NaN\n",
      "max            NaN    NaN       1.000000     NaN        NaN\n",
      "\n",
      "Count of Duplicated Rows\n",
      "0\n"
     ]
    }
   ],
   "source": [
    "# Check descriptive_stats for contract\n",
    "descriptive_stats(personal)"
   ]
  },
  {
   "cell_type": "markdown",
   "metadata": {},
   "source": [
    "#### Personal EDA Conclusions\n",
    " - There are no duplicated rows or missing values. None of the datatypes need to be converted. No additional features need to be created for this dataframe.\n",
    " - **In a later section, I will join the Personal dataframe to the Contract dataframe.** Personal dataframe doesn't contain information about whether the user churned or not, so I need to get this field from Contract so that I can derive insights about churn based on personal information like gender or age (`SeniorCitizen`)"
   ]
  },
  {
   "cell_type": "markdown",
   "metadata": {},
   "source": [
    "### EDA - Internet"
   ]
  },
  {
   "cell_type": "code",
   "execution_count": 14,
   "metadata": {},
   "outputs": [
    {
     "name": "stdout",
     "output_type": "stream",
     "text": [
      "Sample of dataframe\n"
     ]
    },
    {
     "data": {
      "text/html": [
       "<div>\n",
       "<style scoped>\n",
       "    .dataframe tbody tr th:only-of-type {\n",
       "        vertical-align: middle;\n",
       "    }\n",
       "\n",
       "    .dataframe tbody tr th {\n",
       "        vertical-align: top;\n",
       "    }\n",
       "\n",
       "    .dataframe thead th {\n",
       "        text-align: right;\n",
       "    }\n",
       "</style>\n",
       "<table border=\"1\" class=\"dataframe\">\n",
       "  <thead>\n",
       "    <tr style=\"text-align: right;\">\n",
       "      <th></th>\n",
       "      <th>customerID</th>\n",
       "      <th>InternetService</th>\n",
       "      <th>OnlineSecurity</th>\n",
       "      <th>OnlineBackup</th>\n",
       "      <th>DeviceProtection</th>\n",
       "      <th>TechSupport</th>\n",
       "      <th>StreamingTV</th>\n",
       "      <th>StreamingMovies</th>\n",
       "    </tr>\n",
       "  </thead>\n",
       "  <tbody>\n",
       "    <tr>\n",
       "      <th>0</th>\n",
       "      <td>7590-VHVEG</td>\n",
       "      <td>DSL</td>\n",
       "      <td>No</td>\n",
       "      <td>Yes</td>\n",
       "      <td>No</td>\n",
       "      <td>No</td>\n",
       "      <td>No</td>\n",
       "      <td>No</td>\n",
       "    </tr>\n",
       "    <tr>\n",
       "      <th>1</th>\n",
       "      <td>5575-GNVDE</td>\n",
       "      <td>DSL</td>\n",
       "      <td>Yes</td>\n",
       "      <td>No</td>\n",
       "      <td>Yes</td>\n",
       "      <td>No</td>\n",
       "      <td>No</td>\n",
       "      <td>No</td>\n",
       "    </tr>\n",
       "    <tr>\n",
       "      <th>2</th>\n",
       "      <td>3668-QPYBK</td>\n",
       "      <td>DSL</td>\n",
       "      <td>Yes</td>\n",
       "      <td>Yes</td>\n",
       "      <td>No</td>\n",
       "      <td>No</td>\n",
       "      <td>No</td>\n",
       "      <td>No</td>\n",
       "    </tr>\n",
       "    <tr>\n",
       "      <th>3</th>\n",
       "      <td>7795-CFOCW</td>\n",
       "      <td>DSL</td>\n",
       "      <td>Yes</td>\n",
       "      <td>No</td>\n",
       "      <td>Yes</td>\n",
       "      <td>Yes</td>\n",
       "      <td>No</td>\n",
       "      <td>No</td>\n",
       "    </tr>\n",
       "    <tr>\n",
       "      <th>4</th>\n",
       "      <td>9237-HQITU</td>\n",
       "      <td>Fiber optic</td>\n",
       "      <td>No</td>\n",
       "      <td>No</td>\n",
       "      <td>No</td>\n",
       "      <td>No</td>\n",
       "      <td>No</td>\n",
       "      <td>No</td>\n",
       "    </tr>\n",
       "  </tbody>\n",
       "</table>\n",
       "</div>"
      ],
      "text/plain": [
       "   customerID InternetService OnlineSecurity OnlineBackup DeviceProtection  \\\n",
       "0  7590-VHVEG             DSL             No          Yes               No   \n",
       "1  5575-GNVDE             DSL            Yes           No              Yes   \n",
       "2  3668-QPYBK             DSL            Yes          Yes               No   \n",
       "3  7795-CFOCW             DSL            Yes           No              Yes   \n",
       "4  9237-HQITU     Fiber optic             No           No               No   \n",
       "\n",
       "  TechSupport StreamingTV StreamingMovies  \n",
       "0          No          No              No  \n",
       "1          No          No              No  \n",
       "2          No          No              No  \n",
       "3         Yes          No              No  \n",
       "4          No          No              No  "
      ]
     },
     "metadata": {},
     "output_type": "display_data"
    },
    {
     "name": "stdout",
     "output_type": "stream",
     "text": [
      "\n",
      "Check for Missing Values\n",
      "customerID          0\n",
      "InternetService     0\n",
      "OnlineSecurity      0\n",
      "OnlineBackup        0\n",
      "DeviceProtection    0\n",
      "TechSupport         0\n",
      "StreamingTV         0\n",
      "StreamingMovies     0\n",
      "dtype: int64\n",
      "\n",
      "Check Data Types\n",
      "<class 'pandas.core.frame.DataFrame'>\n",
      "RangeIndex: 5517 entries, 0 to 5516\n",
      "Data columns (total 8 columns):\n",
      " #   Column            Non-Null Count  Dtype \n",
      "---  ------            --------------  ----- \n",
      " 0   customerID        5517 non-null   object\n",
      " 1   InternetService   5517 non-null   object\n",
      " 2   OnlineSecurity    5517 non-null   object\n",
      " 3   OnlineBackup      5517 non-null   object\n",
      " 4   DeviceProtection  5517 non-null   object\n",
      " 5   TechSupport       5517 non-null   object\n",
      " 6   StreamingTV       5517 non-null   object\n",
      " 7   StreamingMovies   5517 non-null   object\n",
      "dtypes: object(8)\n",
      "memory usage: 344.9+ KB\n",
      "None\n",
      "\n",
      "Describe Dataframe\n",
      "        customerID InternetService OnlineSecurity OnlineBackup  \\\n",
      "count         5517            5517           5517         5517   \n",
      "unique        5517               2              2            2   \n",
      "top     9701-CDXHR     Fiber optic             No           No   \n",
      "freq             1            3096           3498         3088   \n",
      "\n",
      "       DeviceProtection TechSupport StreamingTV StreamingMovies  \n",
      "count              5517        5517        5517            5517  \n",
      "unique                2           2           2               2  \n",
      "top                  No          No          No              No  \n",
      "freq               3095        3473        2810            2785  \n",
      "\n",
      "Count of Duplicated Rows\n",
      "0\n"
     ]
    }
   ],
   "source": [
    "# Check descriptive_stats for contract\n",
    "descriptive_stats(internet)"
   ]
  },
  {
   "cell_type": "markdown",
   "metadata": {},
   "source": [
    "#### Internet EDA Conclusions\n",
    " - There are no duplicated rows or missing values. None of the datatypes need to be converted. No additional features need to be created for this dataframe.\n",
    " - **There are only 5517 entries in this dataframe where as both the personal and the contract dataframes have 7043 entries.**\n",
    "   - Why are there less rows in this table? Is it because not all users are enrolled for internet?\n",
    " - There are two choices for internet - DSL and Fiber Optic.\n",
    " - All other columns in this dataframe have values of `yes` or `no`. I can use OHE on fields at a later stage when I am preparing my data for model training. \n",
    " - **In a later section, I will left join the Internet dataframe to the Contract dataframe on customerID.** Internet dataframe doesn't contain information about whether the user churned or not, so I need to get this field from Contract so that I can derive insights about churn based on internet plan information."
   ]
  },
  {
   "cell_type": "markdown",
   "metadata": {},
   "source": [
    "### EDA - Phone"
   ]
  },
  {
   "cell_type": "code",
   "execution_count": 15,
   "metadata": {},
   "outputs": [
    {
     "name": "stdout",
     "output_type": "stream",
     "text": [
      "Sample of dataframe\n"
     ]
    },
    {
     "data": {
      "text/html": [
       "<div>\n",
       "<style scoped>\n",
       "    .dataframe tbody tr th:only-of-type {\n",
       "        vertical-align: middle;\n",
       "    }\n",
       "\n",
       "    .dataframe tbody tr th {\n",
       "        vertical-align: top;\n",
       "    }\n",
       "\n",
       "    .dataframe thead th {\n",
       "        text-align: right;\n",
       "    }\n",
       "</style>\n",
       "<table border=\"1\" class=\"dataframe\">\n",
       "  <thead>\n",
       "    <tr style=\"text-align: right;\">\n",
       "      <th></th>\n",
       "      <th>customerID</th>\n",
       "      <th>MultipleLines</th>\n",
       "    </tr>\n",
       "  </thead>\n",
       "  <tbody>\n",
       "    <tr>\n",
       "      <th>0</th>\n",
       "      <td>5575-GNVDE</td>\n",
       "      <td>No</td>\n",
       "    </tr>\n",
       "    <tr>\n",
       "      <th>1</th>\n",
       "      <td>3668-QPYBK</td>\n",
       "      <td>No</td>\n",
       "    </tr>\n",
       "    <tr>\n",
       "      <th>2</th>\n",
       "      <td>9237-HQITU</td>\n",
       "      <td>No</td>\n",
       "    </tr>\n",
       "    <tr>\n",
       "      <th>3</th>\n",
       "      <td>9305-CDSKC</td>\n",
       "      <td>Yes</td>\n",
       "    </tr>\n",
       "    <tr>\n",
       "      <th>4</th>\n",
       "      <td>1452-KIOVK</td>\n",
       "      <td>Yes</td>\n",
       "    </tr>\n",
       "  </tbody>\n",
       "</table>\n",
       "</div>"
      ],
      "text/plain": [
       "   customerID MultipleLines\n",
       "0  5575-GNVDE            No\n",
       "1  3668-QPYBK            No\n",
       "2  9237-HQITU            No\n",
       "3  9305-CDSKC           Yes\n",
       "4  1452-KIOVK           Yes"
      ]
     },
     "metadata": {},
     "output_type": "display_data"
    },
    {
     "name": "stdout",
     "output_type": "stream",
     "text": [
      "\n",
      "Check for Missing Values\n",
      "customerID       0\n",
      "MultipleLines    0\n",
      "dtype: int64\n",
      "\n",
      "Check Data Types\n",
      "<class 'pandas.core.frame.DataFrame'>\n",
      "RangeIndex: 6361 entries, 0 to 6360\n",
      "Data columns (total 2 columns):\n",
      " #   Column         Non-Null Count  Dtype \n",
      "---  ------         --------------  ----- \n",
      " 0   customerID     6361 non-null   object\n",
      " 1   MultipleLines  6361 non-null   object\n",
      "dtypes: object(2)\n",
      "memory usage: 99.5+ KB\n",
      "None\n",
      "\n",
      "Describe Dataframe\n",
      "        customerID MultipleLines\n",
      "count         6361          6361\n",
      "unique        6361             2\n",
      "top     9722-UJOJR            No\n",
      "freq             1          3390\n",
      "\n",
      "Count of Duplicated Rows\n",
      "0\n"
     ]
    }
   ],
   "source": [
    "# Check descriptive_stats for contract\n",
    "descriptive_stats(phone)"
   ]
  },
  {
   "cell_type": "markdown",
   "metadata": {},
   "source": [
    "#### Phone EDA Conclusions\n",
    " - There are no duplicated rows or missing values. None of the datatypes need to be converted. No additional features need to be created for this dataframe.\n",
    " - **There are only 6361 entries in this dataframe where as both the personal and the contract dataframes have 7043 entries.**\n",
    "   - Why are there less rows in this table? Is it because not all users are enrolled for internet?\n",
    " - There are two choices for internet - DSL and Fiber Optic.\n",
    " - All other columns in this dataframe have values of `yes` or `no`. I can use OHE on fields at a later stage when I am preparing my data for model training. \n",
    " - **In a later section, I will left join the Internet dataframe to the Contract dataframe on customerID.** Internet dataframe doesn't contain information about whether the user churned or not, so I need to get this field from Contract so that I can derive insights about churn based on internet plan information."
   ]
  },
  {
   "cell_type": "markdown",
   "metadata": {},
   "source": [
    "### Merge Dataframe & Data Cleansing \n",
    "All four dataframes include important characteristics about users that churn and those who don't. **However,** only the `contract` dataframe has information on whether a user has churned or not. For this reason, all four dataframes need to be combined into one using `customerID` as the key. In this section, I will join all four dataframes into one. Additionally, I will clean up the data after the join. Later I will provide an EDA on the combined dataframe. "
   ]
  },
  {
   "cell_type": "markdown",
   "metadata": {},
   "source": [
    "#### Merge Dataframes"
   ]
  },
  {
   "cell_type": "code",
   "execution_count": 16,
   "metadata": {
    "scrolled": true
   },
   "outputs": [
    {
     "name": "stdout",
     "output_type": "stream",
     "text": [
      "Contract Rows - 7043\n",
      "Data Rows - 7043\n"
     ]
    }
   ],
   "source": [
    "# Join contract to personal on custonerID\n",
    "data = contract.merge(personal, how = 'inner', on = 'customerID')\n",
    "\n",
    "# Join data to internet on custonerID\n",
    "data = data.merge(internet, how = 'left', on = 'customerID')\n",
    "\n",
    "# Join data to phone on custonerID\n",
    "data = data.merge(phone, how = 'left', on = 'customerID')\n",
    "\n",
    "# Check to ensure that no rows were lost in the joins\n",
    "print('Contract Rows -', contract.shape[0])\n",
    "print('Data Rows -', data.shape[0])"
   ]
  },
  {
   "cell_type": "code",
   "execution_count": 17,
   "metadata": {},
   "outputs": [
    {
     "name": "stdout",
     "output_type": "stream",
     "text": [
      "Sample of dataframe\n"
     ]
    },
    {
     "data": {
      "text/html": [
       "<div>\n",
       "<style scoped>\n",
       "    .dataframe tbody tr th:only-of-type {\n",
       "        vertical-align: middle;\n",
       "    }\n",
       "\n",
       "    .dataframe tbody tr th {\n",
       "        vertical-align: top;\n",
       "    }\n",
       "\n",
       "    .dataframe thead th {\n",
       "        text-align: right;\n",
       "    }\n",
       "</style>\n",
       "<table border=\"1\" class=\"dataframe\">\n",
       "  <thead>\n",
       "    <tr style=\"text-align: right;\">\n",
       "      <th></th>\n",
       "      <th>customerID</th>\n",
       "      <th>BeginDate</th>\n",
       "      <th>EndDate</th>\n",
       "      <th>Type</th>\n",
       "      <th>PaperlessBilling</th>\n",
       "      <th>PaymentMethod</th>\n",
       "      <th>MonthlyCharges</th>\n",
       "      <th>TotalCharges</th>\n",
       "      <th>Churned</th>\n",
       "      <th>EndDate_New</th>\n",
       "      <th>months_diff</th>\n",
       "      <th>gender</th>\n",
       "      <th>SeniorCitizen</th>\n",
       "      <th>Partner</th>\n",
       "      <th>Dependents</th>\n",
       "      <th>InternetService</th>\n",
       "      <th>OnlineSecurity</th>\n",
       "      <th>OnlineBackup</th>\n",
       "      <th>DeviceProtection</th>\n",
       "      <th>TechSupport</th>\n",
       "      <th>StreamingTV</th>\n",
       "      <th>StreamingMovies</th>\n",
       "      <th>MultipleLines</th>\n",
       "    </tr>\n",
       "  </thead>\n",
       "  <tbody>\n",
       "    <tr>\n",
       "      <th>0</th>\n",
       "      <td>7590-VHVEG</td>\n",
       "      <td>2020-01-01</td>\n",
       "      <td>No</td>\n",
       "      <td>Month-to-month</td>\n",
       "      <td>Yes</td>\n",
       "      <td>Electronic check</td>\n",
       "      <td>29.85</td>\n",
       "      <td>29.85</td>\n",
       "      <td>0</td>\n",
       "      <td>2020-02-01</td>\n",
       "      <td>1</td>\n",
       "      <td>Female</td>\n",
       "      <td>0</td>\n",
       "      <td>Yes</td>\n",
       "      <td>No</td>\n",
       "      <td>DSL</td>\n",
       "      <td>No</td>\n",
       "      <td>Yes</td>\n",
       "      <td>No</td>\n",
       "      <td>No</td>\n",
       "      <td>No</td>\n",
       "      <td>No</td>\n",
       "      <td>NaN</td>\n",
       "    </tr>\n",
       "    <tr>\n",
       "      <th>1</th>\n",
       "      <td>5575-GNVDE</td>\n",
       "      <td>2017-04-01</td>\n",
       "      <td>No</td>\n",
       "      <td>One year</td>\n",
       "      <td>No</td>\n",
       "      <td>Mailed check</td>\n",
       "      <td>56.95</td>\n",
       "      <td>1889.50</td>\n",
       "      <td>0</td>\n",
       "      <td>2020-02-01</td>\n",
       "      <td>34</td>\n",
       "      <td>Male</td>\n",
       "      <td>0</td>\n",
       "      <td>No</td>\n",
       "      <td>No</td>\n",
       "      <td>DSL</td>\n",
       "      <td>Yes</td>\n",
       "      <td>No</td>\n",
       "      <td>Yes</td>\n",
       "      <td>No</td>\n",
       "      <td>No</td>\n",
       "      <td>No</td>\n",
       "      <td>No</td>\n",
       "    </tr>\n",
       "    <tr>\n",
       "      <th>2</th>\n",
       "      <td>3668-QPYBK</td>\n",
       "      <td>2019-10-01</td>\n",
       "      <td>2019-12-01 00:00:00</td>\n",
       "      <td>Month-to-month</td>\n",
       "      <td>Yes</td>\n",
       "      <td>Mailed check</td>\n",
       "      <td>53.85</td>\n",
       "      <td>108.15</td>\n",
       "      <td>1</td>\n",
       "      <td>2019-12-01</td>\n",
       "      <td>2</td>\n",
       "      <td>Male</td>\n",
       "      <td>0</td>\n",
       "      <td>No</td>\n",
       "      <td>No</td>\n",
       "      <td>DSL</td>\n",
       "      <td>Yes</td>\n",
       "      <td>Yes</td>\n",
       "      <td>No</td>\n",
       "      <td>No</td>\n",
       "      <td>No</td>\n",
       "      <td>No</td>\n",
       "      <td>No</td>\n",
       "    </tr>\n",
       "    <tr>\n",
       "      <th>3</th>\n",
       "      <td>7795-CFOCW</td>\n",
       "      <td>2016-05-01</td>\n",
       "      <td>No</td>\n",
       "      <td>One year</td>\n",
       "      <td>No</td>\n",
       "      <td>Bank transfer (automatic)</td>\n",
       "      <td>42.30</td>\n",
       "      <td>1840.75</td>\n",
       "      <td>0</td>\n",
       "      <td>2020-02-01</td>\n",
       "      <td>45</td>\n",
       "      <td>Male</td>\n",
       "      <td>0</td>\n",
       "      <td>No</td>\n",
       "      <td>No</td>\n",
       "      <td>DSL</td>\n",
       "      <td>Yes</td>\n",
       "      <td>No</td>\n",
       "      <td>Yes</td>\n",
       "      <td>Yes</td>\n",
       "      <td>No</td>\n",
       "      <td>No</td>\n",
       "      <td>NaN</td>\n",
       "    </tr>\n",
       "    <tr>\n",
       "      <th>4</th>\n",
       "      <td>9237-HQITU</td>\n",
       "      <td>2019-09-01</td>\n",
       "      <td>2019-11-01 00:00:00</td>\n",
       "      <td>Month-to-month</td>\n",
       "      <td>Yes</td>\n",
       "      <td>Electronic check</td>\n",
       "      <td>70.70</td>\n",
       "      <td>151.65</td>\n",
       "      <td>1</td>\n",
       "      <td>2019-11-01</td>\n",
       "      <td>2</td>\n",
       "      <td>Female</td>\n",
       "      <td>0</td>\n",
       "      <td>No</td>\n",
       "      <td>No</td>\n",
       "      <td>Fiber optic</td>\n",
       "      <td>No</td>\n",
       "      <td>No</td>\n",
       "      <td>No</td>\n",
       "      <td>No</td>\n",
       "      <td>No</td>\n",
       "      <td>No</td>\n",
       "      <td>No</td>\n",
       "    </tr>\n",
       "  </tbody>\n",
       "</table>\n",
       "</div>"
      ],
      "text/plain": [
       "   customerID  BeginDate              EndDate            Type  \\\n",
       "0  7590-VHVEG 2020-01-01                   No  Month-to-month   \n",
       "1  5575-GNVDE 2017-04-01                   No        One year   \n",
       "2  3668-QPYBK 2019-10-01  2019-12-01 00:00:00  Month-to-month   \n",
       "3  7795-CFOCW 2016-05-01                   No        One year   \n",
       "4  9237-HQITU 2019-09-01  2019-11-01 00:00:00  Month-to-month   \n",
       "\n",
       "  PaperlessBilling              PaymentMethod  MonthlyCharges  TotalCharges  \\\n",
       "0              Yes           Electronic check           29.85         29.85   \n",
       "1               No               Mailed check           56.95       1889.50   \n",
       "2              Yes               Mailed check           53.85        108.15   \n",
       "3               No  Bank transfer (automatic)           42.30       1840.75   \n",
       "4              Yes           Electronic check           70.70        151.65   \n",
       "\n",
       "   Churned EndDate_New  months_diff  gender  SeniorCitizen Partner Dependents  \\\n",
       "0        0  2020-02-01            1  Female              0     Yes         No   \n",
       "1        0  2020-02-01           34    Male              0      No         No   \n",
       "2        1  2019-12-01            2    Male              0      No         No   \n",
       "3        0  2020-02-01           45    Male              0      No         No   \n",
       "4        1  2019-11-01            2  Female              0      No         No   \n",
       "\n",
       "  InternetService OnlineSecurity OnlineBackup DeviceProtection TechSupport  \\\n",
       "0             DSL             No          Yes               No          No   \n",
       "1             DSL            Yes           No              Yes          No   \n",
       "2             DSL            Yes          Yes               No          No   \n",
       "3             DSL            Yes           No              Yes         Yes   \n",
       "4     Fiber optic             No           No               No          No   \n",
       "\n",
       "  StreamingTV StreamingMovies MultipleLines  \n",
       "0          No              No           NaN  \n",
       "1          No              No            No  \n",
       "2          No              No            No  \n",
       "3          No              No           NaN  \n",
       "4          No              No            No  "
      ]
     },
     "metadata": {},
     "output_type": "display_data"
    },
    {
     "name": "stdout",
     "output_type": "stream",
     "text": [
      "\n",
      "Check for Missing Values\n",
      "customerID             0\n",
      "BeginDate              0\n",
      "EndDate                0\n",
      "Type                   0\n",
      "PaperlessBilling       0\n",
      "PaymentMethod          0\n",
      "MonthlyCharges         0\n",
      "TotalCharges           0\n",
      "Churned                0\n",
      "EndDate_New            0\n",
      "months_diff            0\n",
      "gender                 0\n",
      "SeniorCitizen          0\n",
      "Partner                0\n",
      "Dependents             0\n",
      "InternetService     1526\n",
      "OnlineSecurity      1526\n",
      "OnlineBackup        1526\n",
      "DeviceProtection    1526\n",
      "TechSupport         1526\n",
      "StreamingTV         1526\n",
      "StreamingMovies     1526\n",
      "MultipleLines        682\n",
      "dtype: int64\n",
      "\n",
      "Check Data Types\n",
      "<class 'pandas.core.frame.DataFrame'>\n",
      "Int64Index: 7043 entries, 0 to 7042\n",
      "Data columns (total 23 columns):\n",
      " #   Column            Non-Null Count  Dtype         \n",
      "---  ------            --------------  -----         \n",
      " 0   customerID        7043 non-null   object        \n",
      " 1   BeginDate         7043 non-null   datetime64[ns]\n",
      " 2   EndDate           7043 non-null   object        \n",
      " 3   Type              7043 non-null   object        \n",
      " 4   PaperlessBilling  7043 non-null   object        \n",
      " 5   PaymentMethod     7043 non-null   object        \n",
      " 6   MonthlyCharges    7043 non-null   float64       \n",
      " 7   TotalCharges      7043 non-null   float64       \n",
      " 8   Churned           7043 non-null   int64         \n",
      " 9   EndDate_New       7043 non-null   datetime64[ns]\n",
      " 10  months_diff       7043 non-null   int64         \n",
      " 11  gender            7043 non-null   object        \n",
      " 12  SeniorCitizen     7043 non-null   int64         \n",
      " 13  Partner           7043 non-null   object        \n",
      " 14  Dependents        7043 non-null   object        \n",
      " 15  InternetService   5517 non-null   object        \n",
      " 16  OnlineSecurity    5517 non-null   object        \n",
      " 17  OnlineBackup      5517 non-null   object        \n",
      " 18  DeviceProtection  5517 non-null   object        \n",
      " 19  TechSupport       5517 non-null   object        \n",
      " 20  StreamingTV       5517 non-null   object        \n",
      " 21  StreamingMovies   5517 non-null   object        \n",
      " 22  MultipleLines     6361 non-null   object        \n",
      "dtypes: datetime64[ns](2), float64(2), int64(3), object(16)\n",
      "memory usage: 1.3+ MB\n",
      "None\n",
      "\n",
      "Describe Dataframe\n",
      "        customerID            BeginDate EndDate            Type  \\\n",
      "count         7043                 7043    7043            7043   \n",
      "unique        7043                   77       5               3   \n",
      "top     9722-UJOJR  2014-02-01 00:00:00      No  Month-to-month   \n",
      "freq             1                  366    5174            3875   \n",
      "first          NaN  2013-10-01 00:00:00     NaN             NaN   \n",
      "last           NaN  2020-02-01 00:00:00     NaN             NaN   \n",
      "mean           NaN                  NaN     NaN             NaN   \n",
      "std            NaN                  NaN     NaN             NaN   \n",
      "min            NaN                  NaN     NaN             NaN   \n",
      "25%            NaN                  NaN     NaN             NaN   \n",
      "50%            NaN                  NaN     NaN             NaN   \n",
      "75%            NaN                  NaN     NaN             NaN   \n",
      "max            NaN                  NaN     NaN             NaN   \n",
      "\n",
      "       PaperlessBilling     PaymentMethod  MonthlyCharges  TotalCharges  \\\n",
      "count              7043              7043     7043.000000   7043.000000   \n",
      "unique                2                 4             NaN           NaN   \n",
      "top                 Yes  Electronic check             NaN           NaN   \n",
      "freq               4171              2365             NaN           NaN   \n",
      "first               NaN               NaN             NaN           NaN   \n",
      "last                NaN               NaN             NaN           NaN   \n",
      "mean                NaN               NaN       64.761692   2279.798992   \n",
      "std                 NaN               NaN       30.090047   2266.730170   \n",
      "min                 NaN               NaN       18.250000     18.800000   \n",
      "25%                 NaN               NaN       35.500000    398.550000   \n",
      "50%                 NaN               NaN       70.350000   1394.550000   \n",
      "75%                 NaN               NaN       89.850000   3786.600000   \n",
      "max                 NaN               NaN      118.750000   8684.800000   \n",
      "\n",
      "            Churned          EndDate_New  months_diff gender  SeniorCitizen  \\\n",
      "count   7043.000000                 7043  7043.000000   7043    7043.000000   \n",
      "unique          NaN                    5          NaN      2            NaN   \n",
      "top             NaN  2020-02-01 00:00:00          NaN   Male            NaN   \n",
      "freq            NaN                 5174          NaN   3555            NaN   \n",
      "first           NaN  2019-10-01 00:00:00          NaN    NaN            NaN   \n",
      "last            NaN  2020-02-01 00:00:00          NaN    NaN            NaN   \n",
      "mean       0.265370                  NaN    32.166832    NaN       0.162147   \n",
      "std        0.441561                  NaN    24.529822    NaN       0.368612   \n",
      "min        0.000000                  NaN     0.000000    NaN       0.000000   \n",
      "25%        0.000000                  NaN     8.000000    NaN       0.000000   \n",
      "50%        0.000000                  NaN    29.000000    NaN       0.000000   \n",
      "75%        1.000000                  NaN    55.000000    NaN       0.000000   \n",
      "max        1.000000                  NaN    71.000000    NaN       1.000000   \n",
      "\n",
      "       Partner Dependents InternetService OnlineSecurity OnlineBackup  \\\n",
      "count     7043       7043            5517           5517         5517   \n",
      "unique       2          2               2              2            2   \n",
      "top         No         No     Fiber optic             No           No   \n",
      "freq      3641       4933            3096           3498         3088   \n",
      "first      NaN        NaN             NaN            NaN          NaN   \n",
      "last       NaN        NaN             NaN            NaN          NaN   \n",
      "mean       NaN        NaN             NaN            NaN          NaN   \n",
      "std        NaN        NaN             NaN            NaN          NaN   \n",
      "min        NaN        NaN             NaN            NaN          NaN   \n",
      "25%        NaN        NaN             NaN            NaN          NaN   \n",
      "50%        NaN        NaN             NaN            NaN          NaN   \n",
      "75%        NaN        NaN             NaN            NaN          NaN   \n",
      "max        NaN        NaN             NaN            NaN          NaN   \n",
      "\n",
      "       DeviceProtection TechSupport StreamingTV StreamingMovies MultipleLines  \n",
      "count              5517        5517        5517            5517          6361  \n",
      "unique                2           2           2               2             2  \n",
      "top                  No          No          No              No            No  \n",
      "freq               3095        3473        2810            2785          3390  \n",
      "first               NaN         NaN         NaN             NaN           NaN  \n",
      "last                NaN         NaN         NaN             NaN           NaN  \n",
      "mean                NaN         NaN         NaN             NaN           NaN  \n",
      "std                 NaN         NaN         NaN             NaN           NaN  \n",
      "min                 NaN         NaN         NaN             NaN           NaN  \n",
      "25%                 NaN         NaN         NaN             NaN           NaN  \n",
      "50%                 NaN         NaN         NaN             NaN           NaN  \n",
      "75%                 NaN         NaN         NaN             NaN           NaN  \n",
      "max                 NaN         NaN         NaN             NaN           NaN  \n",
      "\n",
      "Count of Duplicated Rows\n",
      "0\n"
     ]
    }
   ],
   "source": [
    "### Check Resulting Dataframe\n",
    "descriptive_stats(data)"
   ]
  },
  {
   "cell_type": "markdown",
   "metadata": {},
   "source": [
    "#### Clean Data"
   ]
  },
  {
   "cell_type": "markdown",
   "metadata": {},
   "source": [
    "##### Has Phone"
   ]
  },
  {
   "cell_type": "code",
   "execution_count": 18,
   "metadata": {},
   "outputs": [],
   "source": [
    "# If user has a null value for MultipleLines this means that the user doesn't have phone \n",
    "# Create new field called HasPhone - 0 if MultipleLines is null, else 1\n",
    "data['HasPhone'] = data['MultipleLines'].notnull().astype(int)"
   ]
  },
  {
   "cell_type": "markdown",
   "metadata": {},
   "source": [
    "##### Has Internet"
   ]
  },
  {
   "cell_type": "code",
   "execution_count": 19,
   "metadata": {},
   "outputs": [],
   "source": [
    "# If user has a null value for InternetService this means that the user doesn't have internet \n",
    "# Create new field called HasInternet - 0 if InternetService is null, else 1\n",
    "data['HasInternet'] = data['InternetService'].notnull().astype(int)"
   ]
  },
  {
   "cell_type": "markdown",
   "metadata": {},
   "source": [
    "##### Service Start Date - Time Cuts\n",
    "Create features that will tell the model when the user started their service with interconnect"
   ]
  },
  {
   "cell_type": "code",
   "execution_count": 20,
   "metadata": {
    "scrolled": false
   },
   "outputs": [],
   "source": [
    "# Service start day of week\n",
    "data['start_day'] = data['BeginDate'].dt.dayofweek\n",
    "\n",
    "# Service start month\n",
    "data['start_month'] = data['BeginDate'].dt.month\n",
    "\n",
    "# Service start year\n",
    "data['start_year'] = data['BeginDate'].dt.year"
   ]
  },
  {
   "cell_type": "markdown",
   "metadata": {},
   "source": [
    "##### Replacing Missing Values Due to Phone and Internet Left Joins\n",
    "Not every user with a contract has both phone and internet. For example, when a user doesn't have internet, but has phone, the customer will have null values for internet related fields. For these null (missing values) we will need to replace them with a value. I will replace null values with the string 'N/A' because these fields are not applicable to the user if they do not have the service. "
   ]
  },
  {
   "cell_type": "code",
   "execution_count": 21,
   "metadata": {},
   "outputs": [
    {
     "name": "stdout",
     "output_type": "stream",
     "text": [
      "Check For Missing Values Before Fill\n",
      "customerID             0\n",
      "BeginDate              0\n",
      "EndDate                0\n",
      "Type                   0\n",
      "PaperlessBilling       0\n",
      "PaymentMethod          0\n",
      "MonthlyCharges         0\n",
      "TotalCharges           0\n",
      "Churned                0\n",
      "EndDate_New            0\n",
      "months_diff            0\n",
      "gender                 0\n",
      "SeniorCitizen          0\n",
      "Partner                0\n",
      "Dependents             0\n",
      "InternetService     1526\n",
      "OnlineSecurity      1526\n",
      "OnlineBackup        1526\n",
      "DeviceProtection    1526\n",
      "TechSupport         1526\n",
      "StreamingTV         1526\n",
      "StreamingMovies     1526\n",
      "MultipleLines        682\n",
      "HasPhone               0\n",
      "HasInternet            0\n",
      "start_day              0\n",
      "start_month            0\n",
      "start_year             0\n",
      "dtype: int64\n",
      "\n",
      "Check For Missing Values After Fill\n",
      "customerID          0\n",
      "BeginDate           0\n",
      "EndDate             0\n",
      "Type                0\n",
      "PaperlessBilling    0\n",
      "PaymentMethod       0\n",
      "MonthlyCharges      0\n",
      "TotalCharges        0\n",
      "Churned             0\n",
      "EndDate_New         0\n",
      "months_diff         0\n",
      "gender              0\n",
      "SeniorCitizen       0\n",
      "Partner             0\n",
      "Dependents          0\n",
      "InternetService     0\n",
      "OnlineSecurity      0\n",
      "OnlineBackup        0\n",
      "DeviceProtection    0\n",
      "TechSupport         0\n",
      "StreamingTV         0\n",
      "StreamingMovies     0\n",
      "MultipleLines       0\n",
      "HasPhone            0\n",
      "HasInternet         0\n",
      "start_day           0\n",
      "start_month         0\n",
      "start_year          0\n",
      "dtype: int64\n",
      "\n"
     ]
    }
   ],
   "source": [
    "# Check which fields have missing values first\n",
    "print('Check For Missing Values Before Fill')\n",
    "print(data.isna().sum())\n",
    "print()\n",
    "\n",
    "# Replace missing values with 'N/A'\n",
    "data = data.fillna('N/A')\n",
    "\n",
    "# Check that missing values have been replaced\n",
    "print('Check For Missing Values After Fill')\n",
    "print(data.isna().sum())\n",
    "print()"
   ]
  },
  {
   "cell_type": "markdown",
   "metadata": {},
   "source": [
    "### Combined Dataframe Exploratory Data Analysis\n",
    "Now that there are no longer and missing values and we've checked that we didn't dropped any rows due to the joins of each dataframe, we can run an EDA on the combined dataframe. I will use the same visualization function as I did earlier to plot numerical and categoraical fields to analyze the difference between users that churned versus users that did not churn. "
   ]
  },
  {
   "cell_type": "code",
   "execution_count": 22,
   "metadata": {
    "scrolled": false
   },
   "outputs": [
    {
     "name": "stdout",
     "output_type": "stream",
     "text": [
      "<class 'pandas.core.frame.DataFrame'>\n",
      "Int64Index: 7043 entries, 0 to 7042\n",
      "Data columns (total 28 columns):\n",
      " #   Column            Non-Null Count  Dtype         \n",
      "---  ------            --------------  -----         \n",
      " 0   customerID        7043 non-null   object        \n",
      " 1   BeginDate         7043 non-null   datetime64[ns]\n",
      " 2   EndDate           7043 non-null   object        \n",
      " 3   Type              7043 non-null   object        \n",
      " 4   PaperlessBilling  7043 non-null   object        \n",
      " 5   PaymentMethod     7043 non-null   object        \n",
      " 6   MonthlyCharges    7043 non-null   float64       \n",
      " 7   TotalCharges      7043 non-null   float64       \n",
      " 8   Churned           7043 non-null   int64         \n",
      " 9   EndDate_New       7043 non-null   datetime64[ns]\n",
      " 10  months_diff       7043 non-null   int64         \n",
      " 11  gender            7043 non-null   object        \n",
      " 12  SeniorCitizen     7043 non-null   int64         \n",
      " 13  Partner           7043 non-null   object        \n",
      " 14  Dependents        7043 non-null   object        \n",
      " 15  InternetService   7043 non-null   object        \n",
      " 16  OnlineSecurity    7043 non-null   object        \n",
      " 17  OnlineBackup      7043 non-null   object        \n",
      " 18  DeviceProtection  7043 non-null   object        \n",
      " 19  TechSupport       7043 non-null   object        \n",
      " 20  StreamingTV       7043 non-null   object        \n",
      " 21  StreamingMovies   7043 non-null   object        \n",
      " 22  MultipleLines     7043 non-null   object        \n",
      " 23  HasPhone          7043 non-null   int64         \n",
      " 24  HasInternet       7043 non-null   int64         \n",
      " 25  start_day         7043 non-null   int64         \n",
      " 26  start_month       7043 non-null   int64         \n",
      " 27  start_year        7043 non-null   int64         \n",
      "dtypes: datetime64[ns](2), float64(2), int64(8), object(16)\n",
      "memory usage: 1.6+ MB\n"
     ]
    }
   ],
   "source": [
    "# Check datatypes so I can add fields to list below\n",
    "data.info()\n",
    "\n",
    "# Create list of categorical columns to be visualized\n",
    "categorical = ['gender','Partner', 'SeniorCitizen','Dependents', 'InternetService']\n",
    "\n",
    "# Create list of numerical columns to be visualized\n",
    "numerical = ['HasPhone','HasInternet']"
   ]
  },
  {
   "cell_type": "markdown",
   "metadata": {},
   "source": [
    "#### Plot Categorical Fields"
   ]
  },
  {
   "cell_type": "code",
   "execution_count": 23,
   "metadata": {},
   "outputs": [
    {
     "data": {
      "image/png": "[encoded data removed]",
      "text/plain": [
       "<Figure size 1000x300 with 1 Axes>"
      ]
     },
     "metadata": {},
     "output_type": "display_data"
    },
    {
     "data": {
      "image/png": "[encoded data removed]",
      "text/plain": [
       "<Figure size 1000x300 with 1 Axes>"
      ]
     },
     "metadata": {},
     "output_type": "display_data"
    },
    {
     "data": {
      "image/png": "[encoded data removed]",
      "text/plain": [
       "<Figure size 1000x300 with 1 Axes>"
      ]
     },
     "metadata": {},
     "output_type": "display_data"
    },
    {
     "data": {
      "image/png": "[encoded data removed]",
      "text/plain": [
       "<Figure size 1000x300 with 1 Axes>"
      ]
     },
     "metadata": {},
     "output_type": "display_data"
    },
    {
     "data": {
      "image/png": "[encoded data removed]",
      "text/plain": [
       "<Figure size 1000x300 with 1 Axes>"
      ]
     },
     "metadata": {},
     "output_type": "display_data"
    }
   ],
   "source": [
    "# Plot categorical fields\n",
    "bar_plots(data, categorical)"
   ]
  },
  {
   "cell_type": "markdown",
   "metadata": {},
   "source": [
    "#### Plot Numerical Fields"
   ]
  },
  {
   "cell_type": "code",
   "execution_count": 24,
   "metadata": {},
   "outputs": [
    {
     "data": {
      "image/png": "[encoded data removed]",
      "text/plain": [
       "<Figure size 1000x300 with 1 Axes>"
      ]
     },
     "metadata": {},
     "output_type": "display_data"
    },
    {
     "data": {
      "image/png": "[encoded data removed]",
      "text/plain": [
       "<Figure size 1000x300 with 1 Axes>"
      ]
     },
     "metadata": {},
     "output_type": "display_data"
    }
   ],
   "source": [
    "# Plot numerical fields\n",
    "generate_histogram(data, numerical)"
   ]
  },
  {
   "cell_type": "markdown",
   "metadata": {},
   "source": [
    "#### Combined Dataframe Exploratory Data Analysis - Findings"
   ]
  },
  {
   "cell_type": "markdown",
   "metadata": {},
   "source": [
    "**_Findings -_** Compared to those who do not churn, users who churn are **more likely to not have a partner, are not senior citizens, and do not have dependents. It also looks like there is a higher chance for churn if the customer has internet (specifically the Fiber Optic service)**"
   ]
  },
  {
   "cell_type": "markdown",
   "metadata": {},
   "source": [
    "#### Churn User Summary \n",
    "**From our EDA, we have a rough idea of who churned users are.**\n",
    "\n",
    "Compared to those who do not churn, users who churn are **more likely to not have a partner, are not senior citizens, and do not have dependents. It also looks like there is a higher chance for churn if the customer has internet (specifically the Fiber Optic service). Compared to users that have not churned, **churned users** have higher monthly charges and they are with Interconnect for a shorter period of time than non-churned users. Nothing can be drawn about Total Charges because it is a function of monthly charges and monthly duration spent with Interconnect. Compared to users that have not churned, **churned users** are more likley to be in month-to-month contracts, they use electronic check as their payment method, and they use paperless billing.\n",
    "\n",
    "While we know what churned users may look like, the purpose of this project is to build a model to predict users that churn based on the data that we currently have. **See next steps below**"
   ]
  },
  {
   "cell_type": "markdown",
   "metadata": {},
   "source": [
    "## Creating Training, Validation & Test Data\n",
    "Before we train our models, we need to do a few things -\n",
    " 1. Encode categorical fields so that the models can use these fields when predicting churn\n",
    " 2. Split dataset into three data sets - training, validation, test. This way we can use the validation and training sets to find the best hyperparameters and then present the model with a new dataset where it doesn't know the targets.\n",
    " 3. Scale certain fields where the numerical values are too large. We don't want the model putting too much weight total charges, which could be thousands of times larger than binary values like senior citizne (0/1)"
   ]
  },
  {
   "cell_type": "markdown",
   "metadata": {},
   "source": [
    "### Drop Fields Not Required For Model Training\n",
    "Not all fields in the dataset are required for model training. In this section we will drop fields that could add noise or be irrevalent for producing the most accurate predictions"
   ]
  },
  {
   "cell_type": "code",
   "execution_count": 25,
   "metadata": {},
   "outputs": [
    {
     "data": {
      "text/html": [
       "<div>\n",
       "<style scoped>\n",
       "    .dataframe tbody tr th:only-of-type {\n",
       "        vertical-align: middle;\n",
       "    }\n",
       "\n",
       "    .dataframe tbody tr th {\n",
       "        vertical-align: top;\n",
       "    }\n",
       "\n",
       "    .dataframe thead th {\n",
       "        text-align: right;\n",
       "    }\n",
       "</style>\n",
       "<table border=\"1\" class=\"dataframe\">\n",
       "  <thead>\n",
       "    <tr style=\"text-align: right;\">\n",
       "      <th></th>\n",
       "      <th>Type</th>\n",
       "      <th>PaperlessBilling</th>\n",
       "      <th>PaymentMethod</th>\n",
       "      <th>MonthlyCharges</th>\n",
       "      <th>TotalCharges</th>\n",
       "      <th>Churned</th>\n",
       "      <th>gender</th>\n",
       "      <th>SeniorCitizen</th>\n",
       "      <th>Partner</th>\n",
       "      <th>Dependents</th>\n",
       "      <th>InternetService</th>\n",
       "      <th>OnlineSecurity</th>\n",
       "      <th>OnlineBackup</th>\n",
       "      <th>DeviceProtection</th>\n",
       "      <th>TechSupport</th>\n",
       "      <th>StreamingTV</th>\n",
       "      <th>StreamingMovies</th>\n",
       "      <th>MultipleLines</th>\n",
       "      <th>HasPhone</th>\n",
       "      <th>HasInternet</th>\n",
       "      <th>start_day</th>\n",
       "      <th>start_month</th>\n",
       "      <th>start_year</th>\n",
       "    </tr>\n",
       "  </thead>\n",
       "  <tbody>\n",
       "    <tr>\n",
       "      <th>0</th>\n",
       "      <td>Month-to-month</td>\n",
       "      <td>Yes</td>\n",
       "      <td>Electronic check</td>\n",
       "      <td>29.85</td>\n",
       "      <td>29.85</td>\n",
       "      <td>0</td>\n",
       "      <td>Female</td>\n",
       "      <td>0</td>\n",
       "      <td>Yes</td>\n",
       "      <td>No</td>\n",
       "      <td>DSL</td>\n",
       "      <td>No</td>\n",
       "      <td>Yes</td>\n",
       "      <td>No</td>\n",
       "      <td>No</td>\n",
       "      <td>No</td>\n",
       "      <td>No</td>\n",
       "      <td>N/A</td>\n",
       "      <td>0</td>\n",
       "      <td>1</td>\n",
       "      <td>2</td>\n",
       "      <td>1</td>\n",
       "      <td>2020</td>\n",
       "    </tr>\n",
       "    <tr>\n",
       "      <th>1</th>\n",
       "      <td>One year</td>\n",
       "      <td>No</td>\n",
       "      <td>Mailed check</td>\n",
       "      <td>56.95</td>\n",
       "      <td>1889.50</td>\n",
       "      <td>0</td>\n",
       "      <td>Male</td>\n",
       "      <td>0</td>\n",
       "      <td>No</td>\n",
       "      <td>No</td>\n",
       "      <td>DSL</td>\n",
       "      <td>Yes</td>\n",
       "      <td>No</td>\n",
       "      <td>Yes</td>\n",
       "      <td>No</td>\n",
       "      <td>No</td>\n",
       "      <td>No</td>\n",
       "      <td>No</td>\n",
       "      <td>1</td>\n",
       "      <td>1</td>\n",
       "      <td>5</td>\n",
       "      <td>4</td>\n",
       "      <td>2017</td>\n",
       "    </tr>\n",
       "    <tr>\n",
       "      <th>2</th>\n",
       "      <td>Month-to-month</td>\n",
       "      <td>Yes</td>\n",
       "      <td>Mailed check</td>\n",
       "      <td>53.85</td>\n",
       "      <td>108.15</td>\n",
       "      <td>1</td>\n",
       "      <td>Male</td>\n",
       "      <td>0</td>\n",
       "      <td>No</td>\n",
       "      <td>No</td>\n",
       "      <td>DSL</td>\n",
       "      <td>Yes</td>\n",
       "      <td>Yes</td>\n",
       "      <td>No</td>\n",
       "      <td>No</td>\n",
       "      <td>No</td>\n",
       "      <td>No</td>\n",
       "      <td>No</td>\n",
       "      <td>1</td>\n",
       "      <td>1</td>\n",
       "      <td>1</td>\n",
       "      <td>10</td>\n",
       "      <td>2019</td>\n",
       "    </tr>\n",
       "    <tr>\n",
       "      <th>3</th>\n",
       "      <td>One year</td>\n",
       "      <td>No</td>\n",
       "      <td>Bank transfer (automatic)</td>\n",
       "      <td>42.30</td>\n",
       "      <td>1840.75</td>\n",
       "      <td>0</td>\n",
       "      <td>Male</td>\n",
       "      <td>0</td>\n",
       "      <td>No</td>\n",
       "      <td>No</td>\n",
       "      <td>DSL</td>\n",
       "      <td>Yes</td>\n",
       "      <td>No</td>\n",
       "      <td>Yes</td>\n",
       "      <td>Yes</td>\n",
       "      <td>No</td>\n",
       "      <td>No</td>\n",
       "      <td>N/A</td>\n",
       "      <td>0</td>\n",
       "      <td>1</td>\n",
       "      <td>6</td>\n",
       "      <td>5</td>\n",
       "      <td>2016</td>\n",
       "    </tr>\n",
       "    <tr>\n",
       "      <th>4</th>\n",
       "      <td>Month-to-month</td>\n",
       "      <td>Yes</td>\n",
       "      <td>Electronic check</td>\n",
       "      <td>70.70</td>\n",
       "      <td>151.65</td>\n",
       "      <td>1</td>\n",
       "      <td>Female</td>\n",
       "      <td>0</td>\n",
       "      <td>No</td>\n",
       "      <td>No</td>\n",
       "      <td>Fiber optic</td>\n",
       "      <td>No</td>\n",
       "      <td>No</td>\n",
       "      <td>No</td>\n",
       "      <td>No</td>\n",
       "      <td>No</td>\n",
       "      <td>No</td>\n",
       "      <td>No</td>\n",
       "      <td>1</td>\n",
       "      <td>1</td>\n",
       "      <td>6</td>\n",
       "      <td>9</td>\n",
       "      <td>2019</td>\n",
       "    </tr>\n",
       "  </tbody>\n",
       "</table>\n",
       "</div>"
      ],
      "text/plain": [
       "             Type PaperlessBilling              PaymentMethod  MonthlyCharges  \\\n",
       "0  Month-to-month              Yes           Electronic check           29.85   \n",
       "1        One year               No               Mailed check           56.95   \n",
       "2  Month-to-month              Yes               Mailed check           53.85   \n",
       "3        One year               No  Bank transfer (automatic)           42.30   \n",
       "4  Month-to-month              Yes           Electronic check           70.70   \n",
       "\n",
       "   TotalCharges  Churned  gender  SeniorCitizen Partner Dependents  \\\n",
       "0         29.85        0  Female              0     Yes         No   \n",
       "1       1889.50        0    Male              0      No         No   \n",
       "2        108.15        1    Male              0      No         No   \n",
       "3       1840.75        0    Male              0      No         No   \n",
       "4        151.65        1  Female              0      No         No   \n",
       "\n",
       "  InternetService OnlineSecurity OnlineBackup DeviceProtection TechSupport  \\\n",
       "0             DSL             No          Yes               No          No   \n",
       "1             DSL            Yes           No              Yes          No   \n",
       "2             DSL            Yes          Yes               No          No   \n",
       "3             DSL            Yes           No              Yes         Yes   \n",
       "4     Fiber optic             No           No               No          No   \n",
       "\n",
       "  StreamingTV StreamingMovies MultipleLines  HasPhone  HasInternet  start_day  \\\n",
       "0          No              No           N/A         0            1          2   \n",
       "1          No              No            No         1            1          5   \n",
       "2          No              No            No         1            1          1   \n",
       "3          No              No           N/A         0            1          6   \n",
       "4          No              No            No         1            1          6   \n",
       "\n",
       "   start_month  start_year  \n",
       "0            1        2020  \n",
       "1            4        2017  \n",
       "2           10        2019  \n",
       "3            5        2016  \n",
       "4            9        2019  "
      ]
     },
     "execution_count": 25,
     "metadata": {},
     "output_type": "execute_result"
    }
   ],
   "source": [
    "# Create list of fields to drop\n",
    "# Drop months_diff to avoid data leakage\n",
    "fields_to_drop = ['customerID','BeginDate','EndDate','EndDate_New','months_diff']\n",
    "\n",
    "# Create list of fields to drop\n",
    "data = data.drop(columns=fields_to_drop)\n",
    "\n",
    "# Check that fields were dropped\n",
    "data.head()"
   ]
  },
  {
   "cell_type": "markdown",
   "metadata": {},
   "source": [
    "### Encode Categorical Fields \n",
    "Because there isn't a ranking or order to the categorical fields that need to be perserved when converting to numerical values, we will use OHE instead of ordinal encoding. "
   ]
  },
  {
   "cell_type": "code",
   "execution_count": 26,
   "metadata": {},
   "outputs": [
    {
     "data": {
      "text/html": [
       "<div>\n",
       "<style scoped>\n",
       "    .dataframe tbody tr th:only-of-type {\n",
       "        vertical-align: middle;\n",
       "    }\n",
       "\n",
       "    .dataframe tbody tr th {\n",
       "        vertical-align: top;\n",
       "    }\n",
       "\n",
       "    .dataframe thead th {\n",
       "        text-align: right;\n",
       "    }\n",
       "</style>\n",
       "<table border=\"1\" class=\"dataframe\">\n",
       "  <thead>\n",
       "    <tr style=\"text-align: right;\">\n",
       "      <th></th>\n",
       "      <th>MonthlyCharges</th>\n",
       "      <th>TotalCharges</th>\n",
       "      <th>Churned</th>\n",
       "      <th>SeniorCitizen</th>\n",
       "      <th>HasPhone</th>\n",
       "      <th>HasInternet</th>\n",
       "      <th>start_day</th>\n",
       "      <th>start_month</th>\n",
       "      <th>start_year</th>\n",
       "      <th>Type_Month-to-month</th>\n",
       "      <th>Type_One year</th>\n",
       "      <th>Type_Two year</th>\n",
       "      <th>PaperlessBilling_No</th>\n",
       "      <th>PaperlessBilling_Yes</th>\n",
       "      <th>PaymentMethod_Bank transfer (automatic)</th>\n",
       "      <th>PaymentMethod_Credit card (automatic)</th>\n",
       "      <th>PaymentMethod_Electronic check</th>\n",
       "      <th>PaymentMethod_Mailed check</th>\n",
       "      <th>gender_Female</th>\n",
       "      <th>gender_Male</th>\n",
       "      <th>Partner_No</th>\n",
       "      <th>Partner_Yes</th>\n",
       "      <th>Dependents_No</th>\n",
       "      <th>Dependents_Yes</th>\n",
       "      <th>InternetService_DSL</th>\n",
       "      <th>InternetService_Fiber optic</th>\n",
       "      <th>InternetService_N/A</th>\n",
       "      <th>OnlineSecurity_N/A</th>\n",
       "      <th>OnlineSecurity_No</th>\n",
       "      <th>OnlineSecurity_Yes</th>\n",
       "      <th>OnlineBackup_N/A</th>\n",
       "      <th>OnlineBackup_No</th>\n",
       "      <th>OnlineBackup_Yes</th>\n",
       "      <th>DeviceProtection_N/A</th>\n",
       "      <th>DeviceProtection_No</th>\n",
       "      <th>DeviceProtection_Yes</th>\n",
       "      <th>TechSupport_N/A</th>\n",
       "      <th>TechSupport_No</th>\n",
       "      <th>TechSupport_Yes</th>\n",
       "      <th>StreamingTV_N/A</th>\n",
       "      <th>StreamingTV_No</th>\n",
       "      <th>StreamingTV_Yes</th>\n",
       "      <th>StreamingMovies_N/A</th>\n",
       "      <th>StreamingMovies_No</th>\n",
       "      <th>StreamingMovies_Yes</th>\n",
       "      <th>MultipleLines_N/A</th>\n",
       "      <th>MultipleLines_No</th>\n",
       "      <th>MultipleLines_Yes</th>\n",
       "    </tr>\n",
       "  </thead>\n",
       "  <tbody>\n",
       "    <tr>\n",
       "      <th>0</th>\n",
       "      <td>29.85</td>\n",
       "      <td>29.85</td>\n",
       "      <td>0</td>\n",
       "      <td>0</td>\n",
       "      <td>0</td>\n",
       "      <td>1</td>\n",
       "      <td>2</td>\n",
       "      <td>1</td>\n",
       "      <td>2020</td>\n",
       "      <td>1</td>\n",
       "      <td>0</td>\n",
       "      <td>0</td>\n",
       "      <td>0</td>\n",
       "      <td>1</td>\n",
       "      <td>0</td>\n",
       "      <td>0</td>\n",
       "      <td>1</td>\n",
       "      <td>0</td>\n",
       "      <td>1</td>\n",
       "      <td>0</td>\n",
       "      <td>0</td>\n",
       "      <td>1</td>\n",
       "      <td>1</td>\n",
       "      <td>0</td>\n",
       "      <td>1</td>\n",
       "      <td>0</td>\n",
       "      <td>0</td>\n",
       "      <td>0</td>\n",
       "      <td>1</td>\n",
       "      <td>0</td>\n",
       "      <td>0</td>\n",
       "      <td>0</td>\n",
       "      <td>1</td>\n",
       "      <td>0</td>\n",
       "      <td>1</td>\n",
       "      <td>0</td>\n",
       "      <td>0</td>\n",
       "      <td>1</td>\n",
       "      <td>0</td>\n",
       "      <td>0</td>\n",
       "      <td>1</td>\n",
       "      <td>0</td>\n",
       "      <td>0</td>\n",
       "      <td>1</td>\n",
       "      <td>0</td>\n",
       "      <td>1</td>\n",
       "      <td>0</td>\n",
       "      <td>0</td>\n",
       "    </tr>\n",
       "    <tr>\n",
       "      <th>1</th>\n",
       "      <td>56.95</td>\n",
       "      <td>1889.50</td>\n",
       "      <td>0</td>\n",
       "      <td>0</td>\n",
       "      <td>1</td>\n",
       "      <td>1</td>\n",
       "      <td>5</td>\n",
       "      <td>4</td>\n",
       "      <td>2017</td>\n",
       "      <td>0</td>\n",
       "      <td>1</td>\n",
       "      <td>0</td>\n",
       "      <td>1</td>\n",
       "      <td>0</td>\n",
       "      <td>0</td>\n",
       "      <td>0</td>\n",
       "      <td>0</td>\n",
       "      <td>1</td>\n",
       "      <td>0</td>\n",
       "      <td>1</td>\n",
       "      <td>1</td>\n",
       "      <td>0</td>\n",
       "      <td>1</td>\n",
       "      <td>0</td>\n",
       "      <td>1</td>\n",
       "      <td>0</td>\n",
       "      <td>0</td>\n",
       "      <td>0</td>\n",
       "      <td>0</td>\n",
       "      <td>1</td>\n",
       "      <td>0</td>\n",
       "      <td>1</td>\n",
       "      <td>0</td>\n",
       "      <td>0</td>\n",
       "      <td>0</td>\n",
       "      <td>1</td>\n",
       "      <td>0</td>\n",
       "      <td>1</td>\n",
       "      <td>0</td>\n",
       "      <td>0</td>\n",
       "      <td>1</td>\n",
       "      <td>0</td>\n",
       "      <td>0</td>\n",
       "      <td>1</td>\n",
       "      <td>0</td>\n",
       "      <td>0</td>\n",
       "      <td>1</td>\n",
       "      <td>0</td>\n",
       "    </tr>\n",
       "    <tr>\n",
       "      <th>2</th>\n",
       "      <td>53.85</td>\n",
       "      <td>108.15</td>\n",
       "      <td>1</td>\n",
       "      <td>0</td>\n",
       "      <td>1</td>\n",
       "      <td>1</td>\n",
       "      <td>1</td>\n",
       "      <td>10</td>\n",
       "      <td>2019</td>\n",
       "      <td>1</td>\n",
       "      <td>0</td>\n",
       "      <td>0</td>\n",
       "      <td>0</td>\n",
       "      <td>1</td>\n",
       "      <td>0</td>\n",
       "      <td>0</td>\n",
       "      <td>0</td>\n",
       "      <td>1</td>\n",
       "      <td>0</td>\n",
       "      <td>1</td>\n",
       "      <td>1</td>\n",
       "      <td>0</td>\n",
       "      <td>1</td>\n",
       "      <td>0</td>\n",
       "      <td>1</td>\n",
       "      <td>0</td>\n",
       "      <td>0</td>\n",
       "      <td>0</td>\n",
       "      <td>0</td>\n",
       "      <td>1</td>\n",
       "      <td>0</td>\n",
       "      <td>0</td>\n",
       "      <td>1</td>\n",
       "      <td>0</td>\n",
       "      <td>1</td>\n",
       "      <td>0</td>\n",
       "      <td>0</td>\n",
       "      <td>1</td>\n",
       "      <td>0</td>\n",
       "      <td>0</td>\n",
       "      <td>1</td>\n",
       "      <td>0</td>\n",
       "      <td>0</td>\n",
       "      <td>1</td>\n",
       "      <td>0</td>\n",
       "      <td>0</td>\n",
       "      <td>1</td>\n",
       "      <td>0</td>\n",
       "    </tr>\n",
       "    <tr>\n",
       "      <th>3</th>\n",
       "      <td>42.30</td>\n",
       "      <td>1840.75</td>\n",
       "      <td>0</td>\n",
       "      <td>0</td>\n",
       "      <td>0</td>\n",
       "      <td>1</td>\n",
       "      <td>6</td>\n",
       "      <td>5</td>\n",
       "      <td>2016</td>\n",
       "      <td>0</td>\n",
       "      <td>1</td>\n",
       "      <td>0</td>\n",
       "      <td>1</td>\n",
       "      <td>0</td>\n",
       "      <td>1</td>\n",
       "      <td>0</td>\n",
       "      <td>0</td>\n",
       "      <td>0</td>\n",
       "      <td>0</td>\n",
       "      <td>1</td>\n",
       "      <td>1</td>\n",
       "      <td>0</td>\n",
       "      <td>1</td>\n",
       "      <td>0</td>\n",
       "      <td>1</td>\n",
       "      <td>0</td>\n",
       "      <td>0</td>\n",
       "      <td>0</td>\n",
       "      <td>0</td>\n",
       "      <td>1</td>\n",
       "      <td>0</td>\n",
       "      <td>1</td>\n",
       "      <td>0</td>\n",
       "      <td>0</td>\n",
       "      <td>0</td>\n",
       "      <td>1</td>\n",
       "      <td>0</td>\n",
       "      <td>0</td>\n",
       "      <td>1</td>\n",
       "      <td>0</td>\n",
       "      <td>1</td>\n",
       "      <td>0</td>\n",
       "      <td>0</td>\n",
       "      <td>1</td>\n",
       "      <td>0</td>\n",
       "      <td>1</td>\n",
       "      <td>0</td>\n",
       "      <td>0</td>\n",
       "    </tr>\n",
       "    <tr>\n",
       "      <th>4</th>\n",
       "      <td>70.70</td>\n",
       "      <td>151.65</td>\n",
       "      <td>1</td>\n",
       "      <td>0</td>\n",
       "      <td>1</td>\n",
       "      <td>1</td>\n",
       "      <td>6</td>\n",
       "      <td>9</td>\n",
       "      <td>2019</td>\n",
       "      <td>1</td>\n",
       "      <td>0</td>\n",
       "      <td>0</td>\n",
       "      <td>0</td>\n",
       "      <td>1</td>\n",
       "      <td>0</td>\n",
       "      <td>0</td>\n",
       "      <td>1</td>\n",
       "      <td>0</td>\n",
       "      <td>1</td>\n",
       "      <td>0</td>\n",
       "      <td>1</td>\n",
       "      <td>0</td>\n",
       "      <td>1</td>\n",
       "      <td>0</td>\n",
       "      <td>0</td>\n",
       "      <td>1</td>\n",
       "      <td>0</td>\n",
       "      <td>0</td>\n",
       "      <td>1</td>\n",
       "      <td>0</td>\n",
       "      <td>0</td>\n",
       "      <td>1</td>\n",
       "      <td>0</td>\n",
       "      <td>0</td>\n",
       "      <td>1</td>\n",
       "      <td>0</td>\n",
       "      <td>0</td>\n",
       "      <td>1</td>\n",
       "      <td>0</td>\n",
       "      <td>0</td>\n",
       "      <td>1</td>\n",
       "      <td>0</td>\n",
       "      <td>0</td>\n",
       "      <td>1</td>\n",
       "      <td>0</td>\n",
       "      <td>0</td>\n",
       "      <td>1</td>\n",
       "      <td>0</td>\n",
       "    </tr>\n",
       "  </tbody>\n",
       "</table>\n",
       "</div>"
      ],
      "text/plain": [
       "   MonthlyCharges  TotalCharges  Churned  SeniorCitizen  HasPhone  \\\n",
       "0           29.85         29.85        0              0         0   \n",
       "1           56.95       1889.50        0              0         1   \n",
       "2           53.85        108.15        1              0         1   \n",
       "3           42.30       1840.75        0              0         0   \n",
       "4           70.70        151.65        1              0         1   \n",
       "\n",
       "   HasInternet  start_day  start_month  start_year  Type_Month-to-month  \\\n",
       "0            1          2            1        2020                    1   \n",
       "1            1          5            4        2017                    0   \n",
       "2            1          1           10        2019                    1   \n",
       "3            1          6            5        2016                    0   \n",
       "4            1          6            9        2019                    1   \n",
       "\n",
       "   Type_One year  Type_Two year  PaperlessBilling_No  PaperlessBilling_Yes  \\\n",
       "0              0              0                    0                     1   \n",
       "1              1              0                    1                     0   \n",
       "2              0              0                    0                     1   \n",
       "3              1              0                    1                     0   \n",
       "4              0              0                    0                     1   \n",
       "\n",
       "   PaymentMethod_Bank transfer (automatic)  \\\n",
       "0                                        0   \n",
       "1                                        0   \n",
       "2                                        0   \n",
       "3                                        1   \n",
       "4                                        0   \n",
       "\n",
       "   PaymentMethod_Credit card (automatic)  PaymentMethod_Electronic check  \\\n",
       "0                                      0                               1   \n",
       "1                                      0                               0   \n",
       "2                                      0                               0   \n",
       "3                                      0                               0   \n",
       "4                                      0                               1   \n",
       "\n",
       "   PaymentMethod_Mailed check  gender_Female  gender_Male  Partner_No  \\\n",
       "0                           0              1            0           0   \n",
       "1                           1              0            1           1   \n",
       "2                           1              0            1           1   \n",
       "3                           0              0            1           1   \n",
       "4                           0              1            0           1   \n",
       "\n",
       "   Partner_Yes  Dependents_No  Dependents_Yes  InternetService_DSL  \\\n",
       "0            1              1               0                    1   \n",
       "1            0              1               0                    1   \n",
       "2            0              1               0                    1   \n",
       "3            0              1               0                    1   \n",
       "4            0              1               0                    0   \n",
       "\n",
       "   InternetService_Fiber optic  InternetService_N/A  OnlineSecurity_N/A  \\\n",
       "0                            0                    0                   0   \n",
       "1                            0                    0                   0   \n",
       "2                            0                    0                   0   \n",
       "3                            0                    0                   0   \n",
       "4                            1                    0                   0   \n",
       "\n",
       "   OnlineSecurity_No  OnlineSecurity_Yes  OnlineBackup_N/A  OnlineBackup_No  \\\n",
       "0                  1                   0                 0                0   \n",
       "1                  0                   1                 0                1   \n",
       "2                  0                   1                 0                0   \n",
       "3                  0                   1                 0                1   \n",
       "4                  1                   0                 0                1   \n",
       "\n",
       "   OnlineBackup_Yes  DeviceProtection_N/A  DeviceProtection_No  \\\n",
       "0                 1                     0                    1   \n",
       "1                 0                     0                    0   \n",
       "2                 1                     0                    1   \n",
       "3                 0                     0                    0   \n",
       "4                 0                     0                    1   \n",
       "\n",
       "   DeviceProtection_Yes  TechSupport_N/A  TechSupport_No  TechSupport_Yes  \\\n",
       "0                     0                0               1                0   \n",
       "1                     1                0               1                0   \n",
       "2                     0                0               1                0   \n",
       "3                     1                0               0                1   \n",
       "4                     0                0               1                0   \n",
       "\n",
       "   StreamingTV_N/A  StreamingTV_No  StreamingTV_Yes  StreamingMovies_N/A  \\\n",
       "0                0               1                0                    0   \n",
       "1                0               1                0                    0   \n",
       "2                0               1                0                    0   \n",
       "3                0               1                0                    0   \n",
       "4                0               1                0                    0   \n",
       "\n",
       "   StreamingMovies_No  StreamingMovies_Yes  MultipleLines_N/A  \\\n",
       "0                   1                    0                  1   \n",
       "1                   1                    0                  0   \n",
       "2                   1                    0                  0   \n",
       "3                   1                    0                  1   \n",
       "4                   1                    0                  0   \n",
       "\n",
       "   MultipleLines_No  MultipleLines_Yes  \n",
       "0                 0                  0  \n",
       "1                 1                  0  \n",
       "2                 1                  0  \n",
       "3                 0                  0  \n",
       "4                 1                  0  "
      ]
     },
     "execution_count": 26,
     "metadata": {},
     "output_type": "execute_result"
    }
   ],
   "source": [
    "# Create a list of the columns that need to be converted\n",
    "categorical_columns = ['Type','PaperlessBilling','PaymentMethod','gender','Partner','Dependents','InternetService','OnlineSecurity','OnlineBackup','DeviceProtection','TechSupport','StreamingTV','StreamingMovies','MultipleLines']\n",
    "\n",
    "# Convert categorical fields to numerical fields using OHE\n",
    "# Not removing dummy variables because the categorical fields are not binary (1/0)\n",
    "data_ohe = pd.get_dummies(data, columns=categorical_columns, drop_first=False)\n",
    "\n",
    "# Print sample of encoded data frame\n",
    "data_ohe.head()"
   ]
  },
  {
   "cell_type": "markdown",
   "metadata": {},
   "source": [
    "### Split Data Into Training, Validation & Test Sets\n",
    "Because we need to do hyperparameter tuning, we will need to create a few sets of training data to fit and evaluate the model on"
   ]
  },
  {
   "cell_type": "code",
   "execution_count": 27,
   "metadata": {},
   "outputs": [
    {
     "name": "stdout",
     "output_type": "stream",
     "text": [
      "(4225, 47)\n",
      "(4225,)\n",
      "(1409, 47)\n",
      "(1409,)\n",
      "(1409, 47)\n",
      "(1409,)\n"
     ]
    }
   ],
   "source": [
    "# The validiation set will be split in half to get 3 datasets with a ration of 3:1:1\n",
    "# Set Random State to 12345 to Replicate Training Set in Future\n",
    "# 60% of data will be in training_set and other 40% will be in validation_set_to_split\n",
    "training_set, validation_set_to_split = train_test_split(data_ohe, test_size=0.40, random_state=12345)\n",
    "\n",
    "# Split validation_set_to_split in half to create a validation and test set\n",
    "validation_set, test_set = train_test_split(validation_set_to_split, test_size=0.50, random_state=12345)\n",
    "\n",
    "# Create the features and target training datasets\n",
    "features_train = training_set.drop(['Churned'], axis=1)\n",
    "target_train = training_set['Churned']\n",
    "\n",
    "# Create the features and target validation datasets\n",
    "features_valid = validation_set.drop(['Churned'], axis=1)\n",
    "target_valid = validation_set['Churned']\n",
    "\n",
    "# Create the features and target test datasets\n",
    "features_test = test_set.drop(['Churned'], axis=1)\n",
    "target_test = test_set['Churned']\n",
    "\n",
    "#Training \n",
    "print(features_train.shape) # Training set contains 60% of original dataframe rows \n",
    "print(target_train.shape)   # Training set contains 60% of original dataframe rows \n",
    "\n",
    "# Validation\n",
    "print(features_valid.shape) # Validation set contains 25% of original dataframe rows \n",
    "print(target_valid.shape)   # Validation set contains 25% of original dataframe rows \n",
    "\n",
    "# Test\n",
    "print(features_test.shape)  # Test set contains 25% of original dataframe rows \n",
    "print(target_test.shape)    # Test set contains 25% of original dataframe rows "
   ]
  },
  {
   "cell_type": "markdown",
   "metadata": {},
   "source": [
    "### Perform Scaling"
   ]
  },
  {
   "cell_type": "code",
   "execution_count": 28,
   "metadata": {
    "scrolled": true
   },
   "outputs": [
    {
     "name": "stdout",
     "output_type": "stream",
     "text": [
      "Train\n"
     ]
    },
    {
     "data": {
      "text/html": [
       "<div>\n",
       "<style scoped>\n",
       "    .dataframe tbody tr th:only-of-type {\n",
       "        vertical-align: middle;\n",
       "    }\n",
       "\n",
       "    .dataframe tbody tr th {\n",
       "        vertical-align: top;\n",
       "    }\n",
       "\n",
       "    .dataframe thead th {\n",
       "        text-align: right;\n",
       "    }\n",
       "</style>\n",
       "<table border=\"1\" class=\"dataframe\">\n",
       "  <thead>\n",
       "    <tr style=\"text-align: right;\">\n",
       "      <th></th>\n",
       "      <th>MonthlyCharges</th>\n",
       "      <th>TotalCharges</th>\n",
       "      <th>SeniorCitizen</th>\n",
       "      <th>HasPhone</th>\n",
       "      <th>HasInternet</th>\n",
       "      <th>start_day</th>\n",
       "      <th>start_month</th>\n",
       "      <th>start_year</th>\n",
       "      <th>Type_Month-to-month</th>\n",
       "      <th>Type_One year</th>\n",
       "      <th>Type_Two year</th>\n",
       "      <th>PaperlessBilling_No</th>\n",
       "      <th>PaperlessBilling_Yes</th>\n",
       "      <th>PaymentMethod_Bank transfer (automatic)</th>\n",
       "      <th>PaymentMethod_Credit card (automatic)</th>\n",
       "      <th>PaymentMethod_Electronic check</th>\n",
       "      <th>PaymentMethod_Mailed check</th>\n",
       "      <th>gender_Female</th>\n",
       "      <th>gender_Male</th>\n",
       "      <th>Partner_No</th>\n",
       "      <th>Partner_Yes</th>\n",
       "      <th>Dependents_No</th>\n",
       "      <th>Dependents_Yes</th>\n",
       "      <th>InternetService_DSL</th>\n",
       "      <th>InternetService_Fiber optic</th>\n",
       "      <th>InternetService_N/A</th>\n",
       "      <th>OnlineSecurity_N/A</th>\n",
       "      <th>OnlineSecurity_No</th>\n",
       "      <th>OnlineSecurity_Yes</th>\n",
       "      <th>OnlineBackup_N/A</th>\n",
       "      <th>OnlineBackup_No</th>\n",
       "      <th>OnlineBackup_Yes</th>\n",
       "      <th>DeviceProtection_N/A</th>\n",
       "      <th>DeviceProtection_No</th>\n",
       "      <th>DeviceProtection_Yes</th>\n",
       "      <th>TechSupport_N/A</th>\n",
       "      <th>TechSupport_No</th>\n",
       "      <th>TechSupport_Yes</th>\n",
       "      <th>StreamingTV_N/A</th>\n",
       "      <th>StreamingTV_No</th>\n",
       "      <th>StreamingTV_Yes</th>\n",
       "      <th>StreamingMovies_N/A</th>\n",
       "      <th>StreamingMovies_No</th>\n",
       "      <th>StreamingMovies_Yes</th>\n",
       "      <th>MultipleLines_N/A</th>\n",
       "      <th>MultipleLines_No</th>\n",
       "      <th>MultipleLines_Yes</th>\n",
       "    </tr>\n",
       "  </thead>\n",
       "  <tbody>\n",
       "    <tr>\n",
       "      <th>836</th>\n",
       "      <td>0.219283</td>\n",
       "      <td>0.966129</td>\n",
       "      <td>0</td>\n",
       "      <td>1</td>\n",
       "      <td>1</td>\n",
       "      <td>-1.606107</td>\n",
       "      <td>1.561811</td>\n",
       "      <td>-1.450172</td>\n",
       "      <td>0</td>\n",
       "      <td>1</td>\n",
       "      <td>0</td>\n",
       "      <td>1</td>\n",
       "      <td>0</td>\n",
       "      <td>0</td>\n",
       "      <td>1</td>\n",
       "      <td>0</td>\n",
       "      <td>0</td>\n",
       "      <td>0</td>\n",
       "      <td>1</td>\n",
       "      <td>0</td>\n",
       "      <td>1</td>\n",
       "      <td>0</td>\n",
       "      <td>1</td>\n",
       "      <td>1</td>\n",
       "      <td>0</td>\n",
       "      <td>0</td>\n",
       "      <td>0</td>\n",
       "      <td>0</td>\n",
       "      <td>1</td>\n",
       "      <td>0</td>\n",
       "      <td>1</td>\n",
       "      <td>0</td>\n",
       "      <td>0</td>\n",
       "      <td>0</td>\n",
       "      <td>1</td>\n",
       "      <td>0</td>\n",
       "      <td>0</td>\n",
       "      <td>1</td>\n",
       "      <td>0</td>\n",
       "      <td>1</td>\n",
       "      <td>0</td>\n",
       "      <td>0</td>\n",
       "      <td>0</td>\n",
       "      <td>1</td>\n",
       "      <td>0</td>\n",
       "      <td>1</td>\n",
       "      <td>0</td>\n",
       "    </tr>\n",
       "    <tr>\n",
       "      <th>1005</th>\n",
       "      <td>1.028885</td>\n",
       "      <td>1.200041</td>\n",
       "      <td>1</td>\n",
       "      <td>1</td>\n",
       "      <td>1</td>\n",
       "      <td>-1.106306</td>\n",
       "      <td>0.726433</td>\n",
       "      <td>-0.940398</td>\n",
       "      <td>0</td>\n",
       "      <td>1</td>\n",
       "      <td>0</td>\n",
       "      <td>0</td>\n",
       "      <td>1</td>\n",
       "      <td>0</td>\n",
       "      <td>1</td>\n",
       "      <td>0</td>\n",
       "      <td>0</td>\n",
       "      <td>1</td>\n",
       "      <td>0</td>\n",
       "      <td>0</td>\n",
       "      <td>1</td>\n",
       "      <td>1</td>\n",
       "      <td>0</td>\n",
       "      <td>0</td>\n",
       "      <td>1</td>\n",
       "      <td>0</td>\n",
       "      <td>0</td>\n",
       "      <td>1</td>\n",
       "      <td>0</td>\n",
       "      <td>0</td>\n",
       "      <td>1</td>\n",
       "      <td>0</td>\n",
       "      <td>0</td>\n",
       "      <td>1</td>\n",
       "      <td>0</td>\n",
       "      <td>0</td>\n",
       "      <td>1</td>\n",
       "      <td>0</td>\n",
       "      <td>0</td>\n",
       "      <td>0</td>\n",
       "      <td>1</td>\n",
       "      <td>0</td>\n",
       "      <td>0</td>\n",
       "      <td>1</td>\n",
       "      <td>0</td>\n",
       "      <td>0</td>\n",
       "      <td>1</td>\n",
       "    </tr>\n",
       "    <tr>\n",
       "      <th>4220</th>\n",
       "      <td>-1.499261</td>\n",
       "      <td>-0.564376</td>\n",
       "      <td>0</td>\n",
       "      <td>1</td>\n",
       "      <td>0</td>\n",
       "      <td>-0.606505</td>\n",
       "      <td>0.169514</td>\n",
       "      <td>-0.940398</td>\n",
       "      <td>0</td>\n",
       "      <td>1</td>\n",
       "      <td>0</td>\n",
       "      <td>1</td>\n",
       "      <td>0</td>\n",
       "      <td>0</td>\n",
       "      <td>0</td>\n",
       "      <td>0</td>\n",
       "      <td>1</td>\n",
       "      <td>0</td>\n",
       "      <td>1</td>\n",
       "      <td>0</td>\n",
       "      <td>1</td>\n",
       "      <td>0</td>\n",
       "      <td>1</td>\n",
       "      <td>0</td>\n",
       "      <td>0</td>\n",
       "      <td>1</td>\n",
       "      <td>1</td>\n",
       "      <td>0</td>\n",
       "      <td>0</td>\n",
       "      <td>1</td>\n",
       "      <td>0</td>\n",
       "      <td>0</td>\n",
       "      <td>1</td>\n",
       "      <td>0</td>\n",
       "      <td>0</td>\n",
       "      <td>1</td>\n",
       "      <td>0</td>\n",
       "      <td>0</td>\n",
       "      <td>1</td>\n",
       "      <td>0</td>\n",
       "      <td>0</td>\n",
       "      <td>1</td>\n",
       "      <td>0</td>\n",
       "      <td>0</td>\n",
       "      <td>0</td>\n",
       "      <td>1</td>\n",
       "      <td>0</td>\n",
       "    </tr>\n",
       "    <tr>\n",
       "      <th>6543</th>\n",
       "      <td>-0.332042</td>\n",
       "      <td>0.496512</td>\n",
       "      <td>0</td>\n",
       "      <td>1</td>\n",
       "      <td>1</td>\n",
       "      <td>-1.606107</td>\n",
       "      <td>1.561811</td>\n",
       "      <td>-1.450172</td>\n",
       "      <td>0</td>\n",
       "      <td>1</td>\n",
       "      <td>0</td>\n",
       "      <td>1</td>\n",
       "      <td>0</td>\n",
       "      <td>0</td>\n",
       "      <td>1</td>\n",
       "      <td>0</td>\n",
       "      <td>0</td>\n",
       "      <td>1</td>\n",
       "      <td>0</td>\n",
       "      <td>0</td>\n",
       "      <td>1</td>\n",
       "      <td>0</td>\n",
       "      <td>1</td>\n",
       "      <td>1</td>\n",
       "      <td>0</td>\n",
       "      <td>0</td>\n",
       "      <td>0</td>\n",
       "      <td>0</td>\n",
       "      <td>1</td>\n",
       "      <td>0</td>\n",
       "      <td>1</td>\n",
       "      <td>0</td>\n",
       "      <td>0</td>\n",
       "      <td>0</td>\n",
       "      <td>1</td>\n",
       "      <td>0</td>\n",
       "      <td>1</td>\n",
       "      <td>0</td>\n",
       "      <td>0</td>\n",
       "      <td>1</td>\n",
       "      <td>0</td>\n",
       "      <td>0</td>\n",
       "      <td>1</td>\n",
       "      <td>0</td>\n",
       "      <td>0</td>\n",
       "      <td>1</td>\n",
       "      <td>0</td>\n",
       "    </tr>\n",
       "    <tr>\n",
       "      <th>272</th>\n",
       "      <td>-1.323764</td>\n",
       "      <td>-1.007282</td>\n",
       "      <td>0</td>\n",
       "      <td>0</td>\n",
       "      <td>1</td>\n",
       "      <td>0.393098</td>\n",
       "      <td>1.283352</td>\n",
       "      <td>1.098699</td>\n",
       "      <td>1</td>\n",
       "      <td>0</td>\n",
       "      <td>0</td>\n",
       "      <td>1</td>\n",
       "      <td>0</td>\n",
       "      <td>1</td>\n",
       "      <td>0</td>\n",
       "      <td>0</td>\n",
       "      <td>0</td>\n",
       "      <td>0</td>\n",
       "      <td>1</td>\n",
       "      <td>1</td>\n",
       "      <td>0</td>\n",
       "      <td>1</td>\n",
       "      <td>0</td>\n",
       "      <td>1</td>\n",
       "      <td>0</td>\n",
       "      <td>0</td>\n",
       "      <td>0</td>\n",
       "      <td>1</td>\n",
       "      <td>0</td>\n",
       "      <td>0</td>\n",
       "      <td>1</td>\n",
       "      <td>0</td>\n",
       "      <td>0</td>\n",
       "      <td>1</td>\n",
       "      <td>0</td>\n",
       "      <td>0</td>\n",
       "      <td>1</td>\n",
       "      <td>0</td>\n",
       "      <td>0</td>\n",
       "      <td>1</td>\n",
       "      <td>0</td>\n",
       "      <td>0</td>\n",
       "      <td>1</td>\n",
       "      <td>0</td>\n",
       "      <td>1</td>\n",
       "      <td>0</td>\n",
       "      <td>0</td>\n",
       "    </tr>\n",
       "  </tbody>\n",
       "</table>\n",
       "</div>"
      ],
      "text/plain": [
       "      MonthlyCharges  TotalCharges  SeniorCitizen  HasPhone  HasInternet  \\\n",
       "836         0.219283      0.966129              0         1            1   \n",
       "1005        1.028885      1.200041              1         1            1   \n",
       "4220       -1.499261     -0.564376              0         1            0   \n",
       "6543       -0.332042      0.496512              0         1            1   \n",
       "272        -1.323764     -1.007282              0         0            1   \n",
       "\n",
       "      start_day  start_month  start_year  Type_Month-to-month  Type_One year  \\\n",
       "836   -1.606107     1.561811   -1.450172                    0              1   \n",
       "1005  -1.106306     0.726433   -0.940398                    0              1   \n",
       "4220  -0.606505     0.169514   -0.940398                    0              1   \n",
       "6543  -1.606107     1.561811   -1.450172                    0              1   \n",
       "272    0.393098     1.283352    1.098699                    1              0   \n",
       "\n",
       "      Type_Two year  PaperlessBilling_No  PaperlessBilling_Yes  \\\n",
       "836               0                    1                     0   \n",
       "1005              0                    0                     1   \n",
       "4220              0                    1                     0   \n",
       "6543              0                    1                     0   \n",
       "272               0                    1                     0   \n",
       "\n",
       "      PaymentMethod_Bank transfer (automatic)  \\\n",
       "836                                         0   \n",
       "1005                                        0   \n",
       "4220                                        0   \n",
       "6543                                        0   \n",
       "272                                         1   \n",
       "\n",
       "      PaymentMethod_Credit card (automatic)  PaymentMethod_Electronic check  \\\n",
       "836                                       1                               0   \n",
       "1005                                      1                               0   \n",
       "4220                                      0                               0   \n",
       "6543                                      1                               0   \n",
       "272                                       0                               0   \n",
       "\n",
       "      PaymentMethod_Mailed check  gender_Female  gender_Male  Partner_No  \\\n",
       "836                            0              0            1           0   \n",
       "1005                           0              1            0           0   \n",
       "4220                           1              0            1           0   \n",
       "6543                           0              1            0           0   \n",
       "272                            0              0            1           1   \n",
       "\n",
       "      Partner_Yes  Dependents_No  Dependents_Yes  InternetService_DSL  \\\n",
       "836             1              0               1                    1   \n",
       "1005            1              1               0                    0   \n",
       "4220            1              0               1                    0   \n",
       "6543            1              0               1                    1   \n",
       "272             0              1               0                    1   \n",
       "\n",
       "      InternetService_Fiber optic  InternetService_N/A  OnlineSecurity_N/A  \\\n",
       "836                             0                    0                   0   \n",
       "1005                            1                    0                   0   \n",
       "4220                            0                    1                   1   \n",
       "6543                            0                    0                   0   \n",
       "272                             0                    0                   0   \n",
       "\n",
       "      OnlineSecurity_No  OnlineSecurity_Yes  OnlineBackup_N/A  \\\n",
       "836                   0                   1                 0   \n",
       "1005                  1                   0                 0   \n",
       "4220                  0                   0                 1   \n",
       "6543                  0                   1                 0   \n",
       "272                   1                   0                 0   \n",
       "\n",
       "      OnlineBackup_No  OnlineBackup_Yes  DeviceProtection_N/A  \\\n",
       "836                 1                 0                     0   \n",
       "1005                1                 0                     0   \n",
       "4220                0                 0                     1   \n",
       "6543                1                 0                     0   \n",
       "272                 1                 0                     0   \n",
       "\n",
       "      DeviceProtection_No  DeviceProtection_Yes  TechSupport_N/A  \\\n",
       "836                     0                     1                0   \n",
       "1005                    1                     0                0   \n",
       "4220                    0                     0                1   \n",
       "6543                    0                     1                0   \n",
       "272                     1                     0                0   \n",
       "\n",
       "      TechSupport_No  TechSupport_Yes  StreamingTV_N/A  StreamingTV_No  \\\n",
       "836                0                1                0               1   \n",
       "1005               1                0                0               0   \n",
       "4220               0                0                1               0   \n",
       "6543               1                0                0               1   \n",
       "272                1                0                0               1   \n",
       "\n",
       "      StreamingTV_Yes  StreamingMovies_N/A  StreamingMovies_No  \\\n",
       "836                 0                    0                   0   \n",
       "1005                1                    0                   0   \n",
       "4220                0                    1                   0   \n",
       "6543                0                    0                   1   \n",
       "272                 0                    0                   1   \n",
       "\n",
       "      StreamingMovies_Yes  MultipleLines_N/A  MultipleLines_No  \\\n",
       "836                     1                  0                 1   \n",
       "1005                    1                  0                 0   \n",
       "4220                    0                  0                 1   \n",
       "6543                    0                  0                 1   \n",
       "272                     0                  1                 0   \n",
       "\n",
       "      MultipleLines_Yes  \n",
       "836                   0  \n",
       "1005                  1  \n",
       "4220                  0  \n",
       "6543                  0  \n",
       "272                   0  "
      ]
     },
     "metadata": {},
     "output_type": "display_data"
    },
    {
     "name": "stdout",
     "output_type": "stream",
     "text": [
      "Validation\n"
     ]
    },
    {
     "data": {
      "text/html": [
       "<div>\n",
       "<style scoped>\n",
       "    .dataframe tbody tr th:only-of-type {\n",
       "        vertical-align: middle;\n",
       "    }\n",
       "\n",
       "    .dataframe tbody tr th {\n",
       "        vertical-align: top;\n",
       "    }\n",
       "\n",
       "    .dataframe thead th {\n",
       "        text-align: right;\n",
       "    }\n",
       "</style>\n",
       "<table border=\"1\" class=\"dataframe\">\n",
       "  <thead>\n",
       "    <tr style=\"text-align: right;\">\n",
       "      <th></th>\n",
       "      <th>MonthlyCharges</th>\n",
       "      <th>TotalCharges</th>\n",
       "      <th>SeniorCitizen</th>\n",
       "      <th>HasPhone</th>\n",
       "      <th>HasInternet</th>\n",
       "      <th>start_day</th>\n",
       "      <th>start_month</th>\n",
       "      <th>start_year</th>\n",
       "      <th>Type_Month-to-month</th>\n",
       "      <th>Type_One year</th>\n",
       "      <th>Type_Two year</th>\n",
       "      <th>PaperlessBilling_No</th>\n",
       "      <th>PaperlessBilling_Yes</th>\n",
       "      <th>PaymentMethod_Bank transfer (automatic)</th>\n",
       "      <th>PaymentMethod_Credit card (automatic)</th>\n",
       "      <th>PaymentMethod_Electronic check</th>\n",
       "      <th>PaymentMethod_Mailed check</th>\n",
       "      <th>gender_Female</th>\n",
       "      <th>gender_Male</th>\n",
       "      <th>Partner_No</th>\n",
       "      <th>Partner_Yes</th>\n",
       "      <th>Dependents_No</th>\n",
       "      <th>Dependents_Yes</th>\n",
       "      <th>InternetService_DSL</th>\n",
       "      <th>InternetService_Fiber optic</th>\n",
       "      <th>InternetService_N/A</th>\n",
       "      <th>OnlineSecurity_N/A</th>\n",
       "      <th>OnlineSecurity_No</th>\n",
       "      <th>OnlineSecurity_Yes</th>\n",
       "      <th>OnlineBackup_N/A</th>\n",
       "      <th>OnlineBackup_No</th>\n",
       "      <th>OnlineBackup_Yes</th>\n",
       "      <th>DeviceProtection_N/A</th>\n",
       "      <th>DeviceProtection_No</th>\n",
       "      <th>DeviceProtection_Yes</th>\n",
       "      <th>TechSupport_N/A</th>\n",
       "      <th>TechSupport_No</th>\n",
       "      <th>TechSupport_Yes</th>\n",
       "      <th>StreamingTV_N/A</th>\n",
       "      <th>StreamingTV_No</th>\n",
       "      <th>StreamingTV_Yes</th>\n",
       "      <th>StreamingMovies_N/A</th>\n",
       "      <th>StreamingMovies_No</th>\n",
       "      <th>StreamingMovies_Yes</th>\n",
       "      <th>MultipleLines_N/A</th>\n",
       "      <th>MultipleLines_No</th>\n",
       "      <th>MultipleLines_Yes</th>\n",
       "    </tr>\n",
       "  </thead>\n",
       "  <tbody>\n",
       "    <tr>\n",
       "      <th>4164</th>\n",
       "      <td>1.527230</td>\n",
       "      <td>2.485357</td>\n",
       "      <td>0</td>\n",
       "      <td>1</td>\n",
       "      <td>1</td>\n",
       "      <td>0.892900</td>\n",
       "      <td>-1.222783</td>\n",
       "      <td>-1.450172</td>\n",
       "      <td>0</td>\n",
       "      <td>0</td>\n",
       "      <td>1</td>\n",
       "      <td>1</td>\n",
       "      <td>0</td>\n",
       "      <td>0</td>\n",
       "      <td>1</td>\n",
       "      <td>0</td>\n",
       "      <td>0</td>\n",
       "      <td>0</td>\n",
       "      <td>1</td>\n",
       "      <td>0</td>\n",
       "      <td>1</td>\n",
       "      <td>0</td>\n",
       "      <td>1</td>\n",
       "      <td>0</td>\n",
       "      <td>1</td>\n",
       "      <td>0</td>\n",
       "      <td>0</td>\n",
       "      <td>1</td>\n",
       "      <td>0</td>\n",
       "      <td>0</td>\n",
       "      <td>0</td>\n",
       "      <td>1</td>\n",
       "      <td>0</td>\n",
       "      <td>0</td>\n",
       "      <td>1</td>\n",
       "      <td>0</td>\n",
       "      <td>0</td>\n",
       "      <td>1</td>\n",
       "      <td>0</td>\n",
       "      <td>0</td>\n",
       "      <td>1</td>\n",
       "      <td>0</td>\n",
       "      <td>0</td>\n",
       "      <td>1</td>\n",
       "      <td>0</td>\n",
       "      <td>0</td>\n",
       "      <td>1</td>\n",
       "    </tr>\n",
       "    <tr>\n",
       "      <th>4068</th>\n",
       "      <td>-1.499261</td>\n",
       "      <td>-0.897965</td>\n",
       "      <td>0</td>\n",
       "      <td>1</td>\n",
       "      <td>0</td>\n",
       "      <td>0.892900</td>\n",
       "      <td>1.561811</td>\n",
       "      <td>0.588925</td>\n",
       "      <td>0</td>\n",
       "      <td>1</td>\n",
       "      <td>0</td>\n",
       "      <td>0</td>\n",
       "      <td>1</td>\n",
       "      <td>0</td>\n",
       "      <td>0</td>\n",
       "      <td>0</td>\n",
       "      <td>1</td>\n",
       "      <td>1</td>\n",
       "      <td>0</td>\n",
       "      <td>0</td>\n",
       "      <td>1</td>\n",
       "      <td>0</td>\n",
       "      <td>1</td>\n",
       "      <td>0</td>\n",
       "      <td>0</td>\n",
       "      <td>1</td>\n",
       "      <td>1</td>\n",
       "      <td>0</td>\n",
       "      <td>0</td>\n",
       "      <td>1</td>\n",
       "      <td>0</td>\n",
       "      <td>0</td>\n",
       "      <td>1</td>\n",
       "      <td>0</td>\n",
       "      <td>0</td>\n",
       "      <td>1</td>\n",
       "      <td>0</td>\n",
       "      <td>0</td>\n",
       "      <td>1</td>\n",
       "      <td>0</td>\n",
       "      <td>0</td>\n",
       "      <td>1</td>\n",
       "      <td>0</td>\n",
       "      <td>0</td>\n",
       "      <td>0</td>\n",
       "      <td>1</td>\n",
       "      <td>0</td>\n",
       "    </tr>\n",
       "    <tr>\n",
       "      <th>6842</th>\n",
       "      <td>-1.484360</td>\n",
       "      <td>-0.904599</td>\n",
       "      <td>0</td>\n",
       "      <td>1</td>\n",
       "      <td>0</td>\n",
       "      <td>-1.106306</td>\n",
       "      <td>-1.501242</td>\n",
       "      <td>1.098699</td>\n",
       "      <td>0</td>\n",
       "      <td>1</td>\n",
       "      <td>0</td>\n",
       "      <td>0</td>\n",
       "      <td>1</td>\n",
       "      <td>0</td>\n",
       "      <td>0</td>\n",
       "      <td>0</td>\n",
       "      <td>1</td>\n",
       "      <td>0</td>\n",
       "      <td>1</td>\n",
       "      <td>1</td>\n",
       "      <td>0</td>\n",
       "      <td>1</td>\n",
       "      <td>0</td>\n",
       "      <td>0</td>\n",
       "      <td>0</td>\n",
       "      <td>1</td>\n",
       "      <td>1</td>\n",
       "      <td>0</td>\n",
       "      <td>0</td>\n",
       "      <td>1</td>\n",
       "      <td>0</td>\n",
       "      <td>0</td>\n",
       "      <td>1</td>\n",
       "      <td>0</td>\n",
       "      <td>0</td>\n",
       "      <td>1</td>\n",
       "      <td>0</td>\n",
       "      <td>0</td>\n",
       "      <td>1</td>\n",
       "      <td>0</td>\n",
       "      <td>0</td>\n",
       "      <td>1</td>\n",
       "      <td>0</td>\n",
       "      <td>0</td>\n",
       "      <td>0</td>\n",
       "      <td>1</td>\n",
       "      <td>0</td>\n",
       "    </tr>\n",
       "    <tr>\n",
       "      <th>914</th>\n",
       "      <td>-1.310519</td>\n",
       "      <td>-0.222738</td>\n",
       "      <td>0</td>\n",
       "      <td>1</td>\n",
       "      <td>0</td>\n",
       "      <td>0.892900</td>\n",
       "      <td>-1.222783</td>\n",
       "      <td>-1.450172</td>\n",
       "      <td>0</td>\n",
       "      <td>0</td>\n",
       "      <td>1</td>\n",
       "      <td>0</td>\n",
       "      <td>1</td>\n",
       "      <td>1</td>\n",
       "      <td>0</td>\n",
       "      <td>0</td>\n",
       "      <td>0</td>\n",
       "      <td>0</td>\n",
       "      <td>1</td>\n",
       "      <td>0</td>\n",
       "      <td>1</td>\n",
       "      <td>0</td>\n",
       "      <td>1</td>\n",
       "      <td>0</td>\n",
       "      <td>0</td>\n",
       "      <td>1</td>\n",
       "      <td>1</td>\n",
       "      <td>0</td>\n",
       "      <td>0</td>\n",
       "      <td>1</td>\n",
       "      <td>0</td>\n",
       "      <td>0</td>\n",
       "      <td>1</td>\n",
       "      <td>0</td>\n",
       "      <td>0</td>\n",
       "      <td>1</td>\n",
       "      <td>0</td>\n",
       "      <td>0</td>\n",
       "      <td>1</td>\n",
       "      <td>0</td>\n",
       "      <td>0</td>\n",
       "      <td>1</td>\n",
       "      <td>0</td>\n",
       "      <td>0</td>\n",
       "      <td>0</td>\n",
       "      <td>0</td>\n",
       "      <td>1</td>\n",
       "    </tr>\n",
       "    <tr>\n",
       "      <th>6877</th>\n",
       "      <td>0.162991</td>\n",
       "      <td>-0.987427</td>\n",
       "      <td>0</td>\n",
       "      <td>1</td>\n",
       "      <td>1</td>\n",
       "      <td>1.392701</td>\n",
       "      <td>1.561811</td>\n",
       "      <td>1.098699</td>\n",
       "      <td>1</td>\n",
       "      <td>0</td>\n",
       "      <td>0</td>\n",
       "      <td>1</td>\n",
       "      <td>0</td>\n",
       "      <td>1</td>\n",
       "      <td>0</td>\n",
       "      <td>0</td>\n",
       "      <td>0</td>\n",
       "      <td>1</td>\n",
       "      <td>0</td>\n",
       "      <td>1</td>\n",
       "      <td>0</td>\n",
       "      <td>1</td>\n",
       "      <td>0</td>\n",
       "      <td>0</td>\n",
       "      <td>1</td>\n",
       "      <td>0</td>\n",
       "      <td>0</td>\n",
       "      <td>1</td>\n",
       "      <td>0</td>\n",
       "      <td>0</td>\n",
       "      <td>1</td>\n",
       "      <td>0</td>\n",
       "      <td>0</td>\n",
       "      <td>1</td>\n",
       "      <td>0</td>\n",
       "      <td>0</td>\n",
       "      <td>1</td>\n",
       "      <td>0</td>\n",
       "      <td>0</td>\n",
       "      <td>1</td>\n",
       "      <td>0</td>\n",
       "      <td>0</td>\n",
       "      <td>1</td>\n",
       "      <td>0</td>\n",
       "      <td>0</td>\n",
       "      <td>1</td>\n",
       "      <td>0</td>\n",
       "    </tr>\n",
       "  </tbody>\n",
       "</table>\n",
       "</div>"
      ],
      "text/plain": [
       "      MonthlyCharges  TotalCharges  SeniorCitizen  HasPhone  HasInternet  \\\n",
       "4164        1.527230      2.485357              0         1            1   \n",
       "4068       -1.499261     -0.897965              0         1            0   \n",
       "6842       -1.484360     -0.904599              0         1            0   \n",
       "914        -1.310519     -0.222738              0         1            0   \n",
       "6877        0.162991     -0.987427              0         1            1   \n",
       "\n",
       "      start_day  start_month  start_year  Type_Month-to-month  Type_One year  \\\n",
       "4164   0.892900    -1.222783   -1.450172                    0              0   \n",
       "4068   0.892900     1.561811    0.588925                    0              1   \n",
       "6842  -1.106306    -1.501242    1.098699                    0              1   \n",
       "914    0.892900    -1.222783   -1.450172                    0              0   \n",
       "6877   1.392701     1.561811    1.098699                    1              0   \n",
       "\n",
       "      Type_Two year  PaperlessBilling_No  PaperlessBilling_Yes  \\\n",
       "4164              1                    1                     0   \n",
       "4068              0                    0                     1   \n",
       "6842              0                    0                     1   \n",
       "914               1                    0                     1   \n",
       "6877              0                    1                     0   \n",
       "\n",
       "      PaymentMethod_Bank transfer (automatic)  \\\n",
       "4164                                        0   \n",
       "4068                                        0   \n",
       "6842                                        0   \n",
       "914                                         1   \n",
       "6877                                        1   \n",
       "\n",
       "      PaymentMethod_Credit card (automatic)  PaymentMethod_Electronic check  \\\n",
       "4164                                      1                               0   \n",
       "4068                                      0                               0   \n",
       "6842                                      0                               0   \n",
       "914                                       0                               0   \n",
       "6877                                      0                               0   \n",
       "\n",
       "      PaymentMethod_Mailed check  gender_Female  gender_Male  Partner_No  \\\n",
       "4164                           0              0            1           0   \n",
       "4068                           1              1            0           0   \n",
       "6842                           1              0            1           1   \n",
       "914                            0              0            1           0   \n",
       "6877                           0              1            0           1   \n",
       "\n",
       "      Partner_Yes  Dependents_No  Dependents_Yes  InternetService_DSL  \\\n",
       "4164            1              0               1                    0   \n",
       "4068            1              0               1                    0   \n",
       "6842            0              1               0                    0   \n",
       "914             1              0               1                    0   \n",
       "6877            0              1               0                    0   \n",
       "\n",
       "      InternetService_Fiber optic  InternetService_N/A  OnlineSecurity_N/A  \\\n",
       "4164                            1                    0                   0   \n",
       "4068                            0                    1                   1   \n",
       "6842                            0                    1                   1   \n",
       "914                             0                    1                   1   \n",
       "6877                            1                    0                   0   \n",
       "\n",
       "      OnlineSecurity_No  OnlineSecurity_Yes  OnlineBackup_N/A  \\\n",
       "4164                  1                   0                 0   \n",
       "4068                  0                   0                 1   \n",
       "6842                  0                   0                 1   \n",
       "914                   0                   0                 1   \n",
       "6877                  1                   0                 0   \n",
       "\n",
       "      OnlineBackup_No  OnlineBackup_Yes  DeviceProtection_N/A  \\\n",
       "4164                0                 1                     0   \n",
       "4068                0                 0                     1   \n",
       "6842                0                 0                     1   \n",
       "914                 0                 0                     1   \n",
       "6877                1                 0                     0   \n",
       "\n",
       "      DeviceProtection_No  DeviceProtection_Yes  TechSupport_N/A  \\\n",
       "4164                    0                     1                0   \n",
       "4068                    0                     0                1   \n",
       "6842                    0                     0                1   \n",
       "914                     0                     0                1   \n",
       "6877                    1                     0                0   \n",
       "\n",
       "      TechSupport_No  TechSupport_Yes  StreamingTV_N/A  StreamingTV_No  \\\n",
       "4164               0                1                0               0   \n",
       "4068               0                0                1               0   \n",
       "6842               0                0                1               0   \n",
       "914                0                0                1               0   \n",
       "6877               1                0                0               1   \n",
       "\n",
       "      StreamingTV_Yes  StreamingMovies_N/A  StreamingMovies_No  \\\n",
       "4164                1                    0                   0   \n",
       "4068                0                    1                   0   \n",
       "6842                0                    1                   0   \n",
       "914                 0                    1                   0   \n",
       "6877                0                    0                   1   \n",
       "\n",
       "      StreamingMovies_Yes  MultipleLines_N/A  MultipleLines_No  \\\n",
       "4164                    1                  0                 0   \n",
       "4068                    0                  0                 1   \n",
       "6842                    0                  0                 1   \n",
       "914                     0                  0                 0   \n",
       "6877                    0                  0                 1   \n",
       "\n",
       "      MultipleLines_Yes  \n",
       "4164                  1  \n",
       "4068                  0  \n",
       "6842                  0  \n",
       "914                   1  \n",
       "6877                  0  "
      ]
     },
     "metadata": {},
     "output_type": "display_data"
    },
    {
     "name": "stdout",
     "output_type": "stream",
     "text": [
      "Test\n"
     ]
    },
    {
     "data": {
      "text/html": [
       "<div>\n",
       "<style scoped>\n",
       "    .dataframe tbody tr th:only-of-type {\n",
       "        vertical-align: middle;\n",
       "    }\n",
       "\n",
       "    .dataframe tbody tr th {\n",
       "        vertical-align: top;\n",
       "    }\n",
       "\n",
       "    .dataframe thead th {\n",
       "        text-align: right;\n",
       "    }\n",
       "</style>\n",
       "<table border=\"1\" class=\"dataframe\">\n",
       "  <thead>\n",
       "    <tr style=\"text-align: right;\">\n",
       "      <th></th>\n",
       "      <th>MonthlyCharges</th>\n",
       "      <th>TotalCharges</th>\n",
       "      <th>SeniorCitizen</th>\n",
       "      <th>HasPhone</th>\n",
       "      <th>HasInternet</th>\n",
       "      <th>start_day</th>\n",
       "      <th>start_month</th>\n",
       "      <th>start_year</th>\n",
       "      <th>Type_Month-to-month</th>\n",
       "      <th>Type_One year</th>\n",
       "      <th>Type_Two year</th>\n",
       "      <th>PaperlessBilling_No</th>\n",
       "      <th>PaperlessBilling_Yes</th>\n",
       "      <th>PaymentMethod_Bank transfer (automatic)</th>\n",
       "      <th>PaymentMethod_Credit card (automatic)</th>\n",
       "      <th>PaymentMethod_Electronic check</th>\n",
       "      <th>PaymentMethod_Mailed check</th>\n",
       "      <th>gender_Female</th>\n",
       "      <th>gender_Male</th>\n",
       "      <th>Partner_No</th>\n",
       "      <th>Partner_Yes</th>\n",
       "      <th>Dependents_No</th>\n",
       "      <th>Dependents_Yes</th>\n",
       "      <th>InternetService_DSL</th>\n",
       "      <th>InternetService_Fiber optic</th>\n",
       "      <th>InternetService_N/A</th>\n",
       "      <th>OnlineSecurity_N/A</th>\n",
       "      <th>OnlineSecurity_No</th>\n",
       "      <th>OnlineSecurity_Yes</th>\n",
       "      <th>OnlineBackup_N/A</th>\n",
       "      <th>OnlineBackup_No</th>\n",
       "      <th>OnlineBackup_Yes</th>\n",
       "      <th>DeviceProtection_N/A</th>\n",
       "      <th>DeviceProtection_No</th>\n",
       "      <th>DeviceProtection_Yes</th>\n",
       "      <th>TechSupport_N/A</th>\n",
       "      <th>TechSupport_No</th>\n",
       "      <th>TechSupport_Yes</th>\n",
       "      <th>StreamingTV_N/A</th>\n",
       "      <th>StreamingTV_No</th>\n",
       "      <th>StreamingTV_Yes</th>\n",
       "      <th>StreamingMovies_N/A</th>\n",
       "      <th>StreamingMovies_No</th>\n",
       "      <th>StreamingMovies_Yes</th>\n",
       "      <th>MultipleLines_N/A</th>\n",
       "      <th>MultipleLines_No</th>\n",
       "      <th>MultipleLines_Yes</th>\n",
       "    </tr>\n",
       "  </thead>\n",
       "  <tbody>\n",
       "    <tr>\n",
       "      <th>6085</th>\n",
       "      <td>-0.467804</td>\n",
       "      <td>-0.951341</td>\n",
       "      <td>0</td>\n",
       "      <td>1</td>\n",
       "      <td>1</td>\n",
       "      <td>-0.106703</td>\n",
       "      <td>0.447974</td>\n",
       "      <td>1.098699</td>\n",
       "      <td>1</td>\n",
       "      <td>0</td>\n",
       "      <td>0</td>\n",
       "      <td>0</td>\n",
       "      <td>1</td>\n",
       "      <td>0</td>\n",
       "      <td>0</td>\n",
       "      <td>0</td>\n",
       "      <td>1</td>\n",
       "      <td>1</td>\n",
       "      <td>0</td>\n",
       "      <td>1</td>\n",
       "      <td>0</td>\n",
       "      <td>1</td>\n",
       "      <td>0</td>\n",
       "      <td>1</td>\n",
       "      <td>0</td>\n",
       "      <td>0</td>\n",
       "      <td>0</td>\n",
       "      <td>1</td>\n",
       "      <td>0</td>\n",
       "      <td>0</td>\n",
       "      <td>1</td>\n",
       "      <td>0</td>\n",
       "      <td>0</td>\n",
       "      <td>1</td>\n",
       "      <td>0</td>\n",
       "      <td>0</td>\n",
       "      <td>1</td>\n",
       "      <td>0</td>\n",
       "      <td>0</td>\n",
       "      <td>1</td>\n",
       "      <td>0</td>\n",
       "      <td>0</td>\n",
       "      <td>1</td>\n",
       "      <td>0</td>\n",
       "      <td>0</td>\n",
       "      <td>0</td>\n",
       "      <td>1</td>\n",
       "    </tr>\n",
       "    <tr>\n",
       "      <th>6373</th>\n",
       "      <td>0.932859</td>\n",
       "      <td>0.804983</td>\n",
       "      <td>0</td>\n",
       "      <td>1</td>\n",
       "      <td>1</td>\n",
       "      <td>-0.606505</td>\n",
       "      <td>-0.108945</td>\n",
       "      <td>-0.430623</td>\n",
       "      <td>1</td>\n",
       "      <td>0</td>\n",
       "      <td>0</td>\n",
       "      <td>0</td>\n",
       "      <td>1</td>\n",
       "      <td>1</td>\n",
       "      <td>0</td>\n",
       "      <td>0</td>\n",
       "      <td>0</td>\n",
       "      <td>0</td>\n",
       "      <td>1</td>\n",
       "      <td>0</td>\n",
       "      <td>1</td>\n",
       "      <td>0</td>\n",
       "      <td>1</td>\n",
       "      <td>0</td>\n",
       "      <td>1</td>\n",
       "      <td>0</td>\n",
       "      <td>0</td>\n",
       "      <td>1</td>\n",
       "      <td>0</td>\n",
       "      <td>0</td>\n",
       "      <td>1</td>\n",
       "      <td>0</td>\n",
       "      <td>0</td>\n",
       "      <td>0</td>\n",
       "      <td>1</td>\n",
       "      <td>0</td>\n",
       "      <td>1</td>\n",
       "      <td>0</td>\n",
       "      <td>0</td>\n",
       "      <td>0</td>\n",
       "      <td>1</td>\n",
       "      <td>0</td>\n",
       "      <td>0</td>\n",
       "      <td>1</td>\n",
       "      <td>0</td>\n",
       "      <td>1</td>\n",
       "      <td>0</td>\n",
       "    </tr>\n",
       "    <tr>\n",
       "      <th>1488</th>\n",
       "      <td>-0.447936</td>\n",
       "      <td>-0.995586</td>\n",
       "      <td>0</td>\n",
       "      <td>1</td>\n",
       "      <td>1</td>\n",
       "      <td>-0.606505</td>\n",
       "      <td>-1.501242</td>\n",
       "      <td>1.608473</td>\n",
       "      <td>1</td>\n",
       "      <td>0</td>\n",
       "      <td>0</td>\n",
       "      <td>1</td>\n",
       "      <td>0</td>\n",
       "      <td>0</td>\n",
       "      <td>0</td>\n",
       "      <td>0</td>\n",
       "      <td>1</td>\n",
       "      <td>0</td>\n",
       "      <td>1</td>\n",
       "      <td>1</td>\n",
       "      <td>0</td>\n",
       "      <td>1</td>\n",
       "      <td>0</td>\n",
       "      <td>1</td>\n",
       "      <td>0</td>\n",
       "      <td>0</td>\n",
       "      <td>0</td>\n",
       "      <td>0</td>\n",
       "      <td>1</td>\n",
       "      <td>0</td>\n",
       "      <td>1</td>\n",
       "      <td>0</td>\n",
       "      <td>0</td>\n",
       "      <td>1</td>\n",
       "      <td>0</td>\n",
       "      <td>0</td>\n",
       "      <td>1</td>\n",
       "      <td>0</td>\n",
       "      <td>0</td>\n",
       "      <td>1</td>\n",
       "      <td>0</td>\n",
       "      <td>0</td>\n",
       "      <td>1</td>\n",
       "      <td>0</td>\n",
       "      <td>0</td>\n",
       "      <td>1</td>\n",
       "      <td>0</td>\n",
       "    </tr>\n",
       "    <tr>\n",
       "      <th>703</th>\n",
       "      <td>-1.464492</td>\n",
       "      <td>-1.003391</td>\n",
       "      <td>0</td>\n",
       "      <td>1</td>\n",
       "      <td>0</td>\n",
       "      <td>1.392701</td>\n",
       "      <td>1.561811</td>\n",
       "      <td>1.098699</td>\n",
       "      <td>1</td>\n",
       "      <td>0</td>\n",
       "      <td>0</td>\n",
       "      <td>0</td>\n",
       "      <td>1</td>\n",
       "      <td>0</td>\n",
       "      <td>0</td>\n",
       "      <td>0</td>\n",
       "      <td>1</td>\n",
       "      <td>1</td>\n",
       "      <td>0</td>\n",
       "      <td>1</td>\n",
       "      <td>0</td>\n",
       "      <td>1</td>\n",
       "      <td>0</td>\n",
       "      <td>0</td>\n",
       "      <td>0</td>\n",
       "      <td>1</td>\n",
       "      <td>1</td>\n",
       "      <td>0</td>\n",
       "      <td>0</td>\n",
       "      <td>1</td>\n",
       "      <td>0</td>\n",
       "      <td>0</td>\n",
       "      <td>1</td>\n",
       "      <td>0</td>\n",
       "      <td>0</td>\n",
       "      <td>1</td>\n",
       "      <td>0</td>\n",
       "      <td>0</td>\n",
       "      <td>1</td>\n",
       "      <td>0</td>\n",
       "      <td>0</td>\n",
       "      <td>1</td>\n",
       "      <td>0</td>\n",
       "      <td>0</td>\n",
       "      <td>0</td>\n",
       "      <td>1</td>\n",
       "      <td>0</td>\n",
       "    </tr>\n",
       "    <tr>\n",
       "      <th>3572</th>\n",
       "      <td>0.487494</td>\n",
       "      <td>0.160269</td>\n",
       "      <td>1</td>\n",
       "      <td>1</td>\n",
       "      <td>1</td>\n",
       "      <td>-0.106703</td>\n",
       "      <td>-0.108945</td>\n",
       "      <td>0.079151</td>\n",
       "      <td>1</td>\n",
       "      <td>0</td>\n",
       "      <td>0</td>\n",
       "      <td>0</td>\n",
       "      <td>1</td>\n",
       "      <td>0</td>\n",
       "      <td>0</td>\n",
       "      <td>1</td>\n",
       "      <td>0</td>\n",
       "      <td>1</td>\n",
       "      <td>0</td>\n",
       "      <td>1</td>\n",
       "      <td>0</td>\n",
       "      <td>1</td>\n",
       "      <td>0</td>\n",
       "      <td>0</td>\n",
       "      <td>1</td>\n",
       "      <td>0</td>\n",
       "      <td>0</td>\n",
       "      <td>1</td>\n",
       "      <td>0</td>\n",
       "      <td>0</td>\n",
       "      <td>1</td>\n",
       "      <td>0</td>\n",
       "      <td>0</td>\n",
       "      <td>1</td>\n",
       "      <td>0</td>\n",
       "      <td>0</td>\n",
       "      <td>1</td>\n",
       "      <td>0</td>\n",
       "      <td>0</td>\n",
       "      <td>1</td>\n",
       "      <td>0</td>\n",
       "      <td>0</td>\n",
       "      <td>0</td>\n",
       "      <td>1</td>\n",
       "      <td>0</td>\n",
       "      <td>1</td>\n",
       "      <td>0</td>\n",
       "    </tr>\n",
       "  </tbody>\n",
       "</table>\n",
       "</div>"
      ],
      "text/plain": [
       "      MonthlyCharges  TotalCharges  SeniorCitizen  HasPhone  HasInternet  \\\n",
       "6085       -0.467804     -0.951341              0         1            1   \n",
       "6373        0.932859      0.804983              0         1            1   \n",
       "1488       -0.447936     -0.995586              0         1            1   \n",
       "703        -1.464492     -1.003391              0         1            0   \n",
       "3572        0.487494      0.160269              1         1            1   \n",
       "\n",
       "      start_day  start_month  start_year  Type_Month-to-month  Type_One year  \\\n",
       "6085  -0.106703     0.447974    1.098699                    1              0   \n",
       "6373  -0.606505    -0.108945   -0.430623                    1              0   \n",
       "1488  -0.606505    -1.501242    1.608473                    1              0   \n",
       "703    1.392701     1.561811    1.098699                    1              0   \n",
       "3572  -0.106703    -0.108945    0.079151                    1              0   \n",
       "\n",
       "      Type_Two year  PaperlessBilling_No  PaperlessBilling_Yes  \\\n",
       "6085              0                    0                     1   \n",
       "6373              0                    0                     1   \n",
       "1488              0                    1                     0   \n",
       "703               0                    0                     1   \n",
       "3572              0                    0                     1   \n",
       "\n",
       "      PaymentMethod_Bank transfer (automatic)  \\\n",
       "6085                                        0   \n",
       "6373                                        1   \n",
       "1488                                        0   \n",
       "703                                         0   \n",
       "3572                                        0   \n",
       "\n",
       "      PaymentMethod_Credit card (automatic)  PaymentMethod_Electronic check  \\\n",
       "6085                                      0                               0   \n",
       "6373                                      0                               0   \n",
       "1488                                      0                               0   \n",
       "703                                       0                               0   \n",
       "3572                                      0                               1   \n",
       "\n",
       "      PaymentMethod_Mailed check  gender_Female  gender_Male  Partner_No  \\\n",
       "6085                           1              1            0           1   \n",
       "6373                           0              0            1           0   \n",
       "1488                           1              0            1           1   \n",
       "703                            1              1            0           1   \n",
       "3572                           0              1            0           1   \n",
       "\n",
       "      Partner_Yes  Dependents_No  Dependents_Yes  InternetService_DSL  \\\n",
       "6085            0              1               0                    1   \n",
       "6373            1              0               1                    0   \n",
       "1488            0              1               0                    1   \n",
       "703             0              1               0                    0   \n",
       "3572            0              1               0                    0   \n",
       "\n",
       "      InternetService_Fiber optic  InternetService_N/A  OnlineSecurity_N/A  \\\n",
       "6085                            0                    0                   0   \n",
       "6373                            1                    0                   0   \n",
       "1488                            0                    0                   0   \n",
       "703                             0                    1                   1   \n",
       "3572                            1                    0                   0   \n",
       "\n",
       "      OnlineSecurity_No  OnlineSecurity_Yes  OnlineBackup_N/A  \\\n",
       "6085                  1                   0                 0   \n",
       "6373                  1                   0                 0   \n",
       "1488                  0                   1                 0   \n",
       "703                   0                   0                 1   \n",
       "3572                  1                   0                 0   \n",
       "\n",
       "      OnlineBackup_No  OnlineBackup_Yes  DeviceProtection_N/A  \\\n",
       "6085                1                 0                     0   \n",
       "6373                1                 0                     0   \n",
       "1488                1                 0                     0   \n",
       "703                 0                 0                     1   \n",
       "3572                1                 0                     0   \n",
       "\n",
       "      DeviceProtection_No  DeviceProtection_Yes  TechSupport_N/A  \\\n",
       "6085                    1                     0                0   \n",
       "6373                    0                     1                0   \n",
       "1488                    1                     0                0   \n",
       "703                     0                     0                1   \n",
       "3572                    1                     0                0   \n",
       "\n",
       "      TechSupport_No  TechSupport_Yes  StreamingTV_N/A  StreamingTV_No  \\\n",
       "6085               1                0                0               1   \n",
       "6373               1                0                0               0   \n",
       "1488               1                0                0               1   \n",
       "703                0                0                1               0   \n",
       "3572               1                0                0               1   \n",
       "\n",
       "      StreamingTV_Yes  StreamingMovies_N/A  StreamingMovies_No  \\\n",
       "6085                0                    0                   1   \n",
       "6373                1                    0                   0   \n",
       "1488                0                    0                   1   \n",
       "703                 0                    1                   0   \n",
       "3572                0                    0                   0   \n",
       "\n",
       "      StreamingMovies_Yes  MultipleLines_N/A  MultipleLines_No  \\\n",
       "6085                    0                  0                 0   \n",
       "6373                    1                  0                 1   \n",
       "1488                    0                  0                 1   \n",
       "703                     0                  0                 1   \n",
       "3572                    1                  0                 1   \n",
       "\n",
       "      MultipleLines_Yes  \n",
       "6085                  1  \n",
       "6373                  0  \n",
       "1488                  0  \n",
       "703                   0  \n",
       "3572                  0  "
      ]
     },
     "metadata": {},
     "output_type": "display_data"
    }
   ],
   "source": [
    "# Create a list of features that need to be scaled\n",
    "# Scaling is needed because these values are much larger than 0/1 and we don't want the model to overfit for these features\n",
    "features_to_scale = [ 'MonthlyCharges', 'TotalCharges', 'start_day','start_month', 'start_year']\n",
    "\n",
    "# Fit StandardScaler to scale features for training set only\n",
    "# Then apply the same scaler to transform all three sets (train, validation and test)\n",
    "# The scaler is never fit using validation/test data\n",
    "transformer = StandardScaler().fit(features_train[features_to_scale].to_numpy())\n",
    "\n",
    "# Create a copy of df with scaled/transformed features \n",
    "# Apply the same scaler to transform all three sets (train, validation and test) using transformer\n",
    "\n",
    "# Train\n",
    "features_train_scaled = features_train.copy()\n",
    "features_train_scaled.loc[:, features_to_scale] = transformer.transform(features_train[features_to_scale].to_numpy())\n",
    "\n",
    "# Validation\n",
    "features_valid_scaled = features_valid.copy()\n",
    "features_valid_scaled.loc[:, features_to_scale] = transformer.transform(features_valid[features_to_scale].to_numpy())\n",
    "\n",
    "# Test\n",
    "features_test_scaled = features_test.copy()\n",
    "features_test_scaled.loc[:, features_to_scale] = transformer.transform(features_test[features_to_scale].to_numpy())\n",
    "\n",
    "# Print sample of scaled trained dataset\n",
    "print('Train')\n",
    "display(features_train_scaled.head())\n",
    "\n",
    "print('Validation')\n",
    "display(features_valid_scaled.head())\n",
    "\n",
    "print('Test')\n",
    "display(features_test_scaled.head())"
   ]
  },
  {
   "cell_type": "markdown",
   "metadata": {},
   "source": [
    "### Print Shape of Training Sets"
   ]
  },
  {
   "cell_type": "code",
   "execution_count": 29,
   "metadata": {
    "scrolled": true
   },
   "outputs": [
    {
     "name": "stdout",
     "output_type": "stream",
     "text": [
      "Training\n",
      "Training Features: (4225, 47)\n",
      "Training Target: (4225,)\n",
      "\n",
      "Validation\n",
      "Validation Features: (1409, 47)\n",
      "Validation Target: (1409,)\n",
      "\n",
      "Test\n",
      "Test Features: (1409, 47)\n",
      "Test Target: (1409,)\n"
     ]
    }
   ],
   "source": [
    "print('Training')\n",
    "features_train = features_train_scaled.reset_index(drop = True)\n",
    "target_train = target_train.reset_index(drop = True)\n",
    "print('Training Features:', features_train.shape)\n",
    "print('Training Target:', target_train.shape)\n",
    "\n",
    "print()\n",
    "print('Validation')\n",
    "features_valid = features_valid_scaled.reset_index(drop = True)\n",
    "target_valid = target_valid.reset_index(drop = True)\n",
    "print('Validation Features:', features_valid.shape)\n",
    "print('Validation Target:', target_valid.shape)\n",
    "\n",
    "print()\n",
    "print('Test')\n",
    "features_test = features_test_scaled.reset_index(drop = True)\n",
    "target_test = target_test.reset_index(drop = True)\n",
    "print('Test Features:', features_test.shape)\n",
    "print('Test Target:', target_test.shape)"
   ]
  },
  {
   "cell_type": "markdown",
   "metadata": {},
   "source": [
    "## Modeling & Evaluation"
   ]
  },
  {
   "cell_type": "markdown",
   "metadata": {},
   "source": [
    "**For the modeling & evaluation section please note that -**\n",
    "- **Model performance will be evaluated based on AUC_ROC and Accuracy**\n",
    "- For the RandomForrest, LightGBM, CatBoost, XGBoost I will tune models to find the optimal n_estimators and depth using GridSearchCV\n",
    "- The DummyClassifier and LogisticRegression models will serve as a baseline to compare other classification models to. We aren't going to do any tuning on these models\n",
    "- **I will provide a table of model timings and results in the following section so that I can select a model an evaluate its performance on the test data**"
   ]
  },
  {
   "cell_type": "markdown",
   "metadata": {},
   "source": [
    "### DummyClassifier - Baseline\n",
    "The DummyClassifier model will serve as a baseline to compare other classification models to."
   ]
  },
  {
   "cell_type": "code",
   "execution_count": 30,
   "metadata": {},
   "outputs": [
    {
     "name": "stdout",
     "output_type": "stream",
     "text": [
      "The AUC_ROC Score is on Validation Set: 0.522\n",
      "Accuracy on Validation Set: 0.623\n",
      "\n",
      "Classification Report:\n",
      "              precision    recall  f1-score   support\n",
      "\n",
      "           0       0.74      0.74      0.74      1027\n",
      "           1       0.30      0.30      0.30       382\n",
      "\n",
      "    accuracy                           0.62      1409\n",
      "   macro avg       0.52      0.52      0.52      1409\n",
      "weighted avg       0.62      0.62      0.62      1409\n",
      "\n",
      "CPU times: user 12.2 ms, sys: 4.04 ms, total: 16.3 ms\n",
      "Wall time: 45.7 ms\n"
     ]
    }
   ],
   "source": [
    "%%time\n",
    "\n",
    "# Create a baseline random classifier\n",
    "model = DummyClassifier(strategy='stratified', random_state=1234)\n",
    "\n",
    "# Fit the classifier on the training data\n",
    "model.fit(features_train, target_train)\n",
    "\n",
    "# Make predictions on the validation features\n",
    "prediction_valid = model.predict(features_valid)\n",
    "\n",
    "# Calculate accuracy and other metrics\n",
    "accuracy = accuracy_score(target_valid, prediction_valid)\n",
    "report = classification_report(target_valid, prediction_valid)\n",
    "\n",
    "# Calculate and Print AUC_ROC Score\n",
    "probabilities_valid = model.predict_proba(features_valid)\n",
    "probabilities_one_valid = probabilities_valid[:, 1]\n",
    "auc_roc = roc_auc_score(target_valid, probabilities_one_valid)\n",
    "print('The AUC_ROC Score is on Validation Set:',round(auc_roc,3))\n",
    "\n",
    "# Print the results\n",
    "print(\"Accuracy on Validation Set:\", round(accuracy,3))\n",
    "print()\n",
    "\n",
    "print(\"Classification Report:\")\n",
    "print(report)"
   ]
  },
  {
   "cell_type": "markdown",
   "metadata": {},
   "source": [
    "### LogisticRegression - Baseline\n",
    "We aren't going to do any tuning on the LogisticRegression Model"
   ]
  },
  {
   "cell_type": "code",
   "execution_count": 31,
   "metadata": {},
   "outputs": [
    {
     "name": "stdout",
     "output_type": "stream",
     "text": [
      "The AUC_ROC Score is on Validation Set: 0.851\n",
      "Accuracy on Validation Set: 0.803\n",
      "\n",
      "Classification Report:\n",
      "              precision    recall  f1-score   support\n",
      "\n",
      "           0       0.84      0.90      0.87      1027\n",
      "           1       0.67      0.54      0.60       382\n",
      "\n",
      "    accuracy                           0.80      1409\n",
      "   macro avg       0.76      0.72      0.73      1409\n",
      "weighted avg       0.79      0.80      0.80      1409\n",
      "\n",
      "CPU times: user 68.3 ms, sys: 60.4 ms, total: 129 ms\n",
      "Wall time: 106 ms\n"
     ]
    }
   ],
   "source": [
    "%%time\n",
    "\n",
    "# Create a LogisticRegression Model\n",
    "model = LogisticRegression(random_state=12345, solver=\"liblinear\")\n",
    "\n",
    "# Fit the model to the traning dataset\n",
    "model.fit(features_train, target_train)\n",
    "\n",
    "# Make predictions on the validation features\n",
    "prediction_valid = model.predict(features_valid)\n",
    "\n",
    "# Calculate accuracy and other metrics\n",
    "accuracy = accuracy_score(target_valid, prediction_valid)\n",
    "report = classification_report(target_valid, prediction_valid)\n",
    "\n",
    "# Calculate and Print AUC_ROC Score\n",
    "probabilities_valid = model.predict_proba(features_valid)\n",
    "probabilities_one_valid = probabilities_valid[:, 1]\n",
    "auc_roc = roc_auc_score(target_valid, probabilities_one_valid)\n",
    "print('The AUC_ROC Score is on Validation Set:',round(auc_roc,3))\n",
    "\n",
    "# Print the results\n",
    "print(\"Accuracy on Validation Set:\", round(accuracy,3))\n",
    "print()\n",
    "\n",
    "print(\"Classification Report:\")\n",
    "print(report)"
   ]
  },
  {
   "cell_type": "markdown",
   "metadata": {},
   "source": [
    "### Model Evaluation Function\n",
    "In this section, I have created a function that takes the model and the model name, **and the function will return -**\n",
    "  - Time to find best hyperparamters using training dataset including time to predict target values on validation set\n",
    "  - Function will print best hyperparameters that generated the best AUC_ROC on training set\n",
    "  - Function will print AUC_ROC on training dataset\n",
    "  - Function will print AUC_ROC on validation dateset using hyperparamters found in tuning\n",
    "\n",
    "This function will allow me to avoid code duplication and it will train all of the models using the same search space so that we can equally compare all models. **In the following sections I will plug in the names of the models to this function so that I can obtain timings and values. I will compare these values and timings after all models have been tuned so that I can select a model that I can use to predict test targets.**\n",
    "\n"
   ]
  },
  {
   "cell_type": "code",
   "execution_count": 32,
   "metadata": {},
   "outputs": [],
   "source": [
    "# Create model evaluation function \n",
    "# For model tuning, we will use GridSearchCV and keep the search space constant across models\n",
    "def model_evaluation(model,model_name):\n",
    "    \n",
    "    # Create a search space to optimize for best combination of n_estimators and max_depth\n",
    "    search_space = {'n_estimators': [5,10,25,50]\n",
    "                    , 'max_depth': [5,10,25,50]}\n",
    "       \n",
    "    # Initialize Model\n",
    "    model = model\n",
    "    \n",
    "    # Create list of scoring/evaluation metrics\n",
    "    scoring = ['accuracy','roc_auc']\n",
    "    \n",
    "    # Create a GridSearchCV Object\n",
    "    # Use 3-fold cross validation (5 is the default, but to save time on training, we will use 3-fold)\n",
    "    # Select Best Model Using roc_auc as Scorer function \n",
    "    model_grid = GridSearchCV(model, param_grid = search_space, cv = 5, scoring = 'roc_auc', refit = 'roc_auc', verbose = 0)\n",
    "\n",
    "    # Fit model to training data\n",
    "    model_grid.fit(features_train, target_train)\n",
    "\n",
    "    # Save best parameters to variable that produce the smallest AUC_ROC\n",
    "    # best_parameters will contain a dictionary of the best parameters that produced the lowest AUC_ROC\n",
    "    best_parameters = model_grid.best_params_\n",
    "\n",
    "    # Best score is the AUC_ROC value on the training data\n",
    "    best_score = model_grid.best_score_\n",
    "\n",
    "    # Best grid will contain the parameters that can be used to predict values on the validation set\n",
    "    # The refitted estimator is made available at the best_estimator_ attribute and permits using predict directly on this GridSearchCV instance\n",
    "    best_grid = model_grid.best_estimator_\n",
    "\n",
    "    # Predict target values on the validation set\n",
    "    predicted_values = best_grid.predict(features_valid)\n",
    "    \n",
    "    # Calculate and Print AUC_ROC Score\n",
    "    probabilities_valid = best_grid.predict_proba(features_valid)\n",
    "    probabilities_one_valid = probabilities_valid[:, 1]\n",
    "    auc_roc = roc_auc_score(target_valid, probabilities_one_valid)\n",
    "    print('The AUC_ROC Score is',round(auc_roc,2))\n",
    "    \n",
    "    # Calculate accuracy between predicted target and actual target for validation set\n",
    "    accuracy = accuracy_score(target_valid, predicted_values)\n",
    "\n",
    "    # Print results of tuning and AUC_ROC & Accuracy on validation set \n",
    "    print(\"Best Parameters For\", model_name,\":\", best_parameters )\n",
    "    print(\"These Parameters Produced a Best AUC_ROC Score of\", round(best_score,2), \"on the Training Data\")\n",
    "    print()\n",
    "    print(\"The AUC_ROC Using the Tuned\", model_name, \"on the Validation Set:\", round(auc_roc,3))\n",
    "    print(\"The Accuracy Using the Tuned\", model_name, \"on the Validation Set:\",round(accuracy,3))\n",
    "    print()\n",
    "    print('Hyperparameter Tuning, Training, & Prediction Time for', model_name,':')"
   ]
  },
  {
   "cell_type": "markdown",
   "metadata": {},
   "source": [
    "### RandomForestClassifier"
   ]
  },
  {
   "cell_type": "code",
   "execution_count": 33,
   "metadata": {
    "scrolled": true
   },
   "outputs": [
    {
     "name": "stdout",
     "output_type": "stream",
     "text": [
      "The AUC_ROC Score is 0.88\n",
      "Best Parameters For RandomForestClassifier : {'max_depth': 10, 'n_estimators': 50}\n",
      "These Parameters Produced a Best AUC_ROC Score of 0.87 on the Training Data\n",
      "\n",
      "The AUC_ROC Using the Tuned RandomForestClassifier on the Validation Set: 0.88\n",
      "The Accuracy Using the Tuned RandomForestClassifier on the Validation Set: 0.828\n",
      "\n",
      "Hyperparameter Tuning, Training, & Prediction Time for RandomForestClassifier :\n",
      "CPU times: user 8.99 s, sys: 48 ms, total: 9.04 s\n",
      "Wall time: 9.11 s\n"
     ]
    }
   ],
   "source": [
    "%%time\n",
    "\n",
    "# Set variables to RandomForestClassifier\n",
    "model = RandomForestClassifier(random_state=12345)\n",
    "model_name = 'RandomForestClassifier'\n",
    "\n",
    "# Configure model_evaluation to use RandomForestClassifier\n",
    "model_evaluation(model, model_name)"
   ]
  },
  {
   "cell_type": "markdown",
   "metadata": {},
   "source": [
    "### LGBMClassifier"
   ]
  },
  {
   "cell_type": "code",
   "execution_count": 34,
   "metadata": {},
   "outputs": [
    {
     "name": "stdout",
     "output_type": "stream",
     "text": [
      "The AUC_ROC Score is 0.91\n",
      "Best Parameters For LGBMClassifier : {'max_depth': 10, 'n_estimators': 50}\n",
      "These Parameters Produced a Best AUC_ROC Score of 0.9 on the Training Data\n",
      "\n",
      "The AUC_ROC Using the Tuned LGBMClassifier on the Validation Set: 0.905\n",
      "The Accuracy Using the Tuned LGBMClassifier on the Validation Set: 0.854\n",
      "\n",
      "Hyperparameter Tuning, Training, & Prediction Time for LGBMClassifier :\n",
      "CPU times: user 44.1 s, sys: 446 ms, total: 44.5 s\n",
      "Wall time: 44.9 s\n"
     ]
    }
   ],
   "source": [
    "%%time\n",
    "\n",
    "# Set variables to LGBMClassifier\n",
    "model = LGBMClassifier(random_state=12345)\n",
    "model_name = 'LGBMClassifier'\n",
    "\n",
    "# Configure model_evaluation to use LGBMRegressor\n",
    "model_evaluation(model, model_name)"
   ]
  },
  {
   "cell_type": "markdown",
   "metadata": {},
   "source": [
    "### CatBoostClassifier"
   ]
  },
  {
   "cell_type": "code",
   "execution_count": 35,
   "metadata": {
    "scrolled": true
   },
   "outputs": [
    {
     "name": "stdout",
     "output_type": "stream",
     "text": [
      "The AUC_ROC Score is 0.87\n",
      "Best Parameters For CatBoostClassifier : {'max_depth': 5, 'n_estimators': 5}\n",
      "These Parameters Produced a Best AUC_ROC Score of 0.87 on the Training Data\n",
      "\n",
      "The AUC_ROC Using the Tuned CatBoostClassifier on the Validation Set: 0.875\n",
      "The Accuracy Using the Tuned CatBoostClassifier on the Validation Set: 0.814\n",
      "\n",
      "Hyperparameter Tuning, Training, & Prediction Time for CatBoostClassifier :\n",
      "CPU times: user 23 s, sys: 101 ms, total: 23.1 s\n",
      "Wall time: 26.2 s\n"
     ]
    }
   ],
   "source": [
    "%%time\n",
    "\n",
    "# Set variables to CatBoostClassifier\n",
    "model = CatBoostClassifier(random_state=12345, verbose=0)\n",
    "model_name = 'CatBoostClassifier'\n",
    "\n",
    "# Configure model_evaluation to use CatBoostClassifier\n",
    "model_evaluation(model, model_name)"
   ]
  },
  {
   "cell_type": "markdown",
   "metadata": {},
   "source": [
    "### XGBClassifier"
   ]
  },
  {
   "cell_type": "code",
   "execution_count": 36,
   "metadata": {
    "scrolled": true
   },
   "outputs": [
    {
     "name": "stdout",
     "output_type": "stream",
     "text": [
      "The AUC_ROC Score is 0.92\n",
      "Best Parameters For XGBClassifier : {'max_depth': 5, 'n_estimators': 50}\n",
      "These Parameters Produced a Best AUC_ROC Score of 0.9 on the Training Data\n",
      "\n",
      "The AUC_ROC Using the Tuned XGBClassifier on the Validation Set: 0.916\n",
      "The Accuracy Using the Tuned XGBClassifier on the Validation Set: 0.869\n",
      "\n",
      "Hyperparameter Tuning, Training, & Prediction Time for XGBClassifier :\n",
      "CPU times: user 1min 14s, sys: 400 ms, total: 1min 14s\n",
      "Wall time: 1min 15s\n"
     ]
    }
   ],
   "source": [
    "%%time\n",
    "\n",
    "# Set variables to XGBClassifier\n",
    "model = XGBClassifier(random_state=12345, verbosity = 0)\n",
    "model_name = 'XGBClassifier'\n",
    "\n",
    "# Configure model_evaluation to use XGBClassifier\n",
    "model_evaluation(model, model_name)"
   ]
  },
  {
   "cell_type": "markdown",
   "metadata": {},
   "source": [
    "## Model Training & Predictions on Validation Set - Conclusions "
   ]
  },
  {
   "cell_type": "markdown",
   "metadata": {},
   "source": [
    "| Model Name             | AUC_ROC on Validation Set | Accuracy on Validation Set | Parameters to Maximize AUC_ROC        | Hyperparameter Tuning, Training, &amp; Prediction Time |\n",
    "|------------------------|---------------------------|----------------------------|---------------------------------------|--------------------------------------------------------|\n",
    "| DummyClassifier        | 0.522                     | 0.623                      | N/A                                   | N/A                                                    |\n",
    "| LogisticRegression     | 0.851                     | 0.803                      | N/A                                   | N/A                                                    |\n",
    "| RandomForestClassifier | 0.88                      | 0.828                      | {'max_depth': 10, 'n_estimators': 50} | 8.86 s                                                 |\n",
    "| LGBMClassifier         | 0.905                     | 0.854                      | {'max_depth': 10, 'n_estimators': 50} | 12.2 s                                                 |\n",
    "| CatBoostClassifier     | 0.875                     | 0.814                      | {'max_depth': 5, 'n_estimators': 5}   | 26.5 s                                                 |\n",
    "| **XGBClassifier**          | **0.916**                     | **0.869**                      | **{'max_depth': 5, 'n_estimators': 50}**  | **1min 14s**                                               |"
   ]
  },
  {
   "cell_type": "markdown",
   "metadata": {},
   "source": [
    "Interconnect would like to be able to forecast their churn of clients. After training several models to the training data and predicting validation set targets, **the model with the highest AUC_ROC is the XGBClassifier.** This model produced a AUC_ROC of 0.916 and an accuracy of 0.869. Using the optimal hyperparameters we found during training, in the next section, I will evaluate the CatBoostClassifier's ability to predict test targets. Again, I will evaluate model performance using AUC_ROC and accuracy scores. **For Interconnect to accept this work, the model needs to have an AUC_ROC greater than 0.85.**"
   ]
  },
  {
   "cell_type": "markdown",
   "metadata": {},
   "source": [
    "## Evaluate AUC_ROC & Accuracy For Predicting Test Targets"
   ]
  },
  {
   "cell_type": "markdown",
   "metadata": {},
   "source": [
    "**Using the results of the previous section,** I will select the models with the highest AUC_ROC and predict the test values using the hyperparamters that we found to be optimal. We will also reuse the DummyClassifier model to predict the test values and find an AUC_ROC so that we can compare with the models."
   ]
  },
  {
   "cell_type": "markdown",
   "metadata": {},
   "source": [
    "### DummyClassifier - Baseline - Test Data Evaluation\n",
    "The DummyClassifier model will serve as a baseline to compare the XGBClassifier to"
   ]
  },
  {
   "cell_type": "code",
   "execution_count": 37,
   "metadata": {},
   "outputs": [
    {
     "name": "stdout",
     "output_type": "stream",
     "text": [
      "The AUC_ROC Score is on Validation Set: 0.51\n",
      "Accuracy on Validation Set: 0.595\n",
      "\n",
      "Classification Report:\n",
      "              precision    recall  f1-score   support\n",
      "\n",
      "           0       0.74      0.74      0.74      1027\n",
      "           1       0.30      0.30      0.30       382\n",
      "\n",
      "    accuracy                           0.62      1409\n",
      "   macro avg       0.52      0.52      0.52      1409\n",
      "weighted avg       0.62      0.62      0.62      1409\n",
      "\n",
      "CPU times: user 14.4 ms, sys: 28 µs, total: 14.4 ms\n",
      "Wall time: 12.4 ms\n"
     ]
    }
   ],
   "source": [
    "%%time\n",
    "\n",
    "# Create a baseline random classifier\n",
    "model = DummyClassifier(strategy='stratified', random_state=1234)\n",
    "\n",
    "# Fit the classifier on the training data\n",
    "model.fit(features_train, target_train)\n",
    "\n",
    "# Make predictions on the validation features\n",
    "prediction_test = model.predict(features_test)\n",
    "\n",
    "# Calculate accuracy and other metrics\n",
    "accuracy = accuracy_score(target_test, prediction_test)\n",
    "report = classification_report(target_valid, prediction_test)\n",
    "\n",
    "# Calculate and Print AUC_ROC Score\n",
    "probabilities_test = model.predict_proba(features_test)\n",
    "probabilities_one_test = probabilities_valid[:, 1]\n",
    "auc_roc = roc_auc_score(target_test, probabilities_one_test)\n",
    "print('The AUC_ROC Score is on Validation Set:',round(auc_roc,3))\n",
    "\n",
    "# Print the results\n",
    "print(\"Accuracy on Validation Set:\", round(accuracy,3))\n",
    "print()\n",
    "\n",
    "print(\"Classification Report:\")\n",
    "print(report)"
   ]
  },
  {
   "cell_type": "markdown",
   "metadata": {},
   "source": [
    "### XGBClassifier - Test Data Evaluation\n",
    "Predict test targets using a {'max_depth': 5, 'n_estimators': 50}. Evaluate predictions using AUC_ROC and accuracy scores"
   ]
  },
  {
   "cell_type": "code",
   "execution_count": 38,
   "metadata": {
    "scrolled": false
   },
   "outputs": [
    {
     "name": "stdout",
     "output_type": "stream",
     "text": [
      "The AUC_ROC Using the Tuned XGBClassifier model on the Test Set: 0.901\n",
      "The Accuracy Using the Tuned XGBClassifier model on the Test Set: 0.861\n",
      "\n",
      "Prediction Time:\n",
      "CPU times: user 1.06 s, sys: 8.11 ms, total: 1.07 s\n",
      "Wall time: 1.09 s\n"
     ]
    }
   ],
   "source": [
    "%%time \n",
    "\n",
    "# Initialize Model\n",
    "# Use hyperparameters from tuning\n",
    "model = XGBClassifier(random_state=12345, n_estimators = 50, max_depth = 5)\n",
    "\n",
    "# Fit model to training data\n",
    "model.fit(features_train, target_train)\n",
    "\n",
    "# Predict target values on the test set\n",
    "predicted_values = model.predict(features_test)\n",
    "\n",
    "# Calculate and Print AUC_ROC Score\n",
    "probabilities_test = model.predict_proba(features_test)\n",
    "probabilities_one_test = probabilities_test[:, 1]\n",
    "auc_roc = roc_auc_score(target_test, probabilities_one_test)\n",
    "\n",
    "# Calculate accuracy between predicted target and actual target for validation set\n",
    "accuracy = accuracy_score(target_test, predicted_values)\n",
    "\n",
    "# Print results of tuning and AUC_ROC & Accuracy on test set \n",
    "print(\"The AUC_ROC Using the Tuned XGBClassifier model on the Test Set:\", round(auc_roc,3))\n",
    "print(\"The Accuracy Using the Tuned XGBClassifier model on the Test Set:\",round(accuracy,3))\n",
    "print()\n",
    "print('Prediction Time:')"
   ]
  },
  {
   "cell_type": "markdown",
   "metadata": {},
   "source": [
    "### Conlcusion "
   ]
  },
  {
   "cell_type": "markdown",
   "metadata": {},
   "source": [
    "**The XGBClassifier predicts test values with an AUC_ROC score of 0.901 and an accuracy score of 0.861.** The XGBClassifier would be a great choice for Interconnect to implement to predict which users are most likely to churn because the predictions are accurate and fast. While XGBClassifier produces the highest AUC_ROC, there are other models that we didn't use to predict test values like tbhe LGBMClassifier and RandomForrestClassifier. These models also have high accuracy scores and AUC_ROC, but the hyperparameter tuning time was around 10 seconds whereas XGBClassifier was over a minute. If Interconnect needs faster tuning and prediction times, consider evaluating these models. However, for our use case, the XGBClassifier meets the mark with both a high accuracy and AUC_ROC scores."
   ]
  },
  {
   "cell_type": "markdown",
   "metadata": {},
   "source": [
    "## Solution Report"
   ]
  },
  {
   "cell_type": "markdown",
   "metadata": {},
   "source": [
    "### What steps of the plan were performed and what steps were skipped (explain why)?"
   ]
  },
  {
   "cell_type": "markdown",
   "metadata": {},
   "source": [
    "In the first part of this project, I specified the following work plan to complete this task - \n",
    "\n",
    "1. **Exploratory Data Analysis**\n",
    " - In this notebook, I cleaned, combined, and analyzed the datasets Interconnect provided in order to get a better understand and familiarity with users that churn. \n",
    "2. **Prepare Data For Model Training**\n",
    " - Fields need to be scaled and encoded before training the model. Additional, the data needs to be split into train, validation, and test data sets for model training and evaluation. \n",
    "3. **Tune & Evaluate Classification Models on Training Data**\n",
    " - Perform hyperparameter tuning for a variety of classifcation models. Evaluate accuracy and AUC-ROC scores.Provide findings.\n",
    "4. **Choose Model & Evaluate Performance on Test Data**\n",
    " - Based on the accuracy and AUC-ROC scores of model training. Choose the best model and evaluate accuracy and AUC-ROC scores on test data. Provide findings and conclusions. \n",
    " \n",
    "All of these steps were performed in order to successfully complete this project"
   ]
  },
  {
   "cell_type": "markdown",
   "metadata": {},
   "source": [
    "### What difficulties did you encounter and how did you manage to solve them?"
   ]
  },
  {
   "cell_type": "markdown",
   "metadata": {},
   "source": [
    "Because I've performed this task several times before in earlier projects and lessons, I felt confident in my abilities to produce a model with great accuracy. For this reason, I didn't encounter any difficulties in this project. One area that was tricky that had a lot of influence on the outcome of the model were the additional feautures that needed to be created. When creating new features, it is important not to introduce data leakage. Data leakage happens when your training data contains information about the target, but similar data will not be available when the model is used for prediction. This leads to high performance on the training set (and possibly even the validation data), but the model will perform poorly in production. To avoid data leakage, I mainly dropped irrelevant fields and added new fields like month, year, and day of service start. This produced a very accurate model."
   ]
  },
  {
   "cell_type": "markdown",
   "metadata": {},
   "source": [
    "### What were some of the key steps to solving the task?"
   ]
  },
  {
   "cell_type": "markdown",
   "metadata": {},
   "source": [
    "There were several key steps required producing a model with a AUC_ROC greater than 0.850. Below, I've listed out the most important steps - \n",
    "1. **Perfrom Exploratory Data Analysis (EDA)**\n",
    " - In the first step, I needed to perform an EDA. For this EDA, I analyzed each of the individual datasets provided in this exercise. The important part in this step was merging each of the datasets into one dataframe to use for model training. In the EDA, I converted datatypes, filled in missing values, created new features, and visually explored the differences between churned users and non-churned users through the user of bar charts and historgrams.\n",
    "2. **Prepare Data for Model Training**\n",
    " - To prepare the data for model evaluation, I needed to complete several tasks. First, I dropped fields that were not required for training such as customer id because they add no value to making predictions. Next, I encoded categorical fields to be numerical. I then split the data into training, validation, and test data sets so that I can fit the model to the training data and make predictions on the validation set so that I can evlauate the performance of each model I test before choosing the best model to use on the test data set. Lastly, I scaled some of the numerical fields so that their isn't more weight placed on fields with larger values compared to smaller binary values.\n",
    "3. **Evaluate Various Classification Models on the Training Data Set Using Hyperparameter Tuning**\n",
    " - The last step was to evaluate the performance of several classification models. First, we fit the models to the training dataset and perform hyperparameter tuning to find the best set of parameters that maximize the AUC_ROC on the training dataset. These parameters are then used to predict the AUC_ROC on the validation_set. The model with the largest AUC_ROC would then be selected to make predictions on the test dataset. "
   ]
  },
  {
   "cell_type": "markdown",
   "metadata": {},
   "source": [
    "### What is your final model and what quality score does it have?"
   ]
  },
  {
   "cell_type": "markdown",
   "metadata": {},
   "source": [
    "After hyperparameter tuning and evaluating various models' AUC_ROC and accuracy scores when prediciting targets on the validation set, I chose to go with the XGBClassifier using n_estimators set to 50 and max_depth set to 5. This configuation of the XGBClassifier produced an AUC_ROC of 0.901 and a accuracy score of 0.861. For context, for Interconnect to accept this work, the AUC_ROC needed to be greater than 0.850."
   ]
  },
  {
   "cell_type": "code",
   "execution_count": null,
   "metadata": {},
   "outputs": [],
   "source": []
  }
 ],
 "metadata": {
  "ExecuteTimeLog": [
   {
    "duration": 4,
    "start_time": "2024-05-29T12:20:27.579Z"
   },
   {
    "duration": 12,
    "start_time": "2024-05-29T12:20:50.108Z"
   },
   {
    "duration": 5,
    "start_time": "2024-05-29T12:20:50.333Z"
   },
   {
    "duration": 4,
    "start_time": "2024-05-29T12:20:55.878Z"
   },
   {
    "duration": 7,
    "start_time": "2024-05-29T12:22:33.391Z"
   },
   {
    "duration": 5433,
    "start_time": "2024-05-29T13:14:22.681Z"
   },
   {
    "duration": 9,
    "start_time": "2024-05-29T13:14:28.118Z"
   },
   {
    "duration": 163,
    "start_time": "2024-05-29T13:14:28.130Z"
   },
   {
    "duration": 6,
    "start_time": "2024-05-29T13:14:28.296Z"
   },
   {
    "duration": 74,
    "start_time": "2024-05-29T13:14:28.309Z"
   },
   {
    "duration": 25,
    "start_time": "2024-05-29T13:14:28.387Z"
   },
   {
    "duration": 797,
    "start_time": "2024-05-29T13:14:28.415Z"
   },
   {
    "duration": 839,
    "start_time": "2024-05-29T13:14:29.215Z"
   },
   {
    "duration": 29,
    "start_time": "2024-05-29T13:14:30.059Z"
   },
   {
    "duration": 34,
    "start_time": "2024-05-29T13:14:30.090Z"
   },
   {
    "duration": 1167,
    "start_time": "2024-05-29T13:14:30.127Z"
   },
   {
    "duration": 798,
    "start_time": "2024-05-29T13:14:31.298Z"
   },
   {
    "duration": 58,
    "start_time": "2024-05-29T13:14:32.099Z"
   },
   {
    "duration": 78,
    "start_time": "2024-05-29T13:14:32.166Z"
   },
   {
    "duration": 32,
    "start_time": "2024-05-29T13:14:32.247Z"
   },
   {
    "duration": 60,
    "start_time": "2024-05-29T13:14:32.283Z"
   },
   {
    "duration": 175,
    "start_time": "2024-05-29T13:14:32.346Z"
   },
   {
    "duration": 6,
    "start_time": "2024-05-29T13:14:32.523Z"
   },
   {
    "duration": 6,
    "start_time": "2024-05-29T13:14:32.532Z"
   },
   {
    "duration": 10,
    "start_time": "2024-05-29T13:14:32.542Z"
   },
   {
    "duration": 74,
    "start_time": "2024-05-29T13:14:32.554Z"
   },
   {
    "duration": 27,
    "start_time": "2024-05-29T13:14:32.631Z"
   },
   {
    "duration": 1315,
    "start_time": "2024-05-29T13:14:32.661Z"
   },
   {
    "duration": 761,
    "start_time": "2024-05-29T13:14:33.980Z"
   },
   {
    "duration": 29,
    "start_time": "2024-05-29T13:14:34.744Z"
   },
   {
    "duration": 84,
    "start_time": "2024-05-29T13:14:34.776Z"
   },
   {
    "duration": 20,
    "start_time": "2024-05-29T13:14:34.864Z"
   },
   {
    "duration": 153,
    "start_time": "2024-05-29T13:14:34.887Z"
   },
   {
    "duration": 10,
    "start_time": "2024-05-29T13:14:35.043Z"
   },
   {
    "duration": 19,
    "start_time": "2024-05-29T13:14:35.057Z"
   },
   {
    "duration": 134,
    "start_time": "2024-05-29T13:14:35.079Z"
   },
   {
    "duration": 11,
    "start_time": "2024-05-29T13:14:35.216Z"
   },
   {
    "duration": 9308,
    "start_time": "2024-05-29T13:14:35.230Z"
   },
   {
    "duration": 11986,
    "start_time": "2024-05-29T13:14:44.541Z"
   },
   {
    "duration": 27355,
    "start_time": "2024-05-29T13:14:56.532Z"
   },
   {
    "duration": 80423,
    "start_time": "2024-05-29T13:15:23.890Z"
   },
   {
    "duration": 19,
    "start_time": "2024-05-29T13:16:44.317Z"
   },
   {
    "duration": 1207,
    "start_time": "2024-05-29T13:16:44.339Z"
   },
   {
    "duration": 5216,
    "start_time": "2024-06-09T13:26:02.888Z"
   },
   {
    "duration": 9,
    "start_time": "2024-06-09T13:26:08.109Z"
   },
   {
    "duration": 90,
    "start_time": "2024-06-09T13:26:08.134Z"
   },
   {
    "duration": 6,
    "start_time": "2024-06-09T13:26:08.227Z"
   },
   {
    "duration": 72,
    "start_time": "2024-06-09T13:26:08.239Z"
   },
   {
    "duration": 6,
    "start_time": "2024-06-09T13:26:08.333Z"
   },
   {
    "duration": 775,
    "start_time": "2024-06-09T13:26:08.343Z"
   },
   {
    "duration": 879,
    "start_time": "2024-06-09T13:26:09.121Z"
   },
   {
    "duration": 47,
    "start_time": "2024-06-09T13:26:10.003Z"
   },
   {
    "duration": 13,
    "start_time": "2024-06-09T13:26:10.052Z"
   },
   {
    "duration": 1130,
    "start_time": "2024-06-09T13:26:10.067Z"
   },
   {
    "duration": 803,
    "start_time": "2024-06-09T13:26:11.200Z"
   },
   {
    "duration": 61,
    "start_time": "2024-06-09T13:26:12.007Z"
   },
   {
    "duration": 82,
    "start_time": "2024-06-09T13:26:12.075Z"
   },
   {
    "duration": 39,
    "start_time": "2024-06-09T13:26:12.159Z"
   },
   {
    "duration": 54,
    "start_time": "2024-06-09T13:26:12.209Z"
   },
   {
    "duration": 174,
    "start_time": "2024-06-09T13:26:12.266Z"
   },
   {
    "duration": 6,
    "start_time": "2024-06-09T13:26:12.444Z"
   },
   {
    "duration": 7,
    "start_time": "2024-06-09T13:26:12.453Z"
   },
   {
    "duration": 10,
    "start_time": "2024-06-09T13:26:12.463Z"
   },
   {
    "duration": 85,
    "start_time": "2024-06-09T13:26:12.476Z"
   },
   {
    "duration": 29,
    "start_time": "2024-06-09T13:26:12.565Z"
   },
   {
    "duration": 1231,
    "start_time": "2024-06-09T13:26:12.600Z"
   },
   {
    "duration": 742,
    "start_time": "2024-06-09T13:26:13.834Z"
   },
   {
    "duration": 27,
    "start_time": "2024-06-09T13:26:14.580Z"
   },
   {
    "duration": 73,
    "start_time": "2024-06-09T13:26:14.610Z"
   },
   {
    "duration": 19,
    "start_time": "2024-06-09T13:26:14.686Z"
   },
   {
    "duration": 154,
    "start_time": "2024-06-09T13:26:14.708Z"
   },
   {
    "duration": 12,
    "start_time": "2024-06-09T13:26:14.865Z"
   },
   {
    "duration": 19,
    "start_time": "2024-06-09T13:26:14.880Z"
   },
   {
    "duration": 103,
    "start_time": "2024-06-09T13:26:14.935Z"
   },
   {
    "duration": 11,
    "start_time": "2024-06-09T13:26:15.041Z"
   },
   {
    "duration": 8979,
    "start_time": "2024-06-09T13:26:15.055Z"
   },
   {
    "duration": 16719,
    "start_time": "2024-06-09T13:26:24.037Z"
   },
   {
    "duration": 27194,
    "start_time": "2024-06-09T13:26:40.759Z"
   },
   {
    "duration": 83589,
    "start_time": "2024-06-09T13:27:07.957Z"
   },
   {
    "duration": 19,
    "start_time": "2024-06-09T13:28:31.550Z"
   },
   {
    "duration": 1362,
    "start_time": "2024-06-09T13:28:31.571Z"
   },
   {
    "duration": 26164,
    "start_time": "2024-06-09T13:41:09.430Z"
   },
   {
    "duration": 74817,
    "start_time": "2024-06-09T13:44:34.250Z"
   },
   {
    "duration": 8,
    "start_time": "2024-06-09T13:45:54.895Z"
   },
   {
    "duration": 1702,
    "start_time": "2024-06-09T13:46:13.604Z"
   },
   {
    "duration": 7,
    "start_time": "2024-06-09T13:46:15.310Z"
   },
   {
    "duration": 65,
    "start_time": "2024-06-09T13:46:15.320Z"
   },
   {
    "duration": 7,
    "start_time": "2024-06-09T13:46:15.387Z"
   },
   {
    "duration": 84,
    "start_time": "2024-06-09T13:46:15.399Z"
   },
   {
    "duration": 6,
    "start_time": "2024-06-09T13:46:15.486Z"
   },
   {
    "duration": 785,
    "start_time": "2024-06-09T13:46:15.495Z"
   },
   {
    "duration": 783,
    "start_time": "2024-06-09T13:46:16.282Z"
   },
   {
    "duration": 39,
    "start_time": "2024-06-09T13:46:17.068Z"
   },
   {
    "duration": 32,
    "start_time": "2024-06-09T13:46:17.110Z"
   },
   {
    "duration": 1136,
    "start_time": "2024-06-09T13:46:17.147Z"
   },
   {
    "duration": 824,
    "start_time": "2024-06-09T13:46:18.286Z"
   },
   {
    "duration": 57,
    "start_time": "2024-06-09T13:46:19.114Z"
   },
   {
    "duration": 91,
    "start_time": "2024-06-09T13:46:19.178Z"
   },
   {
    "duration": 38,
    "start_time": "2024-06-09T13:46:19.272Z"
   },
   {
    "duration": 37,
    "start_time": "2024-06-09T13:46:19.333Z"
   },
   {
    "duration": 168,
    "start_time": "2024-06-09T13:46:19.373Z"
   },
   {
    "duration": 6,
    "start_time": "2024-06-09T13:46:19.544Z"
   },
   {
    "duration": 5,
    "start_time": "2024-06-09T13:46:19.554Z"
   },
   {
    "duration": 9,
    "start_time": "2024-06-09T13:46:19.562Z"
   },
   {
    "duration": 80,
    "start_time": "2024-06-09T13:46:19.573Z"
   },
   {
    "duration": 25,
    "start_time": "2024-06-09T13:46:19.657Z"
   },
   {
    "duration": 1151,
    "start_time": "2024-06-09T13:46:19.684Z"
   },
   {
    "duration": 775,
    "start_time": "2024-06-09T13:46:20.838Z"
   },
   {
    "duration": 46,
    "start_time": "2024-06-09T13:46:21.616Z"
   },
   {
    "duration": 79,
    "start_time": "2024-06-09T13:46:21.665Z"
   },
   {
    "duration": 20,
    "start_time": "2024-06-09T13:46:21.748Z"
   },
   {
    "duration": 135,
    "start_time": "2024-06-09T13:46:21.771Z"
   },
   {
    "duration": 29,
    "start_time": "2024-06-09T13:46:21.909Z"
   },
   {
    "duration": 20,
    "start_time": "2024-06-09T13:46:21.941Z"
   },
   {
    "duration": 95,
    "start_time": "2024-06-09T13:46:21.964Z"
   },
   {
    "duration": 14,
    "start_time": "2024-06-09T13:46:22.141Z"
   },
   {
    "duration": 8873,
    "start_time": "2024-06-09T13:46:22.158Z"
   },
   {
    "duration": 12005,
    "start_time": "2024-06-09T13:46:31.035Z"
   },
   {
    "duration": 26661,
    "start_time": "2024-06-09T13:46:43.043Z"
   },
   {
    "duration": 71463,
    "start_time": "2024-06-09T13:47:09.707Z"
   },
   {
    "duration": 19,
    "start_time": "2024-06-09T13:48:21.173Z"
   },
   {
    "duration": 1584,
    "start_time": "2024-06-09T13:48:21.195Z"
   },
   {
    "duration": 1625,
    "start_time": "2024-06-09T13:53:07.768Z"
   },
   {
    "duration": 7,
    "start_time": "2024-06-09T13:53:09.397Z"
   },
   {
    "duration": 67,
    "start_time": "2024-06-09T13:53:09.407Z"
   },
   {
    "duration": 6,
    "start_time": "2024-06-09T13:53:09.478Z"
   },
   {
    "duration": 88,
    "start_time": "2024-06-09T13:53:09.490Z"
   },
   {
    "duration": 6,
    "start_time": "2024-06-09T13:53:09.581Z"
   },
   {
    "duration": 807,
    "start_time": "2024-06-09T13:53:09.590Z"
   },
   {
    "duration": 823,
    "start_time": "2024-06-09T13:53:10.400Z"
   },
   {
    "duration": 35,
    "start_time": "2024-06-09T13:53:11.225Z"
   },
   {
    "duration": 12,
    "start_time": "2024-06-09T13:53:11.263Z"
   },
   {
    "duration": 1193,
    "start_time": "2024-06-09T13:53:11.280Z"
   },
   {
    "duration": 838,
    "start_time": "2024-06-09T13:53:12.476Z"
   },
   {
    "duration": 54,
    "start_time": "2024-06-09T13:53:13.317Z"
   },
   {
    "duration": 83,
    "start_time": "2024-06-09T13:53:13.378Z"
   },
   {
    "duration": 35,
    "start_time": "2024-06-09T13:53:13.464Z"
   },
   {
    "duration": 56,
    "start_time": "2024-06-09T13:53:13.502Z"
   },
   {
    "duration": 172,
    "start_time": "2024-06-09T13:53:13.561Z"
   },
   {
    "duration": 8,
    "start_time": "2024-06-09T13:53:13.736Z"
   },
   {
    "duration": 6,
    "start_time": "2024-06-09T13:53:13.747Z"
   },
   {
    "duration": 8,
    "start_time": "2024-06-09T13:53:13.756Z"
   },
   {
    "duration": 73,
    "start_time": "2024-06-09T13:53:13.767Z"
   },
   {
    "duration": 25,
    "start_time": "2024-06-09T13:53:13.843Z"
   },
   {
    "duration": 1189,
    "start_time": "2024-06-09T13:53:13.872Z"
   },
   {
    "duration": 741,
    "start_time": "2024-06-09T13:53:15.064Z"
   },
   {
    "duration": 36,
    "start_time": "2024-06-09T13:53:15.808Z"
   },
   {
    "duration": 55,
    "start_time": "2024-06-09T13:53:15.848Z"
   },
   {
    "duration": 39,
    "start_time": "2024-06-09T13:53:15.907Z"
   },
   {
    "duration": 133,
    "start_time": "2024-06-09T13:53:15.949Z"
   },
   {
    "duration": 10,
    "start_time": "2024-06-09T13:53:16.085Z"
   },
   {
    "duration": 43,
    "start_time": "2024-06-09T13:53:16.098Z"
   },
   {
    "duration": 94,
    "start_time": "2024-06-09T13:53:16.145Z"
   },
   {
    "duration": 12,
    "start_time": "2024-06-09T13:53:16.243Z"
   },
   {
    "duration": 8954,
    "start_time": "2024-06-09T13:53:16.334Z"
   },
   {
    "duration": 12145,
    "start_time": "2024-06-09T13:53:25.291Z"
   },
   {
    "duration": 26518,
    "start_time": "2024-06-09T13:53:37.439Z"
   },
   {
    "duration": 139018,
    "start_time": "2024-06-09T13:54:03.960Z"
   },
   {
    "duration": 56,
    "start_time": "2024-06-09T13:56:22.981Z"
   },
   {
    "duration": 1256,
    "start_time": "2024-06-09T13:56:23.040Z"
   },
   {
    "duration": 1673,
    "start_time": "2024-06-09T13:58:14.312Z"
   },
   {
    "duration": 7,
    "start_time": "2024-06-09T13:58:15.988Z"
   },
   {
    "duration": 64,
    "start_time": "2024-06-09T13:58:15.998Z"
   },
   {
    "duration": 6,
    "start_time": "2024-06-09T13:58:16.066Z"
   },
   {
    "duration": 91,
    "start_time": "2024-06-09T13:58:16.075Z"
   },
   {
    "duration": 6,
    "start_time": "2024-06-09T13:58:16.169Z"
   },
   {
    "duration": 769,
    "start_time": "2024-06-09T13:58:16.178Z"
   },
   {
    "duration": 803,
    "start_time": "2024-06-09T13:58:16.949Z"
   },
   {
    "duration": 29,
    "start_time": "2024-06-09T13:58:17.754Z"
   },
   {
    "duration": 43,
    "start_time": "2024-06-09T13:58:17.791Z"
   },
   {
    "duration": 1139,
    "start_time": "2024-06-09T13:58:17.837Z"
   },
   {
    "duration": 841,
    "start_time": "2024-06-09T13:58:18.981Z"
   },
   {
    "duration": 54,
    "start_time": "2024-06-09T13:58:19.825Z"
   },
   {
    "duration": 86,
    "start_time": "2024-06-09T13:58:19.882Z"
   },
   {
    "duration": 34,
    "start_time": "2024-06-09T13:58:19.971Z"
   },
   {
    "duration": 33,
    "start_time": "2024-06-09T13:58:20.033Z"
   },
   {
    "duration": 182,
    "start_time": "2024-06-09T13:58:20.069Z"
   },
   {
    "duration": 6,
    "start_time": "2024-06-09T13:58:20.255Z"
   },
   {
    "duration": 7,
    "start_time": "2024-06-09T13:58:20.264Z"
   },
   {
    "duration": 9,
    "start_time": "2024-06-09T13:58:20.275Z"
   },
   {
    "duration": 72,
    "start_time": "2024-06-09T13:58:20.289Z"
   },
   {
    "duration": 25,
    "start_time": "2024-06-09T13:58:20.365Z"
   },
   {
    "duration": 1168,
    "start_time": "2024-06-09T13:58:20.392Z"
   },
   {
    "duration": 744,
    "start_time": "2024-06-09T13:58:21.563Z"
   },
   {
    "duration": 35,
    "start_time": "2024-06-09T13:58:22.310Z"
   },
   {
    "duration": 57,
    "start_time": "2024-06-09T13:58:22.347Z"
   },
   {
    "duration": 21,
    "start_time": "2024-06-09T13:58:22.432Z"
   },
   {
    "duration": 128,
    "start_time": "2024-06-09T13:58:22.461Z"
   },
   {
    "duration": 11,
    "start_time": "2024-06-09T13:58:22.591Z"
   },
   {
    "duration": 18,
    "start_time": "2024-06-09T13:58:22.632Z"
   },
   {
    "duration": 89,
    "start_time": "2024-06-09T13:58:22.653Z"
   },
   {
    "duration": 93,
    "start_time": "2024-06-09T13:58:22.744Z"
   },
   {
    "duration": 9494,
    "start_time": "2024-06-09T13:58:22.843Z"
   },
   {
    "duration": 11911,
    "start_time": "2024-06-09T13:58:32.341Z"
   },
   {
    "duration": 26241,
    "start_time": "2024-06-09T13:58:44.255Z"
   },
   {
    "duration": 78463,
    "start_time": "2024-06-09T13:59:10.499Z"
   },
   {
    "duration": 18,
    "start_time": "2024-06-09T14:00:28.965Z"
   },
   {
    "duration": 2176,
    "start_time": "2024-06-09T14:00:28.985Z"
   },
   {
    "duration": 1871,
    "start_time": "2024-06-09T14:04:38.707Z"
   },
   {
    "duration": 9,
    "start_time": "2024-06-09T14:04:40.582Z"
   },
   {
    "duration": 77,
    "start_time": "2024-06-09T14:04:40.594Z"
   },
   {
    "duration": 7,
    "start_time": "2024-06-09T14:04:40.674Z"
   },
   {
    "duration": 104,
    "start_time": "2024-06-09T14:04:40.687Z"
   },
   {
    "duration": 7,
    "start_time": "2024-06-09T14:04:40.794Z"
   },
   {
    "duration": 816,
    "start_time": "2024-06-09T14:04:40.805Z"
   },
   {
    "duration": 854,
    "start_time": "2024-06-09T14:04:41.624Z"
   },
   {
    "duration": 30,
    "start_time": "2024-06-09T14:04:42.480Z"
   },
   {
    "duration": 14,
    "start_time": "2024-06-09T14:04:42.532Z"
   },
   {
    "duration": 1150,
    "start_time": "2024-06-09T14:04:42.550Z"
   },
   {
    "duration": 877,
    "start_time": "2024-06-09T14:04:43.705Z"
   },
   {
    "duration": 65,
    "start_time": "2024-06-09T14:04:44.587Z"
   },
   {
    "duration": 75,
    "start_time": "2024-06-09T14:04:44.659Z"
   },
   {
    "duration": 39,
    "start_time": "2024-06-09T14:04:44.738Z"
   },
   {
    "duration": 64,
    "start_time": "2024-06-09T14:04:44.781Z"
   },
   {
    "duration": 172,
    "start_time": "2024-06-09T14:04:44.848Z"
   },
   {
    "duration": 11,
    "start_time": "2024-06-09T14:04:45.023Z"
   },
   {
    "duration": 7,
    "start_time": "2024-06-09T14:04:45.038Z"
   },
   {
    "duration": 10,
    "start_time": "2024-06-09T14:04:45.048Z"
   },
   {
    "duration": 86,
    "start_time": "2024-06-09T14:04:45.061Z"
   },
   {
    "duration": 28,
    "start_time": "2024-06-09T14:04:45.153Z"
   },
   {
    "duration": 1210,
    "start_time": "2024-06-09T14:04:45.185Z"
   },
   {
    "duration": 746,
    "start_time": "2024-06-09T14:04:46.401Z"
   },
   {
    "duration": 48,
    "start_time": "2024-06-09T14:04:47.151Z"
   },
   {
    "duration": 72,
    "start_time": "2024-06-09T14:04:47.205Z"
   },
   {
    "duration": 22,
    "start_time": "2024-06-09T14:04:47.280Z"
   },
   {
    "duration": 158,
    "start_time": "2024-06-09T14:04:47.306Z"
   },
   {
    "duration": 13,
    "start_time": "2024-06-09T14:04:47.467Z"
   },
   {
    "duration": 52,
    "start_time": "2024-06-09T14:04:47.483Z"
   },
   {
    "duration": 114,
    "start_time": "2024-06-09T14:04:47.538Z"
   },
   {
    "duration": 90,
    "start_time": "2024-06-09T14:04:47.656Z"
   },
   {
    "duration": 9114,
    "start_time": "2024-06-09T14:04:47.751Z"
   },
   {
    "duration": 44879,
    "start_time": "2024-06-09T14:04:56.869Z"
   },
   {
    "duration": 26189,
    "start_time": "2024-06-09T14:05:41.751Z"
   },
   {
    "duration": 75634,
    "start_time": "2024-06-09T14:06:07.944Z"
   },
   {
    "duration": 67,
    "start_time": "2024-06-09T14:07:23.581Z"
   },
   {
    "duration": 1097,
    "start_time": "2024-06-09T14:07:23.651Z"
   }
  ],
  "kernelspec": {
   "display_name": "Python 3 (ipykernel)",
   "language": "python",
   "name": "python3"
  },
  "language_info": {
   "codemirror_mode": {
    "name": "ipython",
    "version": 3
   },
   "file_extension": ".py",
   "mimetype": "text/x-python",
   "name": "python",
   "nbconvert_exporter": "python",
   "pygments_lexer": "ipython3",
   "version": "3.9.19"
  },
  "toc": {
   "base_numbering": 1,
   "nav_menu": {},
   "number_sections": true,
   "sideBar": true,
   "skip_h1_title": true,
   "title_cell": "Table of Contents",
   "title_sidebar": "Contents",
   "toc_cell": false,
   "toc_position": {},
   "toc_section_display": true,
   "toc_window_display": true
  }
 },
 "nbformat": 4,
 "nbformat_minor": 2
}
