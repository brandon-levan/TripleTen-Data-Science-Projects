{
 "cells": [
  {
   "cell_type": "markdown",
   "metadata": {},
   "source": [
    "# Sprint 7 Project - Introduction to Machine Learning"
   ]
  },
  {
   "cell_type": "markdown",
   "metadata": {},
   "source": [
    "## Project Overview"
   ]
  },
  {
   "cell_type": "markdown",
   "metadata": {},
   "source": [
    "**Problem Summary** - Mobile carrier Megaline has found out that many of their subscribers use legacy plans. They want to develop a model that would analyze subscribers' behavior and recommend one of Megaline's newer plans: Smart or Ultra. Because I have access to behavioral data about subscribers who have already switched to the new plans, I will develop a classification model that will pick the right plan for subscribers on legacy plans. \n",
    "\n",
    "**Objective** - Develop a model with the highest possible accuracy. In this project, the threshold for accuracy is 0.75. \n",
    "\n",
    "**In this project, I will** - \n",
    " - Open and look through the data file\n",
    " - Split the data into a training set, a validation set, and a test set\n",
    " - Investigate the quality of different models by changing hyperparameters and describe the findings\n",
    " - Check the quality of the model using the test set"
   ]
  },
  {
   "cell_type": "markdown",
   "metadata": {},
   "source": [
    "##  Import Libraries"
   ]
  },
  {
   "cell_type": "code",
   "execution_count": 1,
   "metadata": {},
   "outputs": [],
   "source": [
    "# Import libraries required for the analysis\n",
    "import pandas as pd\n",
    "import numpy as np\n",
    "import matplotlib.pyplot as plt\n",
    "\n",
    "# From sklearn get classification models, accuracy score, and training data split\n",
    "from sklearn.tree import DecisionTreeClassifier\n",
    "from sklearn.ensemble import RandomForestClassifier\n",
    "from sklearn.linear_model import LogisticRegression\n",
    "from sklearn.metrics import accuracy_score\n",
    "from sklearn.model_selection import train_test_split\n",
    "\n",
    "# Show all columns when displaying dataframe\n",
    "pd.set_option('display.max_columns', None)"
   ]
  },
  {
   "cell_type": "markdown",
   "metadata": {},
   "source": [
    "## Read in Data"
   ]
  },
  {
   "cell_type": "code",
   "execution_count": 2,
   "metadata": {},
   "outputs": [
    {
     "data": {
      "text/html": [
       "<div>\n",
       "<style scoped>\n",
       "    .dataframe tbody tr th:only-of-type {\n",
       "        vertical-align: middle;\n",
       "    }\n",
       "\n",
       "    .dataframe tbody tr th {\n",
       "        vertical-align: top;\n",
       "    }\n",
       "\n",
       "    .dataframe thead th {\n",
       "        text-align: right;\n",
       "    }\n",
       "</style>\n",
       "<table border=\"1\" class=\"dataframe\">\n",
       "  <thead>\n",
       "    <tr style=\"text-align: right;\">\n",
       "      <th></th>\n",
       "      <th>calls</th>\n",
       "      <th>minutes</th>\n",
       "      <th>messages</th>\n",
       "      <th>mb_used</th>\n",
       "      <th>is_ultra</th>\n",
       "    </tr>\n",
       "  </thead>\n",
       "  <tbody>\n",
       "    <tr>\n",
       "      <th>0</th>\n",
       "      <td>40.0</td>\n",
       "      <td>311.90</td>\n",
       "      <td>83.0</td>\n",
       "      <td>19915.42</td>\n",
       "      <td>0</td>\n",
       "    </tr>\n",
       "    <tr>\n",
       "      <th>1</th>\n",
       "      <td>85.0</td>\n",
       "      <td>516.75</td>\n",
       "      <td>56.0</td>\n",
       "      <td>22696.96</td>\n",
       "      <td>0</td>\n",
       "    </tr>\n",
       "    <tr>\n",
       "      <th>2</th>\n",
       "      <td>77.0</td>\n",
       "      <td>467.66</td>\n",
       "      <td>86.0</td>\n",
       "      <td>21060.45</td>\n",
       "      <td>0</td>\n",
       "    </tr>\n",
       "    <tr>\n",
       "      <th>3</th>\n",
       "      <td>106.0</td>\n",
       "      <td>745.53</td>\n",
       "      <td>81.0</td>\n",
       "      <td>8437.39</td>\n",
       "      <td>1</td>\n",
       "    </tr>\n",
       "    <tr>\n",
       "      <th>4</th>\n",
       "      <td>66.0</td>\n",
       "      <td>418.74</td>\n",
       "      <td>1.0</td>\n",
       "      <td>14502.75</td>\n",
       "      <td>0</td>\n",
       "    </tr>\n",
       "  </tbody>\n",
       "</table>\n",
       "</div>"
      ],
      "text/plain": [
       "   calls  minutes  messages   mb_used  is_ultra\n",
       "0   40.0   311.90      83.0  19915.42         0\n",
       "1   85.0   516.75      56.0  22696.96         0\n",
       "2   77.0   467.66      86.0  21060.45         0\n",
       "3  106.0   745.53      81.0   8437.39         1\n",
       "4   66.0   418.74       1.0  14502.75         0"
      ]
     },
     "execution_count": 2,
     "metadata": {},
     "output_type": "execute_result"
    }
   ],
   "source": [
    "# Read in csv to a dataframe called behavior\n",
    "behavior = pd.read_csv('/datasets/users_behavior.csv')\n",
    "\n",
    "# Print sample of dataframe\n",
    "behavior.head()"
   ]
  },
  {
   "cell_type": "markdown",
   "metadata": {},
   "source": [
    "### Description of Fields in Dataset"
   ]
  },
  {
   "cell_type": "markdown",
   "metadata": {},
   "source": [
    "**Data Description**\n",
    "Every observation in the dataset contains monthly behavior information about one user. The information given is as follows: \n",
    "  - **сalls** — number of calls\n",
    "  - **minutes** — total call duration in minutes\n",
    "  - **messages** — number of text messages\n",
    "  - **mb_used** — Internet traffic used in MB\n",
    "  - **is_ultra** — plan for the current month (Ultra - 1, Smart - 0)"
   ]
  },
  {
   "cell_type": "markdown",
   "metadata": {},
   "source": [
    "## Prepare the Data For Analysis\n",
    "*__Please note that__ for this project specifically, the data preprocessing step has already been performed, and that I will move straight to creating the classification models.*"
   ]
  },
  {
   "cell_type": "markdown",
   "metadata": {},
   "source": [
    "## Explore the Data"
   ]
  },
  {
   "cell_type": "code",
   "execution_count": 3,
   "metadata": {},
   "outputs": [
    {
     "data": {
      "text/html": [
       "<div>\n",
       "<style scoped>\n",
       "    .dataframe tbody tr th:only-of-type {\n",
       "        vertical-align: middle;\n",
       "    }\n",
       "\n",
       "    .dataframe tbody tr th {\n",
       "        vertical-align: top;\n",
       "    }\n",
       "\n",
       "    .dataframe thead th {\n",
       "        text-align: right;\n",
       "    }\n",
       "</style>\n",
       "<table border=\"1\" class=\"dataframe\">\n",
       "  <thead>\n",
       "    <tr style=\"text-align: right;\">\n",
       "      <th></th>\n",
       "      <th>calls</th>\n",
       "      <th>minutes</th>\n",
       "      <th>messages</th>\n",
       "      <th>mb_used</th>\n",
       "      <th>is_ultra</th>\n",
       "    </tr>\n",
       "  </thead>\n",
       "  <tbody>\n",
       "    <tr>\n",
       "      <th>count</th>\n",
       "      <td>3214.000000</td>\n",
       "      <td>3214.000000</td>\n",
       "      <td>3214.000000</td>\n",
       "      <td>3214.000000</td>\n",
       "      <td>3214.000000</td>\n",
       "    </tr>\n",
       "    <tr>\n",
       "      <th>mean</th>\n",
       "      <td>63.038892</td>\n",
       "      <td>438.208787</td>\n",
       "      <td>38.281269</td>\n",
       "      <td>17207.673836</td>\n",
       "      <td>0.306472</td>\n",
       "    </tr>\n",
       "    <tr>\n",
       "      <th>std</th>\n",
       "      <td>33.236368</td>\n",
       "      <td>234.569872</td>\n",
       "      <td>36.148326</td>\n",
       "      <td>7570.968246</td>\n",
       "      <td>0.461100</td>\n",
       "    </tr>\n",
       "    <tr>\n",
       "      <th>min</th>\n",
       "      <td>0.000000</td>\n",
       "      <td>0.000000</td>\n",
       "      <td>0.000000</td>\n",
       "      <td>0.000000</td>\n",
       "      <td>0.000000</td>\n",
       "    </tr>\n",
       "    <tr>\n",
       "      <th>25%</th>\n",
       "      <td>40.000000</td>\n",
       "      <td>274.575000</td>\n",
       "      <td>9.000000</td>\n",
       "      <td>12491.902500</td>\n",
       "      <td>0.000000</td>\n",
       "    </tr>\n",
       "    <tr>\n",
       "      <th>50%</th>\n",
       "      <td>62.000000</td>\n",
       "      <td>430.600000</td>\n",
       "      <td>30.000000</td>\n",
       "      <td>16943.235000</td>\n",
       "      <td>0.000000</td>\n",
       "    </tr>\n",
       "    <tr>\n",
       "      <th>75%</th>\n",
       "      <td>82.000000</td>\n",
       "      <td>571.927500</td>\n",
       "      <td>57.000000</td>\n",
       "      <td>21424.700000</td>\n",
       "      <td>1.000000</td>\n",
       "    </tr>\n",
       "    <tr>\n",
       "      <th>max</th>\n",
       "      <td>244.000000</td>\n",
       "      <td>1632.060000</td>\n",
       "      <td>224.000000</td>\n",
       "      <td>49745.730000</td>\n",
       "      <td>1.000000</td>\n",
       "    </tr>\n",
       "  </tbody>\n",
       "</table>\n",
       "</div>"
      ],
      "text/plain": [
       "             calls      minutes     messages       mb_used     is_ultra\n",
       "count  3214.000000  3214.000000  3214.000000   3214.000000  3214.000000\n",
       "mean     63.038892   438.208787    38.281269  17207.673836     0.306472\n",
       "std      33.236368   234.569872    36.148326   7570.968246     0.461100\n",
       "min       0.000000     0.000000     0.000000      0.000000     0.000000\n",
       "25%      40.000000   274.575000     9.000000  12491.902500     0.000000\n",
       "50%      62.000000   430.600000    30.000000  16943.235000     0.000000\n",
       "75%      82.000000   571.927500    57.000000  21424.700000     1.000000\n",
       "max     244.000000  1632.060000   224.000000  49745.730000     1.000000"
      ]
     },
     "execution_count": 3,
     "metadata": {},
     "output_type": "execute_result"
    }
   ],
   "source": [
    "# Check for missing values\n",
    "behavior.isna().sum()\n",
    "\n",
    "# Check values for each column\n",
    "behavior.describe()\n",
    "\n",
    "# Check data types\n",
    "#behavior.info()\n",
    "\n",
    "# Check data\n",
    "#behavior.head(10)"
   ]
  },
  {
   "cell_type": "code",
   "execution_count": 4,
   "metadata": {
    "scrolled": false
   },
   "outputs": [
    {
     "data": {
      "text/plain": [
       "array([[<AxesSubplot:title={'center':'calls'}>,\n",
       "        <AxesSubplot:title={'center':'minutes'}>],\n",
       "       [<AxesSubplot:title={'center':'messages'}>,\n",
       "        <AxesSubplot:title={'center':'mb_used'}>],\n",
       "       [<AxesSubplot:title={'center':'is_ultra'}>, <AxesSubplot:>]],\n",
       "      dtype=object)"
      ]
     },
     "execution_count": 4,
     "metadata": {},
     "output_type": "execute_result"
    },
    {
     "data": {
      "image/png": "[encoded data removed]",
      "text/plain": [
       "<Figure size 1000x800 with 6 Axes>"
      ]
     },
     "metadata": {},
     "output_type": "display_data"
    }
   ],
   "source": [
    "# Create a quick histogram to check distribution of data for each field\n",
    "behavior.hist(figsize=(10, 8))"
   ]
  },
  {
   "cell_type": "markdown",
   "metadata": {},
   "source": [
    "After exploring the data,\n",
    " - There aren't any missing values\n",
    " - Data types are correct and do not need to be changed\n",
    " - Minutes, Calls, and Message have a fairly normal distribution, but messages is skewed right."
   ]
  },
  {
   "cell_type": "markdown",
   "metadata": {},
   "source": [
    "## Create Training Set, Validation Set & Test Set"
   ]
  },
  {
   "cell_type": "code",
   "execution_count": 5,
   "metadata": {},
   "outputs": [
    {
     "name": "stdout",
     "output_type": "stream",
     "text": [
      "(3214, 5)\n",
      "(1928, 4)\n",
      "(1928,)\n",
      "(643, 4)\n",
      "(643,)\n",
      "(643, 4)\n",
      "(643,)\n"
     ]
    }
   ],
   "source": [
    "# is_ultra is the column that we are trying to predict (Ultra - 1, Smart - 0)\n",
    "\n",
    "# Create Training, Validation, and Test Datasets. Split 3:1:1 since I was not provided with a test set\n",
    "\n",
    "# First we will split .40 to get a traning dataset of 60% of the data source \n",
    "# The validiation set will be split in half to get 3 datasets with a ration of 3:1:1\n",
    "# Set Random State to 12345 to Replicate Training Set in Future\n",
    "df_training_set, df_validation_set = train_test_split(behavior, test_size=0.40, random_state=12345)\n",
    "\n",
    "df_validation_set_split, df_test_set = train_test_split(df_validation_set, test_size=0.50, random_state=12345)\n",
    "\n",
    "# Create the features and target training datasets\n",
    "features_train = df_training_set.drop(['is_ultra'], axis=1)\n",
    "target_train = df_training_set['is_ultra']\n",
    "\n",
    "# Create the features and target validation datasets\n",
    "features_valid = df_validation_set_split.drop(['is_ultra'], axis=1)\n",
    "target_valid = df_validation_set_split['is_ultra']\n",
    "\n",
    "# Create the features and target test datasets\n",
    "features_test = df_test_set.drop(['is_ultra'], axis=1)\n",
    "target_test = df_test_set['is_ultra']\n",
    "\n",
    "# Check the shape of these dataframes\n",
    "print(behavior.shape)       # 3214 rows\n",
    "\n",
    "#Training \n",
    "print(features_train.shape) # Training set contains 60% of original dataframe rows \n",
    "print(target_train.shape)   # Training set contains 60% of original dataframe rows \n",
    "\n",
    "# Validation\n",
    "print(features_valid.shape) # Validation set contains 60% of original dataframe rows \n",
    "print(target_valid.shape)   # Validation set contains 60% of original dataframe rows \n",
    "\n",
    "# Test\n",
    "print(features_test.shape)  # Test set contains 60% of original dataframe rows \n",
    "print(target_test.shape)    # Test set contains 60% of original dataframe rows "
   ]
  },
  {
   "cell_type": "markdown",
   "metadata": {},
   "source": [
    "2) test set doesn't exist. In that case, the source data has to be split into three parts: training, validation, and test. The sizes of validation set and test set are usually equal. It gives us source data split in a 3:1:1 ratio.\n",
    "\n",
    "The first time to split the original DataFrame (users_behavior.csv) in the train_validation set (one DataFrame) and test set (test_size=0.2). \n",
    "\n",
    "And the second time to split the DataFrame train_validation(from the first step ) to the train set and validation set (test_size=0.25)\n",
    "\n",
    "The training set should have a shape of (1928, 4)\n",
    "\n",
    "And the test and validation sets a shape of (643, 4)"
   ]
  },
  {
   "cell_type": "markdown",
   "metadata": {},
   "source": [
    "Now that we have our training and validation datasets, we can train our model on the training dataset and then apply the model to the validatation dataset to evaluate how well it predicts plans."
   ]
  },
  {
   "cell_type": "markdown",
   "metadata": {},
   "source": [
    "## Model Testing & Tuning on Training & Validation Sets"
   ]
  },
  {
   "cell_type": "markdown",
   "metadata": {},
   "source": [
    "Because we are determining which plan to recommend to users, which is categorical (Ultra - 1, Smart - 0), we will use a classification model and not a regression model. In the cells below, I will test which model has a higher accuracy after tuning the models."
   ]
  },
  {
   "cell_type": "markdown",
   "metadata": {},
   "source": [
    "### Decision Tree Classification Model"
   ]
  },
  {
   "cell_type": "code",
   "execution_count": 6,
   "metadata": {},
   "outputs": [
    {
     "name": "stdout",
     "output_type": "stream",
     "text": [
      "At a depth of 1 the accuracy of the model is 0.75428\n",
      "At a depth of 2 the accuracy of the model is 0.78227\n",
      "At a depth of 3 the accuracy of the model is 0.78538\n",
      "At a depth of 4 the accuracy of the model is 0.77916\n",
      "At a depth of 5 the accuracy of the model is 0.77916\n",
      "\n",
      "The accuracy of the best model is 0.78538 at a depth of 3\n"
     ]
    }
   ],
   "source": [
    "# For our Decision Tree Classification Model The Parameter That We Need to Tune is Tree Depth\n",
    "# To determine the most optimal tree depth for the highest model accuracy, we will use the following code\n",
    "best_result = 0\n",
    "best_depth = 0\n",
    "\n",
    "# For tree depth between 1 to 6, calculate the optimal tree depth and evaluate model for greatest accuracy\n",
    "for depth in range(1, 6):\n",
    "    model = DecisionTreeClassifier(random_state=12345, max_depth=depth) # create a model with the given depth\n",
    "    model.fit(features_train,target_train) # train the model\n",
    "    predictions = model.predict(features_valid) # get the model's predictions\n",
    "    result = accuracy_score(target_valid,predictions) # calculate the accuracy\n",
    "    if result > best_result:\n",
    "        best_result = result\n",
    "        best_depth = depth\n",
    "    \n",
    "    # Print model accuracy at each depth\n",
    "    print(\"At a depth of\", depth, \"the accuracy of the model is\", round(result,5))\n",
    "\n",
    "# Print the accuracy of the model and which depth produced the greatest accuracy  \n",
    "print()\n",
    "print(\"The accuracy of the best model is\", round(best_result,5), \"at a depth of\",best_depth)"
   ]
  },
  {
   "cell_type": "markdown",
   "metadata": {},
   "source": [
    "The accuracy of the best Decision Tree Classification Model is 0.78583 at a depth of 3 which is a candidate because it's above our threshold of 0.75 for model accuracy. Let's check how the other models perform. "
   ]
  },
  {
   "cell_type": "markdown",
   "metadata": {},
   "source": [
    "### Random Forest Classification Model"
   ]
  },
  {
   "cell_type": "code",
   "execution_count": 7,
   "metadata": {},
   "outputs": [
    {
     "name": "stdout",
     "output_type": "stream",
     "text": [
      "With 1 as the n_estimators, the accuracy of the model is 0.69362\n",
      "With 2 as the n_estimators, the accuracy of the model is 0.74961\n",
      "With 3 as the n_estimators, the accuracy of the model is 0.75272\n",
      "With 4 as the n_estimators, the accuracy of the model is 0.75428\n",
      "With 5 as the n_estimators, the accuracy of the model is 0.74495\n",
      "With 6 as the n_estimators, the accuracy of the model is 0.75739\n",
      "With 7 as the n_estimators, the accuracy of the model is 0.76361\n",
      "With 8 as the n_estimators, the accuracy of the model is 0.77449\n",
      "With 9 as the n_estimators, the accuracy of the model is 0.76205\n",
      "With 10 as the n_estimators, the accuracy of the model is 0.77916\n",
      "\n",
      "The accuracy of the best model on the validation set had n_estimators set to 10 with a score of 0.77916\n"
     ]
    }
   ],
   "source": [
    "# For our Random Forest Classification Model The Parameter That We Need to Tune is n_estimators\n",
    "# n_estimators is the number of trees to be used in the forest\n",
    "# To determine the most optimal tree depth for the highest model accuracy, we will use the following code\n",
    "best_score = 0\n",
    "best_est = 0\n",
    "\n",
    "# For n_estimators between 1 and 11, calculate the optimal number of trees to be used in the forest and evaluate model for greatest accuracy\n",
    "for est in range(1, 11):\n",
    "    model = RandomForestClassifier(random_state=54321, n_estimators=est)\n",
    "    model.fit(features_train, target_train)\n",
    "    score = model.score(features_valid, target_valid)\n",
    "    if score > best_score:\n",
    "        best_score = score\n",
    "        best_est = est\n",
    "\n",
    "    # Print model accuracy at each depth\n",
    "    print(\"With\", est, \"as the n_estimators, the accuracy of the model is\", round(score,5))\n",
    "\n",
    "# Print the accuracy of the model and which depth produced the greatest accuracy  \n",
    "print()        \n",
    "print(\"The accuracy of the best model on the validation set had n_estimators set to\", best_est, \"with a score of\", round(best_score,5))"
   ]
  },
  {
   "cell_type": "markdown",
   "metadata": {},
   "source": [
    "### Logistic Regression Classification Model"
   ]
  },
  {
   "cell_type": "code",
   "execution_count": 8,
   "metadata": {},
   "outputs": [
    {
     "name": "stdout",
     "output_type": "stream",
     "text": [
      "The accuracy of the logistic regression model on the training set is 0.75052\n",
      "The accuracy of the logistic regression model on the validation set is: 0.75894\n"
     ]
    }
   ],
   "source": [
    "# Create a Logistic Regression Model\n",
    "model = LogisticRegression(random_state=54321, solver=\"liblinear\")\n",
    "\n",
    "# Fit the model to the traning dataset\n",
    "model.fit(features_train, target_train)\n",
    "\n",
    "# Score the model accuracy on the traning and validation data sets\n",
    "score_train = model.score(features_train, target_train)\n",
    "score_valid = model.score(features_valid, target_valid)\n",
    "\n",
    "# Print the accuracy of the model on the traning and validation datasets\n",
    "print(\"The accuracy of the logistic regression model on the training set is\", round(score_train,5))\n",
    "print(\"The accuracy of the logistic regression model on the validation set is:\",round(score_valid,5))"
   ]
  },
  {
   "cell_type": "markdown",
   "metadata": {},
   "source": [
    "## Model Selection to Run on Test Set"
   ]
  },
  {
   "cell_type": "markdown",
   "metadata": {},
   "source": [
    "The Decision Tree Classification Model has the highest accuracy when applied to the validation training data set. Additionally, all three models are above the acceptable threshold for accuracy (75%). Below, I've listed out the accuracy of each model after tuning.  \n",
    "\n",
    "- **Decision Tree Classification Model With Depth of 3**\n",
    "  - Model Accuracy on Validation Set: 78.58%\n",
    "- **Random Forest Classification Model With n_estimators = 10** \n",
    "  - Model Accuracy on Validation Set: 77.91%\n",
    "- **Logistic Regression Classification Model**\n",
    "  - Model Accuracy on Validation Set: 75.89%\n",
    "\n",
    "I am going to continue with the Decision Tree Classification Model to run on the test set because it has the highest accuracy, but it should be noted that picking one of the two models depends on it's application and the amount of data the model is being applied to. Decision Tree models are often less accurate compared to Random Forest models, but are often faster at processing data when compared to Random Forest models. Since the Random Forest Classification Model has high accuracy as well, there should be consideration for it going forward, but again I will continue with the Decision Tree Classification Model"
   ]
  },
  {
   "cell_type": "markdown",
   "metadata": {},
   "source": [
    "### Testing the Decision Tree Classification Model on the Test Set"
   ]
  },
  {
   "cell_type": "code",
   "execution_count": 9,
   "metadata": {},
   "outputs": [
    {
     "name": "stdout",
     "output_type": "stream",
     "text": [
      "The accuracy of the Decision Tree Classification Model with depth of 3 on the test set is 0.77449\n"
     ]
    }
   ],
   "source": [
    "# Using the Decision Tree Classification Model on the test set\n",
    "\n",
    "# Use Decision Tree Classification Model with depth of 3 because this gave us highest accuracy in testing on validation set\n",
    "model = DecisionTreeClassifier(random_state=12345, max_depth=3) # create a model with the given depth\n",
    "\n",
    "# Train the model on test dataset\n",
    "model.fit(features_valid,target_valid)\n",
    "\n",
    "# Get the model's predictions\n",
    "predictions = model.predict(features_test) # get the model's predictions\n",
    "\n",
    "# Calculate the accuracy\n",
    "result = accuracy_score(target_test,predictions) \n",
    "\n",
    "# Print results\n",
    "print(\"The accuracy of the Decision Tree Classification Model with depth of 3 on the test set is\", round(result,5))"
   ]
  },
  {
   "cell_type": "markdown",
   "metadata": {},
   "source": [
    "# Conclusion "
   ]
  },
  {
   "cell_type": "markdown",
   "metadata": {},
   "source": [
    "Mobile carrier Megaline has found out that many of their subscribers use legacy plans. They want to develop a model that would analyze subscribers' behavior and recommend one of Megaline's newer plans: Smart or Ultra. After testing and tuning a few classification models on behavioral data about subscribers who have already switched to the new plans, I would suggest to Megaline to implement a **Decision Tree Classification Model with depth of 3** in order to  pick the right plan for subscribers on legacy plans. This model had the highest accuracy of all three classification models and is above the acceptable accuracy threshold of 75%.  "
   ]
  },
  {
   "cell_type": "code",
   "execution_count": null,
   "metadata": {},
   "outputs": [],
   "source": []
  }
 ],
 "metadata": {
  "ExecuteTimeLog": [
   {
    "duration": 1458,
    "start_time": "2024-06-03T01:21:12.932Z"
   },
   {
    "duration": 38,
    "start_time": "2024-06-03T01:21:14.394Z"
   },
   {
    "duration": 33,
    "start_time": "2024-06-03T01:21:14.435Z"
   },
   {
    "duration": 881,
    "start_time": "2024-06-03T01:21:14.471Z"
   },
   {
    "duration": 15,
    "start_time": "2024-06-03T01:21:15.357Z"
   },
   {
    "duration": 71,
    "start_time": "2024-06-03T01:21:15.375Z"
   },
   {
    "duration": 375,
    "start_time": "2024-06-03T01:21:15.449Z"
   },
   {
    "duration": 21,
    "start_time": "2024-06-03T01:21:15.834Z"
   },
   {
    "duration": 13,
    "start_time": "2024-06-03T01:21:15.858Z"
   }
  ],
  "kernelspec": {
   "display_name": "Python 3 (ipykernel)",
   "language": "python",
   "name": "python3"
  },
  "language_info": {
   "codemirror_mode": {
    "name": "ipython",
    "version": 3
   },
   "file_extension": ".py",
   "mimetype": "text/x-python",
   "name": "python",
   "nbconvert_exporter": "python",
   "pygments_lexer": "ipython3",
   "version": "3.9.19"
  },
  "toc": {
   "base_numbering": 1,
   "nav_menu": {},
   "number_sections": true,
   "sideBar": true,
   "skip_h1_title": true,
   "title_cell": "Table of Contents",
   "title_sidebar": "Contents",
   "toc_cell": false,
   "toc_position": {},
   "toc_section_display": true,
   "toc_window_display": true
  }
 },
 "nbformat": 4,
 "nbformat_minor": 2
}
